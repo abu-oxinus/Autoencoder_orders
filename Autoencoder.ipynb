{
  "nbformat": 4,
  "nbformat_minor": 0,
  "metadata": {
    "colab": {
      "provenance": [],
      "collapsed_sections": [
        "zzafnBlSDDas",
        "d5vVYjB-qErc",
        "wZjKuGhfqNfl",
        "c0V9ZOubnjlD",
        "OfUdYZ3A92eP",
        "03d7wA3LRNXc",
        "OhFghArvgjDT",
        "PJGgrwGqKJx1",
        "MWq8B_mvxTJE",
        "RZ4XnSakmit9",
        "lGr31oNmKReg",
        "Ax26B8NFz0fA",
        "QSEaiOIO1-0F",
        "XmK4HO5txM92",
        "YgWyXQ1-xTa3",
        "2LI0JLwae_9w",
        "8x4IFg1YsT3Z",
        "LwJWy9NIw2VO",
        "cDnmmQ9C2eIs",
        "8HPBc58GO8tb",
        "xu5ttqMFEFc6",
        "FuPgpvCJIs27",
        "W5l_Ul3sMMmD",
        "9Ue8h807jSEZ",
        "hVXDW49JsjNh",
        "HRiBQNxZu-uT",
        "IhHRkPAChNPP",
        "DR1wZT-fwosq",
        "QEgIvJCaph1F",
        "57-wWlKrWI5d",
        "eOnr_S4M-6BE",
        "We-h7iq4J9mF",
        "y2I71ckQ2-PV",
        "_BoJd7axSk87",
        "QMC8bShtzSh6",
        "erRpvVabADeN"
      ],
      "authorship_tag": "ABX9TyPKFacUQBBht5ybQWttQudu",
      "include_colab_link": true
    },
    "kernelspec": {
      "name": "python3",
      "display_name": "Python 3"
    },
    "language_info": {
      "name": "python"
    }
  },
  "cells": [
    {
      "cell_type": "markdown",
      "metadata": {
        "id": "view-in-github",
        "colab_type": "text"
      },
      "source": [
        "<a href=\"https://colab.research.google.com/github/abu-oxinus/Autoencoder/blob/main/Autoencoder.ipynb\" target=\"_parent\"><img src=\"https://colab.research.google.com/assets/colab-badge.svg\" alt=\"Open In Colab\"/></a>"
      ]
    },
    {
      "cell_type": "markdown",
      "source": [
        "# Dataset Preparation"
      ],
      "metadata": {
        "id": "iglnxBr_BhxN"
      }
    },
    {
      "cell_type": "markdown",
      "source": [
        "# Extract"
      ],
      "metadata": {
        "id": "s58D8tzV9au6"
      }
    },
    {
      "cell_type": "markdown",
      "source": [
        "# Mount Google Drive in your Colab notebook"
      ],
      "metadata": {
        "id": "zzafnBlSDDas"
      }
    },
    {
      "cell_type": "code",
      "source": [
        "from google.colab import drive\n",
        "drive.mount('/content/drive')"
      ],
      "metadata": {
        "colab": {
          "base_uri": "https://localhost:8080/"
        },
        "id": "TKNRPnD9P7BG",
        "outputId": "c57e50cf-aa01-4b15-87bd-b34e3e1ead6f"
      },
      "execution_count": 1,
      "outputs": [
        {
          "output_type": "stream",
          "name": "stdout",
          "text": [
            "Mounted at /content/drive\n"
          ]
        }
      ]
    },
    {
      "cell_type": "markdown",
      "source": [
        "# Files upload"
      ],
      "metadata": {
        "id": "d5vVYjB-qErc"
      }
    },
    {
      "cell_type": "code",
      "source": [
        "# upload kaggle API Token\n",
        "\n",
        "from google.colab import files\n",
        "\n",
        "files.upload()"
      ],
      "metadata": {
        "id": "e3_-BKMnFvAS"
      },
      "execution_count": null,
      "outputs": []
    },
    {
      "cell_type": "code",
      "source": [
        "import shutil\n",
        "\n",
        "file_name = \"kaggle.json\"\n",
        "destination_path = \"/content/drive/MyDrive/\"\n",
        "\n",
        "# Move the file\n",
        "shutil.move(file_name, os.path.join(destination_path, file_name))"
      ],
      "metadata": {
        "id": "5oySrDLxgfBn"
      },
      "execution_count": null,
      "outputs": []
    },
    {
      "cell_type": "code",
      "source": [
        "import shutil\n",
        "\n",
        "\n",
        "source_folder = \"/content/json-data\"\n",
        "destination_path = \"/content/drive/MyDrive/\"\n",
        "\n",
        "# Move the source_folder\n",
        "shutil.move(source_folder, destination_path)"
      ],
      "metadata": {
        "colab": {
          "base_uri": "https://localhost:8080/",
          "height": 35
        },
        "id": "V4pLTsOnRrat",
        "outputId": "df3aea13-07a4-4ad7-b20f-2e596a71ad4f"
      },
      "execution_count": 11,
      "outputs": [
        {
          "output_type": "execute_result",
          "data": {
            "text/plain": [
              "'/content/drive/MyDrive/json-data'"
            ],
            "application/vnd.google.colaboratory.intrinsic+json": {
              "type": "string"
            }
          },
          "metadata": {},
          "execution_count": 11
        }
      ]
    },
    {
      "cell_type": "markdown",
      "source": [
        "# Downloading order-data.zip"
      ],
      "metadata": {
        "id": "wZjKuGhfqNfl"
      }
    },
    {
      "cell_type": "code",
      "source": [
        "import os\n",
        "\n",
        "# install kaggle\n",
        "! pip install -q kaggle\n",
        "\n",
        "! mkdir -p ~/.kaggle\n",
        "\n",
        "! cp /content/drive/MyDrive/kaggle.json ~/.kaggle/\n",
        "\n",
        "! chmod 600 ~/.kaggle/kaggle.json"
      ],
      "metadata": {
        "id": "y9qgosXWF5-4"
      },
      "execution_count": 5,
      "outputs": []
    },
    {
      "cell_type": "code",
      "source": [
        "!kaggle datasets download -d abuabkersuliman/order-data"
      ],
      "metadata": {
        "colab": {
          "base_uri": "https://localhost:8080/"
        },
        "id": "r0xxNcLfGYNi",
        "outputId": "fd753d85-12e8-445d-eb36-b6b1bf600d8e"
      },
      "execution_count": 6,
      "outputs": [
        {
          "output_type": "stream",
          "name": "stdout",
          "text": [
            "Downloading order-data.zip to /content\n",
            " 93% 133M/143M [00:01<00:00, 139MB/s]\n",
            "100% 143M/143M [00:01<00:00, 123MB/s]\n"
          ]
        }
      ]
    },
    {
      "cell_type": "code",
      "source": [
        "import zipfile\n",
        "zip_ref = zipfile.ZipFile('order-data.zip', 'r')\n",
        "zip_ref.extractall('/content')\n",
        "zip_ref.close()"
      ],
      "metadata": {
        "id": "ZZChVqukHwsg"
      },
      "execution_count": 8,
      "outputs": []
    },
    {
      "cell_type": "markdown",
      "source": [
        "# Create a dictionary of DataFrames: Iterate over files and read them into a dictionary of DataFrames"
      ],
      "metadata": {
        "id": "c0V9ZOubnjlD"
      }
    },
    {
      "cell_type": "code",
      "source": [
        "import pandas as pd\n",
        "\n",
        "# Directory where JSON files are located\n",
        "json_dir = '/content/drive/MyDrive/json-data'\n",
        "\n",
        "# Dictionary to hold your DataFrames\n",
        "dataframes = {}\n",
        "\n",
        "count = 0\n",
        "for file_name in os.listdir(json_dir):\n",
        "    count+=1\n",
        "    if file_name.endswith('.json'):\n",
        "        # Construct the full file path\n",
        "        file_path = os.path.join(json_dir, file_name)\n",
        "        # Normalize the file_name to create a valid Python variable name\n",
        "        dataframe_name = 'df_' + file_name.replace('-', '_').rstrip('.json')\n",
        "        # Read the JSON file into a DataFrame\n",
        "        dataframes[dataframe_name] = pd.read_json(file_path)\n",
        "        print(f'Loaded {file_name} into DataFrame with name {dataframe_name}. Shape: {dataframes[dataframe_name].shape}. df-num: {count}')"
      ],
      "metadata": {
        "colab": {
          "base_uri": "https://localhost:8080/"
        },
        "id": "WLGryQ_ZnS_N",
        "outputId": "3c40de49-adda-46f2-a751-ff9d97c7e47a"
      },
      "execution_count": 12,
      "outputs": [
        {
          "output_type": "stream",
          "name": "stdout",
          "text": [
            "Loaded 2019-12-01.json into DataFrame with name df_2019_12_01. Shape: (119672, 44). df-num: 1\n",
            "Loaded 2022-12-01.json into DataFrame with name df_2022_12_01. Shape: (117517, 44). df-num: 2\n",
            "Loaded 2019-03-01.json into DataFrame with name df_2019_03_01. Shape: (56779, 44). df-num: 3\n",
            "Loaded 2020-06-01.json into DataFrame with name df_2020_06_01. Shape: (11857, 44). df-num: 4\n",
            "Loaded 2023-05-01.json into DataFrame with name df_2023_05_01. Shape: (96764, 44). df-num: 5\n",
            "Loaded 2023-11-01.json into DataFrame with name df_2023_11_01. Shape: (84024, 44). df-num: 6\n",
            "Loaded 2018-06-01.json into DataFrame with name df_2018_06_01. Shape: (90089, 44). df-num: 7\n",
            "Loaded Users.json into DataFrame with name df_User. Shape: (51, 29). df-num: 8\n",
            "Loaded 2023-08-01.json into DataFrame with name df_2023_08_01. Shape: (84332, 44). df-num: 9\n",
            "Loaded Customers.json into DataFrame with name df_Customer. Shape: (3484, 48). df-num: 10\n",
            "Loaded DiscountTypes.json into DataFrame with name df_DiscountType. Shape: (4, 10). df-num: 11\n",
            "Loaded 2018-03-01.json into DataFrame with name df_2018_03_01. Shape: (64290, 44). df-num: 12\n",
            "Loaded orders-status.json into DataFrame with name df_orders_statu. Shape: (10, 3). df-num: 13\n",
            "Loaded 2022-01-01.json into DataFrame with name df_2022_01_01. Shape: (97267, 44). df-num: 14\n",
            "Loaded 2019-01-01.json into DataFrame with name df_2019_01_01. Shape: (103859, 44). df-num: 15\n",
            "Loaded 2019-07-01.json into DataFrame with name df_2019_07_01. Shape: (97174, 44). df-num: 16\n",
            "Loaded 2023-02-01.json into DataFrame with name df_2023_02_01. Shape: (76365, 44). df-num: 17\n",
            "Loaded 2024-02-01.json into DataFrame with name df_2024_02_01. Shape: (82197, 44). df-num: 18\n",
            "Loaded 2021-10-01.json into DataFrame with name df_2021_10_01. Shape: (81133, 44). df-num: 19\n",
            "Loaded 2022-04-01.json into DataFrame with name df_2022_04_01. Shape: (81735, 44). df-num: 20\n",
            "Loaded 2021-02-01.json into DataFrame with name df_2021_02_01. Shape: (29166, 44). df-num: 21\n",
            "Loaded 2020-10-01.json into DataFrame with name df_2020_10_01. Shape: (58318, 44). df-num: 22\n",
            "Loaded 2018-10-01.json into DataFrame with name df_2018_10_01. Shape: (77744, 44). df-num: 23\n",
            "Loaded 2017-08-01.json into DataFrame with name df_2017_08_01. Shape: (138328, 44). df-num: 24\n",
            "Loaded 2020-03-01.json into DataFrame with name df_2020_03_01. Shape: (100130, 44). df-num: 25\n",
            "Loaded 2018-01-01.json into DataFrame with name df_2018_01_01. Shape: (151294, 44). df-num: 26\n",
            "Loaded Orders_316661.json into DataFrame with name df_Orders_316661. Shape: (289322, 55). df-num: 27\n",
            "Loaded 2022-08-01.json into DataFrame with name df_2022_08_01. Shape: (103315, 44). df-num: 28\n"
          ]
        }
      ]
    },
    {
      "cell_type": "markdown",
      "source": [
        "# Access DataFrames using file names"
      ],
      "metadata": {
        "id": "OfUdYZ3A92eP"
      }
    },
    {
      "cell_type": "code",
      "source": [
        "df_Orders_316661 = dataframes['df_Orders_316661']\n",
        "\n",
        "df_Orders_316661.shape"
      ],
      "metadata": {
        "colab": {
          "base_uri": "https://localhost:8080/"
        },
        "id": "pOqBTEIPoDyi",
        "outputId": "b947c546-81d1-4ad7-aab9-ffb9a0165d38"
      },
      "execution_count": 13,
      "outputs": [
        {
          "output_type": "execute_result",
          "data": {
            "text/plain": [
              "(289322, 55)"
            ]
          },
          "metadata": {},
          "execution_count": 13
        }
      ]
    },
    {
      "cell_type": "code",
      "source": [
        "df_Orders_01 = df_Orders_316661.copy()\n",
        "\n",
        "df_Orders_01.shape"
      ],
      "metadata": {
        "colab": {
          "base_uri": "https://localhost:8080/"
        },
        "id": "HTRwb-pRqfWo",
        "outputId": "51b0d215-f5d5-47a7-bc4a-65c487020181"
      },
      "execution_count": 8,
      "outputs": [
        {
          "output_type": "execute_result",
          "data": {
            "text/plain": [
              "(289322, 55)"
            ]
          },
          "metadata": {},
          "execution_count": 8
        }
      ]
    },
    {
      "cell_type": "code",
      "source": [
        "df_Orders_01.columns"
      ],
      "metadata": {
        "colab": {
          "base_uri": "https://localhost:8080/"
        },
        "id": "uRZ8gTYGGZ6v",
        "outputId": "08c8bdbf-0ff2-4359-dfa0-b8e32855bd08"
      },
      "execution_count": 9,
      "outputs": [
        {
          "output_type": "execute_result",
          "data": {
            "text/plain": [
              "Index(['id', 'parent_id', 'odate', 'pos', 'uid', 'customer_id', 'table_id',\n",
              "       'guests', 'residents', 'comments', 'status', 'cloud_status',\n",
              "       'order_type_id', 'paid_date', 'color_id', 'shift_id', 'venue_id',\n",
              "       'check_uid', 'order_tag', 'pricelist_id', 'address_id', 'room_id',\n",
              "       'is_invoice', 'spotfolio_status', 'delivery_method', 'delivery_time',\n",
              "       'assigned_date', 'order_no', 'min_order_value', 'tips',\n",
              "       'tips_payment_type', 'round_amount', 'extra_charges', 'food_channel',\n",
              "       'food_channel_id', 'food_channel_display_id', 'through_deliverect',\n",
              "       'through_urbanpiper', 'food_channel_with_cash', 'fd_pickup_at',\n",
              "       'fd_prepared_at', 'fd_ready_dispatch_at', 'fd_dispatched_at',\n",
              "       'brand_id', 'cooking_date', 'delivery_date', 'timeframe',\n",
              "       'subscription_id', 'friends_and_family', 'expo_informed', 'expo_closed',\n",
              "       'sent_to_softone', 'card_last4_digits', 'created_at', 'updated_at'],\n",
              "      dtype='object')"
            ]
          },
          "metadata": {},
          "execution_count": 9
        }
      ]
    },
    {
      "cell_type": "code",
      "source": [
        "df_Orders_01.to_csv('/content/drive/MyDrive/orders_01.csv', index=False)"
      ],
      "metadata": {
        "id": "EHYpUyYDQ2hR"
      },
      "execution_count": 12,
      "outputs": []
    },
    {
      "cell_type": "markdown",
      "source": [
        "# Pyspark"
      ],
      "metadata": {
        "id": "03d7wA3LRNXc"
      }
    },
    {
      "cell_type": "code",
      "source": [
        "!pip install pyspark"
      ],
      "metadata": {
        "colab": {
          "base_uri": "https://localhost:8080/"
        },
        "id": "M_n-RYRzRbj4",
        "outputId": "ac3c6f5b-99a8-4dfa-9f84-6b8ec2726367"
      },
      "execution_count": 59,
      "outputs": [
        {
          "output_type": "stream",
          "name": "stdout",
          "text": [
            "Collecting pyspark\n",
            "  Downloading pyspark-3.5.0.tar.gz (316.9 MB)\n",
            "\u001b[2K     \u001b[90m━━━━━━━━━━━━━━━━━━━━━━━━━━━━━━━━━━━━━━━━\u001b[0m \u001b[32m316.9/316.9 MB\u001b[0m \u001b[31m2.4 MB/s\u001b[0m eta \u001b[36m0:00:00\u001b[0m\n",
            "\u001b[?25h  Preparing metadata (setup.py) ... \u001b[?25l\u001b[?25hdone\n",
            "Requirement already satisfied: py4j==0.10.9.7 in /usr/local/lib/python3.10/dist-packages (from pyspark) (0.10.9.7)\n",
            "Building wheels for collected packages: pyspark\n",
            "  Building wheel for pyspark (setup.py) ... \u001b[?25l\u001b[?25hdone\n",
            "  Created wheel for pyspark: filename=pyspark-3.5.0-py2.py3-none-any.whl size=317425345 sha256=d9760fd7d486f08bea80087fc8a88cfd1b63b426aa1dc7f56399a46424835003\n",
            "  Stored in directory: /root/.cache/pip/wheels/41/4e/10/c2cf2467f71c678cfc8a6b9ac9241e5e44a01940da8fbb17fc\n",
            "Successfully built pyspark\n",
            "Installing collected packages: pyspark\n",
            "Successfully installed pyspark-3.5.0\n"
          ]
        }
      ]
    },
    {
      "cell_type": "code",
      "source": [
        "import pyspark\n",
        "from pyspark.sql import SparkSession\n",
        "\n",
        "spark=SparkSession.builder.appName('Practise').getOrCreate()"
      ],
      "metadata": {
        "id": "eVkQkwZ4Re6R"
      },
      "execution_count": 60,
      "outputs": []
    },
    {
      "cell_type": "code",
      "source": [
        "spark"
      ],
      "metadata": {
        "colab": {
          "base_uri": "https://localhost:8080/",
          "height": 0
        },
        "id": "NpzRCGn2Rnja",
        "outputId": "423c3a66-82c2-4cd9-a226-7996bfffaf1d"
      },
      "execution_count": 30,
      "outputs": [
        {
          "output_type": "execute_result",
          "data": {
            "text/plain": [
              "<pyspark.sql.session.SparkSession at 0x788284fb0e20>"
            ],
            "text/html": [
              "\n",
              "            <div>\n",
              "                <p><b>SparkSession - in-memory</b></p>\n",
              "                \n",
              "        <div>\n",
              "            <p><b>SparkContext</b></p>\n",
              "\n",
              "            <p><a href=\"http://94406549d92a:4040\">Spark UI</a></p>\n",
              "\n",
              "            <dl>\n",
              "              <dt>Version</dt>\n",
              "                <dd><code>v3.5.0</code></dd>\n",
              "              <dt>Master</dt>\n",
              "                <dd><code>local[*]</code></dd>\n",
              "              <dt>AppName</dt>\n",
              "                <dd><code>Practise</code></dd>\n",
              "            </dl>\n",
              "        </div>\n",
              "        \n",
              "            </div>\n",
              "        "
            ]
          },
          "metadata": {},
          "execution_count": 30
        }
      ]
    },
    {
      "cell_type": "code",
      "source": [
        "csv_dir = '/content/drive/MyDrive/orders_01.csv'"
      ],
      "metadata": {
        "id": "-Hac1Sz_RuHz"
      },
      "execution_count": 15,
      "outputs": []
    },
    {
      "cell_type": "code",
      "source": [
        "df_Orders_spark = spark.read.format(\"csv\").load(csv_dir, header=True, inferSchema=True)\n",
        "\n",
        "# df_Orders_spark.printSchema()"
      ],
      "metadata": {
        "id": "CSHC2puGRwxo"
      },
      "execution_count": 16,
      "outputs": []
    },
    {
      "cell_type": "code",
      "source": [
        "type(df_Orders_spark)"
      ],
      "metadata": {
        "colab": {
          "base_uri": "https://localhost:8080/"
        },
        "id": "N7lDMvNwR4Yi",
        "outputId": "b8722104-00b0-4ac2-e4a0-3a6904703380"
      },
      "execution_count": 18,
      "outputs": [
        {
          "output_type": "execute_result",
          "data": {
            "text/plain": [
              "pyspark.sql.dataframe.DataFrame"
            ]
          },
          "metadata": {},
          "execution_count": 18
        }
      ]
    },
    {
      "cell_type": "code",
      "source": [
        "df_Orders_spark.show(10)"
      ],
      "metadata": {
        "colab": {
          "base_uri": "https://localhost:8080/"
        },
        "id": "bhMnxiY1R8OG",
        "outputId": "49898703-b0e0-480f-9925-f8f70dfad0c2"
      },
      "execution_count": 18,
      "outputs": [
        {
          "output_type": "stream",
          "name": "stdout",
          "text": [
            "+--------------------+---------+-------------------+---+---+-----------+--------+------+---------+--------+------+------------+-------------+-------------------+--------+--------------------+--------+---------+---------+------------+----------+-------+----------+----------------+---------------+-------------+-------------+--------+---------------+----+-----------------+------------+-------------+------------+---------------+-----------------------+------------------+------------------+----------------------+------------+--------------+--------------------+----------------+--------+------------+-------------+---------+---------------+------------------+-------------+-----------+---------------+-----------------+-------------------+-------------------+\n",
            "|                  id|parent_id|              odate|pos|uid|customer_id|table_id|guests|residents|comments|status|cloud_status|order_type_id|          paid_date|color_id|            shift_id|venue_id|check_uid|order_tag|pricelist_id|address_id|room_id|is_invoice|spotfolio_status|delivery_method|delivery_time|assigned_date|order_no|min_order_value|tips|tips_payment_type|round_amount|extra_charges|food_channel|food_channel_id|food_channel_display_id|through_deliverect|through_urbanpiper|food_channel_with_cash|fd_pickup_at|fd_prepared_at|fd_ready_dispatch_at|fd_dispatched_at|brand_id|cooking_date|delivery_date|timeframe|subscription_id|friends_and_family|expo_informed|expo_closed|sent_to_softone|card_last4_digits|         created_at|         updated_at|\n",
            "+--------------------+---------+-------------------+---+---+-----------+--------+------+---------+--------+------+------------+-------------+-------------------+--------+--------------------+--------+---------+---------+------------+----------+-------+----------+----------------+---------------+-------------+-------------+--------+---------------+----+-----------------+------------+-------------+------------+---------------+-----------------------+------------------+------------------+----------------------+------------+--------------+--------------------+----------------+--------+------------+-------------+---------+---------------+------------------+-------------+-----------+---------------+-----------------+-------------------+-------------------+\n",
            "|374c214d-52f8-4bd...|     NULL|2017-03-08 17:49:25|  6| 12|       NULL|      21|     2|     NULL|    NULL|     2|           0|          200|2017-03-08 20:03:18|       0|42000003-3139-420...|       1|        0|        0|           0|      NULL|   NULL|         0|            NULL|              0|            0|         NULL|    NULL|           NULL|NULL|                0|        NULL|         NULL|        NULL|           NULL|                   NULL|                 0|                 0|                     0|        NULL|          NULL|                NULL|            NULL|       0|        NULL|         NULL|     NULL|           NULL|                 0|         NULL|       NULL|           NULL|             NULL|2017-03-08 17:49:37|2017-03-08 20:03:25|\n",
            "|20bb1ead-e1a4-48c...|     NULL|2017-03-08 18:07:07|  6| 12|       NULL|      23|     2|     NULL|    NULL|     2|           0|          200|2017-03-09 00:54:51|       0|42000003-3139-420...|       1|        0|        0|           0|      NULL|   NULL|         0|            NULL|              0|            0|         NULL|    NULL|           NULL|NULL|                0|        NULL|         NULL|        NULL|           NULL|                   NULL|                 0|                 0|                     0|        NULL|          NULL|                NULL|            NULL|       0|        NULL|         NULL|     NULL|           NULL|                 0|         NULL|       NULL|           NULL|             NULL|2017-03-08 18:07:20|2017-03-09 00:54:56|\n",
            "|ed463ddc-8f42-486...|     NULL|2017-03-08 18:25:21|  6| 12|       NULL|      26|     6|     NULL|   περιε|     2|           0|          200|2017-03-08 21:09:47|       0|42000003-3139-420...|       1|        0|        0|           0|      NULL|   NULL|         0|            NULL|              0|            0|         NULL|    NULL|           NULL|NULL|                0|        NULL|         NULL|        NULL|           NULL|                   NULL|                 0|                 0|                     0|        NULL|          NULL|                NULL|            NULL|       0|        NULL|         NULL|     NULL|           NULL|                 0|         NULL|       NULL|           NULL|             NULL|2017-03-08 18:25:32|2017-03-08 21:09:54|\n",
            "|7bbe2506-bc5d-47c...|     NULL|2017-03-08 18:40:37|  4| 11|       NULL|       0|     0|     NULL|    NULL|     2|           0|          200|2017-03-08 19:23:20|       0|799f0930-4a54-435...|       1|        0|        0|           0|      NULL|   NULL|         0|            NULL|              0|            0|         NULL|    NULL|           NULL|NULL|                0|        NULL|         NULL|        NULL|           NULL|                   NULL|                 0|                 0|                     0|        NULL|          NULL|                NULL|            NULL|       0|        NULL|         NULL|     NULL|           NULL|                 0|         NULL|       NULL|           NULL|             NULL|2017-03-08 18:40:59|2017-03-08 19:23:24|\n",
            "|4b79b04d-5f3a-422...|     NULL|2017-03-08 19:11:46|  3| 10|       NULL|      50|     8|     NULL|    NULL|     2|           0|          200|2017-03-08 22:39:25|       0|7f4face6-702b-4fc...|       1|        0|        0|           0|      NULL|   NULL|         0|            NULL|              0|            0|         NULL|    NULL|           NULL|NULL|                0|        NULL|         NULL|        NULL|           NULL|                   NULL|                 0|                 0|                     0|        NULL|          NULL|                NULL|            NULL|       0|        NULL|         NULL|     NULL|           NULL|                 0|         NULL|       NULL|           NULL|             NULL|2017-03-08 19:11:56|2017-03-08 22:39:41|\n",
            "|736c991f-87ca-470...|     NULL|2017-03-08 19:12:16|  6| 12|       NULL|      24|     5|     NULL|    NULL|     2|           0|          200|2017-03-08 22:34:26|       0|42000003-3139-420...|       1|        0|        0|           0|      NULL|   NULL|         0|            NULL|              0|            0|         NULL|    NULL|           NULL|NULL|                0|        NULL|         NULL|        NULL|           NULL|                   NULL|                 0|                 0|                     0|        NULL|          NULL|                NULL|            NULL|       0|        NULL|         NULL|     NULL|           NULL|                 0|         NULL|       NULL|           NULL|             NULL|2017-03-08 19:12:39|2017-03-08 22:34:33|\n",
            "|cb6d68b7-3693-4d5...|     NULL|2017-03-08 19:15:23|  5|  8|       NULL|      15|     4|     NULL|    NULL|     2|           0|          200|2017-03-08 22:43:43|       0|dded3d59-7df2-42d...|       1|        0|        0|           0|      NULL|   NULL|         0|            NULL|              0|            0|         NULL|    NULL|           NULL|NULL|                0|        NULL|         NULL|        NULL|           NULL|                   NULL|                 0|                 0|                     0|        NULL|          NULL|                NULL|            NULL|       0|        NULL|         NULL|     NULL|           NULL|                 0|         NULL|       NULL|           NULL|             NULL|2017-03-08 19:16:46|2017-03-08 22:44:02|\n",
            "|c5e75cb3-fdf6-45f...|     NULL|2017-03-08 19:20:02|  4| 11|       NULL|      32|     0|     NULL|    NULL|     2|           0|          200|2017-03-08 22:22:57|       0|799f0930-4a54-435...|       1|        0|        0|           0|      NULL|   NULL|         0|            NULL|              0|            0|         NULL|    NULL|           NULL|NULL|                0|        NULL|         NULL|        NULL|           NULL|                   NULL|                 0|                 0|                     0|        NULL|          NULL|                NULL|            NULL|       0|        NULL|         NULL|     NULL|           NULL|                 0|         NULL|       NULL|           NULL|             NULL|2017-03-08 19:20:48|2017-03-08 22:23:16|\n",
            "|229bc0f7-4516-47e...|     NULL|2017-03-08 19:27:17|  3| 10|       NULL|      53|     3|     NULL|    NULL|     2|           0|          200|2017-03-09 00:07:54|       0|7f4face6-702b-4fc...|       1|        0|        0|           0|      NULL|   NULL|         0|            NULL|              0|            0|         NULL|    NULL|           NULL|NULL|                0|        NULL|         NULL|        NULL|           NULL|                   NULL|                 0|                 0|                     0|        NULL|          NULL|                NULL|            NULL|       0|        NULL|         NULL|     NULL|           NULL|                 0|         NULL|       NULL|           NULL|             NULL|2017-03-08 19:27:27|2017-03-09 00:08:18|\n",
            "|0d837da8-c0da-49f...|     NULL|2017-03-08 19:32:34|  2|  9|       NULL|      10|     0|     NULL|    NULL|     2|           0|          200|2017-03-08 22:56:50|       8|aec99141-71ae-431...|       1|        0|        0|           0|      NULL|   NULL|         0|            NULL|              0|            0|         NULL|    NULL|           NULL|NULL|                0|        NULL|         NULL|        NULL|           NULL|                   NULL|                 0|                 0|                     0|        NULL|          NULL|                NULL|            NULL|       0|        NULL|         NULL|     NULL|           NULL|                 0|         NULL|       NULL|           NULL|             NULL|2017-03-08 19:32:51|2017-03-08 22:57:04|\n",
            "+--------------------+---------+-------------------+---+---+-----------+--------+------+---------+--------+------+------------+-------------+-------------------+--------+--------------------+--------+---------+---------+------------+----------+-------+----------+----------------+---------------+-------------+-------------+--------+---------------+----+-----------------+------------+-------------+------------+---------------+-----------------------+------------------+------------------+----------------------+------------+--------------+--------------------+----------------+--------+------------+-------------+---------+---------------+------------------+-------------+-----------+---------------+-----------------+-------------------+-------------------+\n",
            "only showing top 10 rows\n",
            "\n"
          ]
        }
      ]
    },
    {
      "cell_type": "code",
      "source": [
        "print((df_Orders_spark.count(), len(df_Orders_spark.columns)))"
      ],
      "metadata": {
        "colab": {
          "base_uri": "https://localhost:8080/"
        },
        "id": "pL_j8YgjTyhx",
        "outputId": "346f73eb-e8ff-40c1-d527-13755a235fbb"
      },
      "execution_count": 21,
      "outputs": [
        {
          "output_type": "stream",
          "name": "stdout",
          "text": [
            "(289322, 55)\n"
          ]
        }
      ]
    },
    {
      "cell_type": "markdown",
      "source": [
        "**1- Checking for Complete Duplicates Across All Columns**"
      ],
      "metadata": {
        "id": "0Cd-KAoPWr9u"
      }
    },
    {
      "cell_type": "code",
      "source": [
        "from pyspark.sql.functions import col\n",
        "\n",
        "# Count duplicates\n",
        "duplicate_rows = df_Orders_spark.groupBy(df_Orders_spark.columns) \\\n",
        "                                .count() \\\n",
        "                                .where(col('count') > 1) \\\n",
        "                                .drop('count')\n",
        "\n",
        "# Show duplicate rows\n",
        "duplicate_rows.show()"
      ],
      "metadata": {
        "colab": {
          "base_uri": "https://localhost:8080/"
        },
        "id": "y8S37PUZWpBp",
        "outputId": "7074bc2f-4251-46d8-c911-9312185a648f"
      },
      "execution_count": 22,
      "outputs": [
        {
          "output_type": "stream",
          "name": "stdout",
          "text": [
            "+--------------------+---------+-------------------+---+---+-----------+--------+------+---------+--------+------+------------+-------------+-------------------+--------+--------------------+--------+---------+---------+------------+----------+-------+----------+----------------+---------------+-------------+-------------------+--------+---------------+----+-----------------+------------+-------------+------------+---------------+-----------------------+------------------+------------------+----------------------+-------------------+--------------+--------------------+----------------+--------+------------+-------------------+---------+---------------+------------------+-------------+-----------+---------------+-----------------+-------------------+-------------------+\n",
            "|                  id|parent_id|              odate|pos|uid|customer_id|table_id|guests|residents|comments|status|cloud_status|order_type_id|          paid_date|color_id|            shift_id|venue_id|check_uid|order_tag|pricelist_id|address_id|room_id|is_invoice|spotfolio_status|delivery_method|delivery_time|      assigned_date|order_no|min_order_value|tips|tips_payment_type|round_amount|extra_charges|food_channel|food_channel_id|food_channel_display_id|through_deliverect|through_urbanpiper|food_channel_with_cash|       fd_pickup_at|fd_prepared_at|fd_ready_dispatch_at|fd_dispatched_at|brand_id|cooking_date|      delivery_date|timeframe|subscription_id|friends_and_family|expo_informed|expo_closed|sent_to_softone|card_last4_digits|         created_at|         updated_at|\n",
            "+--------------------+---------+-------------------+---+---+-----------+--------+------+---------+--------+------+------------+-------------+-------------------+--------+--------------------+--------+---------+---------+------------+----------+-------+----------+----------------+---------------+-------------+-------------------+--------+---------------+----+-----------------+------------+-------------+------------+---------------+-----------------------+------------------+------------------+----------------------+-------------------+--------------+--------------------+----------------+--------+------------+-------------------+---------+---------------+------------------+-------------+-----------+---------------+-----------------+-------------------+-------------------+\n",
            "|218456dd-cef0-428...|     NULL|2023-11-25 22:03:59|  6| 49|       NULL|      68|     0|      0.0|    NULL|     2|           0|          200|2023-11-25 22:28:21|       0|fd0a5a04-3b4a-432...|       1|        0|        0|           0|      NULL|    0.0|         0|             0.0|              0|            0|0001-01-01 00:00:00|     0.0|            0.0| 0.0|                0|        NULL|         NULL|        NULL|           NULL|                   NULL|                 0|                 0|                     0|0001-01-01 00:00:00|          NULL|                NULL|            NULL|       0|        NULL|0001-01-01 00:00:00|     NULL|            0.0|                 0|         NULL|       NULL|           NULL|             NULL|2023-11-25 22:03:59|2023-11-25 22:28:23|\n",
            "|107a24dc-b121-491...|     NULL|2023-11-27 20:35:54|  6| 47|       NULL|      59|     0|      0.0|    NULL|     2|           0|          200|2023-11-27 22:32:03|       9|d04dc085-9aff-432...|       1|        0|        0|           0|      NULL|    0.0|         0|             0.0|              0|            0|0001-01-01 00:00:00|     0.0|            0.0| 0.0|                0|        NULL|         NULL|        NULL|           NULL|                   NULL|                 0|                 0|                     0|0001-01-01 00:00:00|          NULL|                NULL|            NULL|       0|        NULL|0001-01-01 00:00:00|     NULL|            0.0|                 0|         NULL|       NULL|           NULL|             NULL|2023-11-27 20:35:27|2023-11-27 22:32:06|\n",
            "|296c69cb-0cd8-4db...|     NULL|2023-11-29 18:27:45|  9| 41|       NULL|      78|     0|      0.0|    NULL|     2|           0|          200|2023-11-29 21:48:20|       0|e0b18f50-5f7c-49d...|       1|        0|        0|           0|      NULL|    0.0|         0|             0.0|              0|            0|0001-01-01 00:00:00|     0.0|            0.0| 0.0|                0|         0.0|         NULL|        NULL|           NULL|                   NULL|                 0|                 0|                     0|0001-01-01 00:00:00|          NULL|                NULL|            NULL|       0|        NULL|0001-01-01 00:00:00|     NULL|            0.0|                 0|         NULL|       NULL|           NULL|             NULL|2023-11-29 18:27:43|2023-11-29 21:48:21|\n",
            "|91a049a3-7553-4f6...|     NULL|2023-11-30 18:38:47| 15| 42|       NULL|      26|     0|      0.0|    NULL|     2|           0|          200|2023-11-30 22:54:08|       0|a59a1f75-1b04-430...|       1|        0|        0|           0|      NULL|    0.0|         0|             0.0|              0|            0|0001-01-01 00:00:00|     0.0|            0.0| 0.0|                0|         0.0|         NULL|        NULL|           NULL|                   NULL|                 0|                 0|                     0|0001-01-01 00:00:00|          NULL|                NULL|            NULL|       0|        NULL|0001-01-01 00:00:00|     NULL|            0.0|                 0|         NULL|       NULL|           NULL|             NULL|2023-11-30 18:37:47|2023-11-30 22:54:18|\n",
            "|49b6cf99-2be4-44c...|     NULL|2023-12-03 19:38:41|  5| 50|       NULL|      49|     0|      0.0|    NULL|     2|           0|          200|2023-12-03 21:33:56|       0|c04f4f4d-d2c3-4a5...|       1|        0|        0|           0|      NULL|    0.0|         0|             0.0|              0|            0|2001-01-01 00:00:00|     0.0|            0.0| 0.0|                0|         0.0|         NULL|        NULL|           NULL|                   NULL|                 0|                 0|                     0|2001-01-01 00:00:00|          NULL|                NULL|            NULL|       0|        NULL|2001-01-01 00:00:00|     NULL|            0.0|                 0|         NULL|       NULL|           NULL|             NULL|2023-12-03 19:38:38|2023-12-03 21:34:00|\n",
            "|1593e989-df4f-4eb...|     NULL|2023-12-05 19:35:26|  6| 47|       NULL|      26|     5|      0.0|    NULL|     2|           0|          200|2023-12-05 21:35:21|      15|404f4cd6-3b29-4cc...|       1|        0|        0|           0|      NULL|    0.0|         0|             0.0|              0|            0|0001-01-01 00:00:00|     0.0|            0.0| 0.0|                0|        NULL|         NULL|        NULL|           NULL|                   NULL|                 0|                 0|                     0|0001-01-01 00:00:00|          NULL|                NULL|            NULL|       0|        NULL|0001-01-01 00:00:00|     NULL|            0.0|                 0|         NULL|       NULL|           NULL|             NULL|2023-12-05 19:33:23|2023-12-05 21:35:26|\n",
            "|eb991a21-0181-4e6...|     NULL|2023-12-07 18:47:54|  3| 41|       NULL|      51|     0|      0.0|    NULL|     2|           0|          200|2023-12-07 20:07:10|       0|4781e057-3772-470...|       1|        0|        0|           0|      NULL|    0.0|         0|             0.0|              0|            0|0001-01-01 00:00:00|     0.0|            0.0| 0.0|                0|         0.0|         NULL|        NULL|           NULL|                   NULL|                 0|                 0|                     0|0001-01-01 00:00:00|          NULL|                NULL|            NULL|       0|        NULL|0001-01-01 00:00:00|     NULL|            0.0|                 0|         NULL|       NULL|           NULL|             NULL|2023-12-07 18:46:45|2023-12-07 20:07:14|\n",
            "|569a6cd7-9eac-41e...|     NULL|2023-12-08 22:22:40|  9| 19|       NULL|       0|     0|      0.0|    NULL|     2|           0|          200|2023-12-08 22:28:53|       0|06366d75-e5e0-4e1...|       1|        0|        0|           0|      NULL|    0.0|         0|             0.0|              0|            0|0001-01-01 00:00:00|     0.0|            0.0| 0.0|                0|         0.0|         NULL|        NULL|           NULL|                   NULL|                 0|                 0|                     0|0001-01-01 00:00:00|          NULL|                NULL|            NULL|       0|        NULL|0001-01-01 00:00:00|     NULL|            0.0|                 0|         NULL|       NULL|           NULL|             NULL|2023-12-08 22:22:36|2023-12-08 22:28:54|\n",
            "|88846c80-e5c6-4d7...|     NULL|2023-12-09 13:57:07|  2| 17|       NULL|      40|     0|      0.0|    NULL|     2|           0|          200|2023-12-09 14:14:17|       0|176543df-d02b-4d1...|       1|        0|        0|           0|      NULL|    0.0|         0|             0.0|              0|            0|0001-01-01 00:00:00|     0.0|            0.0| 0.0|                0|         0.0|         NULL|        NULL|           NULL|                   NULL|                 0|                 0|                     0|0001-01-01 00:00:00|          NULL|                NULL|            NULL|       0|        NULL|0001-01-01 00:00:00|     NULL|            0.0|                 0|         NULL|       NULL|           NULL|             NULL|2023-12-09 13:57:06|2023-12-09 14:14:18|\n",
            "|87573f3f-0e7b-41c...|     NULL|2023-12-09 20:09:30|  9| 47|       NULL|      57|     0|      0.0|    NULL|     2|           0|          200|2023-12-09 21:23:56|      15|ce5f8254-7384-424...|       1|        0|        0|           0|      NULL|    0.0|         0|             0.0|              0|            0|0001-01-01 00:00:00|     0.0|            0.0| 0.0|                0|         0.0|         NULL|        NULL|           NULL|                   NULL|                 0|                 0|                     0|0001-01-01 00:00:00|          NULL|                NULL|            NULL|       0|        NULL|0001-01-01 00:00:00|     NULL|            0.0|                 0|         NULL|       NULL|           NULL|             NULL|2023-12-09 20:08:00|2023-12-09 21:24:03|\n",
            "|5dc3a84d-7143-420...|     NULL|2023-12-12 13:47:25|  2| 17|       NULL|      78|     0|      0.0|    NULL|     2|           0|          200|2023-12-12 14:04:08|       0|e6ad417d-bee7-494...|       1|        0|        0|           0|      NULL|    0.0|         0|             0.0|              0|            0|0001-01-01 00:00:00|     0.0|            0.0| 0.0|                0|         0.0|         NULL|        NULL|           NULL|                   NULL|                 0|                 0|                     0|0001-01-01 00:00:00|          NULL|                NULL|            NULL|       0|        NULL|0001-01-01 00:00:00|     NULL|            0.0|                 0|         NULL|       NULL|           NULL|             NULL|2023-12-12 13:47:24|2023-12-12 14:04:10|\n",
            "|b6a9eb9f-0470-48f...|     NULL|2023-12-12 19:33:08|  2| 17|       NULL|      39|     0|      0.0|    NULL|     2|           0|          200|2023-12-12 23:00:48|       0|01ec32b9-d361-414...|       1|        0|        0|           0|      NULL|    0.0|         0|             0.0|              0|            0|0001-01-01 00:00:00|     0.0|            0.0| 0.0|                0|         0.0|         NULL|        NULL|           NULL|                   NULL|                 0|                 0|                     0|0001-01-01 00:00:00|          NULL|                NULL|            NULL|       0|        NULL|0001-01-01 00:00:00|     NULL|            0.0|                 0|         NULL|       NULL|           NULL|             NULL|2023-12-12 19:31:05|2023-12-12 23:00:52|\n",
            "|ec4a12d1-bd7b-499...|     NULL|2023-12-13 13:37:45|  5| 49|       NULL|      68|     0|      0.0|    NULL|     2|           0|          200|2023-12-13 14:09:47|       0|30675dd2-760b-420...|       1|        0|        0|           0|      NULL|    0.0|         0|             0.0|              0|            0|0001-01-01 00:00:00|     0.0|            0.0| 0.0|                0|         0.0|         NULL|        NULL|           NULL|                   NULL|                 0|                 0|                     0|0001-01-01 00:00:00|          NULL|                NULL|            NULL|       0|        NULL|0001-01-01 00:00:00|     NULL|            0.0|                 0|         NULL|       NULL|           NULL|             NULL|2023-12-13 13:37:43|2023-12-13 14:09:50|\n",
            "|213c359d-d744-49e...|     NULL|2023-12-14 19:05:30|  9| 41|       NULL|      75|     0|      0.0|    NULL|     2|           0|          200|2023-12-14 20:06:08|       0|4b29a824-3869-497...|       1|        0|        0|           0|      NULL|    0.0|         0|             0.0|              0|            0|0001-01-01 00:00:00|     0.0|            0.0| 0.0|                0|         0.0|         NULL|        NULL|           NULL|                   NULL|                 0|                 0|                     0|0001-01-01 00:00:00|          NULL|                NULL|            NULL|       0|        NULL|0001-01-01 00:00:00|     NULL|            0.0|                 0|         NULL|       NULL|           NULL|             NULL|2023-12-14 19:03:39|2023-12-14 20:06:11|\n",
            "|d3d2f604-5b31-4ed...|     NULL|2023-12-14 19:05:16|  9| 41|       NULL|      56|     0|      0.0|    NULL|     2|           0|          200|2023-12-14 21:17:22|       0|4b29a824-3869-497...|       1|        0|        0|           0|      NULL|    0.0|         0|             0.0|              0|            0|2001-01-01 00:00:00|     0.0|            0.0| 0.0|                0|         0.0|         NULL|        NULL|           NULL|                   NULL|                 0|                 0|                     0|2001-01-01 00:00:00|          NULL|                NULL|            NULL|       0|        NULL|2001-01-01 00:00:00|     NULL|            0.0|                 0|         NULL|       NULL|           NULL|             NULL|2023-12-14 19:05:07|2023-12-14 21:17:28|\n",
            "|d3859824-1c0a-44a...|     NULL|2023-12-16 13:24:38| 15| 42|       NULL|      15|     0|      0.0|    NULL|     2|           0|          200|2023-12-16 14:49:34|      15|24fa88f5-cccb-4ce...|       1|        0|        0|           0|      NULL|    0.0|         0|             0.0|              0|            0|0001-01-01 00:00:00|     0.0|            0.0| 0.0|                0|         0.0|         NULL|        NULL|           NULL|                   NULL|                 0|                 0|                     0|0001-01-01 00:00:00|          NULL|                NULL|            NULL|       0|        NULL|0001-01-01 00:00:00|     NULL|            0.0|                 0|         NULL|       NULL|           NULL|             NULL|2023-12-16 13:23:21|2023-12-16 14:49:37|\n",
            "|919a8f6b-76ac-493...|     NULL|2023-12-16 17:17:05|  2| 17|       NULL|      42|     0|      0.0|    NULL|     2|           0|          200|2023-12-16 19:27:36|       0|0883bb5f-26ba-460...|       1|        0|        0|           0|      NULL|    0.0|         0|             0.0|              0|            0|0001-01-01 00:00:00|     0.0|            0.0| 0.0|                0|         0.0|         NULL|        NULL|           NULL|                   NULL|                 0|                 0|                     0|0001-01-01 00:00:00|          NULL|                NULL|            NULL|       0|        NULL|0001-01-01 00:00:00|     NULL|            0.0|                 0|         NULL|       NULL|           NULL|             NULL|2023-12-16 17:16:54|2023-12-16 19:27:38|\n",
            "|2b4158ed-6373-4b0...|     NULL|2023-12-17 13:41:44|  2| 17|       NULL|      43|     0|      0.0|    NULL|     2|           0|          200|2023-12-17 16:01:32|       0|52b32808-1473-4ec...|       1|        0|        0|           0|      NULL|    0.0|         0|             0.0|              0|            0|0001-01-01 00:00:00|     0.0|            0.0| 0.0|                0|         0.0|         NULL|        NULL|           NULL|                   NULL|                 0|                 0|                     0|0001-01-01 00:00:00|          NULL|                NULL|            NULL|       0|        NULL|0001-01-01 00:00:00|     NULL|            0.0|                 0|         NULL|       NULL|           NULL|             NULL|2023-12-17 13:41:32|2023-12-17 16:01:34|\n",
            "|178db1a1-93ff-479...|     NULL|2023-12-17 16:17:41|  8| 50|       NULL|      70|     0|      0.0|    NULL|     2|           0|          200|2023-12-17 17:33:48|      15|7760cdc5-06e6-4fe...|       1|        0|        0|           0|      NULL|    0.0|         0|             0.0|              0|            0|2001-01-01 00:00:00|     0.0|            0.0| 0.0|                0|         0.0|         NULL|        NULL|           NULL|                   NULL|                 0|                 0|                     0|2001-01-01 00:00:00|          NULL|                NULL|            NULL|       0|        NULL|2001-01-01 00:00:00|     NULL|            0.0|                 0|         NULL|       NULL|           NULL|             NULL|2023-12-17 16:16:44|2023-12-17 17:33:51|\n",
            "|98d4ef1a-1654-4c6...|     NULL|2023-12-20 11:15:22| 16| 41|       NULL|      51|     0|      0.0|    NULL|     2|           0|          200|2023-12-20 12:08:12|       0|29ff9380-8292-4a4...|       1|        0|        0|           0|      NULL|    0.0|         0|             0.0|              0|            0|0001-01-01 00:00:00|     0.0|            0.0| 0.0|                0|         0.0|         NULL|        NULL|           NULL|                   NULL|                 0|                 0|                     0|0001-01-01 00:00:00|          NULL|                NULL|            NULL|       0|        NULL|0001-01-01 00:00:00|     NULL|            0.0|                 0|         NULL|       NULL|           NULL|             NULL|2023-12-20 11:15:08|2023-12-20 12:08:15|\n",
            "+--------------------+---------+-------------------+---+---+-----------+--------+------+---------+--------+------+------------+-------------+-------------------+--------+--------------------+--------+---------+---------+------------+----------+-------+----------+----------------+---------------+-------------+-------------------+--------+---------------+----+-----------------+------------+-------------+------------+---------------+-----------------------+------------------+------------------+----------------------+-------------------+--------------+--------------------+----------------+--------+------------+-------------------+---------+---------------+------------------+-------------+-----------+---------------+-----------------+-------------------+-------------------+\n",
            "only showing top 20 rows\n",
            "\n"
          ]
        }
      ]
    },
    {
      "cell_type": "code",
      "source": [
        "print((duplicate_rows.count(), len(duplicate_rows.columns)))"
      ],
      "metadata": {
        "colab": {
          "base_uri": "https://localhost:8080/"
        },
        "id": "9dkueJWhWuPC",
        "outputId": "d235f3e6-a29e-4329-d002-e97601f58efa"
      },
      "execution_count": 23,
      "outputs": [
        {
          "output_type": "stream",
          "name": "stdout",
          "text": [
            "(6661, 55)\n"
          ]
        }
      ]
    },
    {
      "cell_type": "markdown",
      "source": [
        "**2- Checking for Duplicates Based on Specific Columns**"
      ],
      "metadata": {
        "id": "NaiotSC8Wasz"
      }
    },
    {
      "cell_type": "code",
      "source": [
        "duplicate_rows_specific = df_Orders_spark.groupBy('id', 'odate', 'pos', 'uid', 'paid_date', 'created_at', 'updated_at') \\\n",
        "                                         .count() \\\n",
        "                                         .where(col('count') > 1) \\\n",
        "                                         .drop('count')\n",
        "\n",
        "# Show these specific duplicate rows\n",
        "duplicate_rows_specific.show()\n"
      ],
      "metadata": {
        "colab": {
          "base_uri": "https://localhost:8080/"
        },
        "id": "7wH37j-NTqW6",
        "outputId": "5f46f9e4-a997-49e3-d1f9-e376575c83d4"
      },
      "execution_count": 24,
      "outputs": [
        {
          "output_type": "stream",
          "name": "stdout",
          "text": [
            "+--------------------+-------------------+---+---+-------------------+-------------------+-------------------+\n",
            "|                  id|              odate|pos|uid|          paid_date|         created_at|         updated_at|\n",
            "+--------------------+-------------------+---+---+-------------------+-------------------+-------------------+\n",
            "|a02ca74d-641b-42c...|2023-11-26 19:36:31|  9| 35|2023-11-26 20:22:45|2023-11-26 19:33:43|2023-11-26 20:22:49|\n",
            "|83d2a3ed-bbdf-498...|2023-11-27 13:28:40|  9| 41|2023-11-27 14:38:18|2023-11-27 13:28:23|2023-11-27 14:38:21|\n",
            "|a64e4afc-34a6-422...|2023-11-27 14:35:39|  9| 41|2023-11-27 15:49:22|2023-11-27 14:34:41|2023-11-27 15:49:25|\n",
            "|15b7e55d-c6ff-430...|2023-11-30 22:16:54|  5| 19|2023-11-30 22:23:58|2023-11-30 22:16:53|2023-11-30 22:24:01|\n",
            "|b3462d30-057d-43c...|2023-12-06 20:37:35|  3| 41|2023-12-06 21:18:53|2023-12-06 21:44:01|2023-12-06 21:44:21|\n",
            "|2bcb05ae-4785-4cb...|2023-12-06 21:11:41|  6| 25|2023-12-06 22:37:08|2023-12-06 23:35:03|2023-12-06 23:35:27|\n",
            "|51a60bc4-5cce-48b...|2023-12-07 19:05:44|  9| 35|2023-12-07 20:01:44|2023-12-07 19:05:40|2023-12-07 20:01:48|\n",
            "|95059927-036e-475...|2023-12-10 11:17:06|  8| 49|2023-12-10 12:14:24|2023-12-10 11:16:44|2023-12-10 12:14:27|\n",
            "|eeaad75a-cc4b-401...|2023-12-11 13:08:15|  3| 38|2023-12-11 13:44:55|2023-12-11 13:07:23|2023-12-11 13:44:58|\n",
            "|c235f499-4e2f-422...|2023-12-14 12:12:42|  5| 49|2023-12-14 13:29:06|2023-12-14 12:12:16|2023-12-14 13:29:10|\n",
            "|7a053099-2872-42c...|2023-12-15 10:02:44| 15| 42|2023-12-15 11:20:50|2023-12-15 10:02:13|2023-12-15 11:20:53|\n",
            "|f02a3c8d-0607-409...|2023-12-16 13:17:38|  5| 38|2023-12-16 14:09:35|2023-12-16 13:17:26|2023-12-16 14:09:37|\n",
            "|e79cb9ee-086f-409...|2023-12-20 20:55:45|  5| 42|2023-12-20 22:10:53|2023-12-20 20:54:02|2023-12-20 22:10:57|\n",
            "|cbd97f45-398d-45d...|2023-12-22 12:22:12|  8| 35|2023-12-22 13:08:04|2023-12-22 12:22:09|2023-12-22 13:08:07|\n",
            "|65cf7253-8c3a-4c4...|2023-12-23 09:19:53|  2| 17|2023-12-23 11:32:20|2023-12-23 09:19:49|2023-12-23 11:32:21|\n",
            "|f554f645-dfd8-4c8...|2023-12-26 18:36:57|  2| 17|2023-12-26 22:58:32|2023-12-26 18:35:50|2023-12-26 22:58:34|\n",
            "|c0304327-4b6d-45e...|2023-12-27 20:37:13|  8| 38|2023-12-27 21:40:49|2023-12-27 20:27:50|2023-12-27 21:40:52|\n",
            "|0d5fc4ad-c594-431...|2023-12-28 14:13:10| 15| 42|2001-01-01 00:00:00|2023-12-28 14:12:57|2023-12-28 16:09:04|\n",
            "|fc072886-c202-439...|2023-12-28 14:42:13|  2| 17|2023-12-28 15:44:25|2023-12-28 14:41:44|2023-12-28 15:44:27|\n",
            "|13ae4bfb-aac4-45c...|2023-12-29 12:17:58|  9| 51|0001-01-01 00:00:00|2023-12-29 12:17:46|2023-12-29 12:32:29|\n",
            "+--------------------+-------------------+---+---+-------------------+-------------------+-------------------+\n",
            "only showing top 20 rows\n",
            "\n"
          ]
        }
      ]
    },
    {
      "cell_type": "code",
      "source": [
        "print((duplicate_rows_specific.count(), len(duplicate_rows_specific.columns)))"
      ],
      "metadata": {
        "colab": {
          "base_uri": "https://localhost:8080/"
        },
        "id": "8m9E1-hPWMOz",
        "outputId": "63289238-9ca2-4903-d63e-e433655f6571"
      },
      "execution_count": 25,
      "outputs": [
        {
          "output_type": "stream",
          "name": "stdout",
          "text": [
            "(6661, 7)\n"
          ]
        }
      ]
    },
    {
      "cell_type": "markdown",
      "source": [
        "**3- Counting the Number of Duplicates for Each Row**"
      ],
      "metadata": {
        "id": "oRRpFs6OW8-S"
      }
    },
    {
      "cell_type": "code",
      "source": [
        "from pyspark.sql.window import Window\n",
        "from pyspark.sql.functions import count\n",
        "\n",
        "windowSpec = Window.partitionBy(df_Orders_spark.columns)\n",
        "\n",
        "df_Orders_spark_with_counts = df_Orders_spark.withColumn(\"duplicate_count\", count(\"*\").over(windowSpec))\n",
        "\n",
        "df_Orders_spark_with_counts.show()"
      ],
      "metadata": {
        "colab": {
          "base_uri": "https://localhost:8080/"
        },
        "id": "Lyb9hkV0WVJC",
        "outputId": "dd9a11ea-f20f-4d7d-b533-bd52ce79687d"
      },
      "execution_count": 26,
      "outputs": [
        {
          "output_type": "stream",
          "name": "stdout",
          "text": [
            "+--------------------+---------+-------------------+---+---+-----------+--------+------+---------+--------+------+------------+-------------+-------------------+--------+--------------------+--------+---------+---------+------------+----------+-------+----------+----------------+---------------+-------------+-------------------+--------+---------------+----+-----------------+------------+-------------+------------+---------------+-----------------------+------------------+------------------+----------------------+-------------------+--------------+--------------------+----------------+--------+------------+-------------------+---------+---------------+------------------+-------------+-----------+---------------+-----------------+-------------------+-------------------+---------------+\n",
            "|                  id|parent_id|              odate|pos|uid|customer_id|table_id|guests|residents|comments|status|cloud_status|order_type_id|          paid_date|color_id|            shift_id|venue_id|check_uid|order_tag|pricelist_id|address_id|room_id|is_invoice|spotfolio_status|delivery_method|delivery_time|      assigned_date|order_no|min_order_value|tips|tips_payment_type|round_amount|extra_charges|food_channel|food_channel_id|food_channel_display_id|through_deliverect|through_urbanpiper|food_channel_with_cash|       fd_pickup_at|fd_prepared_at|fd_ready_dispatch_at|fd_dispatched_at|brand_id|cooking_date|      delivery_date|timeframe|subscription_id|friends_and_family|expo_informed|expo_closed|sent_to_softone|card_last4_digits|         created_at|         updated_at|duplicate_count|\n",
            "+--------------------+---------+-------------------+---+---+-----------+--------+------+---------+--------+------+------------+-------------+-------------------+--------+--------------------+--------+---------+---------+------------+----------+-------+----------+----------------+---------------+-------------+-------------------+--------+---------------+----+-----------------+------------+-------------+------------+---------------+-----------------------+------------------+------------------+----------------------+-------------------+--------------+--------------------+----------------+--------+------------+-------------------+---------+---------------+------------------+-------------+-----------+---------------+-----------------+-------------------+-------------------+---------------+\n",
            "|000001b5-df00-4b7...|     NULL|2021-05-18 16:57:30|  8| 33|       NULL|      72|     3|      0.0|    NULL|     2|           0|          200|2021-05-18 19:19:44|       0|4884fefc-c8a3-46f...|       1|        0|        0|           0|      NULL|    0.0|         0|             0.0|              0|            0|0001-01-01 00:00:00|     0.0|           NULL|NULL|                0|        NULL|         NULL|        NULL|           NULL|                   NULL|                 0|                 0|                     0|               NULL|          NULL|                NULL|            NULL|       0|        NULL|               NULL|     NULL|           NULL|                 0|         NULL|       NULL|           NULL|             NULL|2021-05-18 16:54:55|2021-05-18 19:19:46|              1|\n",
            "|00005eef-a712-48a...|     NULL|2018-06-20 19:24:13|  4| 12|       NULL|      70|     3|     NULL|    NULL|     2|           0|          200|2018-06-20 21:23:47|      10|ee331e14-5a1d-4ec...|       1|        0|        0|           0|      NULL|    0.0|         0|            NULL|              0|            0|               NULL|    NULL|           NULL|NULL|                0|        NULL|         NULL|        NULL|           NULL|                   NULL|                 0|                 0|                     0|               NULL|          NULL|                NULL|            NULL|       0|        NULL|               NULL|     NULL|           NULL|                 0|         NULL|       NULL|           NULL|             NULL|2018-06-20 19:23:50|2018-06-20 21:23:53|              1|\n",
            "|000075f4-55af-46f...|     NULL|2019-03-27 12:34:32|  9| 32|       NULL|      24|     1|     NULL|    NULL|     2|           0|          200|2019-03-27 14:21:07|       0|29eecbca-a9e5-466...|       1|        0|        0|           0|      NULL|    0.0|         0|            NULL|              0|            0|               NULL|    NULL|           NULL|NULL|                0|        NULL|         NULL|        NULL|           NULL|                   NULL|                 0|                 0|                     0|               NULL|          NULL|                NULL|            NULL|       0|        NULL|               NULL|     NULL|           NULL|                 0|         NULL|       NULL|           NULL|             NULL|2019-03-27 12:34:32|2019-03-27 14:21:09|              1|\n",
            "|00015ce3-b283-451...|     NULL|2018-10-05 16:37:18|  3| 30|       NULL|      62|     0|     NULL|    NULL|     2|           0|          200|2018-10-05 18:56:25|       0|f3304f43-4064-479...|       1|        0|        0|           0|      NULL|    0.0|         0|            NULL|              0|            0|               NULL|    NULL|           NULL|NULL|                0|        NULL|         NULL|        NULL|           NULL|                   NULL|                 0|                 0|                     0|               NULL|          NULL|                NULL|            NULL|       0|        NULL|               NULL|     NULL|           NULL|                 0|         NULL|       NULL|           NULL|             NULL|2018-10-05 16:36:58|2018-10-05 18:56:30|              1|\n",
            "|000169f9-9b7e-4a8...|     NULL|2022-02-20 09:35:49|  8| 19|       NULL|      57|     0|      0.0|    NULL|     2|           0|          200|2022-02-20 10:16:51|       0|c2d24adb-0707-439...|       1|        0|        0|           0|      NULL|    0.0|         0|             0.0|              0|            0|0001-01-01 00:00:00|     0.0|            0.0| 0.0|                0|        NULL|         NULL|        NULL|           NULL|                   NULL|                 0|                 0|                     0|               NULL|          NULL|                NULL|            NULL|       0|        NULL|               NULL|     NULL|           NULL|                 0|         NULL|       NULL|           NULL|             NULL|2022-02-20 09:35:18|2022-02-20 10:16:53|              1|\n",
            "|0001abd0-92f5-468...|     NULL|2022-03-20 13:43:41|  6| 42|       NULL|      49|     0|      0.0|    NULL|     2|           0|          200|2022-03-20 15:32:13|       0|b7033475-7554-4b1...|       1|        0|        0|           0|      NULL|    0.0|         0|             0.0|              0|            0|0001-01-01 00:00:00|     0.0|            0.0| 0.0|                0|        NULL|         NULL|        NULL|           NULL|                   NULL|                 0|                 0|                     0|               NULL|          NULL|                NULL|            NULL|       0|        NULL|               NULL|     NULL|           NULL|                 0|         NULL|       NULL|           NULL|             NULL|2022-03-20 13:41:58|2022-03-20 15:32:16|              1|\n",
            "|0001da48-ff06-4f1...|     NULL|2019-03-25 21:14:43|  6| 19|       NULL|       9|     2|     NULL|    NULL|     2|           0|          200|2001-01-01 00:00:00|       0|0fd7d113-e85f-421...|       1|        0|        0|           0|      NULL|    0.0|         0|            NULL|              0|            0|               NULL|    NULL|           NULL|NULL|                0|        NULL|         NULL|        NULL|           NULL|                   NULL|                 0|                 0|                     0|               NULL|          NULL|                NULL|            NULL|       0|        NULL|               NULL|     NULL|           NULL|                 0|         NULL|       NULL|           NULL|             NULL|2019-03-25 21:13:03|2019-03-25 22:49:17|              1|\n",
            "|000244d2-2315-48e...|     NULL|2022-12-05 16:10:05|  6| 25|       NULL|      57|     2|      0.0|    NULL|     2|           0|          200|2022-12-05 17:38:01|       0|9522255d-6c2a-4c4...|       1|        0|        0|           0|      NULL|    0.0|         0|             0.0|              0|            0|0001-01-01 00:00:00|     0.0|            0.0| 0.0|                0|        NULL|         NULL|        NULL|           NULL|                   NULL|                 0|                 0|                     0|0001-01-01 00:00:00|          NULL|                NULL|            NULL|       0|        NULL|0001-01-01 00:00:00|     NULL|            0.0|                 0|         NULL|       NULL|           NULL|             NULL|2022-12-05 16:09:42|2022-12-05 17:38:04|              1|\n",
            "|0002f6cb-daf6-4a5...|     NULL|2018-03-20 11:44:58|  4| 26|       NULL|      56|     0|     NULL|    NULL|     2|           0|          200|2018-03-20 13:40:31|       7|44a7a337-effd-46b...|       1|        0|        0|           0|      NULL|    0.0|         0|            NULL|              0|            0|               NULL|    NULL|           NULL|NULL|                0|        NULL|         NULL|        NULL|           NULL|                   NULL|                 0|                 0|                     0|               NULL|          NULL|                NULL|            NULL|       0|        NULL|               NULL|     NULL|           NULL|                 0|         NULL|       NULL|           NULL|             NULL|2018-03-20 11:44:41|2018-03-20 13:40:34|              1|\n",
            "|00033458-8746-457...|     NULL|2019-03-16 15:53:52| 10| 30|       NULL|      54|     0|     NULL|    NULL|     2|           0|          200|2001-01-01 00:00:00|       0|6718281d-c5db-476...|       1|        0|        0|           0|      NULL|    0.0|         0|            NULL|              0|            0|               NULL|    NULL|           NULL|NULL|                0|        NULL|         NULL|        NULL|           NULL|                   NULL|                 0|                 0|                     0|               NULL|          NULL|                NULL|            NULL|       0|        NULL|               NULL|     NULL|           NULL|                 0|         NULL|       NULL|           NULL|             NULL|2019-03-16 15:53:40|2019-03-16 16:59:37|              1|\n",
            "|00036ac2-d8bc-49b...|     NULL|2019-12-11 09:20:16|  8| 36|       NULL|      71|     1|     NULL|    NULL|     2|           0|          200|2019-12-11 11:26:12|       0|1835a575-7cd7-482...|       1|        0|        0|           0|      NULL|    0.0|         0|            NULL|              0|            0|               NULL|     0.0|           NULL|NULL|                0|        NULL|         NULL|        NULL|           NULL|                   NULL|                 0|                 0|                     0|               NULL|          NULL|                NULL|            NULL|       0|        NULL|               NULL|     NULL|           NULL|                 0|         NULL|       NULL|           NULL|             NULL|2019-12-11 09:20:15|2019-12-11 11:26:14|              1|\n",
            "|000378a9-4e74-4c7...|     NULL|2023-06-28 16:00:50|  2| 24|       NULL|      62|     2|      0.0|    NULL|     2|           0|          200|2023-06-28 17:42:35|       0|27227476-75be-492...|       1|        0|        0|           0|      NULL|    0.0|         0|             0.0|              0|            0|0001-01-01 00:00:00|     0.0|            0.0| 0.0|                0|        NULL|         NULL|        NULL|           NULL|                   NULL|                 0|                 0|                     0|0001-01-01 00:00:00|          NULL|                NULL|            NULL|       0|        NULL|0001-01-01 00:00:00|     NULL|            0.0|                 0|         NULL|       NULL|           NULL|             NULL|2023-06-28 16:00:47|2023-06-28 17:42:38|              1|\n",
            "|000425cc-b476-4f8...|     NULL|2017-11-07 10:03:23|  6| 22|       NULL|      53|     0|     NULL|    NULL|     2|           0|          200|2017-11-07 11:11:03|       0|35afd9c9-1574-441...|       1|        0|        0|           0|      NULL|    0.0|         0|            NULL|              0|            0|               NULL|    NULL|           NULL|NULL|                0|        NULL|         NULL|        NULL|           NULL|                   NULL|                 0|                 0|                     0|               NULL|          NULL|                NULL|            NULL|       0|        NULL|               NULL|     NULL|           NULL|                 0|         NULL|       NULL|           NULL|             NULL|2017-11-07 10:03:07|2017-11-07 11:11:31|              1|\n",
            "|00057733-fd4e-463...|     NULL|2023-09-19 17:54:10| 17| 42|       NULL|      70|     0|      0.0|    NULL|     2|           0|          200|2023-09-19 19:22:55|       0|980f858b-2717-47d...|       1|        0|        0|           0|      NULL|    0.0|         0|             0.0|              0|            0|0001-01-01 00:00:00|     0.0|            0.0| 0.0|                0|        NULL|         NULL|        NULL|           NULL|                   NULL|                 0|                 0|                     0|0001-01-01 00:00:00|          NULL|                NULL|            NULL|       0|        NULL|0001-01-01 00:00:00|     NULL|            0.0|                 0|         NULL|       NULL|           NULL|             NULL|2023-09-19 17:53:03|2023-09-19 19:22:58|              1|\n",
            "|00062cfe-a1bd-427...|     NULL|2017-11-22 15:27:17|  7| 17|       NULL|      39|     2|     NULL|    NULL|     2|           0|          200|2017-11-22 15:54:10|       0|b466ec98-6d9c-402...|       1|        0|        0|           0|      NULL|    0.0|         0|            NULL|              0|            0|               NULL|    NULL|           NULL|NULL|                0|        NULL|         NULL|        NULL|           NULL|                   NULL|                 0|                 0|                     0|               NULL|          NULL|                NULL|            NULL|       0|        NULL|               NULL|     NULL|           NULL|                 0|         NULL|       NULL|           NULL|             NULL|2017-11-22 15:27:10|2017-11-22 15:54:14|              1|\n",
            "|000858fc-2e13-47e...|     NULL|2021-06-28 10:54:04|  8| 22|       NULL|      62|     0|      0.0|    NULL|     2|           0|          200|2021-06-28 11:49:14|       0|07714616-7e41-45a...|       1|        0|        0|           0|      NULL|    0.0|         0|             0.0|              0|            0|0001-01-01 00:00:00|     0.0|           NULL|NULL|                0|        NULL|         NULL|        NULL|           NULL|                   NULL|                 0|                 0|                     0|               NULL|          NULL|                NULL|            NULL|       0|        NULL|               NULL|     NULL|           NULL|                 0|         NULL|       NULL|           NULL|             NULL|2021-06-28 10:53:21|2021-06-28 11:49:18|              1|\n",
            "|000989d0-afea-4d2...|     NULL|2020-09-23 15:52:34|  5| 19|       NULL|      21|     0|     NULL|    NULL|     2|           0|          200|2020-09-23 17:21:13|       0|83ba0cd4-a444-437...|       1|        0|        0|           0|      NULL|    0.0|         0|             0.0|              0|            0|0001-01-01 00:00:00|     0.0|           NULL|NULL|                0|        NULL|         NULL|        NULL|           NULL|                   NULL|                 0|                 0|                     0|               NULL|          NULL|                NULL|            NULL|       0|        NULL|               NULL|     NULL|           NULL|                 0|         NULL|       NULL|           NULL|             NULL|2020-09-23 16:06:33|2020-09-23 17:21:15|              1|\n",
            "|000a7e08-db81-40b...|     NULL|2018-10-10 19:25:33|  4|  9|       NULL|       7|     0|     NULL|    NULL|     2|           0|          200|2018-10-10 21:47:48|       0|2a2beb5a-f1f6-46c...|       1|        0|        0|           0|      NULL|    0.0|         0|            NULL|              0|            0|               NULL|    NULL|           NULL|NULL|                0|        NULL|         NULL|        NULL|           NULL|                   NULL|                 0|                 0|                     0|               NULL|          NULL|                NULL|            NULL|       0|        NULL|               NULL|     NULL|           NULL|                 0|         NULL|       NULL|           NULL|             NULL|2018-10-10 19:23:20|2018-10-10 21:47:53|              1|\n",
            "|000ab780-8e38-4a3...|     NULL|2023-11-21 20:48:32|  6| 47|       NULL|      57|     0|      0.0|  λαγος |     2|           0|          200|2023-11-21 21:52:01|      15|8bfc3847-7214-4db...|       1|        0|        0|           0|      NULL|    0.0|         0|             0.0|              0|            0|0001-01-01 00:00:00|     0.0|            0.0| 0.0|                0|        NULL|         NULL|        NULL|           NULL|                   NULL|                 0|                 0|                     0|0001-01-01 00:00:00|          NULL|                NULL|            NULL|       0|        NULL|0001-01-01 00:00:00|     NULL|            0.0|                 0|         NULL|       NULL|           NULL|             NULL|2023-11-21 20:48:09|2023-11-21 21:52:03|              1|\n",
            "|000b4504-7ad8-4be...|     NULL|2019-11-15 21:36:33|  9| 32|       NULL|      29|     0|     NULL|    NULL|     2|           0|          200|2019-11-15 21:36:51|       0|bc0ce769-4e07-45b...|       1|        0|        0|           0|      NULL|    0.0|         0|            NULL|              0|            0|               NULL|     0.0|           NULL|NULL|                0|        NULL|         NULL|        NULL|           NULL|                   NULL|                 0|                 0|                     0|               NULL|          NULL|                NULL|            NULL|       0|        NULL|               NULL|     NULL|           NULL|                 0|         NULL|       NULL|           NULL|             NULL|2019-11-15 21:36:31|2019-11-15 21:36:52|              1|\n",
            "+--------------------+---------+-------------------+---+---+-----------+--------+------+---------+--------+------+------------+-------------+-------------------+--------+--------------------+--------+---------+---------+------------+----------+-------+----------+----------------+---------------+-------------+-------------------+--------+---------------+----+-----------------+------------+-------------+------------+---------------+-----------------------+------------------+------------------+----------------------+-------------------+--------------+--------------------+----------------+--------+------------+-------------------+---------+---------------+------------------+-------------+-----------+---------------+-----------------+-------------------+-------------------+---------------+\n",
            "only showing top 20 rows\n",
            "\n"
          ]
        }
      ]
    },
    {
      "cell_type": "code",
      "source": [
        "from pyspark.sql.functions import col\n",
        "\n",
        "# Select the 'duplicate_count' column and get distinct values\n",
        "unique_duplicate_counts = df_Orders_spark_with_counts.select('duplicate_count').distinct()\n",
        "\n",
        "# Show the unique values\n",
        "unique_duplicate_counts.show()"
      ],
      "metadata": {
        "colab": {
          "base_uri": "https://localhost:8080/"
        },
        "id": "YYWsyHPQX1q-",
        "outputId": "80199fa1-9125-4fd5-be9a-b25c16dfe779"
      },
      "execution_count": 27,
      "outputs": [
        {
          "output_type": "stream",
          "name": "stdout",
          "text": [
            "+---------------+\n",
            "|duplicate_count|\n",
            "+---------------+\n",
            "|              1|\n",
            "|              2|\n",
            "+---------------+\n",
            "\n"
          ]
        }
      ]
    },
    {
      "cell_type": "code",
      "source": [
        "from pyspark.sql.functions import col\n",
        "\n",
        "# Group by the 'duplicate_count' column and count each group\n",
        "count_of_each_value = df_Orders_spark_with_counts.groupBy('duplicate_count').count()\n",
        "\n",
        "# Show the count of each unique value in 'duplicate_count'\n",
        "count_of_each_value.show()"
      ],
      "metadata": {
        "colab": {
          "base_uri": "https://localhost:8080/"
        },
        "id": "dMyRGm87YyhK",
        "outputId": "ace28aee-aacf-4518-aae8-18546af77c74"
      },
      "execution_count": 28,
      "outputs": [
        {
          "output_type": "stream",
          "name": "stdout",
          "text": [
            "+---------------+------+\n",
            "|duplicate_count| count|\n",
            "+---------------+------+\n",
            "|              1|276000|\n",
            "|              2| 13322|\n",
            "+---------------+------+\n",
            "\n"
          ]
        }
      ]
    },
    {
      "cell_type": "code",
      "source": [
        "13322/2"
      ],
      "metadata": {
        "colab": {
          "base_uri": "https://localhost:8080/"
        },
        "id": "9OatJun8Y9ZQ",
        "outputId": "35bda274-77c4-4264-c1f7-6db92d27e422"
      },
      "execution_count": 29,
      "outputs": [
        {
          "output_type": "execute_result",
          "data": {
            "text/plain": [
              "6661.0"
            ]
          },
          "metadata": {},
          "execution_count": 29
        }
      ]
    },
    {
      "cell_type": "markdown",
      "source": [
        "# Counting and dropping Duplicates for the Entire Rows"
      ],
      "metadata": {
        "id": "OhFghArvgjDT"
      }
    },
    {
      "cell_type": "code",
      "source": [
        "df_Orders_01.shape"
      ],
      "metadata": {
        "colab": {
          "base_uri": "https://localhost:8080/"
        },
        "id": "GLoQg6-rY3UI",
        "outputId": "ca8bfa6b-1ff7-4954-c522-9e9293d5e65b"
      },
      "execution_count": 12,
      "outputs": [
        {
          "output_type": "execute_result",
          "data": {
            "text/plain": [
              "(289322, 55)"
            ]
          },
          "metadata": {},
          "execution_count": 12
        }
      ]
    },
    {
      "cell_type": "code",
      "source": [
        "df_Orders_02 = df_Orders_01.drop_duplicates()"
      ],
      "metadata": {
        "id": "lv3DzAyCqJIZ"
      },
      "execution_count": 10,
      "outputs": []
    },
    {
      "cell_type": "code",
      "source": [
        "df_Orders_02.shape"
      ],
      "metadata": {
        "colab": {
          "base_uri": "https://localhost:8080/"
        },
        "id": "EbeDm3doH4Aq",
        "outputId": "dc23ab1d-ba83-4ae1-8f0c-feff51d6f22b"
      },
      "execution_count": 14,
      "outputs": [
        {
          "output_type": "execute_result",
          "data": {
            "text/plain": [
              "(282661, 55)"
            ]
          },
          "metadata": {},
          "execution_count": 14
        }
      ]
    },
    {
      "cell_type": "code",
      "source": [
        "df_Orders_02"
      ],
      "metadata": {
        "colab": {
          "base_uri": "https://localhost:8080/",
          "height": 0
        },
        "id": "tvcJUPXIqjXY",
        "outputId": "48dc4c4e-4cd2-4f07-b0b7-bff97a20c21a"
      },
      "execution_count": 23,
      "outputs": [
        {
          "output_type": "execute_result",
          "data": {
            "text/plain": [
              "                                          id  parent_id                odate  \\\n",
              "0       374c214d-52f8-4bdd-8d30-d225b3127cc3        NaN  2017-03-08 17:49:25   \n",
              "1       20bb1ead-e1a4-48c9-b55f-cbe04831d82a        NaN  2017-03-08 18:07:07   \n",
              "2       ed463ddc-8f42-4866-afaf-d1b2ee69ef3c        NaN  2017-03-08 18:25:21   \n",
              "3       7bbe2506-bc5d-47cb-abc6-669bb023ae7e        NaN  2017-03-08 18:40:37   \n",
              "4       4b79b04d-5f3a-422b-9f83-155572a2c816        NaN  2017-03-08 19:11:46   \n",
              "...                                      ...        ...                  ...   \n",
              "282656  0a2e9b39-9c99-48b6-b896-8e56bc7d36c4        NaN  2024-01-10 14:18:46   \n",
              "282657  36f63a49-664b-4dce-8be1-e4a50b961bb3        NaN  2024-01-10 14:26:29   \n",
              "282658  24912113-3ca7-40ed-9a7c-e0a0b2bcfc24        NaN  2024-01-10 14:43:09   \n",
              "282659  87c488dc-7c48-4ecf-9886-c174f8875bf9        NaN  2024-01-10 15:02:10   \n",
              "282660  3d4a6b69-ae50-4c38-86b5-79c0f0e49568        NaN  2024-01-10 15:07:44   \n",
              "\n",
              "        pos  uid  customer_id  table_id  guests  residents  comments  ...  \\\n",
              "0         6   12          NaN        21       2        NaN      None  ...   \n",
              "1         6   12          NaN        23       2        NaN      None  ...   \n",
              "2         6   12          NaN        26       6        NaN     περιε  ...   \n",
              "3         4   11          NaN         0       0        NaN      None  ...   \n",
              "4         3   10          NaN        50       8        NaN      None  ...   \n",
              "...     ...  ...          ...       ...     ...        ...       ...  ...   \n",
              "282656    5   51          NaN        18       1        0.0     Χαρης  ...   \n",
              "282657    2   17          NaN        46       0        0.0  ΜΠΑΜΠΗΣ   ...   \n",
              "282658    2   17          NaN        39       0        0.0      None  ...   \n",
              "282659    2   17          NaN        40       2        0.0      None  ...   \n",
              "282660   15   50          NaN        26       0        0.0      None  ...   \n",
              "\n",
              "              delivery_date  timeframe  subscription_id friends_and_family  \\\n",
              "0                      None        NaN              NaN                  0   \n",
              "1                      None        NaN              NaN                  0   \n",
              "2                      None        NaN              NaN                  0   \n",
              "3                      None        NaN              NaN                  0   \n",
              "4                      None        NaN              NaN                  0   \n",
              "...                     ...        ...              ...                ...   \n",
              "282656  0001-01-01 00:00:00        NaN              0.0                  0   \n",
              "282657  0001-01-01 00:00:00        NaN              0.0                  0   \n",
              "282658  0001-01-01 00:00:00        NaN              0.0                  0   \n",
              "282659  2001-01-01 00:00:00        NaN              0.0                  0   \n",
              "282660  0001-01-01 00:00:00        NaN              0.0                  0   \n",
              "\n",
              "        expo_informed expo_closed  sent_to_softone  card_last4_digits  \\\n",
              "0                 NaN         NaN              NaN                NaN   \n",
              "1                 NaN         NaN              NaN                NaN   \n",
              "2                 NaN         NaN              NaN                NaN   \n",
              "3                 NaN         NaN              NaN                NaN   \n",
              "4                 NaN         NaN              NaN                NaN   \n",
              "...               ...         ...              ...                ...   \n",
              "282656            NaN         NaN              NaN                NaN   \n",
              "282657            NaN         NaN              NaN                NaN   \n",
              "282658            NaN         NaN              NaN                NaN   \n",
              "282659            NaN         NaN              NaN                NaN   \n",
              "282660            NaN         NaN              NaN                NaN   \n",
              "\n",
              "                created_at          updated_at  \n",
              "0      2017-03-08 17:49:37 2017-03-08 20:03:25  \n",
              "1      2017-03-08 18:07:20 2017-03-09 00:54:56  \n",
              "2      2017-03-08 18:25:32 2017-03-08 21:09:54  \n",
              "3      2017-03-08 18:40:59 2017-03-08 19:23:24  \n",
              "4      2017-03-08 19:11:56 2017-03-08 22:39:41  \n",
              "...                    ...                 ...  \n",
              "282656 2024-01-10 14:18:16 2024-01-10 15:05:03  \n",
              "282657 2024-01-10 14:26:16 2024-01-10 15:15:21  \n",
              "282658 2024-01-10 14:43:06 2024-01-10 14:43:11  \n",
              "282659 2024-01-10 15:01:37 2024-01-10 15:15:25  \n",
              "282660 2024-01-10 15:07:21 2024-01-10 15:08:56  \n",
              "\n",
              "[282661 rows x 55 columns]"
            ],
            "text/html": [
              "\n",
              "  <div id=\"df-dc4a91ca-f380-4d3a-bc69-a5dc32f35928\" class=\"colab-df-container\">\n",
              "    <div>\n",
              "<style scoped>\n",
              "    .dataframe tbody tr th:only-of-type {\n",
              "        vertical-align: middle;\n",
              "    }\n",
              "\n",
              "    .dataframe tbody tr th {\n",
              "        vertical-align: top;\n",
              "    }\n",
              "\n",
              "    .dataframe thead th {\n",
              "        text-align: right;\n",
              "    }\n",
              "</style>\n",
              "<table border=\"1\" class=\"dataframe\">\n",
              "  <thead>\n",
              "    <tr style=\"text-align: right;\">\n",
              "      <th></th>\n",
              "      <th>id</th>\n",
              "      <th>parent_id</th>\n",
              "      <th>odate</th>\n",
              "      <th>pos</th>\n",
              "      <th>uid</th>\n",
              "      <th>customer_id</th>\n",
              "      <th>table_id</th>\n",
              "      <th>guests</th>\n",
              "      <th>residents</th>\n",
              "      <th>comments</th>\n",
              "      <th>...</th>\n",
              "      <th>delivery_date</th>\n",
              "      <th>timeframe</th>\n",
              "      <th>subscription_id</th>\n",
              "      <th>friends_and_family</th>\n",
              "      <th>expo_informed</th>\n",
              "      <th>expo_closed</th>\n",
              "      <th>sent_to_softone</th>\n",
              "      <th>card_last4_digits</th>\n",
              "      <th>created_at</th>\n",
              "      <th>updated_at</th>\n",
              "    </tr>\n",
              "  </thead>\n",
              "  <tbody>\n",
              "    <tr>\n",
              "      <th>0</th>\n",
              "      <td>374c214d-52f8-4bdd-8d30-d225b3127cc3</td>\n",
              "      <td>NaN</td>\n",
              "      <td>2017-03-08 17:49:25</td>\n",
              "      <td>6</td>\n",
              "      <td>12</td>\n",
              "      <td>NaN</td>\n",
              "      <td>21</td>\n",
              "      <td>2</td>\n",
              "      <td>NaN</td>\n",
              "      <td>None</td>\n",
              "      <td>...</td>\n",
              "      <td>None</td>\n",
              "      <td>NaN</td>\n",
              "      <td>NaN</td>\n",
              "      <td>0</td>\n",
              "      <td>NaN</td>\n",
              "      <td>NaN</td>\n",
              "      <td>NaN</td>\n",
              "      <td>NaN</td>\n",
              "      <td>2017-03-08 17:49:37</td>\n",
              "      <td>2017-03-08 20:03:25</td>\n",
              "    </tr>\n",
              "    <tr>\n",
              "      <th>1</th>\n",
              "      <td>20bb1ead-e1a4-48c9-b55f-cbe04831d82a</td>\n",
              "      <td>NaN</td>\n",
              "      <td>2017-03-08 18:07:07</td>\n",
              "      <td>6</td>\n",
              "      <td>12</td>\n",
              "      <td>NaN</td>\n",
              "      <td>23</td>\n",
              "      <td>2</td>\n",
              "      <td>NaN</td>\n",
              "      <td>None</td>\n",
              "      <td>...</td>\n",
              "      <td>None</td>\n",
              "      <td>NaN</td>\n",
              "      <td>NaN</td>\n",
              "      <td>0</td>\n",
              "      <td>NaN</td>\n",
              "      <td>NaN</td>\n",
              "      <td>NaN</td>\n",
              "      <td>NaN</td>\n",
              "      <td>2017-03-08 18:07:20</td>\n",
              "      <td>2017-03-09 00:54:56</td>\n",
              "    </tr>\n",
              "    <tr>\n",
              "      <th>2</th>\n",
              "      <td>ed463ddc-8f42-4866-afaf-d1b2ee69ef3c</td>\n",
              "      <td>NaN</td>\n",
              "      <td>2017-03-08 18:25:21</td>\n",
              "      <td>6</td>\n",
              "      <td>12</td>\n",
              "      <td>NaN</td>\n",
              "      <td>26</td>\n",
              "      <td>6</td>\n",
              "      <td>NaN</td>\n",
              "      <td>περιε</td>\n",
              "      <td>...</td>\n",
              "      <td>None</td>\n",
              "      <td>NaN</td>\n",
              "      <td>NaN</td>\n",
              "      <td>0</td>\n",
              "      <td>NaN</td>\n",
              "      <td>NaN</td>\n",
              "      <td>NaN</td>\n",
              "      <td>NaN</td>\n",
              "      <td>2017-03-08 18:25:32</td>\n",
              "      <td>2017-03-08 21:09:54</td>\n",
              "    </tr>\n",
              "    <tr>\n",
              "      <th>3</th>\n",
              "      <td>7bbe2506-bc5d-47cb-abc6-669bb023ae7e</td>\n",
              "      <td>NaN</td>\n",
              "      <td>2017-03-08 18:40:37</td>\n",
              "      <td>4</td>\n",
              "      <td>11</td>\n",
              "      <td>NaN</td>\n",
              "      <td>0</td>\n",
              "      <td>0</td>\n",
              "      <td>NaN</td>\n",
              "      <td>None</td>\n",
              "      <td>...</td>\n",
              "      <td>None</td>\n",
              "      <td>NaN</td>\n",
              "      <td>NaN</td>\n",
              "      <td>0</td>\n",
              "      <td>NaN</td>\n",
              "      <td>NaN</td>\n",
              "      <td>NaN</td>\n",
              "      <td>NaN</td>\n",
              "      <td>2017-03-08 18:40:59</td>\n",
              "      <td>2017-03-08 19:23:24</td>\n",
              "    </tr>\n",
              "    <tr>\n",
              "      <th>4</th>\n",
              "      <td>4b79b04d-5f3a-422b-9f83-155572a2c816</td>\n",
              "      <td>NaN</td>\n",
              "      <td>2017-03-08 19:11:46</td>\n",
              "      <td>3</td>\n",
              "      <td>10</td>\n",
              "      <td>NaN</td>\n",
              "      <td>50</td>\n",
              "      <td>8</td>\n",
              "      <td>NaN</td>\n",
              "      <td>None</td>\n",
              "      <td>...</td>\n",
              "      <td>None</td>\n",
              "      <td>NaN</td>\n",
              "      <td>NaN</td>\n",
              "      <td>0</td>\n",
              "      <td>NaN</td>\n",
              "      <td>NaN</td>\n",
              "      <td>NaN</td>\n",
              "      <td>NaN</td>\n",
              "      <td>2017-03-08 19:11:56</td>\n",
              "      <td>2017-03-08 22:39:41</td>\n",
              "    </tr>\n",
              "    <tr>\n",
              "      <th>...</th>\n",
              "      <td>...</td>\n",
              "      <td>...</td>\n",
              "      <td>...</td>\n",
              "      <td>...</td>\n",
              "      <td>...</td>\n",
              "      <td>...</td>\n",
              "      <td>...</td>\n",
              "      <td>...</td>\n",
              "      <td>...</td>\n",
              "      <td>...</td>\n",
              "      <td>...</td>\n",
              "      <td>...</td>\n",
              "      <td>...</td>\n",
              "      <td>...</td>\n",
              "      <td>...</td>\n",
              "      <td>...</td>\n",
              "      <td>...</td>\n",
              "      <td>...</td>\n",
              "      <td>...</td>\n",
              "      <td>...</td>\n",
              "      <td>...</td>\n",
              "    </tr>\n",
              "    <tr>\n",
              "      <th>282656</th>\n",
              "      <td>0a2e9b39-9c99-48b6-b896-8e56bc7d36c4</td>\n",
              "      <td>NaN</td>\n",
              "      <td>2024-01-10 14:18:46</td>\n",
              "      <td>5</td>\n",
              "      <td>51</td>\n",
              "      <td>NaN</td>\n",
              "      <td>18</td>\n",
              "      <td>1</td>\n",
              "      <td>0.0</td>\n",
              "      <td>Χαρης</td>\n",
              "      <td>...</td>\n",
              "      <td>0001-01-01 00:00:00</td>\n",
              "      <td>NaN</td>\n",
              "      <td>0.0</td>\n",
              "      <td>0</td>\n",
              "      <td>NaN</td>\n",
              "      <td>NaN</td>\n",
              "      <td>NaN</td>\n",
              "      <td>NaN</td>\n",
              "      <td>2024-01-10 14:18:16</td>\n",
              "      <td>2024-01-10 15:05:03</td>\n",
              "    </tr>\n",
              "    <tr>\n",
              "      <th>282657</th>\n",
              "      <td>36f63a49-664b-4dce-8be1-e4a50b961bb3</td>\n",
              "      <td>NaN</td>\n",
              "      <td>2024-01-10 14:26:29</td>\n",
              "      <td>2</td>\n",
              "      <td>17</td>\n",
              "      <td>NaN</td>\n",
              "      <td>46</td>\n",
              "      <td>0</td>\n",
              "      <td>0.0</td>\n",
              "      <td>ΜΠΑΜΠΗΣ</td>\n",
              "      <td>...</td>\n",
              "      <td>0001-01-01 00:00:00</td>\n",
              "      <td>NaN</td>\n",
              "      <td>0.0</td>\n",
              "      <td>0</td>\n",
              "      <td>NaN</td>\n",
              "      <td>NaN</td>\n",
              "      <td>NaN</td>\n",
              "      <td>NaN</td>\n",
              "      <td>2024-01-10 14:26:16</td>\n",
              "      <td>2024-01-10 15:15:21</td>\n",
              "    </tr>\n",
              "    <tr>\n",
              "      <th>282658</th>\n",
              "      <td>24912113-3ca7-40ed-9a7c-e0a0b2bcfc24</td>\n",
              "      <td>NaN</td>\n",
              "      <td>2024-01-10 14:43:09</td>\n",
              "      <td>2</td>\n",
              "      <td>17</td>\n",
              "      <td>NaN</td>\n",
              "      <td>39</td>\n",
              "      <td>0</td>\n",
              "      <td>0.0</td>\n",
              "      <td>None</td>\n",
              "      <td>...</td>\n",
              "      <td>0001-01-01 00:00:00</td>\n",
              "      <td>NaN</td>\n",
              "      <td>0.0</td>\n",
              "      <td>0</td>\n",
              "      <td>NaN</td>\n",
              "      <td>NaN</td>\n",
              "      <td>NaN</td>\n",
              "      <td>NaN</td>\n",
              "      <td>2024-01-10 14:43:06</td>\n",
              "      <td>2024-01-10 14:43:11</td>\n",
              "    </tr>\n",
              "    <tr>\n",
              "      <th>282659</th>\n",
              "      <td>87c488dc-7c48-4ecf-9886-c174f8875bf9</td>\n",
              "      <td>NaN</td>\n",
              "      <td>2024-01-10 15:02:10</td>\n",
              "      <td>2</td>\n",
              "      <td>17</td>\n",
              "      <td>NaN</td>\n",
              "      <td>40</td>\n",
              "      <td>2</td>\n",
              "      <td>0.0</td>\n",
              "      <td>None</td>\n",
              "      <td>...</td>\n",
              "      <td>2001-01-01 00:00:00</td>\n",
              "      <td>NaN</td>\n",
              "      <td>0.0</td>\n",
              "      <td>0</td>\n",
              "      <td>NaN</td>\n",
              "      <td>NaN</td>\n",
              "      <td>NaN</td>\n",
              "      <td>NaN</td>\n",
              "      <td>2024-01-10 15:01:37</td>\n",
              "      <td>2024-01-10 15:15:25</td>\n",
              "    </tr>\n",
              "    <tr>\n",
              "      <th>282660</th>\n",
              "      <td>3d4a6b69-ae50-4c38-86b5-79c0f0e49568</td>\n",
              "      <td>NaN</td>\n",
              "      <td>2024-01-10 15:07:44</td>\n",
              "      <td>15</td>\n",
              "      <td>50</td>\n",
              "      <td>NaN</td>\n",
              "      <td>26</td>\n",
              "      <td>0</td>\n",
              "      <td>0.0</td>\n",
              "      <td>None</td>\n",
              "      <td>...</td>\n",
              "      <td>0001-01-01 00:00:00</td>\n",
              "      <td>NaN</td>\n",
              "      <td>0.0</td>\n",
              "      <td>0</td>\n",
              "      <td>NaN</td>\n",
              "      <td>NaN</td>\n",
              "      <td>NaN</td>\n",
              "      <td>NaN</td>\n",
              "      <td>2024-01-10 15:07:21</td>\n",
              "      <td>2024-01-10 15:08:56</td>\n",
              "    </tr>\n",
              "  </tbody>\n",
              "</table>\n",
              "<p>282661 rows × 55 columns</p>\n",
              "</div>\n",
              "    <div class=\"colab-df-buttons\">\n",
              "\n",
              "  <div class=\"colab-df-container\">\n",
              "    <button class=\"colab-df-convert\" onclick=\"convertToInteractive('df-dc4a91ca-f380-4d3a-bc69-a5dc32f35928')\"\n",
              "            title=\"Convert this dataframe to an interactive table.\"\n",
              "            style=\"display:none;\">\n",
              "\n",
              "  <svg xmlns=\"http://www.w3.org/2000/svg\" height=\"24px\" viewBox=\"0 -960 960 960\">\n",
              "    <path d=\"M120-120v-720h720v720H120Zm60-500h600v-160H180v160Zm220 220h160v-160H400v160Zm0 220h160v-160H400v160ZM180-400h160v-160H180v160Zm440 0h160v-160H620v160ZM180-180h160v-160H180v160Zm440 0h160v-160H620v160Z\"/>\n",
              "  </svg>\n",
              "    </button>\n",
              "\n",
              "  <style>\n",
              "    .colab-df-container {\n",
              "      display:flex;\n",
              "      gap: 12px;\n",
              "    }\n",
              "\n",
              "    .colab-df-convert {\n",
              "      background-color: #E8F0FE;\n",
              "      border: none;\n",
              "      border-radius: 50%;\n",
              "      cursor: pointer;\n",
              "      display: none;\n",
              "      fill: #1967D2;\n",
              "      height: 32px;\n",
              "      padding: 0 0 0 0;\n",
              "      width: 32px;\n",
              "    }\n",
              "\n",
              "    .colab-df-convert:hover {\n",
              "      background-color: #E2EBFA;\n",
              "      box-shadow: 0px 1px 2px rgba(60, 64, 67, 0.3), 0px 1px 3px 1px rgba(60, 64, 67, 0.15);\n",
              "      fill: #174EA6;\n",
              "    }\n",
              "\n",
              "    .colab-df-buttons div {\n",
              "      margin-bottom: 4px;\n",
              "    }\n",
              "\n",
              "    [theme=dark] .colab-df-convert {\n",
              "      background-color: #3B4455;\n",
              "      fill: #D2E3FC;\n",
              "    }\n",
              "\n",
              "    [theme=dark] .colab-df-convert:hover {\n",
              "      background-color: #434B5C;\n",
              "      box-shadow: 0px 1px 3px 1px rgba(0, 0, 0, 0.15);\n",
              "      filter: drop-shadow(0px 1px 2px rgba(0, 0, 0, 0.3));\n",
              "      fill: #FFFFFF;\n",
              "    }\n",
              "  </style>\n",
              "\n",
              "    <script>\n",
              "      const buttonEl =\n",
              "        document.querySelector('#df-dc4a91ca-f380-4d3a-bc69-a5dc32f35928 button.colab-df-convert');\n",
              "      buttonEl.style.display =\n",
              "        google.colab.kernel.accessAllowed ? 'block' : 'none';\n",
              "\n",
              "      async function convertToInteractive(key) {\n",
              "        const element = document.querySelector('#df-dc4a91ca-f380-4d3a-bc69-a5dc32f35928');\n",
              "        const dataTable =\n",
              "          await google.colab.kernel.invokeFunction('convertToInteractive',\n",
              "                                                    [key], {});\n",
              "        if (!dataTable) return;\n",
              "\n",
              "        const docLinkHtml = 'Like what you see? Visit the ' +\n",
              "          '<a target=\"_blank\" href=https://colab.research.google.com/notebooks/data_table.ipynb>data table notebook</a>'\n",
              "          + ' to learn more about interactive tables.';\n",
              "        element.innerHTML = '';\n",
              "        dataTable['output_type'] = 'display_data';\n",
              "        await google.colab.output.renderOutput(dataTable, element);\n",
              "        const docLink = document.createElement('div');\n",
              "        docLink.innerHTML = docLinkHtml;\n",
              "        element.appendChild(docLink);\n",
              "      }\n",
              "    </script>\n",
              "  </div>\n",
              "\n",
              "\n",
              "<div id=\"df-b513e93e-f617-4107-a1fb-4880e92348f8\">\n",
              "  <button class=\"colab-df-quickchart\" onclick=\"quickchart('df-b513e93e-f617-4107-a1fb-4880e92348f8')\"\n",
              "            title=\"Suggest charts\"\n",
              "            style=\"display:none;\">\n",
              "\n",
              "<svg xmlns=\"http://www.w3.org/2000/svg\" height=\"24px\"viewBox=\"0 0 24 24\"\n",
              "     width=\"24px\">\n",
              "    <g>\n",
              "        <path d=\"M19 3H5c-1.1 0-2 .9-2 2v14c0 1.1.9 2 2 2h14c1.1 0 2-.9 2-2V5c0-1.1-.9-2-2-2zM9 17H7v-7h2v7zm4 0h-2V7h2v10zm4 0h-2v-4h2v4z\"/>\n",
              "    </g>\n",
              "</svg>\n",
              "  </button>\n",
              "\n",
              "<style>\n",
              "  .colab-df-quickchart {\n",
              "      --bg-color: #E8F0FE;\n",
              "      --fill-color: #1967D2;\n",
              "      --hover-bg-color: #E2EBFA;\n",
              "      --hover-fill-color: #174EA6;\n",
              "      --disabled-fill-color: #AAA;\n",
              "      --disabled-bg-color: #DDD;\n",
              "  }\n",
              "\n",
              "  [theme=dark] .colab-df-quickchart {\n",
              "      --bg-color: #3B4455;\n",
              "      --fill-color: #D2E3FC;\n",
              "      --hover-bg-color: #434B5C;\n",
              "      --hover-fill-color: #FFFFFF;\n",
              "      --disabled-bg-color: #3B4455;\n",
              "      --disabled-fill-color: #666;\n",
              "  }\n",
              "\n",
              "  .colab-df-quickchart {\n",
              "    background-color: var(--bg-color);\n",
              "    border: none;\n",
              "    border-radius: 50%;\n",
              "    cursor: pointer;\n",
              "    display: none;\n",
              "    fill: var(--fill-color);\n",
              "    height: 32px;\n",
              "    padding: 0;\n",
              "    width: 32px;\n",
              "  }\n",
              "\n",
              "  .colab-df-quickchart:hover {\n",
              "    background-color: var(--hover-bg-color);\n",
              "    box-shadow: 0 1px 2px rgba(60, 64, 67, 0.3), 0 1px 3px 1px rgba(60, 64, 67, 0.15);\n",
              "    fill: var(--button-hover-fill-color);\n",
              "  }\n",
              "\n",
              "  .colab-df-quickchart-complete:disabled,\n",
              "  .colab-df-quickchart-complete:disabled:hover {\n",
              "    background-color: var(--disabled-bg-color);\n",
              "    fill: var(--disabled-fill-color);\n",
              "    box-shadow: none;\n",
              "  }\n",
              "\n",
              "  .colab-df-spinner {\n",
              "    border: 2px solid var(--fill-color);\n",
              "    border-color: transparent;\n",
              "    border-bottom-color: var(--fill-color);\n",
              "    animation:\n",
              "      spin 1s steps(1) infinite;\n",
              "  }\n",
              "\n",
              "  @keyframes spin {\n",
              "    0% {\n",
              "      border-color: transparent;\n",
              "      border-bottom-color: var(--fill-color);\n",
              "      border-left-color: var(--fill-color);\n",
              "    }\n",
              "    20% {\n",
              "      border-color: transparent;\n",
              "      border-left-color: var(--fill-color);\n",
              "      border-top-color: var(--fill-color);\n",
              "    }\n",
              "    30% {\n",
              "      border-color: transparent;\n",
              "      border-left-color: var(--fill-color);\n",
              "      border-top-color: var(--fill-color);\n",
              "      border-right-color: var(--fill-color);\n",
              "    }\n",
              "    40% {\n",
              "      border-color: transparent;\n",
              "      border-right-color: var(--fill-color);\n",
              "      border-top-color: var(--fill-color);\n",
              "    }\n",
              "    60% {\n",
              "      border-color: transparent;\n",
              "      border-right-color: var(--fill-color);\n",
              "    }\n",
              "    80% {\n",
              "      border-color: transparent;\n",
              "      border-right-color: var(--fill-color);\n",
              "      border-bottom-color: var(--fill-color);\n",
              "    }\n",
              "    90% {\n",
              "      border-color: transparent;\n",
              "      border-bottom-color: var(--fill-color);\n",
              "    }\n",
              "  }\n",
              "</style>\n",
              "\n",
              "  <script>\n",
              "    async function quickchart(key) {\n",
              "      const quickchartButtonEl =\n",
              "        document.querySelector('#' + key + ' button');\n",
              "      quickchartButtonEl.disabled = true;  // To prevent multiple clicks.\n",
              "      quickchartButtonEl.classList.add('colab-df-spinner');\n",
              "      try {\n",
              "        const charts = await google.colab.kernel.invokeFunction(\n",
              "            'suggestCharts', [key], {});\n",
              "      } catch (error) {\n",
              "        console.error('Error during call to suggestCharts:', error);\n",
              "      }\n",
              "      quickchartButtonEl.classList.remove('colab-df-spinner');\n",
              "      quickchartButtonEl.classList.add('colab-df-quickchart-complete');\n",
              "    }\n",
              "    (() => {\n",
              "      let quickchartButtonEl =\n",
              "        document.querySelector('#df-b513e93e-f617-4107-a1fb-4880e92348f8 button');\n",
              "      quickchartButtonEl.style.display =\n",
              "        google.colab.kernel.accessAllowed ? 'block' : 'none';\n",
              "    })();\n",
              "  </script>\n",
              "</div>\n",
              "    </div>\n",
              "  </div>\n"
            ]
          },
          "metadata": {},
          "execution_count": 23
        }
      ]
    },
    {
      "cell_type": "code",
      "source": [
        "df_Orders_02.columns"
      ],
      "metadata": {
        "colab": {
          "base_uri": "https://localhost:8080/"
        },
        "id": "kIVRqeS7LYh6",
        "outputId": "17b23b74-e8e7-4703-da72-089df37716a4"
      },
      "execution_count": 24,
      "outputs": [
        {
          "output_type": "execute_result",
          "data": {
            "text/plain": [
              "Index(['id', 'parent_id', 'odate', 'pos', 'uid', 'customer_id', 'table_id',\n",
              "       'guests', 'residents', 'comments', 'status', 'cloud_status',\n",
              "       'order_type_id', 'paid_date', 'color_id', 'shift_id', 'venue_id',\n",
              "       'check_uid', 'order_tag', 'pricelist_id', 'address_id', 'room_id',\n",
              "       'is_invoice', 'spotfolio_status', 'delivery_method', 'delivery_time',\n",
              "       'assigned_date', 'order_no', 'min_order_value', 'tips',\n",
              "       'tips_payment_type', 'round_amount', 'extra_charges', 'food_channel',\n",
              "       'food_channel_id', 'food_channel_display_id', 'through_deliverect',\n",
              "       'through_urbanpiper', 'food_channel_with_cash', 'fd_pickup_at',\n",
              "       'fd_prepared_at', 'fd_ready_dispatch_at', 'fd_dispatched_at',\n",
              "       'brand_id', 'cooking_date', 'delivery_date', 'timeframe',\n",
              "       'subscription_id', 'friends_and_family', 'expo_informed', 'expo_closed',\n",
              "       'sent_to_softone', 'card_last4_digits', 'created_at', 'updated_at'],\n",
              "      dtype='object')"
            ]
          },
          "metadata": {},
          "execution_count": 24
        }
      ]
    },
    {
      "cell_type": "code",
      "source": [
        "df_Orders_02.isnull().sum()"
      ],
      "metadata": {
        "colab": {
          "base_uri": "https://localhost:8080/"
        },
        "id": "YFU2-T1rfxzk",
        "outputId": "ddc0cec5-7955-419a-e6db-d5fb6aa125ac"
      },
      "execution_count": 25,
      "outputs": [
        {
          "output_type": "execute_result",
          "data": {
            "text/plain": [
              "id                              0\n",
              "parent_id                  282661\n",
              "odate                           0\n",
              "pos                             0\n",
              "uid                             0\n",
              "customer_id                282661\n",
              "table_id                        0\n",
              "guests                          0\n",
              "residents                  157097\n",
              "comments                   266053\n",
              "status                          0\n",
              "cloud_status                    0\n",
              "order_type_id                   0\n",
              "paid_date                       0\n",
              "color_id                        0\n",
              "shift_id                        0\n",
              "venue_id                        0\n",
              "check_uid                       0\n",
              "order_tag                       0\n",
              "pricelist_id                    0\n",
              "address_id                 282661\n",
              "room_id                     19553\n",
              "is_invoice                      0\n",
              "spotfolio_status           148204\n",
              "delivery_method                 0\n",
              "delivery_time                   0\n",
              "assigned_date              148204\n",
              "order_no                   113152\n",
              "min_order_value            165458\n",
              "tips                       165458\n",
              "tips_payment_type               0\n",
              "round_amount               276292\n",
              "extra_charges              282661\n",
              "food_channel               282661\n",
              "food_channel_id            282661\n",
              "food_channel_display_id    282661\n",
              "through_deliverect              0\n",
              "through_urbanpiper              0\n",
              "food_channel_with_cash          0\n",
              "fd_pickup_at               222727\n",
              "fd_prepared_at             282661\n",
              "fd_ready_dispatch_at       282661\n",
              "fd_dispatched_at           282661\n",
              "brand_id                        0\n",
              "cooking_date               282661\n",
              "delivery_date              201923\n",
              "timeframe                  282661\n",
              "subscription_id            201923\n",
              "friends_and_family              0\n",
              "expo_informed              282661\n",
              "expo_closed                282661\n",
              "sent_to_softone            282661\n",
              "card_last4_digits          282661\n",
              "created_at                      0\n",
              "updated_at                      0\n",
              "dtype: int64"
            ]
          },
          "metadata": {},
          "execution_count": 25
        }
      ]
    },
    {
      "cell_type": "code",
      "source": [
        "# Check the memory usage before optimization\n",
        "df_Orders_02.info(memory_usage='deep')"
      ],
      "metadata": {
        "colab": {
          "base_uri": "https://localhost:8080/"
        },
        "id": "BZcxVwYfbQZ1",
        "outputId": "9bf1dc3c-68d7-4d8e-bc47-762cb4da03db"
      },
      "execution_count": 11,
      "outputs": [
        {
          "output_type": "stream",
          "name": "stdout",
          "text": [
            "<class 'pandas.core.frame.DataFrame'>\n",
            "Int64Index: 282661 entries, 0 to 282660\n",
            "Data columns (total 55 columns):\n",
            " #   Column                   Non-Null Count   Dtype         \n",
            "---  ------                   --------------   -----         \n",
            " 0   id                       282661 non-null  object        \n",
            " 1   parent_id                0 non-null       float64       \n",
            " 2   odate                    282661 non-null  object        \n",
            " 3   pos                      282661 non-null  int64         \n",
            " 4   uid                      282661 non-null  int64         \n",
            " 5   customer_id              0 non-null       float64       \n",
            " 6   table_id                 282661 non-null  int64         \n",
            " 7   guests                   282661 non-null  int64         \n",
            " 8   residents                125564 non-null  float64       \n",
            " 9   comments                 16608 non-null   object        \n",
            " 10  status                   282661 non-null  int64         \n",
            " 11  cloud_status             282661 non-null  int64         \n",
            " 12  order_type_id            282661 non-null  int64         \n",
            " 13  paid_date                282661 non-null  object        \n",
            " 14  color_id                 282661 non-null  int64         \n",
            " 15  shift_id                 282661 non-null  object        \n",
            " 16  venue_id                 282661 non-null  int64         \n",
            " 17  check_uid                282661 non-null  int64         \n",
            " 18  order_tag                282661 non-null  int64         \n",
            " 19  pricelist_id             282661 non-null  int64         \n",
            " 20  address_id               0 non-null       float64       \n",
            " 21  room_id                  263108 non-null  float64       \n",
            " 22  is_invoice               282661 non-null  int64         \n",
            " 23  spotfolio_status         134457 non-null  float64       \n",
            " 24  delivery_method          282661 non-null  int64         \n",
            " 25  delivery_time            282661 non-null  int64         \n",
            " 26  assigned_date            134457 non-null  object        \n",
            " 27  order_no                 169509 non-null  float64       \n",
            " 28  min_order_value          117203 non-null  float64       \n",
            " 29  tips                     117203 non-null  float64       \n",
            " 30  tips_payment_type        282661 non-null  int64         \n",
            " 31  round_amount             6369 non-null    float64       \n",
            " 32  extra_charges            0 non-null       float64       \n",
            " 33  food_channel             0 non-null       float64       \n",
            " 34  food_channel_id          0 non-null       float64       \n",
            " 35  food_channel_display_id  0 non-null       float64       \n",
            " 36  through_deliverect       282661 non-null  int64         \n",
            " 37  through_urbanpiper       282661 non-null  int64         \n",
            " 38  food_channel_with_cash   282661 non-null  int64         \n",
            " 39  fd_pickup_at             59934 non-null   object        \n",
            " 40  fd_prepared_at           0 non-null       datetime64[ns]\n",
            " 41  fd_ready_dispatch_at     0 non-null       datetime64[ns]\n",
            " 42  fd_dispatched_at         0 non-null       datetime64[ns]\n",
            " 43  brand_id                 282661 non-null  int64         \n",
            " 44  cooking_date             0 non-null       float64       \n",
            " 45  delivery_date            80738 non-null   object        \n",
            " 46  timeframe                0 non-null       float64       \n",
            " 47  subscription_id          80738 non-null   float64       \n",
            " 48  friends_and_family       282661 non-null  int64         \n",
            " 49  expo_informed            0 non-null       float64       \n",
            " 50  expo_closed              0 non-null       float64       \n",
            " 51  sent_to_softone          0 non-null       float64       \n",
            " 52  card_last4_digits        0 non-null       float64       \n",
            " 53  created_at               282661 non-null  datetime64[ns]\n",
            " 54  updated_at               282661 non-null  datetime64[ns]\n",
            "dtypes: datetime64[ns](5), float64(21), int64(21), object(8)\n",
            "memory usage: 235.2 MB\n"
          ]
        }
      ]
    },
    {
      "cell_type": "markdown",
      "source": [
        "# Selecting Columns for 'Orders'"
      ],
      "metadata": {
        "id": "PJGgrwGqKJx1"
      }
    },
    {
      "cell_type": "code",
      "source": [
        "orders_columns = [\n",
        "    'id', 'odate', 'pos', 'uid','status',\n",
        "    'paid_date', 'created_at', 'updated_at']\n",
        "\n",
        "df_orders_selected = df_Orders_02[orders_columns]\n",
        "\n",
        "df_orders_selected.shape"
      ],
      "metadata": {
        "colab": {
          "base_uri": "https://localhost:8080/"
        },
        "id": "J6yXZEU4KGom",
        "outputId": "3ab79621-2da9-4895-cf9c-c7446708948c"
      },
      "execution_count": 12,
      "outputs": [
        {
          "output_type": "execute_result",
          "data": {
            "text/plain": [
              "(282661, 8)"
            ]
          },
          "metadata": {},
          "execution_count": 12
        }
      ]
    },
    {
      "cell_type": "code",
      "source": [
        "df_orders_selected.columns"
      ],
      "metadata": {
        "colab": {
          "base_uri": "https://localhost:8080/"
        },
        "id": "Wngm3YdTK11O",
        "outputId": "339bc441-1ce4-4161-ff57-eb52e9fa8d1d"
      },
      "execution_count": 40,
      "outputs": [
        {
          "output_type": "execute_result",
          "data": {
            "text/plain": [
              "Index(['id', 'odate', 'pos', 'uid', 'status', 'paid_date', 'created_at',\n",
              "       'updated_at'],\n",
              "      dtype='object')"
            ]
          },
          "metadata": {},
          "execution_count": 40
        }
      ]
    },
    {
      "cell_type": "code",
      "source": [
        "df_orders_selected.head()"
      ],
      "metadata": {
        "colab": {
          "base_uri": "https://localhost:8080/",
          "height": 0
        },
        "id": "JuextbhIZTOZ",
        "outputId": "070a0cd8-369f-4721-9574-324c62077d41"
      },
      "execution_count": 41,
      "outputs": [
        {
          "output_type": "execute_result",
          "data": {
            "text/plain": [
              "                                     id                odate  pos  uid  \\\n",
              "0  374c214d-52f8-4bdd-8d30-d225b3127cc3  2017-03-08 17:49:25    6   12   \n",
              "1  20bb1ead-e1a4-48c9-b55f-cbe04831d82a  2017-03-08 18:07:07    6   12   \n",
              "2  ed463ddc-8f42-4866-afaf-d1b2ee69ef3c  2017-03-08 18:25:21    6   12   \n",
              "3  7bbe2506-bc5d-47cb-abc6-669bb023ae7e  2017-03-08 18:40:37    4   11   \n",
              "4  4b79b04d-5f3a-422b-9f83-155572a2c816  2017-03-08 19:11:46    3   10   \n",
              "\n",
              "   status            paid_date          created_at          updated_at  \n",
              "0       2  2017-03-08 20:03:18 2017-03-08 17:49:37 2017-03-08 20:03:25  \n",
              "1       2  2017-03-09 00:54:51 2017-03-08 18:07:20 2017-03-09 00:54:56  \n",
              "2       2  2017-03-08 21:09:47 2017-03-08 18:25:32 2017-03-08 21:09:54  \n",
              "3       2  2017-03-08 19:23:20 2017-03-08 18:40:59 2017-03-08 19:23:24  \n",
              "4       2  2017-03-08 22:39:25 2017-03-08 19:11:56 2017-03-08 22:39:41  "
            ],
            "text/html": [
              "\n",
              "  <div id=\"df-93de5fdb-4ecf-4cc2-b5f6-792d30309a89\" class=\"colab-df-container\">\n",
              "    <div>\n",
              "<style scoped>\n",
              "    .dataframe tbody tr th:only-of-type {\n",
              "        vertical-align: middle;\n",
              "    }\n",
              "\n",
              "    .dataframe tbody tr th {\n",
              "        vertical-align: top;\n",
              "    }\n",
              "\n",
              "    .dataframe thead th {\n",
              "        text-align: right;\n",
              "    }\n",
              "</style>\n",
              "<table border=\"1\" class=\"dataframe\">\n",
              "  <thead>\n",
              "    <tr style=\"text-align: right;\">\n",
              "      <th></th>\n",
              "      <th>id</th>\n",
              "      <th>odate</th>\n",
              "      <th>pos</th>\n",
              "      <th>uid</th>\n",
              "      <th>status</th>\n",
              "      <th>paid_date</th>\n",
              "      <th>created_at</th>\n",
              "      <th>updated_at</th>\n",
              "    </tr>\n",
              "  </thead>\n",
              "  <tbody>\n",
              "    <tr>\n",
              "      <th>0</th>\n",
              "      <td>374c214d-52f8-4bdd-8d30-d225b3127cc3</td>\n",
              "      <td>2017-03-08 17:49:25</td>\n",
              "      <td>6</td>\n",
              "      <td>12</td>\n",
              "      <td>2</td>\n",
              "      <td>2017-03-08 20:03:18</td>\n",
              "      <td>2017-03-08 17:49:37</td>\n",
              "      <td>2017-03-08 20:03:25</td>\n",
              "    </tr>\n",
              "    <tr>\n",
              "      <th>1</th>\n",
              "      <td>20bb1ead-e1a4-48c9-b55f-cbe04831d82a</td>\n",
              "      <td>2017-03-08 18:07:07</td>\n",
              "      <td>6</td>\n",
              "      <td>12</td>\n",
              "      <td>2</td>\n",
              "      <td>2017-03-09 00:54:51</td>\n",
              "      <td>2017-03-08 18:07:20</td>\n",
              "      <td>2017-03-09 00:54:56</td>\n",
              "    </tr>\n",
              "    <tr>\n",
              "      <th>2</th>\n",
              "      <td>ed463ddc-8f42-4866-afaf-d1b2ee69ef3c</td>\n",
              "      <td>2017-03-08 18:25:21</td>\n",
              "      <td>6</td>\n",
              "      <td>12</td>\n",
              "      <td>2</td>\n",
              "      <td>2017-03-08 21:09:47</td>\n",
              "      <td>2017-03-08 18:25:32</td>\n",
              "      <td>2017-03-08 21:09:54</td>\n",
              "    </tr>\n",
              "    <tr>\n",
              "      <th>3</th>\n",
              "      <td>7bbe2506-bc5d-47cb-abc6-669bb023ae7e</td>\n",
              "      <td>2017-03-08 18:40:37</td>\n",
              "      <td>4</td>\n",
              "      <td>11</td>\n",
              "      <td>2</td>\n",
              "      <td>2017-03-08 19:23:20</td>\n",
              "      <td>2017-03-08 18:40:59</td>\n",
              "      <td>2017-03-08 19:23:24</td>\n",
              "    </tr>\n",
              "    <tr>\n",
              "      <th>4</th>\n",
              "      <td>4b79b04d-5f3a-422b-9f83-155572a2c816</td>\n",
              "      <td>2017-03-08 19:11:46</td>\n",
              "      <td>3</td>\n",
              "      <td>10</td>\n",
              "      <td>2</td>\n",
              "      <td>2017-03-08 22:39:25</td>\n",
              "      <td>2017-03-08 19:11:56</td>\n",
              "      <td>2017-03-08 22:39:41</td>\n",
              "    </tr>\n",
              "  </tbody>\n",
              "</table>\n",
              "</div>\n",
              "    <div class=\"colab-df-buttons\">\n",
              "\n",
              "  <div class=\"colab-df-container\">\n",
              "    <button class=\"colab-df-convert\" onclick=\"convertToInteractive('df-93de5fdb-4ecf-4cc2-b5f6-792d30309a89')\"\n",
              "            title=\"Convert this dataframe to an interactive table.\"\n",
              "            style=\"display:none;\">\n",
              "\n",
              "  <svg xmlns=\"http://www.w3.org/2000/svg\" height=\"24px\" viewBox=\"0 -960 960 960\">\n",
              "    <path d=\"M120-120v-720h720v720H120Zm60-500h600v-160H180v160Zm220 220h160v-160H400v160Zm0 220h160v-160H400v160ZM180-400h160v-160H180v160Zm440 0h160v-160H620v160ZM180-180h160v-160H180v160Zm440 0h160v-160H620v160Z\"/>\n",
              "  </svg>\n",
              "    </button>\n",
              "\n",
              "  <style>\n",
              "    .colab-df-container {\n",
              "      display:flex;\n",
              "      gap: 12px;\n",
              "    }\n",
              "\n",
              "    .colab-df-convert {\n",
              "      background-color: #E8F0FE;\n",
              "      border: none;\n",
              "      border-radius: 50%;\n",
              "      cursor: pointer;\n",
              "      display: none;\n",
              "      fill: #1967D2;\n",
              "      height: 32px;\n",
              "      padding: 0 0 0 0;\n",
              "      width: 32px;\n",
              "    }\n",
              "\n",
              "    .colab-df-convert:hover {\n",
              "      background-color: #E2EBFA;\n",
              "      box-shadow: 0px 1px 2px rgba(60, 64, 67, 0.3), 0px 1px 3px 1px rgba(60, 64, 67, 0.15);\n",
              "      fill: #174EA6;\n",
              "    }\n",
              "\n",
              "    .colab-df-buttons div {\n",
              "      margin-bottom: 4px;\n",
              "    }\n",
              "\n",
              "    [theme=dark] .colab-df-convert {\n",
              "      background-color: #3B4455;\n",
              "      fill: #D2E3FC;\n",
              "    }\n",
              "\n",
              "    [theme=dark] .colab-df-convert:hover {\n",
              "      background-color: #434B5C;\n",
              "      box-shadow: 0px 1px 3px 1px rgba(0, 0, 0, 0.15);\n",
              "      filter: drop-shadow(0px 1px 2px rgba(0, 0, 0, 0.3));\n",
              "      fill: #FFFFFF;\n",
              "    }\n",
              "  </style>\n",
              "\n",
              "    <script>\n",
              "      const buttonEl =\n",
              "        document.querySelector('#df-93de5fdb-4ecf-4cc2-b5f6-792d30309a89 button.colab-df-convert');\n",
              "      buttonEl.style.display =\n",
              "        google.colab.kernel.accessAllowed ? 'block' : 'none';\n",
              "\n",
              "      async function convertToInteractive(key) {\n",
              "        const element = document.querySelector('#df-93de5fdb-4ecf-4cc2-b5f6-792d30309a89');\n",
              "        const dataTable =\n",
              "          await google.colab.kernel.invokeFunction('convertToInteractive',\n",
              "                                                    [key], {});\n",
              "        if (!dataTable) return;\n",
              "\n",
              "        const docLinkHtml = 'Like what you see? Visit the ' +\n",
              "          '<a target=\"_blank\" href=https://colab.research.google.com/notebooks/data_table.ipynb>data table notebook</a>'\n",
              "          + ' to learn more about interactive tables.';\n",
              "        element.innerHTML = '';\n",
              "        dataTable['output_type'] = 'display_data';\n",
              "        await google.colab.output.renderOutput(dataTable, element);\n",
              "        const docLink = document.createElement('div');\n",
              "        docLink.innerHTML = docLinkHtml;\n",
              "        element.appendChild(docLink);\n",
              "      }\n",
              "    </script>\n",
              "  </div>\n",
              "\n",
              "\n",
              "<div id=\"df-1ca9ac78-c3ac-419d-834e-d49333c8e629\">\n",
              "  <button class=\"colab-df-quickchart\" onclick=\"quickchart('df-1ca9ac78-c3ac-419d-834e-d49333c8e629')\"\n",
              "            title=\"Suggest charts\"\n",
              "            style=\"display:none;\">\n",
              "\n",
              "<svg xmlns=\"http://www.w3.org/2000/svg\" height=\"24px\"viewBox=\"0 0 24 24\"\n",
              "     width=\"24px\">\n",
              "    <g>\n",
              "        <path d=\"M19 3H5c-1.1 0-2 .9-2 2v14c0 1.1.9 2 2 2h14c1.1 0 2-.9 2-2V5c0-1.1-.9-2-2-2zM9 17H7v-7h2v7zm4 0h-2V7h2v10zm4 0h-2v-4h2v4z\"/>\n",
              "    </g>\n",
              "</svg>\n",
              "  </button>\n",
              "\n",
              "<style>\n",
              "  .colab-df-quickchart {\n",
              "      --bg-color: #E8F0FE;\n",
              "      --fill-color: #1967D2;\n",
              "      --hover-bg-color: #E2EBFA;\n",
              "      --hover-fill-color: #174EA6;\n",
              "      --disabled-fill-color: #AAA;\n",
              "      --disabled-bg-color: #DDD;\n",
              "  }\n",
              "\n",
              "  [theme=dark] .colab-df-quickchart {\n",
              "      --bg-color: #3B4455;\n",
              "      --fill-color: #D2E3FC;\n",
              "      --hover-bg-color: #434B5C;\n",
              "      --hover-fill-color: #FFFFFF;\n",
              "      --disabled-bg-color: #3B4455;\n",
              "      --disabled-fill-color: #666;\n",
              "  }\n",
              "\n",
              "  .colab-df-quickchart {\n",
              "    background-color: var(--bg-color);\n",
              "    border: none;\n",
              "    border-radius: 50%;\n",
              "    cursor: pointer;\n",
              "    display: none;\n",
              "    fill: var(--fill-color);\n",
              "    height: 32px;\n",
              "    padding: 0;\n",
              "    width: 32px;\n",
              "  }\n",
              "\n",
              "  .colab-df-quickchart:hover {\n",
              "    background-color: var(--hover-bg-color);\n",
              "    box-shadow: 0 1px 2px rgba(60, 64, 67, 0.3), 0 1px 3px 1px rgba(60, 64, 67, 0.15);\n",
              "    fill: var(--button-hover-fill-color);\n",
              "  }\n",
              "\n",
              "  .colab-df-quickchart-complete:disabled,\n",
              "  .colab-df-quickchart-complete:disabled:hover {\n",
              "    background-color: var(--disabled-bg-color);\n",
              "    fill: var(--disabled-fill-color);\n",
              "    box-shadow: none;\n",
              "  }\n",
              "\n",
              "  .colab-df-spinner {\n",
              "    border: 2px solid var(--fill-color);\n",
              "    border-color: transparent;\n",
              "    border-bottom-color: var(--fill-color);\n",
              "    animation:\n",
              "      spin 1s steps(1) infinite;\n",
              "  }\n",
              "\n",
              "  @keyframes spin {\n",
              "    0% {\n",
              "      border-color: transparent;\n",
              "      border-bottom-color: var(--fill-color);\n",
              "      border-left-color: var(--fill-color);\n",
              "    }\n",
              "    20% {\n",
              "      border-color: transparent;\n",
              "      border-left-color: var(--fill-color);\n",
              "      border-top-color: var(--fill-color);\n",
              "    }\n",
              "    30% {\n",
              "      border-color: transparent;\n",
              "      border-left-color: var(--fill-color);\n",
              "      border-top-color: var(--fill-color);\n",
              "      border-right-color: var(--fill-color);\n",
              "    }\n",
              "    40% {\n",
              "      border-color: transparent;\n",
              "      border-right-color: var(--fill-color);\n",
              "      border-top-color: var(--fill-color);\n",
              "    }\n",
              "    60% {\n",
              "      border-color: transparent;\n",
              "      border-right-color: var(--fill-color);\n",
              "    }\n",
              "    80% {\n",
              "      border-color: transparent;\n",
              "      border-right-color: var(--fill-color);\n",
              "      border-bottom-color: var(--fill-color);\n",
              "    }\n",
              "    90% {\n",
              "      border-color: transparent;\n",
              "      border-bottom-color: var(--fill-color);\n",
              "    }\n",
              "  }\n",
              "</style>\n",
              "\n",
              "  <script>\n",
              "    async function quickchart(key) {\n",
              "      const quickchartButtonEl =\n",
              "        document.querySelector('#' + key + ' button');\n",
              "      quickchartButtonEl.disabled = true;  // To prevent multiple clicks.\n",
              "      quickchartButtonEl.classList.add('colab-df-spinner');\n",
              "      try {\n",
              "        const charts = await google.colab.kernel.invokeFunction(\n",
              "            'suggestCharts', [key], {});\n",
              "      } catch (error) {\n",
              "        console.error('Error during call to suggestCharts:', error);\n",
              "      }\n",
              "      quickchartButtonEl.classList.remove('colab-df-spinner');\n",
              "      quickchartButtonEl.classList.add('colab-df-quickchart-complete');\n",
              "    }\n",
              "    (() => {\n",
              "      let quickchartButtonEl =\n",
              "        document.querySelector('#df-1ca9ac78-c3ac-419d-834e-d49333c8e629 button');\n",
              "      quickchartButtonEl.style.display =\n",
              "        google.colab.kernel.accessAllowed ? 'block' : 'none';\n",
              "    })();\n",
              "  </script>\n",
              "</div>\n",
              "    </div>\n",
              "  </div>\n"
            ]
          },
          "metadata": {},
          "execution_count": 41
        }
      ]
    },
    {
      "cell_type": "markdown",
      "source": [
        "# Transform"
      ],
      "metadata": {
        "id": "MWq8B_mvxTJE"
      }
    },
    {
      "cell_type": "markdown",
      "source": [
        "**Data Cleaning:**\n",
        "Inspection and Cleaning"
      ],
      "metadata": {
        "id": "B2mtwjyOxd3j"
      }
    },
    {
      "cell_type": "code",
      "source": [
        "df_orders_selected.isnull().sum()"
      ],
      "metadata": {
        "colab": {
          "base_uri": "https://localhost:8080/"
        },
        "id": "i3VaGQeoLn6N",
        "outputId": "dfe25914-daf6-4949-c622-bb4c1eef75b2"
      },
      "execution_count": 22,
      "outputs": [
        {
          "output_type": "execute_result",
          "data": {
            "text/plain": [
              "id            0\n",
              "odate         0\n",
              "pos           0\n",
              "uid           0\n",
              "status        0\n",
              "paid_date     0\n",
              "created_at    0\n",
              "updated_at    0\n",
              "dtype: int64"
            ]
          },
          "metadata": {},
          "execution_count": 22
        }
      ]
    },
    {
      "cell_type": "markdown",
      "source": [
        "**Optimize Data Types**"
      ],
      "metadata": {
        "id": "NWjjNiKpOlic"
      }
    },
    {
      "cell_type": "code",
      "source": [
        "# include .copy() to explicitly indicate that df_orders is a new DataFrame\n",
        "df_orders_03 = df_orders_selected.copy()\n",
        "\n",
        "df_orders_03.shape"
      ],
      "metadata": {
        "colab": {
          "base_uri": "https://localhost:8080/"
        },
        "id": "7MSQg4aFjH1E",
        "outputId": "a1c6ce5a-5590-4376-d0f9-38ebdb089325"
      },
      "execution_count": 13,
      "outputs": [
        {
          "output_type": "execute_result",
          "data": {
            "text/plain": [
              "(282661, 8)"
            ]
          },
          "metadata": {},
          "execution_count": 13
        }
      ]
    },
    {
      "cell_type": "code",
      "source": [
        "df_orders_03.columns"
      ],
      "metadata": {
        "colab": {
          "base_uri": "https://localhost:8080/"
        },
        "id": "300uMrgqjTs9",
        "outputId": "2ef1280d-5dd2-4988-845f-b9ccf0fc13df"
      },
      "execution_count": 24,
      "outputs": [
        {
          "output_type": "execute_result",
          "data": {
            "text/plain": [
              "Index(['id', 'odate', 'pos', 'uid', 'status', 'paid_date', 'created_at',\n",
              "       'updated_at'],\n",
              "      dtype='object')"
            ]
          },
          "metadata": {},
          "execution_count": 24
        }
      ]
    },
    {
      "cell_type": "code",
      "source": [
        "col = ['id', 'odate', 'pos', 'uid', 'status',\n",
        "       'paid_date', 'created_at', 'updated_at']\n",
        "\n",
        "len(col)"
      ],
      "metadata": {
        "colab": {
          "base_uri": "https://localhost:8080/"
        },
        "id": "a8nU9nfdPtSe",
        "outputId": "152aefdf-ff35-40d1-b4da-92ab3fd10229"
      },
      "execution_count": 45,
      "outputs": [
        {
          "output_type": "execute_result",
          "data": {
            "text/plain": [
              "8"
            ]
          },
          "metadata": {},
          "execution_count": 45
        }
      ]
    },
    {
      "cell_type": "markdown",
      "source": [
        "**Convert categorical data**"
      ],
      "metadata": {
        "id": "zHRgc4tLlzoR"
      }
    },
    {
      "cell_type": "code",
      "source": [
        "# Convert to the smallest possible integer type\n",
        "\n",
        "categorical_columns = ['status']\n",
        "for col in categorical_columns:\n",
        "    df_orders_03.loc[:, col] = df_orders_03[col].astype('category')"
      ],
      "metadata": {
        "id": "AsazfJpPnypb"
      },
      "execution_count": 14,
      "outputs": []
    },
    {
      "cell_type": "markdown",
      "source": [
        "**Convert to DateTime Data**"
      ],
      "metadata": {
        "id": "JlL6i-MMoWzU"
      }
    },
    {
      "cell_type": "code",
      "source": [
        "# Convert date columns to datetime\n",
        "date_columns = ['odate', 'paid_date', 'created_at', 'updated_at']\n",
        "for column in date_columns:\n",
        "    df_orders_03[column] = pd.to_datetime(df_orders_03[column], errors='coerce').dt.normalize()\n",
        "\n",
        "# Check memory usage after conversions\n",
        "df_orders_03.info(memory_usage='deep')"
      ],
      "metadata": {
        "colab": {
          "base_uri": "https://localhost:8080/"
        },
        "id": "L9nc9bK1vle2",
        "outputId": "93c4f84f-e3fc-4eca-c52b-ac33422a3a54"
      },
      "execution_count": 16,
      "outputs": [
        {
          "output_type": "stream",
          "name": "stdout",
          "text": [
            "<class 'pandas.core.frame.DataFrame'>\n",
            "Int64Index: 282661 entries, 0 to 282660\n",
            "Data columns (total 8 columns):\n",
            " #   Column      Non-Null Count   Dtype         \n",
            "---  ------      --------------   -----         \n",
            " 0   id          282661 non-null  object        \n",
            " 1   odate       282661 non-null  datetime64[ns]\n",
            " 2   pos         282661 non-null  int64         \n",
            " 3   uid         282661 non-null  int64         \n",
            " 4   status      282661 non-null  category      \n",
            " 5   paid_date   278696 non-null  datetime64[ns]\n",
            " 6   created_at  282661 non-null  datetime64[ns]\n",
            " 7   updated_at  282661 non-null  datetime64[ns]\n",
            "dtypes: category(1), datetime64[ns](4), int64(2), object(1)\n",
            "memory usage: 40.4 MB\n"
          ]
        }
      ]
    },
    {
      "cell_type": "code",
      "source": [
        "df_orders_03"
      ],
      "metadata": {
        "colab": {
          "base_uri": "https://localhost:8080/",
          "height": 0
        },
        "id": "Favgt6pQrq6Q",
        "outputId": "0e430992-dce0-45f2-d1eb-70f4b9f11220"
      },
      "execution_count": 48,
      "outputs": [
        {
          "output_type": "execute_result",
          "data": {
            "text/plain": [
              "                                          id      odate  pos  uid status  \\\n",
              "0       374c214d-52f8-4bdd-8d30-d225b3127cc3 2017-03-08    6   12      2   \n",
              "1       20bb1ead-e1a4-48c9-b55f-cbe04831d82a 2017-03-08    6   12      2   \n",
              "2       ed463ddc-8f42-4866-afaf-d1b2ee69ef3c 2017-03-08    6   12      2   \n",
              "3       7bbe2506-bc5d-47cb-abc6-669bb023ae7e 2017-03-08    4   11      2   \n",
              "4       4b79b04d-5f3a-422b-9f83-155572a2c816 2017-03-08    3   10      2   \n",
              "...                                      ...        ...  ...  ...    ...   \n",
              "282656  0a2e9b39-9c99-48b6-b896-8e56bc7d36c4 2024-01-10    5   51      2   \n",
              "282657  36f63a49-664b-4dce-8be1-e4a50b961bb3 2024-01-10    2   17      2   \n",
              "282658  24912113-3ca7-40ed-9a7c-e0a0b2bcfc24 2024-01-10    2   17      1   \n",
              "282659  87c488dc-7c48-4ecf-9886-c174f8875bf9 2024-01-10    2   17      1   \n",
              "282660  3d4a6b69-ae50-4c38-86b5-79c0f0e49568 2024-01-10   15   50      1   \n",
              "\n",
              "        paid_date created_at updated_at  \n",
              "0      2017-03-08 2017-03-08 2017-03-08  \n",
              "1      2017-03-09 2017-03-08 2017-03-09  \n",
              "2      2017-03-08 2017-03-08 2017-03-08  \n",
              "3      2017-03-08 2017-03-08 2017-03-08  \n",
              "4      2017-03-08 2017-03-08 2017-03-08  \n",
              "...           ...        ...        ...  \n",
              "282656 2024-01-10 2024-01-10 2024-01-10  \n",
              "282657 2024-01-10 2024-01-10 2024-01-10  \n",
              "282658        NaT 2024-01-10 2024-01-10  \n",
              "282659 2001-01-01 2024-01-10 2024-01-10  \n",
              "282660        NaT 2024-01-10 2024-01-10  \n",
              "\n",
              "[282661 rows x 8 columns]"
            ],
            "text/html": [
              "\n",
              "  <div id=\"df-aee43da7-342e-40b0-98a6-26be94540cd4\" class=\"colab-df-container\">\n",
              "    <div>\n",
              "<style scoped>\n",
              "    .dataframe tbody tr th:only-of-type {\n",
              "        vertical-align: middle;\n",
              "    }\n",
              "\n",
              "    .dataframe tbody tr th {\n",
              "        vertical-align: top;\n",
              "    }\n",
              "\n",
              "    .dataframe thead th {\n",
              "        text-align: right;\n",
              "    }\n",
              "</style>\n",
              "<table border=\"1\" class=\"dataframe\">\n",
              "  <thead>\n",
              "    <tr style=\"text-align: right;\">\n",
              "      <th></th>\n",
              "      <th>id</th>\n",
              "      <th>odate</th>\n",
              "      <th>pos</th>\n",
              "      <th>uid</th>\n",
              "      <th>status</th>\n",
              "      <th>paid_date</th>\n",
              "      <th>created_at</th>\n",
              "      <th>updated_at</th>\n",
              "    </tr>\n",
              "  </thead>\n",
              "  <tbody>\n",
              "    <tr>\n",
              "      <th>0</th>\n",
              "      <td>374c214d-52f8-4bdd-8d30-d225b3127cc3</td>\n",
              "      <td>2017-03-08</td>\n",
              "      <td>6</td>\n",
              "      <td>12</td>\n",
              "      <td>2</td>\n",
              "      <td>2017-03-08</td>\n",
              "      <td>2017-03-08</td>\n",
              "      <td>2017-03-08</td>\n",
              "    </tr>\n",
              "    <tr>\n",
              "      <th>1</th>\n",
              "      <td>20bb1ead-e1a4-48c9-b55f-cbe04831d82a</td>\n",
              "      <td>2017-03-08</td>\n",
              "      <td>6</td>\n",
              "      <td>12</td>\n",
              "      <td>2</td>\n",
              "      <td>2017-03-09</td>\n",
              "      <td>2017-03-08</td>\n",
              "      <td>2017-03-09</td>\n",
              "    </tr>\n",
              "    <tr>\n",
              "      <th>2</th>\n",
              "      <td>ed463ddc-8f42-4866-afaf-d1b2ee69ef3c</td>\n",
              "      <td>2017-03-08</td>\n",
              "      <td>6</td>\n",
              "      <td>12</td>\n",
              "      <td>2</td>\n",
              "      <td>2017-03-08</td>\n",
              "      <td>2017-03-08</td>\n",
              "      <td>2017-03-08</td>\n",
              "    </tr>\n",
              "    <tr>\n",
              "      <th>3</th>\n",
              "      <td>7bbe2506-bc5d-47cb-abc6-669bb023ae7e</td>\n",
              "      <td>2017-03-08</td>\n",
              "      <td>4</td>\n",
              "      <td>11</td>\n",
              "      <td>2</td>\n",
              "      <td>2017-03-08</td>\n",
              "      <td>2017-03-08</td>\n",
              "      <td>2017-03-08</td>\n",
              "    </tr>\n",
              "    <tr>\n",
              "      <th>4</th>\n",
              "      <td>4b79b04d-5f3a-422b-9f83-155572a2c816</td>\n",
              "      <td>2017-03-08</td>\n",
              "      <td>3</td>\n",
              "      <td>10</td>\n",
              "      <td>2</td>\n",
              "      <td>2017-03-08</td>\n",
              "      <td>2017-03-08</td>\n",
              "      <td>2017-03-08</td>\n",
              "    </tr>\n",
              "    <tr>\n",
              "      <th>...</th>\n",
              "      <td>...</td>\n",
              "      <td>...</td>\n",
              "      <td>...</td>\n",
              "      <td>...</td>\n",
              "      <td>...</td>\n",
              "      <td>...</td>\n",
              "      <td>...</td>\n",
              "      <td>...</td>\n",
              "    </tr>\n",
              "    <tr>\n",
              "      <th>282656</th>\n",
              "      <td>0a2e9b39-9c99-48b6-b896-8e56bc7d36c4</td>\n",
              "      <td>2024-01-10</td>\n",
              "      <td>5</td>\n",
              "      <td>51</td>\n",
              "      <td>2</td>\n",
              "      <td>2024-01-10</td>\n",
              "      <td>2024-01-10</td>\n",
              "      <td>2024-01-10</td>\n",
              "    </tr>\n",
              "    <tr>\n",
              "      <th>282657</th>\n",
              "      <td>36f63a49-664b-4dce-8be1-e4a50b961bb3</td>\n",
              "      <td>2024-01-10</td>\n",
              "      <td>2</td>\n",
              "      <td>17</td>\n",
              "      <td>2</td>\n",
              "      <td>2024-01-10</td>\n",
              "      <td>2024-01-10</td>\n",
              "      <td>2024-01-10</td>\n",
              "    </tr>\n",
              "    <tr>\n",
              "      <th>282658</th>\n",
              "      <td>24912113-3ca7-40ed-9a7c-e0a0b2bcfc24</td>\n",
              "      <td>2024-01-10</td>\n",
              "      <td>2</td>\n",
              "      <td>17</td>\n",
              "      <td>1</td>\n",
              "      <td>NaT</td>\n",
              "      <td>2024-01-10</td>\n",
              "      <td>2024-01-10</td>\n",
              "    </tr>\n",
              "    <tr>\n",
              "      <th>282659</th>\n",
              "      <td>87c488dc-7c48-4ecf-9886-c174f8875bf9</td>\n",
              "      <td>2024-01-10</td>\n",
              "      <td>2</td>\n",
              "      <td>17</td>\n",
              "      <td>1</td>\n",
              "      <td>2001-01-01</td>\n",
              "      <td>2024-01-10</td>\n",
              "      <td>2024-01-10</td>\n",
              "    </tr>\n",
              "    <tr>\n",
              "      <th>282660</th>\n",
              "      <td>3d4a6b69-ae50-4c38-86b5-79c0f0e49568</td>\n",
              "      <td>2024-01-10</td>\n",
              "      <td>15</td>\n",
              "      <td>50</td>\n",
              "      <td>1</td>\n",
              "      <td>NaT</td>\n",
              "      <td>2024-01-10</td>\n",
              "      <td>2024-01-10</td>\n",
              "    </tr>\n",
              "  </tbody>\n",
              "</table>\n",
              "<p>282661 rows × 8 columns</p>\n",
              "</div>\n",
              "    <div class=\"colab-df-buttons\">\n",
              "\n",
              "  <div class=\"colab-df-container\">\n",
              "    <button class=\"colab-df-convert\" onclick=\"convertToInteractive('df-aee43da7-342e-40b0-98a6-26be94540cd4')\"\n",
              "            title=\"Convert this dataframe to an interactive table.\"\n",
              "            style=\"display:none;\">\n",
              "\n",
              "  <svg xmlns=\"http://www.w3.org/2000/svg\" height=\"24px\" viewBox=\"0 -960 960 960\">\n",
              "    <path d=\"M120-120v-720h720v720H120Zm60-500h600v-160H180v160Zm220 220h160v-160H400v160Zm0 220h160v-160H400v160ZM180-400h160v-160H180v160Zm440 0h160v-160H620v160ZM180-180h160v-160H180v160Zm440 0h160v-160H620v160Z\"/>\n",
              "  </svg>\n",
              "    </button>\n",
              "\n",
              "  <style>\n",
              "    .colab-df-container {\n",
              "      display:flex;\n",
              "      gap: 12px;\n",
              "    }\n",
              "\n",
              "    .colab-df-convert {\n",
              "      background-color: #E8F0FE;\n",
              "      border: none;\n",
              "      border-radius: 50%;\n",
              "      cursor: pointer;\n",
              "      display: none;\n",
              "      fill: #1967D2;\n",
              "      height: 32px;\n",
              "      padding: 0 0 0 0;\n",
              "      width: 32px;\n",
              "    }\n",
              "\n",
              "    .colab-df-convert:hover {\n",
              "      background-color: #E2EBFA;\n",
              "      box-shadow: 0px 1px 2px rgba(60, 64, 67, 0.3), 0px 1px 3px 1px rgba(60, 64, 67, 0.15);\n",
              "      fill: #174EA6;\n",
              "    }\n",
              "\n",
              "    .colab-df-buttons div {\n",
              "      margin-bottom: 4px;\n",
              "    }\n",
              "\n",
              "    [theme=dark] .colab-df-convert {\n",
              "      background-color: #3B4455;\n",
              "      fill: #D2E3FC;\n",
              "    }\n",
              "\n",
              "    [theme=dark] .colab-df-convert:hover {\n",
              "      background-color: #434B5C;\n",
              "      box-shadow: 0px 1px 3px 1px rgba(0, 0, 0, 0.15);\n",
              "      filter: drop-shadow(0px 1px 2px rgba(0, 0, 0, 0.3));\n",
              "      fill: #FFFFFF;\n",
              "    }\n",
              "  </style>\n",
              "\n",
              "    <script>\n",
              "      const buttonEl =\n",
              "        document.querySelector('#df-aee43da7-342e-40b0-98a6-26be94540cd4 button.colab-df-convert');\n",
              "      buttonEl.style.display =\n",
              "        google.colab.kernel.accessAllowed ? 'block' : 'none';\n",
              "\n",
              "      async function convertToInteractive(key) {\n",
              "        const element = document.querySelector('#df-aee43da7-342e-40b0-98a6-26be94540cd4');\n",
              "        const dataTable =\n",
              "          await google.colab.kernel.invokeFunction('convertToInteractive',\n",
              "                                                    [key], {});\n",
              "        if (!dataTable) return;\n",
              "\n",
              "        const docLinkHtml = 'Like what you see? Visit the ' +\n",
              "          '<a target=\"_blank\" href=https://colab.research.google.com/notebooks/data_table.ipynb>data table notebook</a>'\n",
              "          + ' to learn more about interactive tables.';\n",
              "        element.innerHTML = '';\n",
              "        dataTable['output_type'] = 'display_data';\n",
              "        await google.colab.output.renderOutput(dataTable, element);\n",
              "        const docLink = document.createElement('div');\n",
              "        docLink.innerHTML = docLinkHtml;\n",
              "        element.appendChild(docLink);\n",
              "      }\n",
              "    </script>\n",
              "  </div>\n",
              "\n",
              "\n",
              "<div id=\"df-5ef0af3c-1e4f-406f-b072-98f8807584d2\">\n",
              "  <button class=\"colab-df-quickchart\" onclick=\"quickchart('df-5ef0af3c-1e4f-406f-b072-98f8807584d2')\"\n",
              "            title=\"Suggest charts\"\n",
              "            style=\"display:none;\">\n",
              "\n",
              "<svg xmlns=\"http://www.w3.org/2000/svg\" height=\"24px\"viewBox=\"0 0 24 24\"\n",
              "     width=\"24px\">\n",
              "    <g>\n",
              "        <path d=\"M19 3H5c-1.1 0-2 .9-2 2v14c0 1.1.9 2 2 2h14c1.1 0 2-.9 2-2V5c0-1.1-.9-2-2-2zM9 17H7v-7h2v7zm4 0h-2V7h2v10zm4 0h-2v-4h2v4z\"/>\n",
              "    </g>\n",
              "</svg>\n",
              "  </button>\n",
              "\n",
              "<style>\n",
              "  .colab-df-quickchart {\n",
              "      --bg-color: #E8F0FE;\n",
              "      --fill-color: #1967D2;\n",
              "      --hover-bg-color: #E2EBFA;\n",
              "      --hover-fill-color: #174EA6;\n",
              "      --disabled-fill-color: #AAA;\n",
              "      --disabled-bg-color: #DDD;\n",
              "  }\n",
              "\n",
              "  [theme=dark] .colab-df-quickchart {\n",
              "      --bg-color: #3B4455;\n",
              "      --fill-color: #D2E3FC;\n",
              "      --hover-bg-color: #434B5C;\n",
              "      --hover-fill-color: #FFFFFF;\n",
              "      --disabled-bg-color: #3B4455;\n",
              "      --disabled-fill-color: #666;\n",
              "  }\n",
              "\n",
              "  .colab-df-quickchart {\n",
              "    background-color: var(--bg-color);\n",
              "    border: none;\n",
              "    border-radius: 50%;\n",
              "    cursor: pointer;\n",
              "    display: none;\n",
              "    fill: var(--fill-color);\n",
              "    height: 32px;\n",
              "    padding: 0;\n",
              "    width: 32px;\n",
              "  }\n",
              "\n",
              "  .colab-df-quickchart:hover {\n",
              "    background-color: var(--hover-bg-color);\n",
              "    box-shadow: 0 1px 2px rgba(60, 64, 67, 0.3), 0 1px 3px 1px rgba(60, 64, 67, 0.15);\n",
              "    fill: var(--button-hover-fill-color);\n",
              "  }\n",
              "\n",
              "  .colab-df-quickchart-complete:disabled,\n",
              "  .colab-df-quickchart-complete:disabled:hover {\n",
              "    background-color: var(--disabled-bg-color);\n",
              "    fill: var(--disabled-fill-color);\n",
              "    box-shadow: none;\n",
              "  }\n",
              "\n",
              "  .colab-df-spinner {\n",
              "    border: 2px solid var(--fill-color);\n",
              "    border-color: transparent;\n",
              "    border-bottom-color: var(--fill-color);\n",
              "    animation:\n",
              "      spin 1s steps(1) infinite;\n",
              "  }\n",
              "\n",
              "  @keyframes spin {\n",
              "    0% {\n",
              "      border-color: transparent;\n",
              "      border-bottom-color: var(--fill-color);\n",
              "      border-left-color: var(--fill-color);\n",
              "    }\n",
              "    20% {\n",
              "      border-color: transparent;\n",
              "      border-left-color: var(--fill-color);\n",
              "      border-top-color: var(--fill-color);\n",
              "    }\n",
              "    30% {\n",
              "      border-color: transparent;\n",
              "      border-left-color: var(--fill-color);\n",
              "      border-top-color: var(--fill-color);\n",
              "      border-right-color: var(--fill-color);\n",
              "    }\n",
              "    40% {\n",
              "      border-color: transparent;\n",
              "      border-right-color: var(--fill-color);\n",
              "      border-top-color: var(--fill-color);\n",
              "    }\n",
              "    60% {\n",
              "      border-color: transparent;\n",
              "      border-right-color: var(--fill-color);\n",
              "    }\n",
              "    80% {\n",
              "      border-color: transparent;\n",
              "      border-right-color: var(--fill-color);\n",
              "      border-bottom-color: var(--fill-color);\n",
              "    }\n",
              "    90% {\n",
              "      border-color: transparent;\n",
              "      border-bottom-color: var(--fill-color);\n",
              "    }\n",
              "  }\n",
              "</style>\n",
              "\n",
              "  <script>\n",
              "    async function quickchart(key) {\n",
              "      const quickchartButtonEl =\n",
              "        document.querySelector('#' + key + ' button');\n",
              "      quickchartButtonEl.disabled = true;  // To prevent multiple clicks.\n",
              "      quickchartButtonEl.classList.add('colab-df-spinner');\n",
              "      try {\n",
              "        const charts = await google.colab.kernel.invokeFunction(\n",
              "            'suggestCharts', [key], {});\n",
              "      } catch (error) {\n",
              "        console.error('Error during call to suggestCharts:', error);\n",
              "      }\n",
              "      quickchartButtonEl.classList.remove('colab-df-spinner');\n",
              "      quickchartButtonEl.classList.add('colab-df-quickchart-complete');\n",
              "    }\n",
              "    (() => {\n",
              "      let quickchartButtonEl =\n",
              "        document.querySelector('#df-5ef0af3c-1e4f-406f-b072-98f8807584d2 button');\n",
              "      quickchartButtonEl.style.display =\n",
              "        google.colab.kernel.accessAllowed ? 'block' : 'none';\n",
              "    })();\n",
              "  </script>\n",
              "</div>\n",
              "    </div>\n",
              "  </div>\n"
            ]
          },
          "metadata": {},
          "execution_count": 48
        }
      ]
    },
    {
      "cell_type": "markdown",
      "source": [
        "**Convert Numeric Data**"
      ],
      "metadata": {
        "id": "QrO0BnQIo0mp"
      }
    },
    {
      "cell_type": "code",
      "source": [
        "numeric_columns = ['pos', 'uid']\n",
        "for col in numeric_columns:\n",
        "    df_orders_03.loc[:, col] = pd.to_numeric(df_orders_03[col], downcast='integer', errors='coerce')\n"
      ],
      "metadata": {
        "colab": {
          "base_uri": "https://localhost:8080/"
        },
        "id": "Sj7kAOdgo4My",
        "outputId": "093c5995-b395-49ad-a4c0-88f22b583d77"
      },
      "execution_count": 17,
      "outputs": [
        {
          "output_type": "stream",
          "name": "stderr",
          "text": [
            "<ipython-input-17-a2ba182e5ed6>:3: DeprecationWarning: In a future version, `df.iloc[:, i] = newvals` will attempt to set the values inplace instead of always setting a new array. To retain the old behavior, use either `df[df.columns[i]] = newvals` or, if columns are non-unique, `df.isetitem(i, newvals)`\n",
            "  df_orders_03.loc[:, col] = pd.to_numeric(df_orders_03[col], downcast='integer', errors='coerce')\n"
          ]
        }
      ]
    },
    {
      "cell_type": "code",
      "source": [
        "# Check the memory usage after optimization\n",
        "df_orders_03.info(memory_usage='deep')"
      ],
      "metadata": {
        "colab": {
          "base_uri": "https://localhost:8080/"
        },
        "id": "8Id1cU72OxsN",
        "outputId": "29bf3262-4392-41d7-b728-dc88e5162bd5"
      },
      "execution_count": 18,
      "outputs": [
        {
          "output_type": "stream",
          "name": "stdout",
          "text": [
            "<class 'pandas.core.frame.DataFrame'>\n",
            "Int64Index: 282661 entries, 0 to 282660\n",
            "Data columns (total 8 columns):\n",
            " #   Column      Non-Null Count   Dtype         \n",
            "---  ------      --------------   -----         \n",
            " 0   id          282661 non-null  object        \n",
            " 1   odate       282661 non-null  datetime64[ns]\n",
            " 2   pos         282661 non-null  int8          \n",
            " 3   uid         282661 non-null  int8          \n",
            " 4   status      282661 non-null  category      \n",
            " 5   paid_date   278696 non-null  datetime64[ns]\n",
            " 6   created_at  282661 non-null  datetime64[ns]\n",
            " 7   updated_at  282661 non-null  datetime64[ns]\n",
            "dtypes: category(1), datetime64[ns](4), int8(2), object(1)\n",
            "memory usage: 36.7 MB\n"
          ]
        }
      ]
    },
    {
      "cell_type": "code",
      "source": [
        "df_orders_03.to_csv('/content/drive/MyDrive/df_orders_03.csv', index=False)"
      ],
      "metadata": {
        "id": "siI9A6l28kuG"
      },
      "execution_count": 19,
      "outputs": []
    },
    {
      "cell_type": "markdown",
      "source": [
        "# Spark"
      ],
      "metadata": {
        "id": "RZ4XnSakmit9"
      }
    },
    {
      "cell_type": "code",
      "source": [
        "csv_dir = '/content/drive/MyDrive/df_orders_03.csv'\n",
        "df_orders_selected_col_spark = spark.read.format(\"csv\").load(csv_dir, header=True, inferSchema=True)\n",
        "\n",
        "df_orders_selected_col_spark.printSchema()"
      ],
      "metadata": {
        "colab": {
          "base_uri": "https://localhost:8080/"
        },
        "id": "_P2NvtKTmmMD",
        "outputId": "bb1c4f24-ab3d-4189-db17-dd8912f27eca"
      },
      "execution_count": 49,
      "outputs": [
        {
          "output_type": "stream",
          "name": "stdout",
          "text": [
            "root\n",
            " |-- id: string (nullable = true)\n",
            " |-- odate: timestamp (nullable = true)\n",
            " |-- pos: integer (nullable = true)\n",
            " |-- uid: integer (nullable = true)\n",
            " |-- status: integer (nullable = true)\n",
            " |-- paid_date: timestamp (nullable = true)\n",
            " |-- shift_id: string (nullable = true)\n",
            "\n"
          ]
        }
      ]
    },
    {
      "cell_type": "code",
      "source": [
        "print((df_orders_selected_col_spark.count(), len(df_orders_selected_col_spark.columns)))"
      ],
      "metadata": {
        "colab": {
          "base_uri": "https://localhost:8080/"
        },
        "id": "-kkvUyWJWHXh",
        "outputId": "8117258d-a37f-4ea0-def0-b96bdebbf311"
      },
      "execution_count": 50,
      "outputs": [
        {
          "output_type": "stream",
          "name": "stdout",
          "text": [
            "(282661, 7)\n"
          ]
        }
      ]
    },
    {
      "cell_type": "code",
      "source": [
        "df_orders_selected_col_spark.show(10)"
      ],
      "metadata": {
        "colab": {
          "base_uri": "https://localhost:8080/"
        },
        "id": "ZyktNy5CnFV5",
        "outputId": "8852635a-f509-4c71-9c70-1cbaf095a8f4"
      },
      "execution_count": 51,
      "outputs": [
        {
          "output_type": "stream",
          "name": "stdout",
          "text": [
            "+--------------------+-------------------+---+---+------+-------------------+--------------------+\n",
            "|                  id|              odate|pos|uid|status|          paid_date|            shift_id|\n",
            "+--------------------+-------------------+---+---+------+-------------------+--------------------+\n",
            "|374c214d-52f8-4bd...|2017-03-08 17:49:25|  6| 12|     2|2017-03-08 20:03:18|42000003-3139-420...|\n",
            "|20bb1ead-e1a4-48c...|2017-03-08 18:07:07|  6| 12|     2|2017-03-09 00:54:51|42000003-3139-420...|\n",
            "|ed463ddc-8f42-486...|2017-03-08 18:25:21|  6| 12|     2|2017-03-08 21:09:47|42000003-3139-420...|\n",
            "|7bbe2506-bc5d-47c...|2017-03-08 18:40:37|  4| 11|     2|2017-03-08 19:23:20|799f0930-4a54-435...|\n",
            "|4b79b04d-5f3a-422...|2017-03-08 19:11:46|  3| 10|     2|2017-03-08 22:39:25|7f4face6-702b-4fc...|\n",
            "|736c991f-87ca-470...|2017-03-08 19:12:16|  6| 12|     2|2017-03-08 22:34:26|42000003-3139-420...|\n",
            "|cb6d68b7-3693-4d5...|2017-03-08 19:15:23|  5|  8|     2|2017-03-08 22:43:43|dded3d59-7df2-42d...|\n",
            "|c5e75cb3-fdf6-45f...|2017-03-08 19:20:02|  4| 11|     2|2017-03-08 22:22:57|799f0930-4a54-435...|\n",
            "|229bc0f7-4516-47e...|2017-03-08 19:27:17|  3| 10|     2|2017-03-09 00:07:54|7f4face6-702b-4fc...|\n",
            "|0d837da8-c0da-49f...|2017-03-08 19:32:34|  2|  9|     2|2017-03-08 22:56:50|aec99141-71ae-431...|\n",
            "+--------------------+-------------------+---+---+------+-------------------+--------------------+\n",
            "only showing top 10 rows\n",
            "\n"
          ]
        }
      ]
    },
    {
      "cell_type": "code",
      "source": [
        "from pyspark.sql.functions import col, count, when\n",
        "\n",
        "# Count NULL values in each column\n",
        "null_counts = df_orders_selected_col_spark.select([count(when(col(c).isNull(), c)).alias(c) for c in df_orders_selected_col_spark.columns])\n",
        "\n",
        "# Show the result\n",
        "null_counts.show()"
      ],
      "metadata": {
        "colab": {
          "base_uri": "https://localhost:8080/"
        },
        "id": "ifJoo20WTJiy",
        "outputId": "367dc9c4-7ed0-43b5-d165-23bd23f8d158"
      },
      "execution_count": 52,
      "outputs": [
        {
          "output_type": "stream",
          "name": "stdout",
          "text": [
            "+---+-----+---+---+------+---------+--------+\n",
            "| id|odate|pos|uid|status|paid_date|shift_id|\n",
            "+---+-----+---+---+------+---------+--------+\n",
            "|  0|    0|  0|  0|     0|     3965|       0|\n",
            "+---+-----+---+---+------+---------+--------+\n",
            "\n"
          ]
        }
      ]
    },
    {
      "cell_type": "code",
      "source": [
        "df_cleaned = df_orders_selected_col_spark.filter(col(\"paid_date\").isNotNull())"
      ],
      "metadata": {
        "id": "iIelkt81VS8f"
      },
      "execution_count": 53,
      "outputs": []
    },
    {
      "cell_type": "code",
      "source": [
        "df_cleaned.show(10)"
      ],
      "metadata": {
        "colab": {
          "base_uri": "https://localhost:8080/"
        },
        "id": "es5dzpjPVfy7",
        "outputId": "7adea388-b367-4890-9856-fcbca0b923ae"
      },
      "execution_count": 54,
      "outputs": [
        {
          "output_type": "stream",
          "name": "stdout",
          "text": [
            "+--------------------+-------------------+---+---+------+-------------------+--------------------+\n",
            "|                  id|              odate|pos|uid|status|          paid_date|            shift_id|\n",
            "+--------------------+-------------------+---+---+------+-------------------+--------------------+\n",
            "|374c214d-52f8-4bd...|2017-03-08 17:49:25|  6| 12|     2|2017-03-08 20:03:18|42000003-3139-420...|\n",
            "|20bb1ead-e1a4-48c...|2017-03-08 18:07:07|  6| 12|     2|2017-03-09 00:54:51|42000003-3139-420...|\n",
            "|ed463ddc-8f42-486...|2017-03-08 18:25:21|  6| 12|     2|2017-03-08 21:09:47|42000003-3139-420...|\n",
            "|7bbe2506-bc5d-47c...|2017-03-08 18:40:37|  4| 11|     2|2017-03-08 19:23:20|799f0930-4a54-435...|\n",
            "|4b79b04d-5f3a-422...|2017-03-08 19:11:46|  3| 10|     2|2017-03-08 22:39:25|7f4face6-702b-4fc...|\n",
            "|736c991f-87ca-470...|2017-03-08 19:12:16|  6| 12|     2|2017-03-08 22:34:26|42000003-3139-420...|\n",
            "|cb6d68b7-3693-4d5...|2017-03-08 19:15:23|  5|  8|     2|2017-03-08 22:43:43|dded3d59-7df2-42d...|\n",
            "|c5e75cb3-fdf6-45f...|2017-03-08 19:20:02|  4| 11|     2|2017-03-08 22:22:57|799f0930-4a54-435...|\n",
            "|229bc0f7-4516-47e...|2017-03-08 19:27:17|  3| 10|     2|2017-03-09 00:07:54|7f4face6-702b-4fc...|\n",
            "|0d837da8-c0da-49f...|2017-03-08 19:32:34|  2|  9|     2|2017-03-08 22:56:50|aec99141-71ae-431...|\n",
            "+--------------------+-------------------+---+---+------+-------------------+--------------------+\n",
            "only showing top 10 rows\n",
            "\n"
          ]
        }
      ]
    },
    {
      "cell_type": "code",
      "source": [
        "# Count NULL values in each column\n",
        "null_counts = df_cleaned.select([count(when(col(c).isNull(), c)).alias(c) for c in df_cleaned.columns])\n",
        "\n",
        "# Show the result\n",
        "null_counts.show()"
      ],
      "metadata": {
        "colab": {
          "base_uri": "https://localhost:8080/"
        },
        "id": "fdunLhzwVvhH",
        "outputId": "07a1e531-d180-41a6-bd05-dd2819409b85"
      },
      "execution_count": 55,
      "outputs": [
        {
          "output_type": "stream",
          "name": "stdout",
          "text": [
            "+---+-----+---+---+------+---------+--------+\n",
            "| id|odate|pos|uid|status|paid_date|shift_id|\n",
            "+---+-----+---+---+------+---------+--------+\n",
            "|  0|    0|  0|  0|     0|        0|       0|\n",
            "+---+-----+---+---+------+---------+--------+\n",
            "\n"
          ]
        }
      ]
    },
    {
      "cell_type": "code",
      "source": [
        "print((df_cleaned.count(), len(df_cleaned.columns)))"
      ],
      "metadata": {
        "colab": {
          "base_uri": "https://localhost:8080/"
        },
        "id": "asoBeIr6WDp7",
        "outputId": "b9ea8d58-d43e-4329-c5a5-c6fd753e55b4"
      },
      "execution_count": 56,
      "outputs": [
        {
          "output_type": "stream",
          "name": "stdout",
          "text": [
            "(278696, 7)\n"
          ]
        }
      ]
    },
    {
      "cell_type": "markdown",
      "source": [
        "# To check the unique values and their counts in the columns"
      ],
      "metadata": {
        "id": "lGr31oNmKReg"
      }
    },
    {
      "cell_type": "code",
      "source": [
        "df_orders_03.isnull().sum()"
      ],
      "metadata": {
        "colab": {
          "base_uri": "https://localhost:8080/"
        },
        "id": "B2TLkK2jooMq",
        "outputId": "b6da88a0-8a58-470b-9e13-e52a9ece9d8c"
      },
      "execution_count": 28,
      "outputs": [
        {
          "output_type": "execute_result",
          "data": {
            "text/plain": [
              "id               0\n",
              "odate            0\n",
              "pos              0\n",
              "uid              0\n",
              "status           0\n",
              "paid_date     3965\n",
              "created_at       0\n",
              "updated_at       0\n",
              "dtype: int64"
            ]
          },
          "metadata": {},
          "execution_count": 28
        }
      ]
    },
    {
      "cell_type": "code",
      "source": [
        "df_orders_03['pos'].value_counts(dropna=False, ascending=True)"
      ],
      "metadata": {
        "colab": {
          "base_uri": "https://localhost:8080/"
        },
        "id": "xsJN0F39Kf8F",
        "outputId": "85dc4083-6e83-4305-d758-089d9767e9ce"
      },
      "execution_count": 29,
      "outputs": [
        {
          "output_type": "execute_result",
          "data": {
            "text/plain": [
              "13      207\n",
              "17      283\n",
              "14     1388\n",
              "12     1655\n",
              "16     2263\n",
              "15     5898\n",
              "10     7578\n",
              "7     10558\n",
              "1     11310\n",
              "9     27008\n",
              "2     29610\n",
              "5     34290\n",
              "4     34657\n",
              "6     35580\n",
              "8     39103\n",
              "3     41273\n",
              "Name: pos, dtype: int64"
            ]
          },
          "metadata": {},
          "execution_count": 29
        }
      ]
    },
    {
      "cell_type": "code",
      "source": [
        "df_orders_03['paid_date'].value_counts(dropna=False, ascending=True)"
      ],
      "metadata": {
        "colab": {
          "base_uri": "https://localhost:8080/"
        },
        "id": "yXUFH0FgPFU8",
        "outputId": "a40cb324-4269-4a8f-e205-a8e769ded3a1"
      },
      "execution_count": 30,
      "outputs": [
        {
          "output_type": "execute_result",
          "data": {
            "text/plain": [
              "2017-08-05        1\n",
              "2021-05-06        1\n",
              "2021-03-09        1\n",
              "2020-12-17        1\n",
              "2020-12-08        1\n",
              "              ...  \n",
              "2022-10-15      237\n",
              "2018-03-03      254\n",
              "2022-12-17      255\n",
              "NaT            3965\n",
              "2001-01-01    14154\n",
              "Name: paid_date, Length: 2171, dtype: int64"
            ]
          },
          "metadata": {},
          "execution_count": 30
        }
      ]
    },
    {
      "cell_type": "code",
      "source": [
        "df_orders_03['paid_date']"
      ],
      "metadata": {
        "colab": {
          "base_uri": "https://localhost:8080/"
        },
        "id": "sRnYOeGPPzGF",
        "outputId": "775f35b3-6d5e-48f7-f222-da15f31d93ff"
      },
      "execution_count": 25,
      "outputs": [
        {
          "output_type": "execute_result",
          "data": {
            "text/plain": [
              "0        2017-03-08\n",
              "1        2017-03-09\n",
              "2        2017-03-08\n",
              "3        2017-03-08\n",
              "4        2017-03-08\n",
              "            ...    \n",
              "282656   2024-01-10\n",
              "282657   2024-01-10\n",
              "282658          NaT\n",
              "282659   2001-01-01\n",
              "282660          NaT\n",
              "Name: paid_date, Length: 282661, dtype: datetime64[ns]"
            ]
          },
          "metadata": {},
          "execution_count": 25
        }
      ]
    },
    {
      "cell_type": "code",
      "source": [
        "df_orders_03.isnull().sum()"
      ],
      "metadata": {
        "colab": {
          "base_uri": "https://localhost:8080/"
        },
        "id": "EHq7gpTmCc98",
        "outputId": "2f423d6f-d941-4403-de3d-803c88d7a1ae"
      },
      "execution_count": 20,
      "outputs": [
        {
          "output_type": "execute_result",
          "data": {
            "text/plain": [
              "id               0\n",
              "odate            0\n",
              "pos              0\n",
              "uid              0\n",
              "status           0\n",
              "paid_date     3965\n",
              "created_at       0\n",
              "updated_at       0\n",
              "dtype: int64"
            ]
          },
          "metadata": {},
          "execution_count": 20
        }
      ]
    },
    {
      "cell_type": "code",
      "source": [
        "# Drop rows where 'paid_date' is NULL\n",
        "df_orders_04 = df_orders_03.dropna(subset=['paid_date'])"
      ],
      "metadata": {
        "id": "Un7BhSNRXCXq"
      },
      "execution_count": 21,
      "outputs": []
    },
    {
      "cell_type": "code",
      "source": [
        "df_orders_04.isnull().sum()"
      ],
      "metadata": {
        "colab": {
          "base_uri": "https://localhost:8080/"
        },
        "id": "BDYW98zqpcgk",
        "outputId": "294f0a95-542f-484e-8e45-137d300fc226"
      },
      "execution_count": 22,
      "outputs": [
        {
          "output_type": "execute_result",
          "data": {
            "text/plain": [
              "id            0\n",
              "odate         0\n",
              "pos           0\n",
              "uid           0\n",
              "status        0\n",
              "paid_date     0\n",
              "created_at    0\n",
              "updated_at    0\n",
              "dtype: int64"
            ]
          },
          "metadata": {},
          "execution_count": 22
        }
      ]
    },
    {
      "cell_type": "code",
      "source": [
        "df_orders_04.shape"
      ],
      "metadata": {
        "colab": {
          "base_uri": "https://localhost:8080/"
        },
        "id": "lPq71V4vXlYf",
        "outputId": "5b8a741f-10a1-4aeb-d859-9500d77f0cc1"
      },
      "execution_count": 28,
      "outputs": [
        {
          "output_type": "execute_result",
          "data": {
            "text/plain": [
              "(278696, 8)"
            ]
          },
          "metadata": {},
          "execution_count": 28
        }
      ]
    },
    {
      "cell_type": "code",
      "source": [
        "282661 - 278696\n"
      ],
      "metadata": {
        "colab": {
          "base_uri": "https://localhost:8080/"
        },
        "id": "6-lL-eLYg-3v",
        "outputId": "7864630f-e5db-47d6-c863-3d1098aa5aa1"
      },
      "execution_count": 65,
      "outputs": [
        {
          "output_type": "execute_result",
          "data": {
            "text/plain": [
              "3965"
            ]
          },
          "metadata": {},
          "execution_count": 65
        }
      ]
    },
    {
      "cell_type": "code",
      "source": [
        "df_orders_04.to_csv('/content/drive/MyDrive/df_orders_04.csv', index=False)"
      ],
      "metadata": {
        "id": "3vC_MC5ZhQ7l"
      },
      "execution_count": 23,
      "outputs": []
    },
    {
      "cell_type": "code",
      "source": [
        "df_orders_04.shape"
      ],
      "metadata": {
        "colab": {
          "base_uri": "https://localhost:8080/"
        },
        "id": "wddQhHf3GrO-",
        "outputId": "04b2f517-fdb2-4a81-d3e7-27c8d514d77c"
      },
      "execution_count": 36,
      "outputs": [
        {
          "output_type": "execute_result",
          "data": {
            "text/plain": [
              "(278696, 8)"
            ]
          },
          "metadata": {},
          "execution_count": 36
        }
      ]
    },
    {
      "cell_type": "markdown",
      "source": [
        "# Spark order_clean"
      ],
      "metadata": {
        "id": "Ax26B8NFz0fA"
      }
    },
    {
      "cell_type": "code",
      "source": [
        "csv_dir = '/content/drive/MyDrive/df_orders_04.csv'\n",
        "df_orders_clean_spark = spark.read.format(\"csv\").load(csv_dir, header=True, inferSchema=True)\n",
        "\n",
        "df_orders_clean_spark.printSchema()"
      ],
      "metadata": {
        "colab": {
          "base_uri": "https://localhost:8080/"
        },
        "id": "KOdQDYmizua3",
        "outputId": "55cc1370-25bd-4102-a78e-a7f185290f91"
      },
      "execution_count": 29,
      "outputs": [
        {
          "output_type": "stream",
          "name": "stdout",
          "text": [
            "root\n",
            " |-- id: string (nullable = true)\n",
            " |-- odate: timestamp (nullable = true)\n",
            " |-- pos: integer (nullable = true)\n",
            " |-- uid: integer (nullable = true)\n",
            " |-- status: integer (nullable = true)\n",
            " |-- paid_date: timestamp (nullable = true)\n",
            " |-- shift_id: string (nullable = true)\n",
            "\n"
          ]
        }
      ]
    },
    {
      "cell_type": "code",
      "source": [
        "type(df_orders_clean_spark)"
      ],
      "metadata": {
        "colab": {
          "base_uri": "https://localhost:8080/"
        },
        "id": "POFPbxGr0qCq",
        "outputId": "5da24193-bdca-4106-ac6a-4495c9bbea31"
      },
      "execution_count": 30,
      "outputs": [
        {
          "output_type": "execute_result",
          "data": {
            "text/plain": [
              "pyspark.sql.dataframe.DataFrame"
            ]
          },
          "metadata": {},
          "execution_count": 30
        }
      ]
    },
    {
      "cell_type": "code",
      "source": [
        "print((df_orders_clean_spark.count(), len(df_orders_clean_spark.columns)))"
      ],
      "metadata": {
        "colab": {
          "base_uri": "https://localhost:8080/"
        },
        "id": "4yeqoslc0pKa",
        "outputId": "de88845c-28c8-4b0c-9f5e-1be4f71bff8f"
      },
      "execution_count": 31,
      "outputs": [
        {
          "output_type": "stream",
          "name": "stdout",
          "text": [
            "(278696, 7)\n"
          ]
        }
      ]
    },
    {
      "cell_type": "code",
      "source": [
        "df_orders_clean_spark.show(10)"
      ],
      "metadata": {
        "colab": {
          "base_uri": "https://localhost:8080/"
        },
        "id": "hTknb0JY31NI",
        "outputId": "96118d48-a3d9-4991-bf3b-1e34376d5b41"
      },
      "execution_count": 39,
      "outputs": [
        {
          "output_type": "stream",
          "name": "stdout",
          "text": [
            "+--------------------+-------------------+---+---+------+-------------------+--------------------+\n",
            "|                  id|              odate|pos|uid|status|          paid_date|            shift_id|\n",
            "+--------------------+-------------------+---+---+------+-------------------+--------------------+\n",
            "|374c214d-52f8-4bd...|2017-03-08 17:49:25|  6| 12|     2|2017-03-08 20:03:18|42000003-3139-420...|\n",
            "|20bb1ead-e1a4-48c...|2017-03-08 18:07:07|  6| 12|     2|2017-03-09 00:54:51|42000003-3139-420...|\n",
            "|ed463ddc-8f42-486...|2017-03-08 18:25:21|  6| 12|     2|2017-03-08 21:09:47|42000003-3139-420...|\n",
            "|7bbe2506-bc5d-47c...|2017-03-08 18:40:37|  4| 11|     2|2017-03-08 19:23:20|799f0930-4a54-435...|\n",
            "|4b79b04d-5f3a-422...|2017-03-08 19:11:46|  3| 10|     2|2017-03-08 22:39:25|7f4face6-702b-4fc...|\n",
            "|736c991f-87ca-470...|2017-03-08 19:12:16|  6| 12|     2|2017-03-08 22:34:26|42000003-3139-420...|\n",
            "|cb6d68b7-3693-4d5...|2017-03-08 19:15:23|  5|  8|     2|2017-03-08 22:43:43|dded3d59-7df2-42d...|\n",
            "|c5e75cb3-fdf6-45f...|2017-03-08 19:20:02|  4| 11|     2|2017-03-08 22:22:57|799f0930-4a54-435...|\n",
            "|229bc0f7-4516-47e...|2017-03-08 19:27:17|  3| 10|     2|2017-03-09 00:07:54|7f4face6-702b-4fc...|\n",
            "|0d837da8-c0da-49f...|2017-03-08 19:32:34|  2|  9|     2|2017-03-08 22:56:50|aec99141-71ae-431...|\n",
            "+--------------------+-------------------+---+---+------+-------------------+--------------------+\n",
            "only showing top 10 rows\n",
            "\n"
          ]
        }
      ]
    },
    {
      "cell_type": "markdown",
      "source": [
        "# Access orders-status DataFrame"
      ],
      "metadata": {
        "id": "QSEaiOIO1-0F"
      }
    },
    {
      "cell_type": "code",
      "source": [
        "df_orders_status = dataframes['df_orders_statu']\n",
        "\n",
        "df_orders_status.shape"
      ],
      "metadata": {
        "colab": {
          "base_uri": "https://localhost:8080/"
        },
        "id": "tJt9P0B61ztG",
        "outputId": "fc5cfd4b-ad1c-4f9b-bd21-92d88cbe1cc4"
      },
      "execution_count": 24,
      "outputs": [
        {
          "output_type": "execute_result",
          "data": {
            "text/plain": [
              "(10, 3)"
            ]
          },
          "metadata": {},
          "execution_count": 24
        }
      ]
    },
    {
      "cell_type": "code",
      "source": [
        "df_orders_status"
      ],
      "metadata": {
        "colab": {
          "base_uri": "https://localhost:8080/",
          "height": 0
        },
        "id": "BxM8Wvnj2gIA",
        "outputId": "b7576659-ca65-4c06-ddc7-68daa2a78cc5"
      },
      "execution_count": 30,
      "outputs": [
        {
          "output_type": "execute_result",
          "data": {
            "text/plain": [
              "   id            status               name\n",
              "0  -1            Merged             Merged\n",
              "1   0              Open               Open\n",
              "2   1           Printed             Unpaid\n",
              "3   2              Paid               Paid\n",
              "4   3         Cancelled          Cancelled\n",
              "5   4  PrintedCancelled  Printed Cancelled\n",
              "6   5       PrintedOpen       Printed Open\n",
              "7   6  PartiallyPrinted  Partially Printed\n",
              "8   7      MarkedAsPaid     Marked as Paid\n",
              "9   8            Wasted             Wasted"
            ],
            "text/html": [
              "\n",
              "  <div id=\"df-431dfc62-f550-4bc3-9036-2f6ef1ddfba5\" class=\"colab-df-container\">\n",
              "    <div>\n",
              "<style scoped>\n",
              "    .dataframe tbody tr th:only-of-type {\n",
              "        vertical-align: middle;\n",
              "    }\n",
              "\n",
              "    .dataframe tbody tr th {\n",
              "        vertical-align: top;\n",
              "    }\n",
              "\n",
              "    .dataframe thead th {\n",
              "        text-align: right;\n",
              "    }\n",
              "</style>\n",
              "<table border=\"1\" class=\"dataframe\">\n",
              "  <thead>\n",
              "    <tr style=\"text-align: right;\">\n",
              "      <th></th>\n",
              "      <th>id</th>\n",
              "      <th>status</th>\n",
              "      <th>name</th>\n",
              "    </tr>\n",
              "  </thead>\n",
              "  <tbody>\n",
              "    <tr>\n",
              "      <th>0</th>\n",
              "      <td>-1</td>\n",
              "      <td>Merged</td>\n",
              "      <td>Merged</td>\n",
              "    </tr>\n",
              "    <tr>\n",
              "      <th>1</th>\n",
              "      <td>0</td>\n",
              "      <td>Open</td>\n",
              "      <td>Open</td>\n",
              "    </tr>\n",
              "    <tr>\n",
              "      <th>2</th>\n",
              "      <td>1</td>\n",
              "      <td>Printed</td>\n",
              "      <td>Unpaid</td>\n",
              "    </tr>\n",
              "    <tr>\n",
              "      <th>3</th>\n",
              "      <td>2</td>\n",
              "      <td>Paid</td>\n",
              "      <td>Paid</td>\n",
              "    </tr>\n",
              "    <tr>\n",
              "      <th>4</th>\n",
              "      <td>3</td>\n",
              "      <td>Cancelled</td>\n",
              "      <td>Cancelled</td>\n",
              "    </tr>\n",
              "    <tr>\n",
              "      <th>5</th>\n",
              "      <td>4</td>\n",
              "      <td>PrintedCancelled</td>\n",
              "      <td>Printed Cancelled</td>\n",
              "    </tr>\n",
              "    <tr>\n",
              "      <th>6</th>\n",
              "      <td>5</td>\n",
              "      <td>PrintedOpen</td>\n",
              "      <td>Printed Open</td>\n",
              "    </tr>\n",
              "    <tr>\n",
              "      <th>7</th>\n",
              "      <td>6</td>\n",
              "      <td>PartiallyPrinted</td>\n",
              "      <td>Partially Printed</td>\n",
              "    </tr>\n",
              "    <tr>\n",
              "      <th>8</th>\n",
              "      <td>7</td>\n",
              "      <td>MarkedAsPaid</td>\n",
              "      <td>Marked as Paid</td>\n",
              "    </tr>\n",
              "    <tr>\n",
              "      <th>9</th>\n",
              "      <td>8</td>\n",
              "      <td>Wasted</td>\n",
              "      <td>Wasted</td>\n",
              "    </tr>\n",
              "  </tbody>\n",
              "</table>\n",
              "</div>\n",
              "    <div class=\"colab-df-buttons\">\n",
              "\n",
              "  <div class=\"colab-df-container\">\n",
              "    <button class=\"colab-df-convert\" onclick=\"convertToInteractive('df-431dfc62-f550-4bc3-9036-2f6ef1ddfba5')\"\n",
              "            title=\"Convert this dataframe to an interactive table.\"\n",
              "            style=\"display:none;\">\n",
              "\n",
              "  <svg xmlns=\"http://www.w3.org/2000/svg\" height=\"24px\" viewBox=\"0 -960 960 960\">\n",
              "    <path d=\"M120-120v-720h720v720H120Zm60-500h600v-160H180v160Zm220 220h160v-160H400v160Zm0 220h160v-160H400v160ZM180-400h160v-160H180v160Zm440 0h160v-160H620v160ZM180-180h160v-160H180v160Zm440 0h160v-160H620v160Z\"/>\n",
              "  </svg>\n",
              "    </button>\n",
              "\n",
              "  <style>\n",
              "    .colab-df-container {\n",
              "      display:flex;\n",
              "      gap: 12px;\n",
              "    }\n",
              "\n",
              "    .colab-df-convert {\n",
              "      background-color: #E8F0FE;\n",
              "      border: none;\n",
              "      border-radius: 50%;\n",
              "      cursor: pointer;\n",
              "      display: none;\n",
              "      fill: #1967D2;\n",
              "      height: 32px;\n",
              "      padding: 0 0 0 0;\n",
              "      width: 32px;\n",
              "    }\n",
              "\n",
              "    .colab-df-convert:hover {\n",
              "      background-color: #E2EBFA;\n",
              "      box-shadow: 0px 1px 2px rgba(60, 64, 67, 0.3), 0px 1px 3px 1px rgba(60, 64, 67, 0.15);\n",
              "      fill: #174EA6;\n",
              "    }\n",
              "\n",
              "    .colab-df-buttons div {\n",
              "      margin-bottom: 4px;\n",
              "    }\n",
              "\n",
              "    [theme=dark] .colab-df-convert {\n",
              "      background-color: #3B4455;\n",
              "      fill: #D2E3FC;\n",
              "    }\n",
              "\n",
              "    [theme=dark] .colab-df-convert:hover {\n",
              "      background-color: #434B5C;\n",
              "      box-shadow: 0px 1px 3px 1px rgba(0, 0, 0, 0.15);\n",
              "      filter: drop-shadow(0px 1px 2px rgba(0, 0, 0, 0.3));\n",
              "      fill: #FFFFFF;\n",
              "    }\n",
              "  </style>\n",
              "\n",
              "    <script>\n",
              "      const buttonEl =\n",
              "        document.querySelector('#df-431dfc62-f550-4bc3-9036-2f6ef1ddfba5 button.colab-df-convert');\n",
              "      buttonEl.style.display =\n",
              "        google.colab.kernel.accessAllowed ? 'block' : 'none';\n",
              "\n",
              "      async function convertToInteractive(key) {\n",
              "        const element = document.querySelector('#df-431dfc62-f550-4bc3-9036-2f6ef1ddfba5');\n",
              "        const dataTable =\n",
              "          await google.colab.kernel.invokeFunction('convertToInteractive',\n",
              "                                                    [key], {});\n",
              "        if (!dataTable) return;\n",
              "\n",
              "        const docLinkHtml = 'Like what you see? Visit the ' +\n",
              "          '<a target=\"_blank\" href=https://colab.research.google.com/notebooks/data_table.ipynb>data table notebook</a>'\n",
              "          + ' to learn more about interactive tables.';\n",
              "        element.innerHTML = '';\n",
              "        dataTable['output_type'] = 'display_data';\n",
              "        await google.colab.output.renderOutput(dataTable, element);\n",
              "        const docLink = document.createElement('div');\n",
              "        docLink.innerHTML = docLinkHtml;\n",
              "        element.appendChild(docLink);\n",
              "      }\n",
              "    </script>\n",
              "  </div>\n",
              "\n",
              "\n",
              "<div id=\"df-f50d6d51-4888-4117-9043-0ab1e6f8b52e\">\n",
              "  <button class=\"colab-df-quickchart\" onclick=\"quickchart('df-f50d6d51-4888-4117-9043-0ab1e6f8b52e')\"\n",
              "            title=\"Suggest charts\"\n",
              "            style=\"display:none;\">\n",
              "\n",
              "<svg xmlns=\"http://www.w3.org/2000/svg\" height=\"24px\"viewBox=\"0 0 24 24\"\n",
              "     width=\"24px\">\n",
              "    <g>\n",
              "        <path d=\"M19 3H5c-1.1 0-2 .9-2 2v14c0 1.1.9 2 2 2h14c1.1 0 2-.9 2-2V5c0-1.1-.9-2-2-2zM9 17H7v-7h2v7zm4 0h-2V7h2v10zm4 0h-2v-4h2v4z\"/>\n",
              "    </g>\n",
              "</svg>\n",
              "  </button>\n",
              "\n",
              "<style>\n",
              "  .colab-df-quickchart {\n",
              "      --bg-color: #E8F0FE;\n",
              "      --fill-color: #1967D2;\n",
              "      --hover-bg-color: #E2EBFA;\n",
              "      --hover-fill-color: #174EA6;\n",
              "      --disabled-fill-color: #AAA;\n",
              "      --disabled-bg-color: #DDD;\n",
              "  }\n",
              "\n",
              "  [theme=dark] .colab-df-quickchart {\n",
              "      --bg-color: #3B4455;\n",
              "      --fill-color: #D2E3FC;\n",
              "      --hover-bg-color: #434B5C;\n",
              "      --hover-fill-color: #FFFFFF;\n",
              "      --disabled-bg-color: #3B4455;\n",
              "      --disabled-fill-color: #666;\n",
              "  }\n",
              "\n",
              "  .colab-df-quickchart {\n",
              "    background-color: var(--bg-color);\n",
              "    border: none;\n",
              "    border-radius: 50%;\n",
              "    cursor: pointer;\n",
              "    display: none;\n",
              "    fill: var(--fill-color);\n",
              "    height: 32px;\n",
              "    padding: 0;\n",
              "    width: 32px;\n",
              "  }\n",
              "\n",
              "  .colab-df-quickchart:hover {\n",
              "    background-color: var(--hover-bg-color);\n",
              "    box-shadow: 0 1px 2px rgba(60, 64, 67, 0.3), 0 1px 3px 1px rgba(60, 64, 67, 0.15);\n",
              "    fill: var(--button-hover-fill-color);\n",
              "  }\n",
              "\n",
              "  .colab-df-quickchart-complete:disabled,\n",
              "  .colab-df-quickchart-complete:disabled:hover {\n",
              "    background-color: var(--disabled-bg-color);\n",
              "    fill: var(--disabled-fill-color);\n",
              "    box-shadow: none;\n",
              "  }\n",
              "\n",
              "  .colab-df-spinner {\n",
              "    border: 2px solid var(--fill-color);\n",
              "    border-color: transparent;\n",
              "    border-bottom-color: var(--fill-color);\n",
              "    animation:\n",
              "      spin 1s steps(1) infinite;\n",
              "  }\n",
              "\n",
              "  @keyframes spin {\n",
              "    0% {\n",
              "      border-color: transparent;\n",
              "      border-bottom-color: var(--fill-color);\n",
              "      border-left-color: var(--fill-color);\n",
              "    }\n",
              "    20% {\n",
              "      border-color: transparent;\n",
              "      border-left-color: var(--fill-color);\n",
              "      border-top-color: var(--fill-color);\n",
              "    }\n",
              "    30% {\n",
              "      border-color: transparent;\n",
              "      border-left-color: var(--fill-color);\n",
              "      border-top-color: var(--fill-color);\n",
              "      border-right-color: var(--fill-color);\n",
              "    }\n",
              "    40% {\n",
              "      border-color: transparent;\n",
              "      border-right-color: var(--fill-color);\n",
              "      border-top-color: var(--fill-color);\n",
              "    }\n",
              "    60% {\n",
              "      border-color: transparent;\n",
              "      border-right-color: var(--fill-color);\n",
              "    }\n",
              "    80% {\n",
              "      border-color: transparent;\n",
              "      border-right-color: var(--fill-color);\n",
              "      border-bottom-color: var(--fill-color);\n",
              "    }\n",
              "    90% {\n",
              "      border-color: transparent;\n",
              "      border-bottom-color: var(--fill-color);\n",
              "    }\n",
              "  }\n",
              "</style>\n",
              "\n",
              "  <script>\n",
              "    async function quickchart(key) {\n",
              "      const quickchartButtonEl =\n",
              "        document.querySelector('#' + key + ' button');\n",
              "      quickchartButtonEl.disabled = true;  // To prevent multiple clicks.\n",
              "      quickchartButtonEl.classList.add('colab-df-spinner');\n",
              "      try {\n",
              "        const charts = await google.colab.kernel.invokeFunction(\n",
              "            'suggestCharts', [key], {});\n",
              "      } catch (error) {\n",
              "        console.error('Error during call to suggestCharts:', error);\n",
              "      }\n",
              "      quickchartButtonEl.classList.remove('colab-df-spinner');\n",
              "      quickchartButtonEl.classList.add('colab-df-quickchart-complete');\n",
              "    }\n",
              "    (() => {\n",
              "      let quickchartButtonEl =\n",
              "        document.querySelector('#df-f50d6d51-4888-4117-9043-0ab1e6f8b52e button');\n",
              "      quickchartButtonEl.style.display =\n",
              "        google.colab.kernel.accessAllowed ? 'block' : 'none';\n",
              "    })();\n",
              "  </script>\n",
              "</div>\n",
              "    </div>\n",
              "  </div>\n"
            ]
          },
          "metadata": {},
          "execution_count": 30
        }
      ]
    },
    {
      "cell_type": "code",
      "source": [
        "status_columns = ['id', 'name']\n",
        "\n",
        "df_orders_status_01 = df_orders_status[status_columns]\n",
        "\n",
        "df_orders_status_01.shape"
      ],
      "metadata": {
        "colab": {
          "base_uri": "https://localhost:8080/"
        },
        "id": "j4MIlak1MgLN",
        "outputId": "7bbd22db-b19d-470d-87eb-3c18050c68b6"
      },
      "execution_count": 25,
      "outputs": [
        {
          "output_type": "execute_result",
          "data": {
            "text/plain": [
              "(10, 2)"
            ]
          },
          "metadata": {},
          "execution_count": 25
        }
      ]
    },
    {
      "cell_type": "code",
      "source": [
        "df_orders_status_01"
      ],
      "metadata": {
        "colab": {
          "base_uri": "https://localhost:8080/",
          "height": 0
        },
        "id": "c8KI8llxNOBS",
        "outputId": "a824fe68-3fe6-41a1-f3f9-231a10aed025"
      },
      "execution_count": 70,
      "outputs": [
        {
          "output_type": "execute_result",
          "data": {
            "text/plain": [
              "   id               name\n",
              "0  -1             Merged\n",
              "1   0               Open\n",
              "2   1             Unpaid\n",
              "3   2               Paid\n",
              "4   3          Cancelled\n",
              "5   4  Printed Cancelled\n",
              "6   5       Printed Open\n",
              "7   6  Partially Printed\n",
              "8   7     Marked as Paid\n",
              "9   8             Wasted"
            ],
            "text/html": [
              "\n",
              "  <div id=\"df-e0c8eee3-1b0c-4ae9-b4f5-9b4218e6644e\" class=\"colab-df-container\">\n",
              "    <div>\n",
              "<style scoped>\n",
              "    .dataframe tbody tr th:only-of-type {\n",
              "        vertical-align: middle;\n",
              "    }\n",
              "\n",
              "    .dataframe tbody tr th {\n",
              "        vertical-align: top;\n",
              "    }\n",
              "\n",
              "    .dataframe thead th {\n",
              "        text-align: right;\n",
              "    }\n",
              "</style>\n",
              "<table border=\"1\" class=\"dataframe\">\n",
              "  <thead>\n",
              "    <tr style=\"text-align: right;\">\n",
              "      <th></th>\n",
              "      <th>id</th>\n",
              "      <th>name</th>\n",
              "    </tr>\n",
              "  </thead>\n",
              "  <tbody>\n",
              "    <tr>\n",
              "      <th>0</th>\n",
              "      <td>-1</td>\n",
              "      <td>Merged</td>\n",
              "    </tr>\n",
              "    <tr>\n",
              "      <th>1</th>\n",
              "      <td>0</td>\n",
              "      <td>Open</td>\n",
              "    </tr>\n",
              "    <tr>\n",
              "      <th>2</th>\n",
              "      <td>1</td>\n",
              "      <td>Unpaid</td>\n",
              "    </tr>\n",
              "    <tr>\n",
              "      <th>3</th>\n",
              "      <td>2</td>\n",
              "      <td>Paid</td>\n",
              "    </tr>\n",
              "    <tr>\n",
              "      <th>4</th>\n",
              "      <td>3</td>\n",
              "      <td>Cancelled</td>\n",
              "    </tr>\n",
              "    <tr>\n",
              "      <th>5</th>\n",
              "      <td>4</td>\n",
              "      <td>Printed Cancelled</td>\n",
              "    </tr>\n",
              "    <tr>\n",
              "      <th>6</th>\n",
              "      <td>5</td>\n",
              "      <td>Printed Open</td>\n",
              "    </tr>\n",
              "    <tr>\n",
              "      <th>7</th>\n",
              "      <td>6</td>\n",
              "      <td>Partially Printed</td>\n",
              "    </tr>\n",
              "    <tr>\n",
              "      <th>8</th>\n",
              "      <td>7</td>\n",
              "      <td>Marked as Paid</td>\n",
              "    </tr>\n",
              "    <tr>\n",
              "      <th>9</th>\n",
              "      <td>8</td>\n",
              "      <td>Wasted</td>\n",
              "    </tr>\n",
              "  </tbody>\n",
              "</table>\n",
              "</div>\n",
              "    <div class=\"colab-df-buttons\">\n",
              "\n",
              "  <div class=\"colab-df-container\">\n",
              "    <button class=\"colab-df-convert\" onclick=\"convertToInteractive('df-e0c8eee3-1b0c-4ae9-b4f5-9b4218e6644e')\"\n",
              "            title=\"Convert this dataframe to an interactive table.\"\n",
              "            style=\"display:none;\">\n",
              "\n",
              "  <svg xmlns=\"http://www.w3.org/2000/svg\" height=\"24px\" viewBox=\"0 -960 960 960\">\n",
              "    <path d=\"M120-120v-720h720v720H120Zm60-500h600v-160H180v160Zm220 220h160v-160H400v160Zm0 220h160v-160H400v160ZM180-400h160v-160H180v160Zm440 0h160v-160H620v160ZM180-180h160v-160H180v160Zm440 0h160v-160H620v160Z\"/>\n",
              "  </svg>\n",
              "    </button>\n",
              "\n",
              "  <style>\n",
              "    .colab-df-container {\n",
              "      display:flex;\n",
              "      gap: 12px;\n",
              "    }\n",
              "\n",
              "    .colab-df-convert {\n",
              "      background-color: #E8F0FE;\n",
              "      border: none;\n",
              "      border-radius: 50%;\n",
              "      cursor: pointer;\n",
              "      display: none;\n",
              "      fill: #1967D2;\n",
              "      height: 32px;\n",
              "      padding: 0 0 0 0;\n",
              "      width: 32px;\n",
              "    }\n",
              "\n",
              "    .colab-df-convert:hover {\n",
              "      background-color: #E2EBFA;\n",
              "      box-shadow: 0px 1px 2px rgba(60, 64, 67, 0.3), 0px 1px 3px 1px rgba(60, 64, 67, 0.15);\n",
              "      fill: #174EA6;\n",
              "    }\n",
              "\n",
              "    .colab-df-buttons div {\n",
              "      margin-bottom: 4px;\n",
              "    }\n",
              "\n",
              "    [theme=dark] .colab-df-convert {\n",
              "      background-color: #3B4455;\n",
              "      fill: #D2E3FC;\n",
              "    }\n",
              "\n",
              "    [theme=dark] .colab-df-convert:hover {\n",
              "      background-color: #434B5C;\n",
              "      box-shadow: 0px 1px 3px 1px rgba(0, 0, 0, 0.15);\n",
              "      filter: drop-shadow(0px 1px 2px rgba(0, 0, 0, 0.3));\n",
              "      fill: #FFFFFF;\n",
              "    }\n",
              "  </style>\n",
              "\n",
              "    <script>\n",
              "      const buttonEl =\n",
              "        document.querySelector('#df-e0c8eee3-1b0c-4ae9-b4f5-9b4218e6644e button.colab-df-convert');\n",
              "      buttonEl.style.display =\n",
              "        google.colab.kernel.accessAllowed ? 'block' : 'none';\n",
              "\n",
              "      async function convertToInteractive(key) {\n",
              "        const element = document.querySelector('#df-e0c8eee3-1b0c-4ae9-b4f5-9b4218e6644e');\n",
              "        const dataTable =\n",
              "          await google.colab.kernel.invokeFunction('convertToInteractive',\n",
              "                                                    [key], {});\n",
              "        if (!dataTable) return;\n",
              "\n",
              "        const docLinkHtml = 'Like what you see? Visit the ' +\n",
              "          '<a target=\"_blank\" href=https://colab.research.google.com/notebooks/data_table.ipynb>data table notebook</a>'\n",
              "          + ' to learn more about interactive tables.';\n",
              "        element.innerHTML = '';\n",
              "        dataTable['output_type'] = 'display_data';\n",
              "        await google.colab.output.renderOutput(dataTable, element);\n",
              "        const docLink = document.createElement('div');\n",
              "        docLink.innerHTML = docLinkHtml;\n",
              "        element.appendChild(docLink);\n",
              "      }\n",
              "    </script>\n",
              "  </div>\n",
              "\n",
              "\n",
              "<div id=\"df-2b4a6155-a79a-4da3-aac7-7e4b1d9e73f1\">\n",
              "  <button class=\"colab-df-quickchart\" onclick=\"quickchart('df-2b4a6155-a79a-4da3-aac7-7e4b1d9e73f1')\"\n",
              "            title=\"Suggest charts\"\n",
              "            style=\"display:none;\">\n",
              "\n",
              "<svg xmlns=\"http://www.w3.org/2000/svg\" height=\"24px\"viewBox=\"0 0 24 24\"\n",
              "     width=\"24px\">\n",
              "    <g>\n",
              "        <path d=\"M19 3H5c-1.1 0-2 .9-2 2v14c0 1.1.9 2 2 2h14c1.1 0 2-.9 2-2V5c0-1.1-.9-2-2-2zM9 17H7v-7h2v7zm4 0h-2V7h2v10zm4 0h-2v-4h2v4z\"/>\n",
              "    </g>\n",
              "</svg>\n",
              "  </button>\n",
              "\n",
              "<style>\n",
              "  .colab-df-quickchart {\n",
              "      --bg-color: #E8F0FE;\n",
              "      --fill-color: #1967D2;\n",
              "      --hover-bg-color: #E2EBFA;\n",
              "      --hover-fill-color: #174EA6;\n",
              "      --disabled-fill-color: #AAA;\n",
              "      --disabled-bg-color: #DDD;\n",
              "  }\n",
              "\n",
              "  [theme=dark] .colab-df-quickchart {\n",
              "      --bg-color: #3B4455;\n",
              "      --fill-color: #D2E3FC;\n",
              "      --hover-bg-color: #434B5C;\n",
              "      --hover-fill-color: #FFFFFF;\n",
              "      --disabled-bg-color: #3B4455;\n",
              "      --disabled-fill-color: #666;\n",
              "  }\n",
              "\n",
              "  .colab-df-quickchart {\n",
              "    background-color: var(--bg-color);\n",
              "    border: none;\n",
              "    border-radius: 50%;\n",
              "    cursor: pointer;\n",
              "    display: none;\n",
              "    fill: var(--fill-color);\n",
              "    height: 32px;\n",
              "    padding: 0;\n",
              "    width: 32px;\n",
              "  }\n",
              "\n",
              "  .colab-df-quickchart:hover {\n",
              "    background-color: var(--hover-bg-color);\n",
              "    box-shadow: 0 1px 2px rgba(60, 64, 67, 0.3), 0 1px 3px 1px rgba(60, 64, 67, 0.15);\n",
              "    fill: var(--button-hover-fill-color);\n",
              "  }\n",
              "\n",
              "  .colab-df-quickchart-complete:disabled,\n",
              "  .colab-df-quickchart-complete:disabled:hover {\n",
              "    background-color: var(--disabled-bg-color);\n",
              "    fill: var(--disabled-fill-color);\n",
              "    box-shadow: none;\n",
              "  }\n",
              "\n",
              "  .colab-df-spinner {\n",
              "    border: 2px solid var(--fill-color);\n",
              "    border-color: transparent;\n",
              "    border-bottom-color: var(--fill-color);\n",
              "    animation:\n",
              "      spin 1s steps(1) infinite;\n",
              "  }\n",
              "\n",
              "  @keyframes spin {\n",
              "    0% {\n",
              "      border-color: transparent;\n",
              "      border-bottom-color: var(--fill-color);\n",
              "      border-left-color: var(--fill-color);\n",
              "    }\n",
              "    20% {\n",
              "      border-color: transparent;\n",
              "      border-left-color: var(--fill-color);\n",
              "      border-top-color: var(--fill-color);\n",
              "    }\n",
              "    30% {\n",
              "      border-color: transparent;\n",
              "      border-left-color: var(--fill-color);\n",
              "      border-top-color: var(--fill-color);\n",
              "      border-right-color: var(--fill-color);\n",
              "    }\n",
              "    40% {\n",
              "      border-color: transparent;\n",
              "      border-right-color: var(--fill-color);\n",
              "      border-top-color: var(--fill-color);\n",
              "    }\n",
              "    60% {\n",
              "      border-color: transparent;\n",
              "      border-right-color: var(--fill-color);\n",
              "    }\n",
              "    80% {\n",
              "      border-color: transparent;\n",
              "      border-right-color: var(--fill-color);\n",
              "      border-bottom-color: var(--fill-color);\n",
              "    }\n",
              "    90% {\n",
              "      border-color: transparent;\n",
              "      border-bottom-color: var(--fill-color);\n",
              "    }\n",
              "  }\n",
              "</style>\n",
              "\n",
              "  <script>\n",
              "    async function quickchart(key) {\n",
              "      const quickchartButtonEl =\n",
              "        document.querySelector('#' + key + ' button');\n",
              "      quickchartButtonEl.disabled = true;  // To prevent multiple clicks.\n",
              "      quickchartButtonEl.classList.add('colab-df-spinner');\n",
              "      try {\n",
              "        const charts = await google.colab.kernel.invokeFunction(\n",
              "            'suggestCharts', [key], {});\n",
              "      } catch (error) {\n",
              "        console.error('Error during call to suggestCharts:', error);\n",
              "      }\n",
              "      quickchartButtonEl.classList.remove('colab-df-spinner');\n",
              "      quickchartButtonEl.classList.add('colab-df-quickchart-complete');\n",
              "    }\n",
              "    (() => {\n",
              "      let quickchartButtonEl =\n",
              "        document.querySelector('#df-2b4a6155-a79a-4da3-aac7-7e4b1d9e73f1 button');\n",
              "      quickchartButtonEl.style.display =\n",
              "        google.colab.kernel.accessAllowed ? 'block' : 'none';\n",
              "    })();\n",
              "  </script>\n",
              "</div>\n",
              "    </div>\n",
              "  </div>\n"
            ]
          },
          "metadata": {},
          "execution_count": 70
        }
      ]
    },
    {
      "cell_type": "code",
      "source": [
        "# save df_orders_status as csv file:\n",
        "df_orders_status_01.to_csv('/content/drive/MyDrive/df_orders_status_01.csv', index=False)"
      ],
      "metadata": {
        "id": "8Y8dyL-a2pqp"
      },
      "execution_count": 67,
      "outputs": []
    },
    {
      "cell_type": "code",
      "source": [
        "# read orders_status.csv using PySpark:\n",
        "csv_dir = '/content/drive/MyDrive/orders_status.csv'\n",
        "df_orders_status_spark = spark.read.format(\"csv\").load(csv_dir, header=True, inferSchema=True)"
      ],
      "metadata": {
        "id": "ZalU0xUy3C1t"
      },
      "execution_count": 315,
      "outputs": []
    },
    {
      "cell_type": "code",
      "source": [
        "df_orders_status_spark.show()"
      ],
      "metadata": {
        "id": "1amUzH7-3Wm9"
      },
      "execution_count": null,
      "outputs": []
    },
    {
      "cell_type": "code",
      "source": [
        "df_orders_04.shape, df_orders_status_01.shape"
      ],
      "metadata": {
        "colab": {
          "base_uri": "https://localhost:8080/"
        },
        "id": "MRHjpHfdKvYf",
        "outputId": "3213090d-14e2-46fc-f044-4afc95ee2744"
      },
      "execution_count": 32,
      "outputs": [
        {
          "output_type": "execute_result",
          "data": {
            "text/plain": [
              "((278696, 8), (10, 2))"
            ]
          },
          "metadata": {},
          "execution_count": 32
        }
      ]
    },
    {
      "cell_type": "markdown",
      "source": [
        "# Merge df_orders_clean with df_orders_status\n",
        "\n"
      ],
      "metadata": {
        "id": "XmK4HO5txM92"
      }
    },
    {
      "cell_type": "code",
      "source": [
        "df_orders_05 = df_orders_04.copy()"
      ],
      "metadata": {
        "id": "P0Qa3evLGeub"
      },
      "execution_count": 26,
      "outputs": []
    },
    {
      "cell_type": "code",
      "source": [
        "df_orders_05.columns, df_orders_05.shape"
      ],
      "metadata": {
        "colab": {
          "base_uri": "https://localhost:8080/"
        },
        "id": "VYMd0_GJGBGJ",
        "outputId": "dc30161c-e069-4a5d-bc45-ae7884d5a57d"
      },
      "execution_count": 27,
      "outputs": [
        {
          "output_type": "execute_result",
          "data": {
            "text/plain": [
              "(Index(['id', 'odate', 'pos', 'uid', 'status', 'paid_date', 'created_at',\n",
              "        'updated_at'],\n",
              "       dtype='object'),\n",
              " (278696, 8))"
            ]
          },
          "metadata": {},
          "execution_count": 27
        }
      ]
    },
    {
      "cell_type": "code",
      "source": [
        "# rename the new 'status' column if needed\n",
        "df_orders_05.rename(columns={ 'id': 'oid','created_at': 'ocreated_at',\n",
        "        'updated_at': 'oupdated_at', }, inplace=True)"
      ],
      "metadata": {
        "id": "DZZG8WxaGMmn"
      },
      "execution_count": 28,
      "outputs": []
    },
    {
      "cell_type": "code",
      "source": [
        "# Merge df_orders_05 on 'status' column and df_orders_status on corresponding 'oid' and 'status' columns\n",
        "df_orders_clean = pd.merge(\n",
        "    df_orders_05,\n",
        "    df_orders_status_01,\n",
        "    left_on='status',\n",
        "    right_on='id',\n",
        "    how='left'\n",
        ")"
      ],
      "metadata": {
        "id": "AScGavRbF1pL"
      },
      "execution_count": 29,
      "outputs": []
    },
    {
      "cell_type": "code",
      "source": [
        "df_orders_clean.columns"
      ],
      "metadata": {
        "colab": {
          "base_uri": "https://localhost:8080/"
        },
        "id": "kJrePzXWOONK",
        "outputId": "02882da3-0555-4fdf-ed60-c2ff6d273493"
      },
      "execution_count": 30,
      "outputs": [
        {
          "output_type": "execute_result",
          "data": {
            "text/plain": [
              "Index(['oid', 'odate', 'pos', 'uid', 'status', 'paid_date', 'ocreated_at',\n",
              "       'oupdated_at', 'id', 'name'],\n",
              "      dtype='object')"
            ]
          },
          "metadata": {},
          "execution_count": 30
        }
      ]
    },
    {
      "cell_type": "code",
      "source": [
        "df_orders_clean.head()"
      ],
      "metadata": {
        "colab": {
          "base_uri": "https://localhost:8080/",
          "height": 0
        },
        "id": "ql2EJniiOysC",
        "outputId": "04aee247-9b6b-46fb-9b20-6b3fd475e195"
      },
      "execution_count": 31,
      "outputs": [
        {
          "output_type": "execute_result",
          "data": {
            "text/plain": [
              "                                    oid      odate  pos  uid  status  \\\n",
              "0  374c214d-52f8-4bdd-8d30-d225b3127cc3 2017-03-08    6   12       2   \n",
              "1  20bb1ead-e1a4-48c9-b55f-cbe04831d82a 2017-03-08    6   12       2   \n",
              "2  ed463ddc-8f42-4866-afaf-d1b2ee69ef3c 2017-03-08    6   12       2   \n",
              "3  7bbe2506-bc5d-47cb-abc6-669bb023ae7e 2017-03-08    4   11       2   \n",
              "4  4b79b04d-5f3a-422b-9f83-155572a2c816 2017-03-08    3   10       2   \n",
              "\n",
              "   paid_date ocreated_at oupdated_at  id  name  \n",
              "0 2017-03-08  2017-03-08  2017-03-08   2  Paid  \n",
              "1 2017-03-09  2017-03-08  2017-03-09   2  Paid  \n",
              "2 2017-03-08  2017-03-08  2017-03-08   2  Paid  \n",
              "3 2017-03-08  2017-03-08  2017-03-08   2  Paid  \n",
              "4 2017-03-08  2017-03-08  2017-03-08   2  Paid  "
            ],
            "text/html": [
              "\n",
              "  <div id=\"df-25195f40-72eb-4e3f-8953-1233b20c999d\" class=\"colab-df-container\">\n",
              "    <div>\n",
              "<style scoped>\n",
              "    .dataframe tbody tr th:only-of-type {\n",
              "        vertical-align: middle;\n",
              "    }\n",
              "\n",
              "    .dataframe tbody tr th {\n",
              "        vertical-align: top;\n",
              "    }\n",
              "\n",
              "    .dataframe thead th {\n",
              "        text-align: right;\n",
              "    }\n",
              "</style>\n",
              "<table border=\"1\" class=\"dataframe\">\n",
              "  <thead>\n",
              "    <tr style=\"text-align: right;\">\n",
              "      <th></th>\n",
              "      <th>oid</th>\n",
              "      <th>odate</th>\n",
              "      <th>pos</th>\n",
              "      <th>uid</th>\n",
              "      <th>status</th>\n",
              "      <th>paid_date</th>\n",
              "      <th>ocreated_at</th>\n",
              "      <th>oupdated_at</th>\n",
              "      <th>id</th>\n",
              "      <th>name</th>\n",
              "    </tr>\n",
              "  </thead>\n",
              "  <tbody>\n",
              "    <tr>\n",
              "      <th>0</th>\n",
              "      <td>374c214d-52f8-4bdd-8d30-d225b3127cc3</td>\n",
              "      <td>2017-03-08</td>\n",
              "      <td>6</td>\n",
              "      <td>12</td>\n",
              "      <td>2</td>\n",
              "      <td>2017-03-08</td>\n",
              "      <td>2017-03-08</td>\n",
              "      <td>2017-03-08</td>\n",
              "      <td>2</td>\n",
              "      <td>Paid</td>\n",
              "    </tr>\n",
              "    <tr>\n",
              "      <th>1</th>\n",
              "      <td>20bb1ead-e1a4-48c9-b55f-cbe04831d82a</td>\n",
              "      <td>2017-03-08</td>\n",
              "      <td>6</td>\n",
              "      <td>12</td>\n",
              "      <td>2</td>\n",
              "      <td>2017-03-09</td>\n",
              "      <td>2017-03-08</td>\n",
              "      <td>2017-03-09</td>\n",
              "      <td>2</td>\n",
              "      <td>Paid</td>\n",
              "    </tr>\n",
              "    <tr>\n",
              "      <th>2</th>\n",
              "      <td>ed463ddc-8f42-4866-afaf-d1b2ee69ef3c</td>\n",
              "      <td>2017-03-08</td>\n",
              "      <td>6</td>\n",
              "      <td>12</td>\n",
              "      <td>2</td>\n",
              "      <td>2017-03-08</td>\n",
              "      <td>2017-03-08</td>\n",
              "      <td>2017-03-08</td>\n",
              "      <td>2</td>\n",
              "      <td>Paid</td>\n",
              "    </tr>\n",
              "    <tr>\n",
              "      <th>3</th>\n",
              "      <td>7bbe2506-bc5d-47cb-abc6-669bb023ae7e</td>\n",
              "      <td>2017-03-08</td>\n",
              "      <td>4</td>\n",
              "      <td>11</td>\n",
              "      <td>2</td>\n",
              "      <td>2017-03-08</td>\n",
              "      <td>2017-03-08</td>\n",
              "      <td>2017-03-08</td>\n",
              "      <td>2</td>\n",
              "      <td>Paid</td>\n",
              "    </tr>\n",
              "    <tr>\n",
              "      <th>4</th>\n",
              "      <td>4b79b04d-5f3a-422b-9f83-155572a2c816</td>\n",
              "      <td>2017-03-08</td>\n",
              "      <td>3</td>\n",
              "      <td>10</td>\n",
              "      <td>2</td>\n",
              "      <td>2017-03-08</td>\n",
              "      <td>2017-03-08</td>\n",
              "      <td>2017-03-08</td>\n",
              "      <td>2</td>\n",
              "      <td>Paid</td>\n",
              "    </tr>\n",
              "  </tbody>\n",
              "</table>\n",
              "</div>\n",
              "    <div class=\"colab-df-buttons\">\n",
              "\n",
              "  <div class=\"colab-df-container\">\n",
              "    <button class=\"colab-df-convert\" onclick=\"convertToInteractive('df-25195f40-72eb-4e3f-8953-1233b20c999d')\"\n",
              "            title=\"Convert this dataframe to an interactive table.\"\n",
              "            style=\"display:none;\">\n",
              "\n",
              "  <svg xmlns=\"http://www.w3.org/2000/svg\" height=\"24px\" viewBox=\"0 -960 960 960\">\n",
              "    <path d=\"M120-120v-720h720v720H120Zm60-500h600v-160H180v160Zm220 220h160v-160H400v160Zm0 220h160v-160H400v160ZM180-400h160v-160H180v160Zm440 0h160v-160H620v160ZM180-180h160v-160H180v160Zm440 0h160v-160H620v160Z\"/>\n",
              "  </svg>\n",
              "    </button>\n",
              "\n",
              "  <style>\n",
              "    .colab-df-container {\n",
              "      display:flex;\n",
              "      gap: 12px;\n",
              "    }\n",
              "\n",
              "    .colab-df-convert {\n",
              "      background-color: #E8F0FE;\n",
              "      border: none;\n",
              "      border-radius: 50%;\n",
              "      cursor: pointer;\n",
              "      display: none;\n",
              "      fill: #1967D2;\n",
              "      height: 32px;\n",
              "      padding: 0 0 0 0;\n",
              "      width: 32px;\n",
              "    }\n",
              "\n",
              "    .colab-df-convert:hover {\n",
              "      background-color: #E2EBFA;\n",
              "      box-shadow: 0px 1px 2px rgba(60, 64, 67, 0.3), 0px 1px 3px 1px rgba(60, 64, 67, 0.15);\n",
              "      fill: #174EA6;\n",
              "    }\n",
              "\n",
              "    .colab-df-buttons div {\n",
              "      margin-bottom: 4px;\n",
              "    }\n",
              "\n",
              "    [theme=dark] .colab-df-convert {\n",
              "      background-color: #3B4455;\n",
              "      fill: #D2E3FC;\n",
              "    }\n",
              "\n",
              "    [theme=dark] .colab-df-convert:hover {\n",
              "      background-color: #434B5C;\n",
              "      box-shadow: 0px 1px 3px 1px rgba(0, 0, 0, 0.15);\n",
              "      filter: drop-shadow(0px 1px 2px rgba(0, 0, 0, 0.3));\n",
              "      fill: #FFFFFF;\n",
              "    }\n",
              "  </style>\n",
              "\n",
              "    <script>\n",
              "      const buttonEl =\n",
              "        document.querySelector('#df-25195f40-72eb-4e3f-8953-1233b20c999d button.colab-df-convert');\n",
              "      buttonEl.style.display =\n",
              "        google.colab.kernel.accessAllowed ? 'block' : 'none';\n",
              "\n",
              "      async function convertToInteractive(key) {\n",
              "        const element = document.querySelector('#df-25195f40-72eb-4e3f-8953-1233b20c999d');\n",
              "        const dataTable =\n",
              "          await google.colab.kernel.invokeFunction('convertToInteractive',\n",
              "                                                    [key], {});\n",
              "        if (!dataTable) return;\n",
              "\n",
              "        const docLinkHtml = 'Like what you see? Visit the ' +\n",
              "          '<a target=\"_blank\" href=https://colab.research.google.com/notebooks/data_table.ipynb>data table notebook</a>'\n",
              "          + ' to learn more about interactive tables.';\n",
              "        element.innerHTML = '';\n",
              "        dataTable['output_type'] = 'display_data';\n",
              "        await google.colab.output.renderOutput(dataTable, element);\n",
              "        const docLink = document.createElement('div');\n",
              "        docLink.innerHTML = docLinkHtml;\n",
              "        element.appendChild(docLink);\n",
              "      }\n",
              "    </script>\n",
              "  </div>\n",
              "\n",
              "\n",
              "<div id=\"df-0f80d492-0b50-4dae-8c46-f3f6f54496af\">\n",
              "  <button class=\"colab-df-quickchart\" onclick=\"quickchart('df-0f80d492-0b50-4dae-8c46-f3f6f54496af')\"\n",
              "            title=\"Suggest charts\"\n",
              "            style=\"display:none;\">\n",
              "\n",
              "<svg xmlns=\"http://www.w3.org/2000/svg\" height=\"24px\"viewBox=\"0 0 24 24\"\n",
              "     width=\"24px\">\n",
              "    <g>\n",
              "        <path d=\"M19 3H5c-1.1 0-2 .9-2 2v14c0 1.1.9 2 2 2h14c1.1 0 2-.9 2-2V5c0-1.1-.9-2-2-2zM9 17H7v-7h2v7zm4 0h-2V7h2v10zm4 0h-2v-4h2v4z\"/>\n",
              "    </g>\n",
              "</svg>\n",
              "  </button>\n",
              "\n",
              "<style>\n",
              "  .colab-df-quickchart {\n",
              "      --bg-color: #E8F0FE;\n",
              "      --fill-color: #1967D2;\n",
              "      --hover-bg-color: #E2EBFA;\n",
              "      --hover-fill-color: #174EA6;\n",
              "      --disabled-fill-color: #AAA;\n",
              "      --disabled-bg-color: #DDD;\n",
              "  }\n",
              "\n",
              "  [theme=dark] .colab-df-quickchart {\n",
              "      --bg-color: #3B4455;\n",
              "      --fill-color: #D2E3FC;\n",
              "      --hover-bg-color: #434B5C;\n",
              "      --hover-fill-color: #FFFFFF;\n",
              "      --disabled-bg-color: #3B4455;\n",
              "      --disabled-fill-color: #666;\n",
              "  }\n",
              "\n",
              "  .colab-df-quickchart {\n",
              "    background-color: var(--bg-color);\n",
              "    border: none;\n",
              "    border-radius: 50%;\n",
              "    cursor: pointer;\n",
              "    display: none;\n",
              "    fill: var(--fill-color);\n",
              "    height: 32px;\n",
              "    padding: 0;\n",
              "    width: 32px;\n",
              "  }\n",
              "\n",
              "  .colab-df-quickchart:hover {\n",
              "    background-color: var(--hover-bg-color);\n",
              "    box-shadow: 0 1px 2px rgba(60, 64, 67, 0.3), 0 1px 3px 1px rgba(60, 64, 67, 0.15);\n",
              "    fill: var(--button-hover-fill-color);\n",
              "  }\n",
              "\n",
              "  .colab-df-quickchart-complete:disabled,\n",
              "  .colab-df-quickchart-complete:disabled:hover {\n",
              "    background-color: var(--disabled-bg-color);\n",
              "    fill: var(--disabled-fill-color);\n",
              "    box-shadow: none;\n",
              "  }\n",
              "\n",
              "  .colab-df-spinner {\n",
              "    border: 2px solid var(--fill-color);\n",
              "    border-color: transparent;\n",
              "    border-bottom-color: var(--fill-color);\n",
              "    animation:\n",
              "      spin 1s steps(1) infinite;\n",
              "  }\n",
              "\n",
              "  @keyframes spin {\n",
              "    0% {\n",
              "      border-color: transparent;\n",
              "      border-bottom-color: var(--fill-color);\n",
              "      border-left-color: var(--fill-color);\n",
              "    }\n",
              "    20% {\n",
              "      border-color: transparent;\n",
              "      border-left-color: var(--fill-color);\n",
              "      border-top-color: var(--fill-color);\n",
              "    }\n",
              "    30% {\n",
              "      border-color: transparent;\n",
              "      border-left-color: var(--fill-color);\n",
              "      border-top-color: var(--fill-color);\n",
              "      border-right-color: var(--fill-color);\n",
              "    }\n",
              "    40% {\n",
              "      border-color: transparent;\n",
              "      border-right-color: var(--fill-color);\n",
              "      border-top-color: var(--fill-color);\n",
              "    }\n",
              "    60% {\n",
              "      border-color: transparent;\n",
              "      border-right-color: var(--fill-color);\n",
              "    }\n",
              "    80% {\n",
              "      border-color: transparent;\n",
              "      border-right-color: var(--fill-color);\n",
              "      border-bottom-color: var(--fill-color);\n",
              "    }\n",
              "    90% {\n",
              "      border-color: transparent;\n",
              "      border-bottom-color: var(--fill-color);\n",
              "    }\n",
              "  }\n",
              "</style>\n",
              "\n",
              "  <script>\n",
              "    async function quickchart(key) {\n",
              "      const quickchartButtonEl =\n",
              "        document.querySelector('#' + key + ' button');\n",
              "      quickchartButtonEl.disabled = true;  // To prevent multiple clicks.\n",
              "      quickchartButtonEl.classList.add('colab-df-spinner');\n",
              "      try {\n",
              "        const charts = await google.colab.kernel.invokeFunction(\n",
              "            'suggestCharts', [key], {});\n",
              "      } catch (error) {\n",
              "        console.error('Error during call to suggestCharts:', error);\n",
              "      }\n",
              "      quickchartButtonEl.classList.remove('colab-df-spinner');\n",
              "      quickchartButtonEl.classList.add('colab-df-quickchart-complete');\n",
              "    }\n",
              "    (() => {\n",
              "      let quickchartButtonEl =\n",
              "        document.querySelector('#df-0f80d492-0b50-4dae-8c46-f3f6f54496af button');\n",
              "      quickchartButtonEl.style.display =\n",
              "        google.colab.kernel.accessAllowed ? 'block' : 'none';\n",
              "    })();\n",
              "  </script>\n",
              "</div>\n",
              "    </div>\n",
              "  </div>\n"
            ]
          },
          "metadata": {},
          "execution_count": 31
        }
      ]
    },
    {
      "cell_type": "code",
      "source": [
        "df_orders_clean.drop(['id', 'status'], axis=1, inplace=True)"
      ],
      "metadata": {
        "id": "WAzZtPNmPNem"
      },
      "execution_count": 32,
      "outputs": []
    },
    {
      "cell_type": "code",
      "source": [
        "# rename the new 'status' column if needed\n",
        "df_orders_clean.rename(columns={'name': 'ostatus'}, inplace=True)"
      ],
      "metadata": {
        "id": "DxBRjcLXOFba"
      },
      "execution_count": 33,
      "outputs": []
    },
    {
      "cell_type": "code",
      "source": [
        "df_orders_clean.shape"
      ],
      "metadata": {
        "colab": {
          "base_uri": "https://localhost:8080/"
        },
        "id": "EvaL6kDYKis1",
        "outputId": "addc6403-fa0a-4cd9-bb9d-02b80a221ed1"
      },
      "execution_count": 34,
      "outputs": [
        {
          "output_type": "execute_result",
          "data": {
            "text/plain": [
              "(278696, 8)"
            ]
          },
          "metadata": {},
          "execution_count": 34
        }
      ]
    },
    {
      "cell_type": "code",
      "source": [
        "df_orders_clean.head()"
      ],
      "metadata": {
        "colab": {
          "base_uri": "https://localhost:8080/",
          "height": 0
        },
        "id": "6DLd4MW7KmCv",
        "outputId": "7dfcd356-ab77-4c29-dda6-1f3729b7e600"
      },
      "execution_count": 35,
      "outputs": [
        {
          "output_type": "execute_result",
          "data": {
            "text/plain": [
              "                                    oid      odate  pos  uid  paid_date  \\\n",
              "0  374c214d-52f8-4bdd-8d30-d225b3127cc3 2017-03-08    6   12 2017-03-08   \n",
              "1  20bb1ead-e1a4-48c9-b55f-cbe04831d82a 2017-03-08    6   12 2017-03-09   \n",
              "2  ed463ddc-8f42-4866-afaf-d1b2ee69ef3c 2017-03-08    6   12 2017-03-08   \n",
              "3  7bbe2506-bc5d-47cb-abc6-669bb023ae7e 2017-03-08    4   11 2017-03-08   \n",
              "4  4b79b04d-5f3a-422b-9f83-155572a2c816 2017-03-08    3   10 2017-03-08   \n",
              "\n",
              "  ocreated_at oupdated_at ostatus  \n",
              "0  2017-03-08  2017-03-08    Paid  \n",
              "1  2017-03-08  2017-03-09    Paid  \n",
              "2  2017-03-08  2017-03-08    Paid  \n",
              "3  2017-03-08  2017-03-08    Paid  \n",
              "4  2017-03-08  2017-03-08    Paid  "
            ],
            "text/html": [
              "\n",
              "  <div id=\"df-61684f9d-0b42-4d05-9162-ab1a96e7a345\" class=\"colab-df-container\">\n",
              "    <div>\n",
              "<style scoped>\n",
              "    .dataframe tbody tr th:only-of-type {\n",
              "        vertical-align: middle;\n",
              "    }\n",
              "\n",
              "    .dataframe tbody tr th {\n",
              "        vertical-align: top;\n",
              "    }\n",
              "\n",
              "    .dataframe thead th {\n",
              "        text-align: right;\n",
              "    }\n",
              "</style>\n",
              "<table border=\"1\" class=\"dataframe\">\n",
              "  <thead>\n",
              "    <tr style=\"text-align: right;\">\n",
              "      <th></th>\n",
              "      <th>oid</th>\n",
              "      <th>odate</th>\n",
              "      <th>pos</th>\n",
              "      <th>uid</th>\n",
              "      <th>paid_date</th>\n",
              "      <th>ocreated_at</th>\n",
              "      <th>oupdated_at</th>\n",
              "      <th>ostatus</th>\n",
              "    </tr>\n",
              "  </thead>\n",
              "  <tbody>\n",
              "    <tr>\n",
              "      <th>0</th>\n",
              "      <td>374c214d-52f8-4bdd-8d30-d225b3127cc3</td>\n",
              "      <td>2017-03-08</td>\n",
              "      <td>6</td>\n",
              "      <td>12</td>\n",
              "      <td>2017-03-08</td>\n",
              "      <td>2017-03-08</td>\n",
              "      <td>2017-03-08</td>\n",
              "      <td>Paid</td>\n",
              "    </tr>\n",
              "    <tr>\n",
              "      <th>1</th>\n",
              "      <td>20bb1ead-e1a4-48c9-b55f-cbe04831d82a</td>\n",
              "      <td>2017-03-08</td>\n",
              "      <td>6</td>\n",
              "      <td>12</td>\n",
              "      <td>2017-03-09</td>\n",
              "      <td>2017-03-08</td>\n",
              "      <td>2017-03-09</td>\n",
              "      <td>Paid</td>\n",
              "    </tr>\n",
              "    <tr>\n",
              "      <th>2</th>\n",
              "      <td>ed463ddc-8f42-4866-afaf-d1b2ee69ef3c</td>\n",
              "      <td>2017-03-08</td>\n",
              "      <td>6</td>\n",
              "      <td>12</td>\n",
              "      <td>2017-03-08</td>\n",
              "      <td>2017-03-08</td>\n",
              "      <td>2017-03-08</td>\n",
              "      <td>Paid</td>\n",
              "    </tr>\n",
              "    <tr>\n",
              "      <th>3</th>\n",
              "      <td>7bbe2506-bc5d-47cb-abc6-669bb023ae7e</td>\n",
              "      <td>2017-03-08</td>\n",
              "      <td>4</td>\n",
              "      <td>11</td>\n",
              "      <td>2017-03-08</td>\n",
              "      <td>2017-03-08</td>\n",
              "      <td>2017-03-08</td>\n",
              "      <td>Paid</td>\n",
              "    </tr>\n",
              "    <tr>\n",
              "      <th>4</th>\n",
              "      <td>4b79b04d-5f3a-422b-9f83-155572a2c816</td>\n",
              "      <td>2017-03-08</td>\n",
              "      <td>3</td>\n",
              "      <td>10</td>\n",
              "      <td>2017-03-08</td>\n",
              "      <td>2017-03-08</td>\n",
              "      <td>2017-03-08</td>\n",
              "      <td>Paid</td>\n",
              "    </tr>\n",
              "  </tbody>\n",
              "</table>\n",
              "</div>\n",
              "    <div class=\"colab-df-buttons\">\n",
              "\n",
              "  <div class=\"colab-df-container\">\n",
              "    <button class=\"colab-df-convert\" onclick=\"convertToInteractive('df-61684f9d-0b42-4d05-9162-ab1a96e7a345')\"\n",
              "            title=\"Convert this dataframe to an interactive table.\"\n",
              "            style=\"display:none;\">\n",
              "\n",
              "  <svg xmlns=\"http://www.w3.org/2000/svg\" height=\"24px\" viewBox=\"0 -960 960 960\">\n",
              "    <path d=\"M120-120v-720h720v720H120Zm60-500h600v-160H180v160Zm220 220h160v-160H400v160Zm0 220h160v-160H400v160ZM180-400h160v-160H180v160Zm440 0h160v-160H620v160ZM180-180h160v-160H180v160Zm440 0h160v-160H620v160Z\"/>\n",
              "  </svg>\n",
              "    </button>\n",
              "\n",
              "  <style>\n",
              "    .colab-df-container {\n",
              "      display:flex;\n",
              "      gap: 12px;\n",
              "    }\n",
              "\n",
              "    .colab-df-convert {\n",
              "      background-color: #E8F0FE;\n",
              "      border: none;\n",
              "      border-radius: 50%;\n",
              "      cursor: pointer;\n",
              "      display: none;\n",
              "      fill: #1967D2;\n",
              "      height: 32px;\n",
              "      padding: 0 0 0 0;\n",
              "      width: 32px;\n",
              "    }\n",
              "\n",
              "    .colab-df-convert:hover {\n",
              "      background-color: #E2EBFA;\n",
              "      box-shadow: 0px 1px 2px rgba(60, 64, 67, 0.3), 0px 1px 3px 1px rgba(60, 64, 67, 0.15);\n",
              "      fill: #174EA6;\n",
              "    }\n",
              "\n",
              "    .colab-df-buttons div {\n",
              "      margin-bottom: 4px;\n",
              "    }\n",
              "\n",
              "    [theme=dark] .colab-df-convert {\n",
              "      background-color: #3B4455;\n",
              "      fill: #D2E3FC;\n",
              "    }\n",
              "\n",
              "    [theme=dark] .colab-df-convert:hover {\n",
              "      background-color: #434B5C;\n",
              "      box-shadow: 0px 1px 3px 1px rgba(0, 0, 0, 0.15);\n",
              "      filter: drop-shadow(0px 1px 2px rgba(0, 0, 0, 0.3));\n",
              "      fill: #FFFFFF;\n",
              "    }\n",
              "  </style>\n",
              "\n",
              "    <script>\n",
              "      const buttonEl =\n",
              "        document.querySelector('#df-61684f9d-0b42-4d05-9162-ab1a96e7a345 button.colab-df-convert');\n",
              "      buttonEl.style.display =\n",
              "        google.colab.kernel.accessAllowed ? 'block' : 'none';\n",
              "\n",
              "      async function convertToInteractive(key) {\n",
              "        const element = document.querySelector('#df-61684f9d-0b42-4d05-9162-ab1a96e7a345');\n",
              "        const dataTable =\n",
              "          await google.colab.kernel.invokeFunction('convertToInteractive',\n",
              "                                                    [key], {});\n",
              "        if (!dataTable) return;\n",
              "\n",
              "        const docLinkHtml = 'Like what you see? Visit the ' +\n",
              "          '<a target=\"_blank\" href=https://colab.research.google.com/notebooks/data_table.ipynb>data table notebook</a>'\n",
              "          + ' to learn more about interactive tables.';\n",
              "        element.innerHTML = '';\n",
              "        dataTable['output_type'] = 'display_data';\n",
              "        await google.colab.output.renderOutput(dataTable, element);\n",
              "        const docLink = document.createElement('div');\n",
              "        docLink.innerHTML = docLinkHtml;\n",
              "        element.appendChild(docLink);\n",
              "      }\n",
              "    </script>\n",
              "  </div>\n",
              "\n",
              "\n",
              "<div id=\"df-f54a58c8-a01d-48a8-a6a0-3c8fe6ec0efc\">\n",
              "  <button class=\"colab-df-quickchart\" onclick=\"quickchart('df-f54a58c8-a01d-48a8-a6a0-3c8fe6ec0efc')\"\n",
              "            title=\"Suggest charts\"\n",
              "            style=\"display:none;\">\n",
              "\n",
              "<svg xmlns=\"http://www.w3.org/2000/svg\" height=\"24px\"viewBox=\"0 0 24 24\"\n",
              "     width=\"24px\">\n",
              "    <g>\n",
              "        <path d=\"M19 3H5c-1.1 0-2 .9-2 2v14c0 1.1.9 2 2 2h14c1.1 0 2-.9 2-2V5c0-1.1-.9-2-2-2zM9 17H7v-7h2v7zm4 0h-2V7h2v10zm4 0h-2v-4h2v4z\"/>\n",
              "    </g>\n",
              "</svg>\n",
              "  </button>\n",
              "\n",
              "<style>\n",
              "  .colab-df-quickchart {\n",
              "      --bg-color: #E8F0FE;\n",
              "      --fill-color: #1967D2;\n",
              "      --hover-bg-color: #E2EBFA;\n",
              "      --hover-fill-color: #174EA6;\n",
              "      --disabled-fill-color: #AAA;\n",
              "      --disabled-bg-color: #DDD;\n",
              "  }\n",
              "\n",
              "  [theme=dark] .colab-df-quickchart {\n",
              "      --bg-color: #3B4455;\n",
              "      --fill-color: #D2E3FC;\n",
              "      --hover-bg-color: #434B5C;\n",
              "      --hover-fill-color: #FFFFFF;\n",
              "      --disabled-bg-color: #3B4455;\n",
              "      --disabled-fill-color: #666;\n",
              "  }\n",
              "\n",
              "  .colab-df-quickchart {\n",
              "    background-color: var(--bg-color);\n",
              "    border: none;\n",
              "    border-radius: 50%;\n",
              "    cursor: pointer;\n",
              "    display: none;\n",
              "    fill: var(--fill-color);\n",
              "    height: 32px;\n",
              "    padding: 0;\n",
              "    width: 32px;\n",
              "  }\n",
              "\n",
              "  .colab-df-quickchart:hover {\n",
              "    background-color: var(--hover-bg-color);\n",
              "    box-shadow: 0 1px 2px rgba(60, 64, 67, 0.3), 0 1px 3px 1px rgba(60, 64, 67, 0.15);\n",
              "    fill: var(--button-hover-fill-color);\n",
              "  }\n",
              "\n",
              "  .colab-df-quickchart-complete:disabled,\n",
              "  .colab-df-quickchart-complete:disabled:hover {\n",
              "    background-color: var(--disabled-bg-color);\n",
              "    fill: var(--disabled-fill-color);\n",
              "    box-shadow: none;\n",
              "  }\n",
              "\n",
              "  .colab-df-spinner {\n",
              "    border: 2px solid var(--fill-color);\n",
              "    border-color: transparent;\n",
              "    border-bottom-color: var(--fill-color);\n",
              "    animation:\n",
              "      spin 1s steps(1) infinite;\n",
              "  }\n",
              "\n",
              "  @keyframes spin {\n",
              "    0% {\n",
              "      border-color: transparent;\n",
              "      border-bottom-color: var(--fill-color);\n",
              "      border-left-color: var(--fill-color);\n",
              "    }\n",
              "    20% {\n",
              "      border-color: transparent;\n",
              "      border-left-color: var(--fill-color);\n",
              "      border-top-color: var(--fill-color);\n",
              "    }\n",
              "    30% {\n",
              "      border-color: transparent;\n",
              "      border-left-color: var(--fill-color);\n",
              "      border-top-color: var(--fill-color);\n",
              "      border-right-color: var(--fill-color);\n",
              "    }\n",
              "    40% {\n",
              "      border-color: transparent;\n",
              "      border-right-color: var(--fill-color);\n",
              "      border-top-color: var(--fill-color);\n",
              "    }\n",
              "    60% {\n",
              "      border-color: transparent;\n",
              "      border-right-color: var(--fill-color);\n",
              "    }\n",
              "    80% {\n",
              "      border-color: transparent;\n",
              "      border-right-color: var(--fill-color);\n",
              "      border-bottom-color: var(--fill-color);\n",
              "    }\n",
              "    90% {\n",
              "      border-color: transparent;\n",
              "      border-bottom-color: var(--fill-color);\n",
              "    }\n",
              "  }\n",
              "</style>\n",
              "\n",
              "  <script>\n",
              "    async function quickchart(key) {\n",
              "      const quickchartButtonEl =\n",
              "        document.querySelector('#' + key + ' button');\n",
              "      quickchartButtonEl.disabled = true;  // To prevent multiple clicks.\n",
              "      quickchartButtonEl.classList.add('colab-df-spinner');\n",
              "      try {\n",
              "        const charts = await google.colab.kernel.invokeFunction(\n",
              "            'suggestCharts', [key], {});\n",
              "      } catch (error) {\n",
              "        console.error('Error during call to suggestCharts:', error);\n",
              "      }\n",
              "      quickchartButtonEl.classList.remove('colab-df-spinner');\n",
              "      quickchartButtonEl.classList.add('colab-df-quickchart-complete');\n",
              "    }\n",
              "    (() => {\n",
              "      let quickchartButtonEl =\n",
              "        document.querySelector('#df-f54a58c8-a01d-48a8-a6a0-3c8fe6ec0efc button');\n",
              "      quickchartButtonEl.style.display =\n",
              "        google.colab.kernel.accessAllowed ? 'block' : 'none';\n",
              "    })();\n",
              "  </script>\n",
              "</div>\n",
              "    </div>\n",
              "  </div>\n"
            ]
          },
          "metadata": {},
          "execution_count": 35
        }
      ]
    },
    {
      "cell_type": "code",
      "source": [
        "# Convert 'status' to a categorical type\n",
        "df_orders_clean['ostatus'] = df_orders_clean['ostatus'].astype('category')"
      ],
      "metadata": {
        "id": "62xAB2GIF8x1"
      },
      "execution_count": 36,
      "outputs": []
    },
    {
      "cell_type": "code",
      "source": [
        "df_orders_clean['ostatus'].value_counts()"
      ],
      "metadata": {
        "colab": {
          "base_uri": "https://localhost:8080/"
        },
        "id": "CTeLYS7xQyHy",
        "outputId": "57b8a134-2ced-455d-85dd-83c5e5381ca1"
      },
      "execution_count": 46,
      "outputs": [
        {
          "output_type": "execute_result",
          "data": {
            "text/plain": [
              "Paid                 277847\n",
              "Merged                  686\n",
              "Unpaid                  147\n",
              "Printed Cancelled        12\n",
              "Printed Open              3\n",
              "Wasted                    1\n",
              "Name: ostatus, dtype: int64"
            ]
          },
          "metadata": {},
          "execution_count": 46
        }
      ]
    },
    {
      "cell_type": "code",
      "source": [
        "# Apply one-hot encoding\n",
        "df_orders_clean_01 = pd.get_dummies(df_orders_clean, columns=['ostatus'], prefix='ostatus')"
      ],
      "metadata": {
        "id": "lku9GXvdxsX6"
      },
      "execution_count": 37,
      "outputs": []
    },
    {
      "cell_type": "code",
      "source": [
        "df_orders_clean_01.shape"
      ],
      "metadata": {
        "colab": {
          "base_uri": "https://localhost:8080/"
        },
        "id": "VylyrE7ENZN6",
        "outputId": "f5be0bb5-d34f-408f-cfe2-b6f52f2fabf8"
      },
      "execution_count": 38,
      "outputs": [
        {
          "output_type": "execute_result",
          "data": {
            "text/plain": [
              "(278696, 13)"
            ]
          },
          "metadata": {},
          "execution_count": 38
        }
      ]
    },
    {
      "cell_type": "code",
      "source": [
        "df_orders_clean_01.columns"
      ],
      "metadata": {
        "colab": {
          "base_uri": "https://localhost:8080/"
        },
        "id": "qahfD8k_NhwU",
        "outputId": "ef0e4574-b05b-4147-f475-3573b800e16b"
      },
      "execution_count": 81,
      "outputs": [
        {
          "output_type": "execute_result",
          "data": {
            "text/plain": [
              "Index(['oid', 'odate', 'pos', 'uid', 'paid_date', 'ocreated_at', 'oupdated_at',\n",
              "       'ostatus_Merged', 'ostatus_Paid', 'ostatus_Printed Cancelled',\n",
              "       'ostatus_Printed Open', 'ostatus_Unpaid', 'ostatus_Wasted'],\n",
              "      dtype='object')"
            ]
          },
          "metadata": {},
          "execution_count": 81
        }
      ]
    },
    {
      "cell_type": "code",
      "source": [
        "df_orders_clean_01['ostatus_Wasted'].value_counts(dropna=False, ascending=True)"
      ],
      "metadata": {
        "colab": {
          "base_uri": "https://localhost:8080/"
        },
        "id": "qiNTakL1Aq3D",
        "outputId": "316308ff-9c39-4ea6-a087-c9a2ec51245c"
      },
      "execution_count": 83,
      "outputs": [
        {
          "output_type": "execute_result",
          "data": {
            "text/plain": [
              "1         1\n",
              "0    278695\n",
              "Name: ostatus_Wasted, dtype: int64"
            ]
          },
          "metadata": {},
          "execution_count": 83
        }
      ]
    },
    {
      "cell_type": "code",
      "source": [
        "# save df_order_final as csv file:\n",
        "df_orders_clean_01.to_csv('/content/drive/MyDrive/orders_final.csv', index=False)"
      ],
      "metadata": {
        "id": "qcHMk0GGNsBb"
      },
      "execution_count": 48,
      "outputs": []
    },
    {
      "cell_type": "code",
      "source": [
        "df_orders_clean_01.head()"
      ],
      "metadata": {
        "colab": {
          "base_uri": "https://localhost:8080/",
          "height": 0
        },
        "id": "WcboozvdJx6g",
        "outputId": "3486feab-a680-4331-dd19-ebb3b5371b4f"
      },
      "execution_count": 108,
      "outputs": [
        {
          "output_type": "execute_result",
          "data": {
            "text/plain": [
              "                                     id      odate  pos  uid  paid_date  \\\n",
              "0  374c214d-52f8-4bdd-8d30-d225b3127cc3 2017-03-08    6   12 2017-03-08   \n",
              "1  20bb1ead-e1a4-48c9-b55f-cbe04831d82a 2017-03-08    6   12 2017-03-09   \n",
              "2  ed463ddc-8f42-4866-afaf-d1b2ee69ef3c 2017-03-08    6   12 2017-03-08   \n",
              "3  7bbe2506-bc5d-47cb-abc6-669bb023ae7e 2017-03-08    4   11 2017-03-08   \n",
              "4  4b79b04d-5f3a-422b-9f83-155572a2c816 2017-03-08    3   10 2017-03-08   \n",
              "\n",
              "  created_at updated_at  status_Merged  status_Paid  status_Printed Cancelled  \\\n",
              "0 2017-03-08 2017-03-08              0            1                         0   \n",
              "1 2017-03-08 2017-03-09              0            1                         0   \n",
              "2 2017-03-08 2017-03-08              0            1                         0   \n",
              "3 2017-03-08 2017-03-08              0            1                         0   \n",
              "4 2017-03-08 2017-03-08              0            1                         0   \n",
              "\n",
              "   status_Printed Open  status_Unpaid  status_Wasted  \n",
              "0                    0              0              0  \n",
              "1                    0              0              0  \n",
              "2                    0              0              0  \n",
              "3                    0              0              0  \n",
              "4                    0              0              0  "
            ],
            "text/html": [
              "\n",
              "  <div id=\"df-be413c18-3f67-42b9-98ed-35636ad55947\" class=\"colab-df-container\">\n",
              "    <div>\n",
              "<style scoped>\n",
              "    .dataframe tbody tr th:only-of-type {\n",
              "        vertical-align: middle;\n",
              "    }\n",
              "\n",
              "    .dataframe tbody tr th {\n",
              "        vertical-align: top;\n",
              "    }\n",
              "\n",
              "    .dataframe thead th {\n",
              "        text-align: right;\n",
              "    }\n",
              "</style>\n",
              "<table border=\"1\" class=\"dataframe\">\n",
              "  <thead>\n",
              "    <tr style=\"text-align: right;\">\n",
              "      <th></th>\n",
              "      <th>id</th>\n",
              "      <th>odate</th>\n",
              "      <th>pos</th>\n",
              "      <th>uid</th>\n",
              "      <th>paid_date</th>\n",
              "      <th>created_at</th>\n",
              "      <th>updated_at</th>\n",
              "      <th>status_Merged</th>\n",
              "      <th>status_Paid</th>\n",
              "      <th>status_Printed Cancelled</th>\n",
              "      <th>status_Printed Open</th>\n",
              "      <th>status_Unpaid</th>\n",
              "      <th>status_Wasted</th>\n",
              "    </tr>\n",
              "  </thead>\n",
              "  <tbody>\n",
              "    <tr>\n",
              "      <th>0</th>\n",
              "      <td>374c214d-52f8-4bdd-8d30-d225b3127cc3</td>\n",
              "      <td>2017-03-08</td>\n",
              "      <td>6</td>\n",
              "      <td>12</td>\n",
              "      <td>2017-03-08</td>\n",
              "      <td>2017-03-08</td>\n",
              "      <td>2017-03-08</td>\n",
              "      <td>0</td>\n",
              "      <td>1</td>\n",
              "      <td>0</td>\n",
              "      <td>0</td>\n",
              "      <td>0</td>\n",
              "      <td>0</td>\n",
              "    </tr>\n",
              "    <tr>\n",
              "      <th>1</th>\n",
              "      <td>20bb1ead-e1a4-48c9-b55f-cbe04831d82a</td>\n",
              "      <td>2017-03-08</td>\n",
              "      <td>6</td>\n",
              "      <td>12</td>\n",
              "      <td>2017-03-09</td>\n",
              "      <td>2017-03-08</td>\n",
              "      <td>2017-03-09</td>\n",
              "      <td>0</td>\n",
              "      <td>1</td>\n",
              "      <td>0</td>\n",
              "      <td>0</td>\n",
              "      <td>0</td>\n",
              "      <td>0</td>\n",
              "    </tr>\n",
              "    <tr>\n",
              "      <th>2</th>\n",
              "      <td>ed463ddc-8f42-4866-afaf-d1b2ee69ef3c</td>\n",
              "      <td>2017-03-08</td>\n",
              "      <td>6</td>\n",
              "      <td>12</td>\n",
              "      <td>2017-03-08</td>\n",
              "      <td>2017-03-08</td>\n",
              "      <td>2017-03-08</td>\n",
              "      <td>0</td>\n",
              "      <td>1</td>\n",
              "      <td>0</td>\n",
              "      <td>0</td>\n",
              "      <td>0</td>\n",
              "      <td>0</td>\n",
              "    </tr>\n",
              "    <tr>\n",
              "      <th>3</th>\n",
              "      <td>7bbe2506-bc5d-47cb-abc6-669bb023ae7e</td>\n",
              "      <td>2017-03-08</td>\n",
              "      <td>4</td>\n",
              "      <td>11</td>\n",
              "      <td>2017-03-08</td>\n",
              "      <td>2017-03-08</td>\n",
              "      <td>2017-03-08</td>\n",
              "      <td>0</td>\n",
              "      <td>1</td>\n",
              "      <td>0</td>\n",
              "      <td>0</td>\n",
              "      <td>0</td>\n",
              "      <td>0</td>\n",
              "    </tr>\n",
              "    <tr>\n",
              "      <th>4</th>\n",
              "      <td>4b79b04d-5f3a-422b-9f83-155572a2c816</td>\n",
              "      <td>2017-03-08</td>\n",
              "      <td>3</td>\n",
              "      <td>10</td>\n",
              "      <td>2017-03-08</td>\n",
              "      <td>2017-03-08</td>\n",
              "      <td>2017-03-08</td>\n",
              "      <td>0</td>\n",
              "      <td>1</td>\n",
              "      <td>0</td>\n",
              "      <td>0</td>\n",
              "      <td>0</td>\n",
              "      <td>0</td>\n",
              "    </tr>\n",
              "  </tbody>\n",
              "</table>\n",
              "</div>\n",
              "    <div class=\"colab-df-buttons\">\n",
              "\n",
              "  <div class=\"colab-df-container\">\n",
              "    <button class=\"colab-df-convert\" onclick=\"convertToInteractive('df-be413c18-3f67-42b9-98ed-35636ad55947')\"\n",
              "            title=\"Convert this dataframe to an interactive table.\"\n",
              "            style=\"display:none;\">\n",
              "\n",
              "  <svg xmlns=\"http://www.w3.org/2000/svg\" height=\"24px\" viewBox=\"0 -960 960 960\">\n",
              "    <path d=\"M120-120v-720h720v720H120Zm60-500h600v-160H180v160Zm220 220h160v-160H400v160Zm0 220h160v-160H400v160ZM180-400h160v-160H180v160Zm440 0h160v-160H620v160ZM180-180h160v-160H180v160Zm440 0h160v-160H620v160Z\"/>\n",
              "  </svg>\n",
              "    </button>\n",
              "\n",
              "  <style>\n",
              "    .colab-df-container {\n",
              "      display:flex;\n",
              "      gap: 12px;\n",
              "    }\n",
              "\n",
              "    .colab-df-convert {\n",
              "      background-color: #E8F0FE;\n",
              "      border: none;\n",
              "      border-radius: 50%;\n",
              "      cursor: pointer;\n",
              "      display: none;\n",
              "      fill: #1967D2;\n",
              "      height: 32px;\n",
              "      padding: 0 0 0 0;\n",
              "      width: 32px;\n",
              "    }\n",
              "\n",
              "    .colab-df-convert:hover {\n",
              "      background-color: #E2EBFA;\n",
              "      box-shadow: 0px 1px 2px rgba(60, 64, 67, 0.3), 0px 1px 3px 1px rgba(60, 64, 67, 0.15);\n",
              "      fill: #174EA6;\n",
              "    }\n",
              "\n",
              "    .colab-df-buttons div {\n",
              "      margin-bottom: 4px;\n",
              "    }\n",
              "\n",
              "    [theme=dark] .colab-df-convert {\n",
              "      background-color: #3B4455;\n",
              "      fill: #D2E3FC;\n",
              "    }\n",
              "\n",
              "    [theme=dark] .colab-df-convert:hover {\n",
              "      background-color: #434B5C;\n",
              "      box-shadow: 0px 1px 3px 1px rgba(0, 0, 0, 0.15);\n",
              "      filter: drop-shadow(0px 1px 2px rgba(0, 0, 0, 0.3));\n",
              "      fill: #FFFFFF;\n",
              "    }\n",
              "  </style>\n",
              "\n",
              "    <script>\n",
              "      const buttonEl =\n",
              "        document.querySelector('#df-be413c18-3f67-42b9-98ed-35636ad55947 button.colab-df-convert');\n",
              "      buttonEl.style.display =\n",
              "        google.colab.kernel.accessAllowed ? 'block' : 'none';\n",
              "\n",
              "      async function convertToInteractive(key) {\n",
              "        const element = document.querySelector('#df-be413c18-3f67-42b9-98ed-35636ad55947');\n",
              "        const dataTable =\n",
              "          await google.colab.kernel.invokeFunction('convertToInteractive',\n",
              "                                                    [key], {});\n",
              "        if (!dataTable) return;\n",
              "\n",
              "        const docLinkHtml = 'Like what you see? Visit the ' +\n",
              "          '<a target=\"_blank\" href=https://colab.research.google.com/notebooks/data_table.ipynb>data table notebook</a>'\n",
              "          + ' to learn more about interactive tables.';\n",
              "        element.innerHTML = '';\n",
              "        dataTable['output_type'] = 'display_data';\n",
              "        await google.colab.output.renderOutput(dataTable, element);\n",
              "        const docLink = document.createElement('div');\n",
              "        docLink.innerHTML = docLinkHtml;\n",
              "        element.appendChild(docLink);\n",
              "      }\n",
              "    </script>\n",
              "  </div>\n",
              "\n",
              "\n",
              "<div id=\"df-2e7b3f0d-76d5-4928-9c61-1349bb5d3296\">\n",
              "  <button class=\"colab-df-quickchart\" onclick=\"quickchart('df-2e7b3f0d-76d5-4928-9c61-1349bb5d3296')\"\n",
              "            title=\"Suggest charts\"\n",
              "            style=\"display:none;\">\n",
              "\n",
              "<svg xmlns=\"http://www.w3.org/2000/svg\" height=\"24px\"viewBox=\"0 0 24 24\"\n",
              "     width=\"24px\">\n",
              "    <g>\n",
              "        <path d=\"M19 3H5c-1.1 0-2 .9-2 2v14c0 1.1.9 2 2 2h14c1.1 0 2-.9 2-2V5c0-1.1-.9-2-2-2zM9 17H7v-7h2v7zm4 0h-2V7h2v10zm4 0h-2v-4h2v4z\"/>\n",
              "    </g>\n",
              "</svg>\n",
              "  </button>\n",
              "\n",
              "<style>\n",
              "  .colab-df-quickchart {\n",
              "      --bg-color: #E8F0FE;\n",
              "      --fill-color: #1967D2;\n",
              "      --hover-bg-color: #E2EBFA;\n",
              "      --hover-fill-color: #174EA6;\n",
              "      --disabled-fill-color: #AAA;\n",
              "      --disabled-bg-color: #DDD;\n",
              "  }\n",
              "\n",
              "  [theme=dark] .colab-df-quickchart {\n",
              "      --bg-color: #3B4455;\n",
              "      --fill-color: #D2E3FC;\n",
              "      --hover-bg-color: #434B5C;\n",
              "      --hover-fill-color: #FFFFFF;\n",
              "      --disabled-bg-color: #3B4455;\n",
              "      --disabled-fill-color: #666;\n",
              "  }\n",
              "\n",
              "  .colab-df-quickchart {\n",
              "    background-color: var(--bg-color);\n",
              "    border: none;\n",
              "    border-radius: 50%;\n",
              "    cursor: pointer;\n",
              "    display: none;\n",
              "    fill: var(--fill-color);\n",
              "    height: 32px;\n",
              "    padding: 0;\n",
              "    width: 32px;\n",
              "  }\n",
              "\n",
              "  .colab-df-quickchart:hover {\n",
              "    background-color: var(--hover-bg-color);\n",
              "    box-shadow: 0 1px 2px rgba(60, 64, 67, 0.3), 0 1px 3px 1px rgba(60, 64, 67, 0.15);\n",
              "    fill: var(--button-hover-fill-color);\n",
              "  }\n",
              "\n",
              "  .colab-df-quickchart-complete:disabled,\n",
              "  .colab-df-quickchart-complete:disabled:hover {\n",
              "    background-color: var(--disabled-bg-color);\n",
              "    fill: var(--disabled-fill-color);\n",
              "    box-shadow: none;\n",
              "  }\n",
              "\n",
              "  .colab-df-spinner {\n",
              "    border: 2px solid var(--fill-color);\n",
              "    border-color: transparent;\n",
              "    border-bottom-color: var(--fill-color);\n",
              "    animation:\n",
              "      spin 1s steps(1) infinite;\n",
              "  }\n",
              "\n",
              "  @keyframes spin {\n",
              "    0% {\n",
              "      border-color: transparent;\n",
              "      border-bottom-color: var(--fill-color);\n",
              "      border-left-color: var(--fill-color);\n",
              "    }\n",
              "    20% {\n",
              "      border-color: transparent;\n",
              "      border-left-color: var(--fill-color);\n",
              "      border-top-color: var(--fill-color);\n",
              "    }\n",
              "    30% {\n",
              "      border-color: transparent;\n",
              "      border-left-color: var(--fill-color);\n",
              "      border-top-color: var(--fill-color);\n",
              "      border-right-color: var(--fill-color);\n",
              "    }\n",
              "    40% {\n",
              "      border-color: transparent;\n",
              "      border-right-color: var(--fill-color);\n",
              "      border-top-color: var(--fill-color);\n",
              "    }\n",
              "    60% {\n",
              "      border-color: transparent;\n",
              "      border-right-color: var(--fill-color);\n",
              "    }\n",
              "    80% {\n",
              "      border-color: transparent;\n",
              "      border-right-color: var(--fill-color);\n",
              "      border-bottom-color: var(--fill-color);\n",
              "    }\n",
              "    90% {\n",
              "      border-color: transparent;\n",
              "      border-bottom-color: var(--fill-color);\n",
              "    }\n",
              "  }\n",
              "</style>\n",
              "\n",
              "  <script>\n",
              "    async function quickchart(key) {\n",
              "      const quickchartButtonEl =\n",
              "        document.querySelector('#' + key + ' button');\n",
              "      quickchartButtonEl.disabled = true;  // To prevent multiple clicks.\n",
              "      quickchartButtonEl.classList.add('colab-df-spinner');\n",
              "      try {\n",
              "        const charts = await google.colab.kernel.invokeFunction(\n",
              "            'suggestCharts', [key], {});\n",
              "      } catch (error) {\n",
              "        console.error('Error during call to suggestCharts:', error);\n",
              "      }\n",
              "      quickchartButtonEl.classList.remove('colab-df-spinner');\n",
              "      quickchartButtonEl.classList.add('colab-df-quickchart-complete');\n",
              "    }\n",
              "    (() => {\n",
              "      let quickchartButtonEl =\n",
              "        document.querySelector('#df-2e7b3f0d-76d5-4928-9c61-1349bb5d3296 button');\n",
              "      quickchartButtonEl.style.display =\n",
              "        google.colab.kernel.accessAllowed ? 'block' : 'none';\n",
              "    })();\n",
              "  </script>\n",
              "</div>\n",
              "    </div>\n",
              "  </div>\n"
            ]
          },
          "metadata": {},
          "execution_count": 108
        }
      ]
    },
    {
      "cell_type": "markdown",
      "source": [
        "# Merge df_orders_clean_01 with df User"
      ],
      "metadata": {
        "id": "YgWyXQ1-xTa3"
      }
    },
    {
      "cell_type": "code",
      "source": [
        "df_User = dataframes['df_User']\n",
        "\n",
        "df_User.shape"
      ],
      "metadata": {
        "colab": {
          "base_uri": "https://localhost:8080/"
        },
        "id": "6wOLCVP7xSet",
        "outputId": "1b8cc070-37d2-484b-9845-7addb978886c"
      },
      "execution_count": 39,
      "outputs": [
        {
          "output_type": "execute_result",
          "data": {
            "text/plain": [
              "(51, 29)"
            ]
          },
          "metadata": {},
          "execution_count": 39
        }
      ]
    },
    {
      "cell_type": "markdown",
      "source": [
        "**Selecting Columns of 'User'**"
      ],
      "metadata": {
        "id": "8_lFlKWMxmxg"
      }
    },
    {
      "cell_type": "code",
      "source": [
        "user_columns = ['id', 'name']\n",
        "\n",
        "df_User_selected = df_User[user_columns]\n",
        "\n",
        "df_User_selected.shape"
      ],
      "metadata": {
        "colab": {
          "base_uri": "https://localhost:8080/"
        },
        "id": "77zNYNKrxows",
        "outputId": "3948af20-5dde-4c88-be35-dc2dff96ec3d"
      },
      "execution_count": 40,
      "outputs": [
        {
          "output_type": "execute_result",
          "data": {
            "text/plain": [
              "(51, 2)"
            ]
          },
          "metadata": {},
          "execution_count": 40
        }
      ]
    },
    {
      "cell_type": "code",
      "source": [
        "df_User_01 = df_User_selected.copy()"
      ],
      "metadata": {
        "id": "IGCvQgDTx1Gs"
      },
      "execution_count": 41,
      "outputs": []
    },
    {
      "cell_type": "code",
      "source": [
        "# Add a new row using the loc method\n",
        "df_User_01.loc[len(df_User_01)] = {'id': -1, 'name': 'Unknown'}\n",
        "\n",
        "# Check the last few rows to confirm the new row is added\n",
        "print(df_User_01.tail())"
      ],
      "metadata": {
        "colab": {
          "base_uri": "https://localhost:8080/"
        },
        "id": "JBn_KzHWx_rO",
        "outputId": "314b6856-0c9f-4682-a304-d6d6634da172"
      },
      "execution_count": 42,
      "outputs": [
        {
          "output_type": "stream",
          "name": "stdout",
          "text": [
            "    id                     name\n",
            "47  48         ΦΡΑΝΤΣΕΣΚΑ ΚΑΛΑΙ\n",
            "48  49    ΔΗΜΟΓΕΡΟΝΤΑΣ ΣΤΕΦΑΝΟΣ\n",
            "49  50         ΦΡΑΝΤΖΕΣΚΟ ΜΟΥΧΟ\n",
            "50  51  ΚΩΝΣΤΑΝΤΟΠΟΥΛΟΣ ΘΟΔΩΡΗΣ\n",
            "51  -1                  Unknown\n"
          ]
        }
      ]
    },
    {
      "cell_type": "code",
      "source": [
        "df_User_02 = df_User_01.copy()"
      ],
      "metadata": {
        "id": "Uc4LgEc9yKAZ"
      },
      "execution_count": 47,
      "outputs": []
    },
    {
      "cell_type": "code",
      "source": [
        "df_orders_clean_02 = df_orders_clean_01.copy()"
      ],
      "metadata": {
        "id": "h2xtR4GJzNwp"
      },
      "execution_count": 45,
      "outputs": []
    },
    {
      "cell_type": "code",
      "source": [
        "df_orders_clean_02.columns"
      ],
      "metadata": {
        "colab": {
          "base_uri": "https://localhost:8080/"
        },
        "id": "A1InSfyrzB6V",
        "outputId": "cced3b1a-bbc7-4946-b879-4461739afbf2"
      },
      "execution_count": 46,
      "outputs": [
        {
          "output_type": "execute_result",
          "data": {
            "text/plain": [
              "Index(['oid', 'odate', 'pos', 'uid', 'paid_date', 'ocreated_at', 'oupdated_at',\n",
              "       'ostatus_Merged', 'ostatus_Paid', 'ostatus_Printed Cancelled',\n",
              "       'ostatus_Printed Open', 'ostatus_Unpaid', 'ostatus_Wasted'],\n",
              "      dtype='object')"
            ]
          },
          "metadata": {},
          "execution_count": 46
        }
      ]
    },
    {
      "cell_type": "code",
      "source": [
        "# Convert 'uid' in df_order_details and 'id' in df_user to the same data type\n",
        "df_orders_clean_02['uid'] = df_orders_clean_02['uid'].astype(int)\n",
        "df_User_01['id'] = df_User_01['id'].astype(int)"
      ],
      "metadata": {
        "id": "7vZCwBaUySeY"
      },
      "execution_count": 48,
      "outputs": []
    },
    {
      "cell_type": "code",
      "source": [
        "# Merge the DataFrames\n",
        "df_orders_clean_merged = pd.merge(df_orders_clean_02, df_User_02, left_on='uid', right_on='id', how='inner')\n",
        "\n",
        "# Check the result\n",
        "print(df_orders_clean_merged.shape)"
      ],
      "metadata": {
        "colab": {
          "base_uri": "https://localhost:8080/"
        },
        "id": "XMtdciRByXZ-",
        "outputId": "15f012a0-ca24-492b-b816-7980f49595a0"
      },
      "execution_count": 49,
      "outputs": [
        {
          "output_type": "stream",
          "name": "stdout",
          "text": [
            "(278696, 15)\n"
          ]
        }
      ]
    },
    {
      "cell_type": "code",
      "source": [
        "df_orders_clean_merged.columns"
      ],
      "metadata": {
        "colab": {
          "base_uri": "https://localhost:8080/"
        },
        "id": "XqHEedHjzsuw",
        "outputId": "9dd990d7-4e80-4155-f214-3be2cf7e6f90"
      },
      "execution_count": 50,
      "outputs": [
        {
          "output_type": "execute_result",
          "data": {
            "text/plain": [
              "Index(['oid', 'odate', 'pos', 'uid', 'paid_date', 'ocreated_at', 'oupdated_at',\n",
              "       'ostatus_Merged', 'ostatus_Paid', 'ostatus_Printed Cancelled',\n",
              "       'ostatus_Printed Open', 'ostatus_Unpaid', 'ostatus_Wasted', 'id',\n",
              "       'name'],\n",
              "      dtype='object')"
            ]
          },
          "metadata": {},
          "execution_count": 50
        }
      ]
    },
    {
      "cell_type": "code",
      "source": [
        "# Drop 'id' and 'uid' columns\n",
        "df_orders_clean_merged.drop(columns=['uid', 'id'], inplace=True)"
      ],
      "metadata": {
        "id": "rLxZZuqCzqq9"
      },
      "execution_count": 51,
      "outputs": []
    },
    {
      "cell_type": "code",
      "source": [
        "# Rename 'id_x' to 'id' and 'name' to 'pos_uname'\n",
        "df_orders_clean_merged.rename(columns={'name': 'order_uname'}, inplace=True)"
      ],
      "metadata": {
        "id": "UojnWPpuz5rk"
      },
      "execution_count": 52,
      "outputs": []
    },
    {
      "cell_type": "code",
      "source": [
        "df_orders_clean_merged.columns, df_orders_clean_merged.shape"
      ],
      "metadata": {
        "colab": {
          "base_uri": "https://localhost:8080/"
        },
        "id": "8D0V1UIv0MoE",
        "outputId": "122db0be-6946-436d-c034-cf72927c24b6"
      },
      "execution_count": 53,
      "outputs": [
        {
          "output_type": "execute_result",
          "data": {
            "text/plain": [
              "(Index(['oid', 'odate', 'pos', 'paid_date', 'ocreated_at', 'oupdated_at',\n",
              "        'ostatus_Merged', 'ostatus_Paid', 'ostatus_Printed Cancelled',\n",
              "        'ostatus_Printed Open', 'ostatus_Unpaid', 'ostatus_Wasted',\n",
              "        'order_uname'],\n",
              "       dtype='object'),\n",
              " (278696, 13))"
            ]
          },
          "metadata": {},
          "execution_count": 53
        }
      ]
    },
    {
      "cell_type": "markdown",
      "source": [
        "# Transform"
      ],
      "metadata": {
        "id": "-LAcKfOAe23o"
      }
    },
    {
      "cell_type": "markdown",
      "source": [
        "# Optimize Data Types"
      ],
      "metadata": {
        "id": "2LI0JLwae_9w"
      }
    },
    {
      "cell_type": "code",
      "source": [
        "import pandas as pd\n",
        "\n",
        "df_orders_clean_01 = pd.read_csv('/content/drive/MyDrive/orders_final.csv')\n",
        "\n",
        "df_orders_clean_01.shape"
      ],
      "metadata": {
        "colab": {
          "base_uri": "https://localhost:8080/"
        },
        "id": "ZfoqXelJXhP0",
        "outputId": "7c1435fd-bd25-445a-8a0d-726995a32cb8"
      },
      "execution_count": 60,
      "outputs": [
        {
          "output_type": "execute_result",
          "data": {
            "text/plain": [
              "(278696, 13)"
            ]
          },
          "metadata": {},
          "execution_count": 60
        }
      ]
    },
    {
      "cell_type": "code",
      "source": [
        "# Check the memory usage before optimization\n",
        "df_orders_clean_merged.info(memory_usage='deep')"
      ],
      "metadata": {
        "colab": {
          "base_uri": "https://localhost:8080/"
        },
        "id": "583uP591XWA5",
        "outputId": "f41bf06c-89ab-41d0-b992-382652f788f1"
      },
      "execution_count": 54,
      "outputs": [
        {
          "output_type": "stream",
          "name": "stdout",
          "text": [
            "<class 'pandas.core.frame.DataFrame'>\n",
            "Int64Index: 278696 entries, 0 to 278695\n",
            "Data columns (total 13 columns):\n",
            " #   Column                     Non-Null Count   Dtype         \n",
            "---  ------                     --------------   -----         \n",
            " 0   oid                        278696 non-null  object        \n",
            " 1   odate                      278696 non-null  datetime64[ns]\n",
            " 2   pos                        278696 non-null  int8          \n",
            " 3   paid_date                  278696 non-null  datetime64[ns]\n",
            " 4   ocreated_at                278696 non-null  datetime64[ns]\n",
            " 5   oupdated_at                278696 non-null  datetime64[ns]\n",
            " 6   ostatus_Merged             278696 non-null  uint8         \n",
            " 7   ostatus_Paid               278696 non-null  uint8         \n",
            " 8   ostatus_Printed Cancelled  278696 non-null  uint8         \n",
            " 9   ostatus_Printed Open       278696 non-null  uint8         \n",
            " 10  ostatus_Unpaid             278696 non-null  uint8         \n",
            " 11  ostatus_Wasted             278696 non-null  uint8         \n",
            " 12  order_uname                278696 non-null  object        \n",
            "dtypes: datetime64[ns](4), int8(1), object(2), uint8(6)\n",
            "memory usage: 65.1 MB\n"
          ]
        }
      ]
    },
    {
      "cell_type": "code",
      "source": [
        "# # Convert date columns to datetime\n",
        "# date_columns = ['odate', 'paid_date', 'ocreated_at', 'oupdated_at']\n",
        "# for column in date_columns:\n",
        "#     df_orders_clean_01[column] = pd.to_datetime(df_orders_clean_01[column], errors='coerce').dt.normalize()\n",
        "\n",
        "# # Check memory usage after conversions\n",
        "# df_orders_clean_01.info(memory_usage='deep')"
      ],
      "metadata": {
        "id": "YVskIZZtYHL2"
      },
      "execution_count": null,
      "outputs": []
    },
    {
      "cell_type": "code",
      "source": [
        "# # Downcast integer columns to the smallest possible integer type\n",
        "# integer_columns = ['pos', 'uid', 'ostatus_Merged', 'ostatus_Paid', 'ostatus_Printed Cancelled', 'ostatus_Printed Open', 'ostatus_Unpaid', 'ostatus_Wasted']\n",
        "# for column in integer_columns:\n",
        "#     df_orders_clean_01[column] = pd.to_numeric(df_orders_clean_01[column], downcast='integer')\n",
        "\n",
        "# # Check memory usage after conversions\n",
        "# df_orders_clean_01.info(memory_usage='deep')"
      ],
      "metadata": {
        "id": "TBF5au05YmEW"
      },
      "execution_count": null,
      "outputs": []
    },
    {
      "cell_type": "code",
      "source": [
        "# Convert object columns to 'category' where appropriate\n",
        "categorical_columns = ['order_uname']\n",
        "for column in categorical_columns:\n",
        "    df_orders_clean_merged[column] = df_orders_clean_merged[column].astype('category')"
      ],
      "metadata": {
        "id": "Qk2sAIn81Kw9"
      },
      "execution_count": 55,
      "outputs": []
    },
    {
      "cell_type": "code",
      "source": [
        "df_orders_clean_merged.info(memory_usage='deep')"
      ],
      "metadata": {
        "colab": {
          "base_uri": "https://localhost:8080/"
        },
        "id": "Xlzftnsk1dTu",
        "outputId": "829211fb-49c3-4a72-c030-273382a32c3c"
      },
      "execution_count": 56,
      "outputs": [
        {
          "output_type": "stream",
          "name": "stdout",
          "text": [
            "<class 'pandas.core.frame.DataFrame'>\n",
            "Int64Index: 278696 entries, 0 to 278695\n",
            "Data columns (total 13 columns):\n",
            " #   Column                     Non-Null Count   Dtype         \n",
            "---  ------                     --------------   -----         \n",
            " 0   oid                        278696 non-null  object        \n",
            " 1   odate                      278696 non-null  datetime64[ns]\n",
            " 2   pos                        278696 non-null  int8          \n",
            " 3   paid_date                  278696 non-null  datetime64[ns]\n",
            " 4   ocreated_at                278696 non-null  datetime64[ns]\n",
            " 5   oupdated_at                278696 non-null  datetime64[ns]\n",
            " 6   ostatus_Merged             278696 non-null  uint8         \n",
            " 7   ostatus_Paid               278696 non-null  uint8         \n",
            " 8   ostatus_Printed Cancelled  278696 non-null  uint8         \n",
            " 9   ostatus_Printed Open       278696 non-null  uint8         \n",
            " 10  ostatus_Unpaid             278696 non-null  uint8         \n",
            " 11  ostatus_Wasted             278696 non-null  uint8         \n",
            " 12  order_uname                278696 non-null  category      \n",
            "dtypes: category(1), datetime64[ns](4), int8(1), object(1), uint8(6)\n",
            "memory usage: 37.5 MB\n"
          ]
        }
      ]
    },
    {
      "cell_type": "code",
      "source": [
        "df_orders_clean_merged.isnull().sum()"
      ],
      "metadata": {
        "colab": {
          "base_uri": "https://localhost:8080/"
        },
        "id": "EVeREa0h5DHM",
        "outputId": "574170e7-aa5e-432f-832c-bc358366c16c"
      },
      "execution_count": 64,
      "outputs": [
        {
          "output_type": "execute_result",
          "data": {
            "text/plain": [
              "oid                          0\n",
              "odate                        0\n",
              "pos                          0\n",
              "paid_date                    0\n",
              "ocreated_at                  0\n",
              "oupdated_at                  0\n",
              "ostatus_Merged               0\n",
              "ostatus_Paid                 0\n",
              "ostatus_Printed Cancelled    0\n",
              "ostatus_Printed Open         0\n",
              "ostatus_Unpaid               0\n",
              "ostatus_Wasted               0\n",
              "order_uname                  0\n",
              "dtype: int64"
            ]
          },
          "metadata": {},
          "execution_count": 64
        }
      ]
    },
    {
      "cell_type": "code",
      "source": [
        "# save df_order_final as csv file:\n",
        "df_orders_clean_merged.to_csv('/content/drive/MyDrive/orders_final_clean.csv', index=False)"
      ],
      "metadata": {
        "id": "xR9O-v7_ewpy"
      },
      "execution_count": 57,
      "outputs": []
    },
    {
      "cell_type": "markdown",
      "source": [
        "**Read by Spark:**"
      ],
      "metadata": {
        "id": "pht_qEnJfNHa"
      }
    },
    {
      "cell_type": "code",
      "source": [
        "csv_dir = '/content/drive/MyDrive/orders_final_clean.csv'\n",
        "df_orders_final_clean_spark = spark.read.format(\"csv\").load(csv_dir, header=True, inferSchema=True)"
      ],
      "metadata": {
        "id": "RAIfQk-bfcjr"
      },
      "execution_count": 61,
      "outputs": []
    },
    {
      "cell_type": "code",
      "source": [
        "df_orders_final_clean_spark.show(25)"
      ],
      "metadata": {
        "colab": {
          "base_uri": "https://localhost:8080/"
        },
        "id": "cOoiZeesffIC",
        "outputId": "977fdbad-229b-437c-d2db-8d26bc58f460"
      },
      "execution_count": 63,
      "outputs": [
        {
          "output_type": "stream",
          "name": "stdout",
          "text": [
            "+--------------------+----------+---+----------+-----------+-----------+--------------+------------+-------------------------+--------------------+--------------+--------------+------------------+\n",
            "|                 oid|     odate|pos| paid_date|ocreated_at|oupdated_at|ostatus_Merged|ostatus_Paid|ostatus_Printed Cancelled|ostatus_Printed Open|ostatus_Unpaid|ostatus_Wasted|       order_uname|\n",
            "+--------------------+----------+---+----------+-----------+-----------+--------------+------------+-------------------------+--------------------+--------------+--------------+------------------+\n",
            "|374c214d-52f8-4bd...|2017-03-08|  6|2017-03-08| 2017-03-08| 2017-03-08|             0|           1|                        0|                   0|             0|             0|ΓΚΕΟΡΓΚΙΕΦ ΣΤΑΥΡΟΣ|\n",
            "|20bb1ead-e1a4-48c...|2017-03-08|  6|2017-03-09| 2017-03-08| 2017-03-09|             0|           1|                        0|                   0|             0|             0|ΓΚΕΟΡΓΚΙΕΦ ΣΤΑΥΡΟΣ|\n",
            "|ed463ddc-8f42-486...|2017-03-08|  6|2017-03-08| 2017-03-08| 2017-03-08|             0|           1|                        0|                   0|             0|             0|ΓΚΕΟΡΓΚΙΕΦ ΣΤΑΥΡΟΣ|\n",
            "|736c991f-87ca-470...|2017-03-08|  6|2017-03-08| 2017-03-08| 2017-03-08|             0|           1|                        0|                   0|             0|             0|ΓΚΕΟΡΓΚΙΕΦ ΣΤΑΥΡΟΣ|\n",
            "|873f4eb4-a927-44c...|2017-03-08|  6|2017-03-08| 2017-03-08| 2017-03-08|             0|           1|                        0|                   0|             0|             0|ΓΚΕΟΡΓΚΙΕΦ ΣΤΑΥΡΟΣ|\n",
            "|bbf6eeee-7562-46f...|2017-03-08|  6|2017-03-08| 2017-03-08| 2017-03-08|             0|           1|                        0|                   0|             0|             0|ΓΚΕΟΡΓΚΙΕΦ ΣΤΑΥΡΟΣ|\n",
            "|7957aa03-dcac-41d...|2017-03-08|  6|2017-03-08| 2017-03-08| 2017-03-08|             0|           1|                        0|                   0|             0|             0|ΓΚΕΟΡΓΚΙΕΦ ΣΤΑΥΡΟΣ|\n",
            "|1e60827e-9f2d-409...|2017-03-08|  6|2017-03-08| 2017-03-08| 2017-03-08|             0|           1|                        0|                   0|             0|             0|ΓΚΕΟΡΓΚΙΕΦ ΣΤΑΥΡΟΣ|\n",
            "|3478e91f-760c-470...|2017-03-08|  6|2017-03-08| 2017-03-08| 2017-03-08|             0|           1|                        0|                   0|             0|             0|ΓΚΕΟΡΓΚΙΕΦ ΣΤΑΥΡΟΣ|\n",
            "|d215ec86-e1de-470...|2017-03-08|  6|2017-03-08| 2017-03-08| 2017-03-08|             0|           1|                        0|                   0|             0|             0|ΓΚΕΟΡΓΚΙΕΦ ΣΤΑΥΡΟΣ|\n",
            "|d278696c-f13d-4da...|2017-03-08|  6|2017-03-08| 2017-03-08| 2017-03-08|             0|           1|                        0|                   0|             0|             0|ΓΚΕΟΡΓΚΙΕΦ ΣΤΑΥΡΟΣ|\n",
            "|ee907fa1-78c5-43d...|2017-03-08|  6|2017-03-08| 2017-03-08| 2017-03-08|             0|           1|                        0|                   0|             0|             0|ΓΚΕΟΡΓΚΙΕΦ ΣΤΑΥΡΟΣ|\n",
            "|eb38633b-a74d-40e...|2017-03-08|  6|2017-03-08| 2017-03-08| 2017-03-08|             0|           1|                        0|                   0|             0|             0|ΓΚΕΟΡΓΚΙΕΦ ΣΤΑΥΡΟΣ|\n",
            "|324be8fa-a9e7-43d...|2017-03-09|  5|2017-03-09| 2017-03-09| 2017-03-09|             0|           1|                        0|                   0|             0|             0|ΓΚΕΟΡΓΚΙΕΦ ΣΤΑΥΡΟΣ|\n",
            "|7e89292e-7e2c-42c...|2017-03-09|  5|2017-03-09| 2017-03-09| 2017-03-09|             0|           1|                        0|                   0|             0|             0|ΓΚΕΟΡΓΚΙΕΦ ΣΤΑΥΡΟΣ|\n",
            "|a75fef4b-801b-43d...|2017-03-09|  5|2017-03-09| 2017-03-09| 2017-03-09|             0|           1|                        0|                   0|             0|             0|ΓΚΕΟΡΓΚΙΕΦ ΣΤΑΥΡΟΣ|\n",
            "|24ea66a4-7a27-4b2...|2017-03-09|  5|2017-03-09| 2017-03-09| 2017-03-09|             0|           1|                        0|                   0|             0|             0|ΓΚΕΟΡΓΚΙΕΦ ΣΤΑΥΡΟΣ|\n",
            "|d6d84e3e-e57d-43c...|2017-03-09|  5|2017-03-09| 2017-03-09| 2017-03-09|             0|           1|                        0|                   0|             0|             0|ΓΚΕΟΡΓΚΙΕΦ ΣΤΑΥΡΟΣ|\n",
            "|2e2e95e6-ddf2-419...|2017-03-09|  5|2017-03-09| 2017-03-09| 2017-03-09|             0|           1|                        0|                   0|             0|             0|ΓΚΕΟΡΓΚΙΕΦ ΣΤΑΥΡΟΣ|\n",
            "|6a8e184d-21cf-413...|2017-03-09|  5|2017-03-09| 2017-03-09| 2017-03-09|             0|           1|                        0|                   0|             0|             0|ΓΚΕΟΡΓΚΙΕΦ ΣΤΑΥΡΟΣ|\n",
            "|594e33c7-f947-418...|2017-03-09|  5|2017-03-09| 2017-03-09| 2017-03-09|             0|           1|                        0|                   0|             0|             0|ΓΚΕΟΡΓΚΙΕΦ ΣΤΑΥΡΟΣ|\n",
            "|815bdc24-d371-43f...|2017-03-09|  5|2017-03-09| 2017-03-09| 2017-03-09|             0|           1|                        0|                   0|             0|             0|ΓΚΕΟΡΓΚΙΕΦ ΣΤΑΥΡΟΣ|\n",
            "|d3c5bd74-fe62-48b...|2017-03-09|  5|2017-03-09| 2017-03-09| 2017-03-09|             0|           1|                        0|                   0|             0|             0|ΓΚΕΟΡΓΚΙΕΦ ΣΤΑΥΡΟΣ|\n",
            "|ca3dbac5-d98a-464...|2017-03-09|  5|2017-03-09| 2017-03-09| 2017-03-09|             0|           1|                        0|                   0|             0|             0|ΓΚΕΟΡΓΚΙΕΦ ΣΤΑΥΡΟΣ|\n",
            "|5fd60274-d807-419...|2017-03-09|  5|2017-03-09| 2017-03-09| 2017-03-09|             0|           1|                        0|                   0|             0|             0|ΓΚΕΟΡΓΚΙΕΦ ΣΤΑΥΡΟΣ|\n",
            "+--------------------+----------+---+----------+-----------+-----------+--------------+------------+-------------------------+--------------------+--------------+--------------+------------------+\n",
            "only showing top 25 rows\n",
            "\n"
          ]
        }
      ]
    },
    {
      "cell_type": "markdown",
      "source": [
        "**Orders Final data after merged with status table:**"
      ],
      "metadata": {
        "id": "JD52FXi8fIIJ"
      }
    },
    {
      "cell_type": "markdown",
      "source": [
        "# OrderDetails"
      ],
      "metadata": {
        "id": "IqNZTCnksXZd"
      }
    },
    {
      "cell_type": "markdown",
      "source": [
        "# Merge the OrderDetails DataFrames"
      ],
      "metadata": {
        "id": "8x4IFg1YsT3Z"
      }
    },
    {
      "cell_type": "code",
      "source": [
        "order_details_df_names = [\n",
        "    'df_2018_01_01', 'df_2023_05_01', 'df_2021_02_01', 'df_2023_02_01',\n",
        "    'df_2017_08_01', 'df_2020_03_01', 'df_2024_02_01', 'df_2021_10_01',\n",
        "    'df_2018_03_01', 'df_2020_06_01', 'df_2019_03_01', 'df_2023_11_01',\n",
        "    'df_2022_12_01', 'df_2018_10_01', 'df_2018_06_01', 'df_2019_12_01',\n",
        "    'df_2023_08_01', 'df_2019_07_01', 'df_2022_08_01', 'df_2019_01_01',\n",
        "    'df_2022_04_01', 'df_2020_10_01', 'df_2022_01_01'\n",
        "]"
      ],
      "metadata": {
        "id": "pbLJdOtmdROC"
      },
      "execution_count": 50,
      "outputs": []
    },
    {
      "cell_type": "code",
      "source": [
        "# Initialize an empty list to store the dataframes\n",
        "order_details_dfs = []\n",
        "count = 0\n",
        "# Loop through each file name, access the dataframe, select the columns, and append to the list\n",
        "for df_name in order_details_df_names:\n",
        "    count+=1\n",
        "    print(f\"Accessing {df_name}. df-num: {count}\")\n",
        "    df_details = dataframes[df_name].copy()\n",
        "    order_details_dfs.append(df_details)\n",
        "\n",
        "# Concatenate all dataframes in the list into one\n",
        "df_order_details_merged = pd.concat(order_details_dfs, ignore_index=True)\n",
        "\n",
        "df_order_details_merged.shape"
      ],
      "metadata": {
        "colab": {
          "base_uri": "https://localhost:8080/"
        },
        "id": "anbZ0vqCukS8",
        "outputId": "f4137f78-d4aa-4d4c-c634-1de3983e358a"
      },
      "execution_count": 51,
      "outputs": [
        {
          "output_type": "stream",
          "name": "stdout",
          "text": [
            "Accessing df_2018_01_01. df-num: 1\n",
            "Accessing df_2023_05_01. df-num: 2\n",
            "Accessing df_2021_02_01. df-num: 3\n",
            "Accessing df_2023_02_01. df-num: 4\n",
            "Accessing df_2017_08_01. df-num: 5\n",
            "Accessing df_2020_03_01. df-num: 6\n",
            "Accessing df_2024_02_01. df-num: 7\n",
            "Accessing df_2021_10_01. df-num: 8\n",
            "Accessing df_2018_03_01. df-num: 9\n",
            "Accessing df_2020_06_01. df-num: 10\n",
            "Accessing df_2019_03_01. df-num: 11\n",
            "Accessing df_2023_11_01. df-num: 12\n",
            "Accessing df_2022_12_01. df-num: 13\n",
            "Accessing df_2018_10_01. df-num: 14\n",
            "Accessing df_2018_06_01. df-num: 15\n",
            "Accessing df_2019_12_01. df-num: 16\n",
            "Accessing df_2023_08_01. df-num: 17\n",
            "Accessing df_2019_07_01. df-num: 18\n",
            "Accessing df_2022_08_01. df-num: 19\n",
            "Accessing df_2019_01_01. df-num: 20\n",
            "Accessing df_2022_04_01. df-num: 21\n",
            "Accessing df_2020_10_01. df-num: 22\n",
            "Accessing df_2022_01_01. df-num: 23\n"
          ]
        },
        {
          "output_type": "execute_result",
          "data": {
            "text/plain": [
              "(2003349, 44)"
            ]
          },
          "metadata": {},
          "execution_count": 51
        }
      ]
    },
    {
      "cell_type": "code",
      "source": [
        "df_order_details_01 = df_order_details_merged.copy()"
      ],
      "metadata": {
        "id": "dIwmM-qzdu7a"
      },
      "execution_count": 52,
      "outputs": []
    },
    {
      "cell_type": "code",
      "source": [
        "df_order_details_01.columns, df_order_details_01.shape"
      ],
      "metadata": {
        "colab": {
          "base_uri": "https://localhost:8080/"
        },
        "id": "WRZJjx3pd2_g",
        "outputId": "d578a6bf-1b50-4e42-841a-ea81857c9f20"
      },
      "execution_count": 93,
      "outputs": [
        {
          "output_type": "execute_result",
          "data": {
            "text/plain": [
              "(Index(['id', 'ogid', 'oddate', 'uid', 'table_id', 'item_id', 'item_type',\n",
              "        'combo_choice_id', 'status', 'receipt_issued', 'ordernote_printed',\n",
              "        'net_price', 'units', 'weight', 'vat_percentage', 'vat', 'price',\n",
              "        'municipality_fees', 'extra_charges', 'serial_number', 'unit_price',\n",
              "        'comments', 'open_item_comments', 'parent_id', 'discount_percentage',\n",
              "        'discount_amount', 'discount_user', 'cancel_user', 'cancel_type',\n",
              "        'discount_type', 'salesperson_uid', 'roundid', 'payment_type',\n",
              "        'payment_user', 'payment_card_type', 'cc_provider', 'pricelist_id',\n",
              "        'prepared_units', 'prepared_date', 'view_after',\n",
              "        'subscription_detail_id', 'sent_to_softone', 'created_at',\n",
              "        'updated_at'],\n",
              "       dtype='object'),\n",
              " (2003349, 44))"
            ]
          },
          "metadata": {},
          "execution_count": 93
        }
      ]
    },
    {
      "cell_type": "code",
      "source": [
        "df_order_details_01.head()"
      ],
      "metadata": {
        "colab": {
          "base_uri": "https://localhost:8080/",
          "height": 0
        },
        "id": "JVUiBd4Ae9uT",
        "outputId": "592b20ba-31e7-40e2-bd03-1cc83950ed66"
      },
      "execution_count": 129,
      "outputs": [
        {
          "output_type": "execute_result",
          "data": {
            "text/plain": [
              "                                     id                                  ogid  \\\n",
              "0  ab394826-12b7-4332-bc51-9edbf3af1ec4  893b7f11-84d9-4b52-896b-4134baf664ba   \n",
              "1  1039e874-31d3-40b4-ab46-6170b007c33d  893b7f11-84d9-4b52-896b-4134baf664ba   \n",
              "2  581f9581-6ec1-4f8f-8dde-6338e4f5f998  ec3629f1-d1e8-4a07-bf4a-066a90f42b2e   \n",
              "3  ee88b30c-5531-4300-a099-401240037a82  ec3629f1-d1e8-4a07-bf4a-066a90f42b2e   \n",
              "4  554c52b3-1251-4371-8549-f9ef93c19fa9  ec3629f1-d1e8-4a07-bf4a-066a90f42b2e   \n",
              "\n",
              "                oddate  uid  table_id  item_id  item_type  combo_choice_id  \\\n",
              "0  2017-08-01 08:12:36  NaN       NaN       12          1              NaN   \n",
              "1  2017-08-01 08:12:36  NaN       NaN       53          2              NaN   \n",
              "2  2017-08-01 08:19:50  NaN       NaN       12          1              NaN   \n",
              "3  2017-08-01 08:19:50  NaN       NaN       55          2              NaN   \n",
              "4  2017-08-01 08:19:50  NaN       NaN       12          1              NaN   \n",
              "\n",
              "   status  receipt_issued  ...  payment_card_type  cc_provider  pricelist_id  \\\n",
              "0       2               1  ...                NaN          NaN             0   \n",
              "1       2               0  ...                NaN          NaN             0   \n",
              "2       2               1  ...                NaN          NaN             0   \n",
              "3       2               0  ...                NaN          NaN             0   \n",
              "4       2               1  ...                NaN          NaN             0   \n",
              "\n",
              "   prepared_units  prepared_date  view_after  subscription_detail_id  \\\n",
              "0             NaN            NaN         NaN                     NaN   \n",
              "1             NaN            NaN         NaN                     NaN   \n",
              "2             NaN            NaN         NaN                     NaN   \n",
              "3             NaN            NaN         NaN                     NaN   \n",
              "4             NaN            NaN         NaN                     NaN   \n",
              "\n",
              "   sent_to_softone          created_at          updated_at  \n",
              "0              NaN 2017-08-01 08:12:27 2017-08-01 09:12:24  \n",
              "1              NaN 2017-08-01 08:12:32 2017-08-01 09:12:24  \n",
              "2              NaN 2017-08-01 08:19:21 2017-08-01 08:28:03  \n",
              "3              NaN 2017-08-01 08:19:29 2017-08-01 08:28:03  \n",
              "4              NaN 2017-08-01 08:19:36 2017-08-01 08:28:03  \n",
              "\n",
              "[5 rows x 44 columns]"
            ],
            "text/html": [
              "\n",
              "  <div id=\"df-87ea0c8b-b6ed-4760-aff2-25fed613698c\" class=\"colab-df-container\">\n",
              "    <div>\n",
              "<style scoped>\n",
              "    .dataframe tbody tr th:only-of-type {\n",
              "        vertical-align: middle;\n",
              "    }\n",
              "\n",
              "    .dataframe tbody tr th {\n",
              "        vertical-align: top;\n",
              "    }\n",
              "\n",
              "    .dataframe thead th {\n",
              "        text-align: right;\n",
              "    }\n",
              "</style>\n",
              "<table border=\"1\" class=\"dataframe\">\n",
              "  <thead>\n",
              "    <tr style=\"text-align: right;\">\n",
              "      <th></th>\n",
              "      <th>id</th>\n",
              "      <th>ogid</th>\n",
              "      <th>oddate</th>\n",
              "      <th>uid</th>\n",
              "      <th>table_id</th>\n",
              "      <th>item_id</th>\n",
              "      <th>item_type</th>\n",
              "      <th>combo_choice_id</th>\n",
              "      <th>status</th>\n",
              "      <th>receipt_issued</th>\n",
              "      <th>...</th>\n",
              "      <th>payment_card_type</th>\n",
              "      <th>cc_provider</th>\n",
              "      <th>pricelist_id</th>\n",
              "      <th>prepared_units</th>\n",
              "      <th>prepared_date</th>\n",
              "      <th>view_after</th>\n",
              "      <th>subscription_detail_id</th>\n",
              "      <th>sent_to_softone</th>\n",
              "      <th>created_at</th>\n",
              "      <th>updated_at</th>\n",
              "    </tr>\n",
              "  </thead>\n",
              "  <tbody>\n",
              "    <tr>\n",
              "      <th>0</th>\n",
              "      <td>ab394826-12b7-4332-bc51-9edbf3af1ec4</td>\n",
              "      <td>893b7f11-84d9-4b52-896b-4134baf664ba</td>\n",
              "      <td>2017-08-01 08:12:36</td>\n",
              "      <td>NaN</td>\n",
              "      <td>NaN</td>\n",
              "      <td>12</td>\n",
              "      <td>1</td>\n",
              "      <td>NaN</td>\n",
              "      <td>2</td>\n",
              "      <td>1</td>\n",
              "      <td>...</td>\n",
              "      <td>NaN</td>\n",
              "      <td>NaN</td>\n",
              "      <td>0</td>\n",
              "      <td>NaN</td>\n",
              "      <td>NaN</td>\n",
              "      <td>NaN</td>\n",
              "      <td>NaN</td>\n",
              "      <td>NaN</td>\n",
              "      <td>2017-08-01 08:12:27</td>\n",
              "      <td>2017-08-01 09:12:24</td>\n",
              "    </tr>\n",
              "    <tr>\n",
              "      <th>1</th>\n",
              "      <td>1039e874-31d3-40b4-ab46-6170b007c33d</td>\n",
              "      <td>893b7f11-84d9-4b52-896b-4134baf664ba</td>\n",
              "      <td>2017-08-01 08:12:36</td>\n",
              "      <td>NaN</td>\n",
              "      <td>NaN</td>\n",
              "      <td>53</td>\n",
              "      <td>2</td>\n",
              "      <td>NaN</td>\n",
              "      <td>2</td>\n",
              "      <td>0</td>\n",
              "      <td>...</td>\n",
              "      <td>NaN</td>\n",
              "      <td>NaN</td>\n",
              "      <td>0</td>\n",
              "      <td>NaN</td>\n",
              "      <td>NaN</td>\n",
              "      <td>NaN</td>\n",
              "      <td>NaN</td>\n",
              "      <td>NaN</td>\n",
              "      <td>2017-08-01 08:12:32</td>\n",
              "      <td>2017-08-01 09:12:24</td>\n",
              "    </tr>\n",
              "    <tr>\n",
              "      <th>2</th>\n",
              "      <td>581f9581-6ec1-4f8f-8dde-6338e4f5f998</td>\n",
              "      <td>ec3629f1-d1e8-4a07-bf4a-066a90f42b2e</td>\n",
              "      <td>2017-08-01 08:19:50</td>\n",
              "      <td>NaN</td>\n",
              "      <td>NaN</td>\n",
              "      <td>12</td>\n",
              "      <td>1</td>\n",
              "      <td>NaN</td>\n",
              "      <td>2</td>\n",
              "      <td>1</td>\n",
              "      <td>...</td>\n",
              "      <td>NaN</td>\n",
              "      <td>NaN</td>\n",
              "      <td>0</td>\n",
              "      <td>NaN</td>\n",
              "      <td>NaN</td>\n",
              "      <td>NaN</td>\n",
              "      <td>NaN</td>\n",
              "      <td>NaN</td>\n",
              "      <td>2017-08-01 08:19:21</td>\n",
              "      <td>2017-08-01 08:28:03</td>\n",
              "    </tr>\n",
              "    <tr>\n",
              "      <th>3</th>\n",
              "      <td>ee88b30c-5531-4300-a099-401240037a82</td>\n",
              "      <td>ec3629f1-d1e8-4a07-bf4a-066a90f42b2e</td>\n",
              "      <td>2017-08-01 08:19:50</td>\n",
              "      <td>NaN</td>\n",
              "      <td>NaN</td>\n",
              "      <td>55</td>\n",
              "      <td>2</td>\n",
              "      <td>NaN</td>\n",
              "      <td>2</td>\n",
              "      <td>0</td>\n",
              "      <td>...</td>\n",
              "      <td>NaN</td>\n",
              "      <td>NaN</td>\n",
              "      <td>0</td>\n",
              "      <td>NaN</td>\n",
              "      <td>NaN</td>\n",
              "      <td>NaN</td>\n",
              "      <td>NaN</td>\n",
              "      <td>NaN</td>\n",
              "      <td>2017-08-01 08:19:29</td>\n",
              "      <td>2017-08-01 08:28:03</td>\n",
              "    </tr>\n",
              "    <tr>\n",
              "      <th>4</th>\n",
              "      <td>554c52b3-1251-4371-8549-f9ef93c19fa9</td>\n",
              "      <td>ec3629f1-d1e8-4a07-bf4a-066a90f42b2e</td>\n",
              "      <td>2017-08-01 08:19:50</td>\n",
              "      <td>NaN</td>\n",
              "      <td>NaN</td>\n",
              "      <td>12</td>\n",
              "      <td>1</td>\n",
              "      <td>NaN</td>\n",
              "      <td>2</td>\n",
              "      <td>1</td>\n",
              "      <td>...</td>\n",
              "      <td>NaN</td>\n",
              "      <td>NaN</td>\n",
              "      <td>0</td>\n",
              "      <td>NaN</td>\n",
              "      <td>NaN</td>\n",
              "      <td>NaN</td>\n",
              "      <td>NaN</td>\n",
              "      <td>NaN</td>\n",
              "      <td>2017-08-01 08:19:36</td>\n",
              "      <td>2017-08-01 08:28:03</td>\n",
              "    </tr>\n",
              "  </tbody>\n",
              "</table>\n",
              "<p>5 rows × 44 columns</p>\n",
              "</div>\n",
              "    <div class=\"colab-df-buttons\">\n",
              "\n",
              "  <div class=\"colab-df-container\">\n",
              "    <button class=\"colab-df-convert\" onclick=\"convertToInteractive('df-87ea0c8b-b6ed-4760-aff2-25fed613698c')\"\n",
              "            title=\"Convert this dataframe to an interactive table.\"\n",
              "            style=\"display:none;\">\n",
              "\n",
              "  <svg xmlns=\"http://www.w3.org/2000/svg\" height=\"24px\" viewBox=\"0 -960 960 960\">\n",
              "    <path d=\"M120-120v-720h720v720H120Zm60-500h600v-160H180v160Zm220 220h160v-160H400v160Zm0 220h160v-160H400v160ZM180-400h160v-160H180v160Zm440 0h160v-160H620v160ZM180-180h160v-160H180v160Zm440 0h160v-160H620v160Z\"/>\n",
              "  </svg>\n",
              "    </button>\n",
              "\n",
              "  <style>\n",
              "    .colab-df-container {\n",
              "      display:flex;\n",
              "      gap: 12px;\n",
              "    }\n",
              "\n",
              "    .colab-df-convert {\n",
              "      background-color: #E8F0FE;\n",
              "      border: none;\n",
              "      border-radius: 50%;\n",
              "      cursor: pointer;\n",
              "      display: none;\n",
              "      fill: #1967D2;\n",
              "      height: 32px;\n",
              "      padding: 0 0 0 0;\n",
              "      width: 32px;\n",
              "    }\n",
              "\n",
              "    .colab-df-convert:hover {\n",
              "      background-color: #E2EBFA;\n",
              "      box-shadow: 0px 1px 2px rgba(60, 64, 67, 0.3), 0px 1px 3px 1px rgba(60, 64, 67, 0.15);\n",
              "      fill: #174EA6;\n",
              "    }\n",
              "\n",
              "    .colab-df-buttons div {\n",
              "      margin-bottom: 4px;\n",
              "    }\n",
              "\n",
              "    [theme=dark] .colab-df-convert {\n",
              "      background-color: #3B4455;\n",
              "      fill: #D2E3FC;\n",
              "    }\n",
              "\n",
              "    [theme=dark] .colab-df-convert:hover {\n",
              "      background-color: #434B5C;\n",
              "      box-shadow: 0px 1px 3px 1px rgba(0, 0, 0, 0.15);\n",
              "      filter: drop-shadow(0px 1px 2px rgba(0, 0, 0, 0.3));\n",
              "      fill: #FFFFFF;\n",
              "    }\n",
              "  </style>\n",
              "\n",
              "    <script>\n",
              "      const buttonEl =\n",
              "        document.querySelector('#df-87ea0c8b-b6ed-4760-aff2-25fed613698c button.colab-df-convert');\n",
              "      buttonEl.style.display =\n",
              "        google.colab.kernel.accessAllowed ? 'block' : 'none';\n",
              "\n",
              "      async function convertToInteractive(key) {\n",
              "        const element = document.querySelector('#df-87ea0c8b-b6ed-4760-aff2-25fed613698c');\n",
              "        const dataTable =\n",
              "          await google.colab.kernel.invokeFunction('convertToInteractive',\n",
              "                                                    [key], {});\n",
              "        if (!dataTable) return;\n",
              "\n",
              "        const docLinkHtml = 'Like what you see? Visit the ' +\n",
              "          '<a target=\"_blank\" href=https://colab.research.google.com/notebooks/data_table.ipynb>data table notebook</a>'\n",
              "          + ' to learn more about interactive tables.';\n",
              "        element.innerHTML = '';\n",
              "        dataTable['output_type'] = 'display_data';\n",
              "        await google.colab.output.renderOutput(dataTable, element);\n",
              "        const docLink = document.createElement('div');\n",
              "        docLink.innerHTML = docLinkHtml;\n",
              "        element.appendChild(docLink);\n",
              "      }\n",
              "    </script>\n",
              "  </div>\n",
              "\n",
              "\n",
              "<div id=\"df-feb21987-7a10-4621-87c7-6e4d1f3957b0\">\n",
              "  <button class=\"colab-df-quickchart\" onclick=\"quickchart('df-feb21987-7a10-4621-87c7-6e4d1f3957b0')\"\n",
              "            title=\"Suggest charts\"\n",
              "            style=\"display:none;\">\n",
              "\n",
              "<svg xmlns=\"http://www.w3.org/2000/svg\" height=\"24px\"viewBox=\"0 0 24 24\"\n",
              "     width=\"24px\">\n",
              "    <g>\n",
              "        <path d=\"M19 3H5c-1.1 0-2 .9-2 2v14c0 1.1.9 2 2 2h14c1.1 0 2-.9 2-2V5c0-1.1-.9-2-2-2zM9 17H7v-7h2v7zm4 0h-2V7h2v10zm4 0h-2v-4h2v4z\"/>\n",
              "    </g>\n",
              "</svg>\n",
              "  </button>\n",
              "\n",
              "<style>\n",
              "  .colab-df-quickchart {\n",
              "      --bg-color: #E8F0FE;\n",
              "      --fill-color: #1967D2;\n",
              "      --hover-bg-color: #E2EBFA;\n",
              "      --hover-fill-color: #174EA6;\n",
              "      --disabled-fill-color: #AAA;\n",
              "      --disabled-bg-color: #DDD;\n",
              "  }\n",
              "\n",
              "  [theme=dark] .colab-df-quickchart {\n",
              "      --bg-color: #3B4455;\n",
              "      --fill-color: #D2E3FC;\n",
              "      --hover-bg-color: #434B5C;\n",
              "      --hover-fill-color: #FFFFFF;\n",
              "      --disabled-bg-color: #3B4455;\n",
              "      --disabled-fill-color: #666;\n",
              "  }\n",
              "\n",
              "  .colab-df-quickchart {\n",
              "    background-color: var(--bg-color);\n",
              "    border: none;\n",
              "    border-radius: 50%;\n",
              "    cursor: pointer;\n",
              "    display: none;\n",
              "    fill: var(--fill-color);\n",
              "    height: 32px;\n",
              "    padding: 0;\n",
              "    width: 32px;\n",
              "  }\n",
              "\n",
              "  .colab-df-quickchart:hover {\n",
              "    background-color: var(--hover-bg-color);\n",
              "    box-shadow: 0 1px 2px rgba(60, 64, 67, 0.3), 0 1px 3px 1px rgba(60, 64, 67, 0.15);\n",
              "    fill: var(--button-hover-fill-color);\n",
              "  }\n",
              "\n",
              "  .colab-df-quickchart-complete:disabled,\n",
              "  .colab-df-quickchart-complete:disabled:hover {\n",
              "    background-color: var(--disabled-bg-color);\n",
              "    fill: var(--disabled-fill-color);\n",
              "    box-shadow: none;\n",
              "  }\n",
              "\n",
              "  .colab-df-spinner {\n",
              "    border: 2px solid var(--fill-color);\n",
              "    border-color: transparent;\n",
              "    border-bottom-color: var(--fill-color);\n",
              "    animation:\n",
              "      spin 1s steps(1) infinite;\n",
              "  }\n",
              "\n",
              "  @keyframes spin {\n",
              "    0% {\n",
              "      border-color: transparent;\n",
              "      border-bottom-color: var(--fill-color);\n",
              "      border-left-color: var(--fill-color);\n",
              "    }\n",
              "    20% {\n",
              "      border-color: transparent;\n",
              "      border-left-color: var(--fill-color);\n",
              "      border-top-color: var(--fill-color);\n",
              "    }\n",
              "    30% {\n",
              "      border-color: transparent;\n",
              "      border-left-color: var(--fill-color);\n",
              "      border-top-color: var(--fill-color);\n",
              "      border-right-color: var(--fill-color);\n",
              "    }\n",
              "    40% {\n",
              "      border-color: transparent;\n",
              "      border-right-color: var(--fill-color);\n",
              "      border-top-color: var(--fill-color);\n",
              "    }\n",
              "    60% {\n",
              "      border-color: transparent;\n",
              "      border-right-color: var(--fill-color);\n",
              "    }\n",
              "    80% {\n",
              "      border-color: transparent;\n",
              "      border-right-color: var(--fill-color);\n",
              "      border-bottom-color: var(--fill-color);\n",
              "    }\n",
              "    90% {\n",
              "      border-color: transparent;\n",
              "      border-bottom-color: var(--fill-color);\n",
              "    }\n",
              "  }\n",
              "</style>\n",
              "\n",
              "  <script>\n",
              "    async function quickchart(key) {\n",
              "      const quickchartButtonEl =\n",
              "        document.querySelector('#' + key + ' button');\n",
              "      quickchartButtonEl.disabled = true;  // To prevent multiple clicks.\n",
              "      quickchartButtonEl.classList.add('colab-df-spinner');\n",
              "      try {\n",
              "        const charts = await google.colab.kernel.invokeFunction(\n",
              "            'suggestCharts', [key], {});\n",
              "      } catch (error) {\n",
              "        console.error('Error during call to suggestCharts:', error);\n",
              "      }\n",
              "      quickchartButtonEl.classList.remove('colab-df-spinner');\n",
              "      quickchartButtonEl.classList.add('colab-df-quickchart-complete');\n",
              "    }\n",
              "    (() => {\n",
              "      let quickchartButtonEl =\n",
              "        document.querySelector('#df-feb21987-7a10-4621-87c7-6e4d1f3957b0 button');\n",
              "      quickchartButtonEl.style.display =\n",
              "        google.colab.kernel.accessAllowed ? 'block' : 'none';\n",
              "    })();\n",
              "  </script>\n",
              "</div>\n",
              "    </div>\n",
              "  </div>\n"
            ]
          },
          "metadata": {},
          "execution_count": 129
        }
      ]
    },
    {
      "cell_type": "code",
      "source": [
        "df_order_details_01.isnull().sum()"
      ],
      "metadata": {
        "colab": {
          "base_uri": "https://localhost:8080/"
        },
        "id": "60ph8UYTf5-l",
        "outputId": "ff753b58-9a33-4b5c-efa8-32140b993d6c"
      },
      "execution_count": 94,
      "outputs": [
        {
          "output_type": "execute_result",
          "data": {
            "text/plain": [
              "id                              0\n",
              "ogid                            0\n",
              "oddate                          0\n",
              "uid                       1357411\n",
              "table_id                  1808462\n",
              "item_id                         0\n",
              "item_type                       0\n",
              "combo_choice_id           1951980\n",
              "status                          0\n",
              "receipt_issued                  0\n",
              "ordernote_printed               0\n",
              "net_price                       0\n",
              "units                           0\n",
              "weight                          0\n",
              "vat_percentage            1075833\n",
              "vat                             0\n",
              "price                           0\n",
              "municipality_fees         1717774\n",
              "extra_charges             2003349\n",
              "serial_number             2003349\n",
              "unit_price                      0\n",
              "comments                  1713146\n",
              "open_item_comments        2003349\n",
              "parent_id                 1780013\n",
              "discount_percentage             0\n",
              "discount_amount                 0\n",
              "discount_user                   0\n",
              "cancel_user                     0\n",
              "cancel_type               1777131\n",
              "discount_type                   0\n",
              "salesperson_uid           2003349\n",
              "roundid                         0\n",
              "payment_type                    0\n",
              "payment_user              1360553\n",
              "payment_card_type         1542177\n",
              "cc_provider                533713\n",
              "pricelist_id                    0\n",
              "prepared_units            2003349\n",
              "prepared_date             2003349\n",
              "view_after                1498088\n",
              "subscription_detail_id    2003349\n",
              "sent_to_softone           2003349\n",
              "created_at                      0\n",
              "updated_at                      0\n",
              "dtype: int64"
            ]
          },
          "metadata": {},
          "execution_count": 94
        }
      ]
    },
    {
      "cell_type": "code",
      "source": [
        "df_order_details_01['receipt_issued'].value_counts()"
      ],
      "metadata": {
        "colab": {
          "base_uri": "https://localhost:8080/"
        },
        "id": "c3MptcXugNHH",
        "outputId": "f5f1c1f4-5e30-4a8a-c5b6-8a21b657e89c"
      },
      "execution_count": 13,
      "outputs": [
        {
          "output_type": "execute_result",
          "data": {
            "text/plain": [
              "1    1359959\n",
              "0     617803\n",
              "2      25587\n",
              "Name: receipt_issued, dtype: int64"
            ]
          },
          "metadata": {},
          "execution_count": 13
        }
      ]
    },
    {
      "cell_type": "code",
      "source": [
        "order_details_columns = ['id', 'ogid', 'oddate', 'uid', 'item_id', 'item_type', 'status',\n",
        "                        'net_price', 'price', 'unit_price', 'units',\n",
        "                        'vat', 'vat_percentage','parent_id', 'discount_percentage','discount_amount', 'discount_user',\n",
        "                        'cancel_user','discount_type','payment_type', 'payment_user', 'created_at', 'updated_at']\n",
        "len(order_details_columns)"
      ],
      "metadata": {
        "id": "O-FtQTNkeTIX",
        "outputId": "eefd7e77-46c4-48bd-898f-f1714f5bb758",
        "colab": {
          "base_uri": "https://localhost:8080/"
        }
      },
      "execution_count": 53,
      "outputs": [
        {
          "output_type": "execute_result",
          "data": {
            "text/plain": [
              "23"
            ]
          },
          "metadata": {},
          "execution_count": 53
        }
      ]
    },
    {
      "cell_type": "code",
      "source": [
        "df_order_details_selected = df_order_details_01[order_details_columns]\n",
        "\n",
        "df_order_details_selected.shape"
      ],
      "metadata": {
        "colab": {
          "base_uri": "https://localhost:8080/"
        },
        "id": "BdCBiav3eUIa",
        "outputId": "e0ca30da-eb65-4307-efad-5de3be580617"
      },
      "execution_count": 54,
      "outputs": [
        {
          "output_type": "execute_result",
          "data": {
            "text/plain": [
              "(2003349, 23)"
            ]
          },
          "metadata": {},
          "execution_count": 54
        }
      ]
    },
    {
      "cell_type": "code",
      "source": [
        "df_order_details_selected.columns"
      ],
      "metadata": {
        "colab": {
          "base_uri": "https://localhost:8080/"
        },
        "id": "dkRlG95GQJFN",
        "outputId": "66c4c07a-ab07-4fce-9ebb-ca4483229882"
      },
      "execution_count": 98,
      "outputs": [
        {
          "output_type": "execute_result",
          "data": {
            "text/plain": [
              "Index(['id', 'ogid', 'oddate', 'uid', 'item_id', 'item_type', 'status',\n",
              "       'net_price', 'price', 'unit_price', 'units', 'vat', 'vat_percentage',\n",
              "       'parent_id', 'discount_percentage', 'discount_amount', 'discount_user',\n",
              "       'cancel_user', 'discount_type', 'payment_type', 'payment_user',\n",
              "       'created_at', 'updated_at'],\n",
              "      dtype='object')"
            ]
          },
          "metadata": {},
          "execution_count": 98
        }
      ]
    },
    {
      "cell_type": "code",
      "source": [
        "df_order_details_02 = df_order_details_selected.copy()"
      ],
      "metadata": {
        "id": "WpFSl5tFRI4m"
      },
      "execution_count": 55,
      "outputs": []
    },
    {
      "cell_type": "code",
      "source": [
        "# rename the df_order_details_selected columns if needed\n",
        "df_order_details_02.rename(columns={ 'id': 'odid', 'status': 'odstatus', 'created_at': 'odcreated_at',\n",
        "        'updated_at': 'odupdated_at'}, inplace=True)"
      ],
      "metadata": {
        "id": "SY9usyz5Pr1G"
      },
      "execution_count": 56,
      "outputs": []
    },
    {
      "cell_type": "code",
      "source": [
        "df_order_details_02.columns"
      ],
      "metadata": {
        "colab": {
          "base_uri": "https://localhost:8080/"
        },
        "id": "fXsd9L7wQwok",
        "outputId": "e6c7ea0b-7edc-4fcc-c6b8-0f1a579601f7"
      },
      "execution_count": 57,
      "outputs": [
        {
          "output_type": "execute_result",
          "data": {
            "text/plain": [
              "Index(['odid', 'ogid', 'oddate', 'uid', 'item_id', 'item_type', 'odstatus',\n",
              "       'net_price', 'price', 'unit_price', 'units', 'vat', 'vat_percentage',\n",
              "       'parent_id', 'discount_percentage', 'discount_amount', 'discount_user',\n",
              "       'cancel_user', 'discount_type', 'payment_type', 'payment_user',\n",
              "       'odcreated_at', 'odupdated_at'],\n",
              "      dtype='object')"
            ]
          },
          "metadata": {},
          "execution_count": 57
        }
      ]
    },
    {
      "cell_type": "code",
      "source": [
        "df_order_details_02.isnull().sum()"
      ],
      "metadata": {
        "colab": {
          "base_uri": "https://localhost:8080/"
        },
        "id": "KEs2XF2_mpuU",
        "outputId": "fc6beb8b-1f16-44a8-d2cf-46949668ff3b"
      },
      "execution_count": 111,
      "outputs": [
        {
          "output_type": "execute_result",
          "data": {
            "text/plain": [
              "odid                         0\n",
              "ogid                         0\n",
              "oddate                       0\n",
              "uid                    1357411\n",
              "item_id                      0\n",
              "item_type                    0\n",
              "odstatus                     0\n",
              "net_price                    0\n",
              "price                        0\n",
              "unit_price                   0\n",
              "units                        0\n",
              "vat                          0\n",
              "vat_percentage         1075833\n",
              "parent_id              1780013\n",
              "discount_percentage          0\n",
              "discount_amount              0\n",
              "discount_user                0\n",
              "cancel_user                  0\n",
              "discount_type                0\n",
              "payment_type                 0\n",
              "payment_user           1360553\n",
              "odcreated_at                 0\n",
              "odupdated_at                 0\n",
              "dtype: int64"
            ]
          },
          "metadata": {},
          "execution_count": 111
        }
      ]
    },
    {
      "cell_type": "code",
      "source": [
        "df_order_details_02 = df_order_details_02.drop_duplicates()\n",
        "\n",
        "df_order_details_02.shape"
      ],
      "metadata": {
        "id": "iFvjqhCzrcAp",
        "colab": {
          "base_uri": "https://localhost:8080/"
        },
        "outputId": "3101b6ba-1e46-4a17-ca4a-bc0f188a202e"
      },
      "execution_count": 58,
      "outputs": [
        {
          "output_type": "execute_result",
          "data": {
            "text/plain": [
              "(2003349, 23)"
            ]
          },
          "metadata": {},
          "execution_count": 58
        }
      ]
    },
    {
      "cell_type": "code",
      "source": [
        "df_order_details_02.head()"
      ],
      "metadata": {
        "id": "shx7LG1Vripr",
        "colab": {
          "base_uri": "https://localhost:8080/",
          "height": 0
        },
        "outputId": "78a02ede-c529-43cc-8f23-421bcbb74951"
      },
      "execution_count": 151,
      "outputs": [
        {
          "output_type": "execute_result",
          "data": {
            "text/plain": [
              "                                     id                                  ogid  \\\n",
              "0  ab394826-12b7-4332-bc51-9edbf3af1ec4  893b7f11-84d9-4b52-896b-4134baf664ba   \n",
              "1  1039e874-31d3-40b4-ab46-6170b007c33d  893b7f11-84d9-4b52-896b-4134baf664ba   \n",
              "2  581f9581-6ec1-4f8f-8dde-6338e4f5f998  ec3629f1-d1e8-4a07-bf4a-066a90f42b2e   \n",
              "3  ee88b30c-5531-4300-a099-401240037a82  ec3629f1-d1e8-4a07-bf4a-066a90f42b2e   \n",
              "4  554c52b3-1251-4371-8549-f9ef93c19fa9  ec3629f1-d1e8-4a07-bf4a-066a90f42b2e   \n",
              "\n",
              "                oddate  uid  item_id  item_type  status  receipt_issued  \\\n",
              "0  2017-08-01 08:12:36  NaN       12          1       2               1   \n",
              "1  2017-08-01 08:12:36  NaN       53          2       2               0   \n",
              "2  2017-08-01 08:19:50  NaN       12          1       2               1   \n",
              "3  2017-08-01 08:19:50  NaN       55          2       2               0   \n",
              "4  2017-08-01 08:19:50  NaN       12          1       2               1   \n",
              "\n",
              "   net_price  price  ...                             parent_id  \\\n",
              "0       3.23    4.0  ...                                  None   \n",
              "1       0.00    0.0  ...  ab394826-12b7-4332-bc51-9edbf3af1ec4   \n",
              "2       3.23    4.0  ...                                  None   \n",
              "3       0.00    0.0  ...  581f9581-6ec1-4f8f-8dde-6338e4f5f998   \n",
              "4       3.23    4.0  ...                                  None   \n",
              "\n",
              "   discount_percentage  discount_amount  discount_user cancel_user  \\\n",
              "0                  0.0              0.0              0           0   \n",
              "1                  0.0              0.0              0           0   \n",
              "2                  0.0              0.0              0           0   \n",
              "3                  0.0              0.0              0           0   \n",
              "4                  0.0              0.0              0           0   \n",
              "\n",
              "   discount_type  payment_type  payment_user          created_at  \\\n",
              "0              0             1           NaN 2017-08-01 08:12:27   \n",
              "1              0             1           NaN 2017-08-01 08:12:32   \n",
              "2              0             1           NaN 2017-08-01 08:19:21   \n",
              "3              0             1           NaN 2017-08-01 08:19:29   \n",
              "4              0             1           NaN 2017-08-01 08:19:36   \n",
              "\n",
              "           updated_at  \n",
              "0 2017-08-01 09:12:24  \n",
              "1 2017-08-01 09:12:24  \n",
              "2 2017-08-01 08:28:03  \n",
              "3 2017-08-01 08:28:03  \n",
              "4 2017-08-01 08:28:03  \n",
              "\n",
              "[5 rows x 24 columns]"
            ],
            "text/html": [
              "\n",
              "  <div id=\"df-56bac97a-dd9e-4ccb-80df-db565465a9d6\" class=\"colab-df-container\">\n",
              "    <div>\n",
              "<style scoped>\n",
              "    .dataframe tbody tr th:only-of-type {\n",
              "        vertical-align: middle;\n",
              "    }\n",
              "\n",
              "    .dataframe tbody tr th {\n",
              "        vertical-align: top;\n",
              "    }\n",
              "\n",
              "    .dataframe thead th {\n",
              "        text-align: right;\n",
              "    }\n",
              "</style>\n",
              "<table border=\"1\" class=\"dataframe\">\n",
              "  <thead>\n",
              "    <tr style=\"text-align: right;\">\n",
              "      <th></th>\n",
              "      <th>id</th>\n",
              "      <th>ogid</th>\n",
              "      <th>oddate</th>\n",
              "      <th>uid</th>\n",
              "      <th>item_id</th>\n",
              "      <th>item_type</th>\n",
              "      <th>status</th>\n",
              "      <th>receipt_issued</th>\n",
              "      <th>net_price</th>\n",
              "      <th>price</th>\n",
              "      <th>...</th>\n",
              "      <th>parent_id</th>\n",
              "      <th>discount_percentage</th>\n",
              "      <th>discount_amount</th>\n",
              "      <th>discount_user</th>\n",
              "      <th>cancel_user</th>\n",
              "      <th>discount_type</th>\n",
              "      <th>payment_type</th>\n",
              "      <th>payment_user</th>\n",
              "      <th>created_at</th>\n",
              "      <th>updated_at</th>\n",
              "    </tr>\n",
              "  </thead>\n",
              "  <tbody>\n",
              "    <tr>\n",
              "      <th>0</th>\n",
              "      <td>ab394826-12b7-4332-bc51-9edbf3af1ec4</td>\n",
              "      <td>893b7f11-84d9-4b52-896b-4134baf664ba</td>\n",
              "      <td>2017-08-01 08:12:36</td>\n",
              "      <td>NaN</td>\n",
              "      <td>12</td>\n",
              "      <td>1</td>\n",
              "      <td>2</td>\n",
              "      <td>1</td>\n",
              "      <td>3.23</td>\n",
              "      <td>4.0</td>\n",
              "      <td>...</td>\n",
              "      <td>None</td>\n",
              "      <td>0.0</td>\n",
              "      <td>0.0</td>\n",
              "      <td>0</td>\n",
              "      <td>0</td>\n",
              "      <td>0</td>\n",
              "      <td>1</td>\n",
              "      <td>NaN</td>\n",
              "      <td>2017-08-01 08:12:27</td>\n",
              "      <td>2017-08-01 09:12:24</td>\n",
              "    </tr>\n",
              "    <tr>\n",
              "      <th>1</th>\n",
              "      <td>1039e874-31d3-40b4-ab46-6170b007c33d</td>\n",
              "      <td>893b7f11-84d9-4b52-896b-4134baf664ba</td>\n",
              "      <td>2017-08-01 08:12:36</td>\n",
              "      <td>NaN</td>\n",
              "      <td>53</td>\n",
              "      <td>2</td>\n",
              "      <td>2</td>\n",
              "      <td>0</td>\n",
              "      <td>0.00</td>\n",
              "      <td>0.0</td>\n",
              "      <td>...</td>\n",
              "      <td>ab394826-12b7-4332-bc51-9edbf3af1ec4</td>\n",
              "      <td>0.0</td>\n",
              "      <td>0.0</td>\n",
              "      <td>0</td>\n",
              "      <td>0</td>\n",
              "      <td>0</td>\n",
              "      <td>1</td>\n",
              "      <td>NaN</td>\n",
              "      <td>2017-08-01 08:12:32</td>\n",
              "      <td>2017-08-01 09:12:24</td>\n",
              "    </tr>\n",
              "    <tr>\n",
              "      <th>2</th>\n",
              "      <td>581f9581-6ec1-4f8f-8dde-6338e4f5f998</td>\n",
              "      <td>ec3629f1-d1e8-4a07-bf4a-066a90f42b2e</td>\n",
              "      <td>2017-08-01 08:19:50</td>\n",
              "      <td>NaN</td>\n",
              "      <td>12</td>\n",
              "      <td>1</td>\n",
              "      <td>2</td>\n",
              "      <td>1</td>\n",
              "      <td>3.23</td>\n",
              "      <td>4.0</td>\n",
              "      <td>...</td>\n",
              "      <td>None</td>\n",
              "      <td>0.0</td>\n",
              "      <td>0.0</td>\n",
              "      <td>0</td>\n",
              "      <td>0</td>\n",
              "      <td>0</td>\n",
              "      <td>1</td>\n",
              "      <td>NaN</td>\n",
              "      <td>2017-08-01 08:19:21</td>\n",
              "      <td>2017-08-01 08:28:03</td>\n",
              "    </tr>\n",
              "    <tr>\n",
              "      <th>3</th>\n",
              "      <td>ee88b30c-5531-4300-a099-401240037a82</td>\n",
              "      <td>ec3629f1-d1e8-4a07-bf4a-066a90f42b2e</td>\n",
              "      <td>2017-08-01 08:19:50</td>\n",
              "      <td>NaN</td>\n",
              "      <td>55</td>\n",
              "      <td>2</td>\n",
              "      <td>2</td>\n",
              "      <td>0</td>\n",
              "      <td>0.00</td>\n",
              "      <td>0.0</td>\n",
              "      <td>...</td>\n",
              "      <td>581f9581-6ec1-4f8f-8dde-6338e4f5f998</td>\n",
              "      <td>0.0</td>\n",
              "      <td>0.0</td>\n",
              "      <td>0</td>\n",
              "      <td>0</td>\n",
              "      <td>0</td>\n",
              "      <td>1</td>\n",
              "      <td>NaN</td>\n",
              "      <td>2017-08-01 08:19:29</td>\n",
              "      <td>2017-08-01 08:28:03</td>\n",
              "    </tr>\n",
              "    <tr>\n",
              "      <th>4</th>\n",
              "      <td>554c52b3-1251-4371-8549-f9ef93c19fa9</td>\n",
              "      <td>ec3629f1-d1e8-4a07-bf4a-066a90f42b2e</td>\n",
              "      <td>2017-08-01 08:19:50</td>\n",
              "      <td>NaN</td>\n",
              "      <td>12</td>\n",
              "      <td>1</td>\n",
              "      <td>2</td>\n",
              "      <td>1</td>\n",
              "      <td>3.23</td>\n",
              "      <td>4.0</td>\n",
              "      <td>...</td>\n",
              "      <td>None</td>\n",
              "      <td>0.0</td>\n",
              "      <td>0.0</td>\n",
              "      <td>0</td>\n",
              "      <td>0</td>\n",
              "      <td>0</td>\n",
              "      <td>1</td>\n",
              "      <td>NaN</td>\n",
              "      <td>2017-08-01 08:19:36</td>\n",
              "      <td>2017-08-01 08:28:03</td>\n",
              "    </tr>\n",
              "  </tbody>\n",
              "</table>\n",
              "<p>5 rows × 24 columns</p>\n",
              "</div>\n",
              "    <div class=\"colab-df-buttons\">\n",
              "\n",
              "  <div class=\"colab-df-container\">\n",
              "    <button class=\"colab-df-convert\" onclick=\"convertToInteractive('df-56bac97a-dd9e-4ccb-80df-db565465a9d6')\"\n",
              "            title=\"Convert this dataframe to an interactive table.\"\n",
              "            style=\"display:none;\">\n",
              "\n",
              "  <svg xmlns=\"http://www.w3.org/2000/svg\" height=\"24px\" viewBox=\"0 -960 960 960\">\n",
              "    <path d=\"M120-120v-720h720v720H120Zm60-500h600v-160H180v160Zm220 220h160v-160H400v160Zm0 220h160v-160H400v160ZM180-400h160v-160H180v160Zm440 0h160v-160H620v160ZM180-180h160v-160H180v160Zm440 0h160v-160H620v160Z\"/>\n",
              "  </svg>\n",
              "    </button>\n",
              "\n",
              "  <style>\n",
              "    .colab-df-container {\n",
              "      display:flex;\n",
              "      gap: 12px;\n",
              "    }\n",
              "\n",
              "    .colab-df-convert {\n",
              "      background-color: #E8F0FE;\n",
              "      border: none;\n",
              "      border-radius: 50%;\n",
              "      cursor: pointer;\n",
              "      display: none;\n",
              "      fill: #1967D2;\n",
              "      height: 32px;\n",
              "      padding: 0 0 0 0;\n",
              "      width: 32px;\n",
              "    }\n",
              "\n",
              "    .colab-df-convert:hover {\n",
              "      background-color: #E2EBFA;\n",
              "      box-shadow: 0px 1px 2px rgba(60, 64, 67, 0.3), 0px 1px 3px 1px rgba(60, 64, 67, 0.15);\n",
              "      fill: #174EA6;\n",
              "    }\n",
              "\n",
              "    .colab-df-buttons div {\n",
              "      margin-bottom: 4px;\n",
              "    }\n",
              "\n",
              "    [theme=dark] .colab-df-convert {\n",
              "      background-color: #3B4455;\n",
              "      fill: #D2E3FC;\n",
              "    }\n",
              "\n",
              "    [theme=dark] .colab-df-convert:hover {\n",
              "      background-color: #434B5C;\n",
              "      box-shadow: 0px 1px 3px 1px rgba(0, 0, 0, 0.15);\n",
              "      filter: drop-shadow(0px 1px 2px rgba(0, 0, 0, 0.3));\n",
              "      fill: #FFFFFF;\n",
              "    }\n",
              "  </style>\n",
              "\n",
              "    <script>\n",
              "      const buttonEl =\n",
              "        document.querySelector('#df-56bac97a-dd9e-4ccb-80df-db565465a9d6 button.colab-df-convert');\n",
              "      buttonEl.style.display =\n",
              "        google.colab.kernel.accessAllowed ? 'block' : 'none';\n",
              "\n",
              "      async function convertToInteractive(key) {\n",
              "        const element = document.querySelector('#df-56bac97a-dd9e-4ccb-80df-db565465a9d6');\n",
              "        const dataTable =\n",
              "          await google.colab.kernel.invokeFunction('convertToInteractive',\n",
              "                                                    [key], {});\n",
              "        if (!dataTable) return;\n",
              "\n",
              "        const docLinkHtml = 'Like what you see? Visit the ' +\n",
              "          '<a target=\"_blank\" href=https://colab.research.google.com/notebooks/data_table.ipynb>data table notebook</a>'\n",
              "          + ' to learn more about interactive tables.';\n",
              "        element.innerHTML = '';\n",
              "        dataTable['output_type'] = 'display_data';\n",
              "        await google.colab.output.renderOutput(dataTable, element);\n",
              "        const docLink = document.createElement('div');\n",
              "        docLink.innerHTML = docLinkHtml;\n",
              "        element.appendChild(docLink);\n",
              "      }\n",
              "    </script>\n",
              "  </div>\n",
              "\n",
              "\n",
              "<div id=\"df-c243cd35-da07-4137-8bef-8805bf8bd102\">\n",
              "  <button class=\"colab-df-quickchart\" onclick=\"quickchart('df-c243cd35-da07-4137-8bef-8805bf8bd102')\"\n",
              "            title=\"Suggest charts\"\n",
              "            style=\"display:none;\">\n",
              "\n",
              "<svg xmlns=\"http://www.w3.org/2000/svg\" height=\"24px\"viewBox=\"0 0 24 24\"\n",
              "     width=\"24px\">\n",
              "    <g>\n",
              "        <path d=\"M19 3H5c-1.1 0-2 .9-2 2v14c0 1.1.9 2 2 2h14c1.1 0 2-.9 2-2V5c0-1.1-.9-2-2-2zM9 17H7v-7h2v7zm4 0h-2V7h2v10zm4 0h-2v-4h2v4z\"/>\n",
              "    </g>\n",
              "</svg>\n",
              "  </button>\n",
              "\n",
              "<style>\n",
              "  .colab-df-quickchart {\n",
              "      --bg-color: #E8F0FE;\n",
              "      --fill-color: #1967D2;\n",
              "      --hover-bg-color: #E2EBFA;\n",
              "      --hover-fill-color: #174EA6;\n",
              "      --disabled-fill-color: #AAA;\n",
              "      --disabled-bg-color: #DDD;\n",
              "  }\n",
              "\n",
              "  [theme=dark] .colab-df-quickchart {\n",
              "      --bg-color: #3B4455;\n",
              "      --fill-color: #D2E3FC;\n",
              "      --hover-bg-color: #434B5C;\n",
              "      --hover-fill-color: #FFFFFF;\n",
              "      --disabled-bg-color: #3B4455;\n",
              "      --disabled-fill-color: #666;\n",
              "  }\n",
              "\n",
              "  .colab-df-quickchart {\n",
              "    background-color: var(--bg-color);\n",
              "    border: none;\n",
              "    border-radius: 50%;\n",
              "    cursor: pointer;\n",
              "    display: none;\n",
              "    fill: var(--fill-color);\n",
              "    height: 32px;\n",
              "    padding: 0;\n",
              "    width: 32px;\n",
              "  }\n",
              "\n",
              "  .colab-df-quickchart:hover {\n",
              "    background-color: var(--hover-bg-color);\n",
              "    box-shadow: 0 1px 2px rgba(60, 64, 67, 0.3), 0 1px 3px 1px rgba(60, 64, 67, 0.15);\n",
              "    fill: var(--button-hover-fill-color);\n",
              "  }\n",
              "\n",
              "  .colab-df-quickchart-complete:disabled,\n",
              "  .colab-df-quickchart-complete:disabled:hover {\n",
              "    background-color: var(--disabled-bg-color);\n",
              "    fill: var(--disabled-fill-color);\n",
              "    box-shadow: none;\n",
              "  }\n",
              "\n",
              "  .colab-df-spinner {\n",
              "    border: 2px solid var(--fill-color);\n",
              "    border-color: transparent;\n",
              "    border-bottom-color: var(--fill-color);\n",
              "    animation:\n",
              "      spin 1s steps(1) infinite;\n",
              "  }\n",
              "\n",
              "  @keyframes spin {\n",
              "    0% {\n",
              "      border-color: transparent;\n",
              "      border-bottom-color: var(--fill-color);\n",
              "      border-left-color: var(--fill-color);\n",
              "    }\n",
              "    20% {\n",
              "      border-color: transparent;\n",
              "      border-left-color: var(--fill-color);\n",
              "      border-top-color: var(--fill-color);\n",
              "    }\n",
              "    30% {\n",
              "      border-color: transparent;\n",
              "      border-left-color: var(--fill-color);\n",
              "      border-top-color: var(--fill-color);\n",
              "      border-right-color: var(--fill-color);\n",
              "    }\n",
              "    40% {\n",
              "      border-color: transparent;\n",
              "      border-right-color: var(--fill-color);\n",
              "      border-top-color: var(--fill-color);\n",
              "    }\n",
              "    60% {\n",
              "      border-color: transparent;\n",
              "      border-right-color: var(--fill-color);\n",
              "    }\n",
              "    80% {\n",
              "      border-color: transparent;\n",
              "      border-right-color: var(--fill-color);\n",
              "      border-bottom-color: var(--fill-color);\n",
              "    }\n",
              "    90% {\n",
              "      border-color: transparent;\n",
              "      border-bottom-color: var(--fill-color);\n",
              "    }\n",
              "  }\n",
              "</style>\n",
              "\n",
              "  <script>\n",
              "    async function quickchart(key) {\n",
              "      const quickchartButtonEl =\n",
              "        document.querySelector('#' + key + ' button');\n",
              "      quickchartButtonEl.disabled = true;  // To prevent multiple clicks.\n",
              "      quickchartButtonEl.classList.add('colab-df-spinner');\n",
              "      try {\n",
              "        const charts = await google.colab.kernel.invokeFunction(\n",
              "            'suggestCharts', [key], {});\n",
              "      } catch (error) {\n",
              "        console.error('Error during call to suggestCharts:', error);\n",
              "      }\n",
              "      quickchartButtonEl.classList.remove('colab-df-spinner');\n",
              "      quickchartButtonEl.classList.add('colab-df-quickchart-complete');\n",
              "    }\n",
              "    (() => {\n",
              "      let quickchartButtonEl =\n",
              "        document.querySelector('#df-c243cd35-da07-4137-8bef-8805bf8bd102 button');\n",
              "      quickchartButtonEl.style.display =\n",
              "        google.colab.kernel.accessAllowed ? 'block' : 'none';\n",
              "    })();\n",
              "  </script>\n",
              "</div>\n",
              "    </div>\n",
              "  </div>\n"
            ]
          },
          "metadata": {},
          "execution_count": 151
        }
      ]
    },
    {
      "cell_type": "code",
      "source": [
        "# save df_order_details_merged as csv file:\n",
        "df_order_details_02.to_csv('/content/drive/MyDrive/df_order_details_02.csv', index=False)"
      ],
      "metadata": {
        "id": "66rQb-QAzzMN"
      },
      "execution_count": 152,
      "outputs": []
    },
    {
      "cell_type": "code",
      "source": [
        "# Read using Spark\n",
        "csv_dir = '/content/drive/MyDrive/df_order_details_02.csv'\n",
        "df_order_details_02_spark = spark.read.format(\"csv\").load(csv_dir, header=True, inferSchema=True)"
      ],
      "metadata": {
        "id": "q-YcsqLb0Fyy"
      },
      "execution_count": 153,
      "outputs": []
    },
    {
      "cell_type": "code",
      "source": [
        "df_order_details_02_spark.show(10)"
      ],
      "metadata": {
        "colab": {
          "base_uri": "https://localhost:8080/"
        },
        "id": "i3ncNvIl07ta",
        "outputId": "9d0ed722-fc10-4c80-9efa-becd23f9e859"
      },
      "execution_count": 154,
      "outputs": [
        {
          "output_type": "stream",
          "name": "stdout",
          "text": [
            "+--------------------+--------------------+-------------------+----+-------+---------+------+--------------+---------+-----+----------+-----+----+--------------+--------------------+-------------------+---------------+-------------+-----------+-------------+------------+------------+-------------------+-------------------+\n",
            "|                  id|                ogid|             oddate| uid|item_id|item_type|status|receipt_issued|net_price|price|unit_price|units| vat|vat_percentage|           parent_id|discount_percentage|discount_amount|discount_user|cancel_user|discount_type|payment_type|payment_user|         created_at|         updated_at|\n",
            "+--------------------+--------------------+-------------------+----+-------+---------+------+--------------+---------+-----+----------+-----+----+--------------+--------------------+-------------------+---------------+-------------+-----------+-------------+------------+------------+-------------------+-------------------+\n",
            "|ab394826-12b7-433...|893b7f11-84d9-4b5...|2017-08-01 08:12:36|NULL|     12|        1|     2|             1|     3.23|  4.0|       4.0|    1|0.77|          NULL|                NULL|                0.0|            0.0|            0|          0|            0|           1|        NULL|2017-08-01 08:12:27|2017-08-01 09:12:24|\n",
            "|1039e874-31d3-40b...|893b7f11-84d9-4b5...|2017-08-01 08:12:36|NULL|     53|        2|     2|             0|      0.0|  0.0|       0.0|    1| 0.0|          NULL|ab394826-12b7-433...|                0.0|            0.0|            0|          0|            0|           1|        NULL|2017-08-01 08:12:32|2017-08-01 09:12:24|\n",
            "|581f9581-6ec1-4f8...|ec3629f1-d1e8-4a0...|2017-08-01 08:19:50|NULL|     12|        1|     2|             1|     3.23|  4.0|       4.0|    1|0.77|          NULL|                NULL|                0.0|            0.0|            0|          0|            0|           1|        NULL|2017-08-01 08:19:21|2017-08-01 08:28:03|\n",
            "|ee88b30c-5531-430...|ec3629f1-d1e8-4a0...|2017-08-01 08:19:50|NULL|     55|        2|     2|             0|      0.0|  0.0|       0.0|    1| 0.0|          NULL|581f9581-6ec1-4f8...|                0.0|            0.0|            0|          0|            0|           1|        NULL|2017-08-01 08:19:29|2017-08-01 08:28:03|\n",
            "|554c52b3-1251-437...|ec3629f1-d1e8-4a0...|2017-08-01 08:19:50|NULL|     12|        1|     2|             1|     3.23|  4.0|       4.0|    1|0.77|          NULL|                NULL|                0.0|            0.0|            0|          0|            0|           1|        NULL|2017-08-01 08:19:36|2017-08-01 08:28:03|\n",
            "|49715d8a-9aaf-48b...|ec3629f1-d1e8-4a0...|2017-08-01 08:19:50|NULL|     56|        2|     2|             0|      0.0|  0.0|       0.0|    1| 0.0|          NULL|554c52b3-1251-437...|                0.0|            0.0|            0|          0|            0|           1|        NULL|2017-08-01 08:19:45|2017-08-01 08:28:03|\n",
            "|483cedf7-5373-4d7...|446fa4af-ceb8-46b...|2017-08-01 08:50:34|NULL|    371|        1|     2|             1|     3.23|  4.0|       4.0|    1|0.77|          NULL|                NULL|                0.0|            0.0|            0|          0|            0|           1|        NULL|2017-08-01 08:50:13|2017-08-01 09:37:17|\n",
            "|47b8856d-04d8-43a...|446fa4af-ceb8-46b...|2017-08-01 08:50:34|NULL|     10|        1|     2|             1|     3.23|  4.0|       4.0|    1|0.77|          NULL|                NULL|                0.0|            0.0|            0|          0|            0|           1|        NULL|2017-08-01 08:50:28|2017-08-01 09:37:17|\n",
            "|35a775da-da6b-43f...|446fa4af-ceb8-46b...|2017-08-01 08:50:34|NULL|     53|        2|     2|             0|      0.0|  0.0|       0.0|    1| 0.0|          NULL|47b8856d-04d8-43a...|                0.0|            0.0|            0|          0|            0|           1|        NULL|2017-08-01 08:50:33|2017-08-01 09:37:18|\n",
            "|d8a55031-8548-42b...|0eb0b96e-ef2f-443...|2017-08-01 09:06:04|NULL|     10|        1|     2|             1|     6.45|  8.0|       4.0|    2|1.55|          NULL|                NULL|                0.0|            0.0|            0|          0|            0|           1|        NULL|2017-08-01 09:05:20|2017-08-01 10:12:24|\n",
            "+--------------------+--------------------+-------------------+----+-------+---------+------+--------------+---------+-----+----------+-----+----+--------------+--------------------+-------------------+---------------+-------------+-----------+-------------+------------+------------+-------------------+-------------------+\n",
            "only showing top 10 rows\n",
            "\n"
          ]
        }
      ]
    },
    {
      "cell_type": "code",
      "source": [
        "# Check the memory usage before optimization\n",
        "df_order_details_02.info(memory_usage='deep')"
      ],
      "metadata": {
        "colab": {
          "base_uri": "https://localhost:8080/"
        },
        "id": "swCtwPnoa3cr",
        "outputId": "66fc9ba1-d74d-4cd3-faee-11f919197d4e"
      },
      "execution_count": 113,
      "outputs": [
        {
          "output_type": "stream",
          "name": "stdout",
          "text": [
            "<class 'pandas.core.frame.DataFrame'>\n",
            "Int64Index: 2003349 entries, 0 to 2003348\n",
            "Data columns (total 23 columns):\n",
            " #   Column               Dtype         \n",
            "---  ------               -----         \n",
            " 0   odid                 object        \n",
            " 1   ogid                 object        \n",
            " 2   oddate               object        \n",
            " 3   uid                  float64       \n",
            " 4   item_id              int64         \n",
            " 5   item_type            int64         \n",
            " 6   odstatus             int64         \n",
            " 7   net_price            float64       \n",
            " 8   price                float64       \n",
            " 9   unit_price           float64       \n",
            " 10  units                int64         \n",
            " 11  vat                  float64       \n",
            " 12  vat_percentage       float64       \n",
            " 13  parent_id            object        \n",
            " 14  discount_percentage  float64       \n",
            " 15  discount_amount      float64       \n",
            " 16  discount_user        int64         \n",
            " 17  cancel_user          int64         \n",
            " 18  discount_type        int64         \n",
            " 19  payment_type         int64         \n",
            " 20  payment_user         float64       \n",
            " 21  odcreated_at         datetime64[ns]\n",
            " 22  odupdated_at         datetime64[ns]\n",
            "dtypes: datetime64[ns](2), float64(9), int64(8), object(4)\n",
            "memory usage: 866.8 MB\n"
          ]
        }
      ]
    },
    {
      "cell_type": "code",
      "source": [
        "df_order_details_02.columns, df_order_details_02.shape"
      ],
      "metadata": {
        "colab": {
          "base_uri": "https://localhost:8080/"
        },
        "id": "A7hGSlSxwSjZ",
        "outputId": "253226e1-ee0c-4fe0-9f9b-8d9dd2877370"
      },
      "execution_count": 114,
      "outputs": [
        {
          "output_type": "execute_result",
          "data": {
            "text/plain": [
              "(Index(['odid', 'ogid', 'oddate', 'uid', 'item_id', 'item_type', 'odstatus',\n",
              "        'net_price', 'price', 'unit_price', 'units', 'vat', 'vat_percentage',\n",
              "        'parent_id', 'discount_percentage', 'discount_amount', 'discount_user',\n",
              "        'cancel_user', 'discount_type', 'payment_type', 'payment_user',\n",
              "        'odcreated_at', 'odupdated_at'],\n",
              "       dtype='object'),\n",
              " (2003349, 23))"
            ]
          },
          "metadata": {},
          "execution_count": 114
        }
      ]
    },
    {
      "cell_type": "markdown",
      "source": [
        "# Transform"
      ],
      "metadata": {
        "id": "9cHUyu4oxHgz"
      }
    },
    {
      "cell_type": "markdown",
      "source": [
        "# Data Cleaning:\n",
        "Inspection and Cleaning\n"
      ],
      "metadata": {
        "id": "LwJWy9NIw2VO"
      }
    },
    {
      "cell_type": "code",
      "source": [
        "df_order_details_02.isnull().sum()"
      ],
      "metadata": {
        "colab": {
          "base_uri": "https://localhost:8080/"
        },
        "id": "sMI_JdZSWO4n",
        "outputId": "7c93af9f-e3a3-43c5-d1c2-0b5c7b3a9743"
      },
      "execution_count": 80,
      "outputs": [
        {
          "output_type": "execute_result",
          "data": {
            "text/plain": [
              "id                           0\n",
              "ogid                         0\n",
              "oddate                       0\n",
              "uid                    1357411\n",
              "item_id                      0\n",
              "item_type                    0\n",
              "status                       0\n",
              "receipt_issued               0\n",
              "net_price                    0\n",
              "price                        0\n",
              "unit_price                   0\n",
              "units                        0\n",
              "vat                          0\n",
              "vat_percentage         1075833\n",
              "parent_id              1780013\n",
              "discount_percentage          0\n",
              "discount_amount              0\n",
              "discount_user                0\n",
              "cancel_user                  0\n",
              "discount_type                0\n",
              "payment_type                 0\n",
              "payment_user           1360553\n",
              "created_at                   0\n",
              "updated_at                   0\n",
              "dtype: int64"
            ]
          },
          "metadata": {},
          "execution_count": 80
        }
      ]
    },
    {
      "cell_type": "code",
      "source": [
        "df_order_details_02['payment_user'].value_counts()"
      ],
      "metadata": {
        "colab": {
          "base_uri": "https://localhost:8080/"
        },
        "id": "S0-14HslJHyz",
        "outputId": "94abdbc2-ecca-428a-dcdf-2de63ad21b2a"
      },
      "execution_count": 26,
      "outputs": [
        {
          "output_type": "execute_result",
          "data": {
            "text/plain": [
              "35.0    90772\n",
              "42.0    89295\n",
              "41.0    63637\n",
              "25.0    57106\n",
              "38.0    52462\n",
              "43.0    43887\n",
              "24.0    35472\n",
              "17.0    33451\n",
              "22.0    30282\n",
              "47.0    26978\n",
              "12.0    23237\n",
              "19.0    18695\n",
              "46.0    16081\n",
              "33.0    14810\n",
              "49.0    14239\n",
              "45.0    11471\n",
              "50.0     6889\n",
              "0.0      6076\n",
              "51.0     4019\n",
              "48.0     3937\n",
              "Name: payment_user, dtype: int64"
            ]
          },
          "metadata": {},
          "execution_count": 26
        }
      ]
    },
    {
      "cell_type": "markdown",
      "source": [
        "**Handling Null Values:**"
      ],
      "metadata": {
        "id": "ziqr9tp1sONs"
      }
    },
    {
      "cell_type": "code",
      "source": [
        "# Replace nulls in 'vat_percentage' with 0.0\n",
        "df_order_details_02['vat_percentage'].fillna(0.0, inplace=True)"
      ],
      "metadata": {
        "id": "vpHrjs0qsMAd"
      },
      "execution_count": 59,
      "outputs": []
    },
    {
      "cell_type": "code",
      "source": [
        "# Create a binary indicator for missing uid\n",
        "df_order_details_02['uid_missing'] = df_order_details_02['uid'].isnull().astype(int)\n",
        "\n",
        "# fill NaN values with a placeholder after creating the indicator\n",
        "df_order_details_02['uid'].fillna(-1, inplace=True)"
      ],
      "metadata": {
        "id": "S5c-mz5zrlp6"
      },
      "execution_count": 60,
      "outputs": []
    },
    {
      "cell_type": "code",
      "source": [
        "df_order_details_02.isnull().sum()"
      ],
      "metadata": {
        "colab": {
          "base_uri": "https://localhost:8080/"
        },
        "id": "jC92FiZPscFE",
        "outputId": "4d57493e-5a88-4203-a445-bbbcf542ed33"
      },
      "execution_count": 61,
      "outputs": [
        {
          "output_type": "execute_result",
          "data": {
            "text/plain": [
              "odid                         0\n",
              "ogid                         0\n",
              "oddate                       0\n",
              "uid                          0\n",
              "item_id                      0\n",
              "item_type                    0\n",
              "odstatus                     0\n",
              "net_price                    0\n",
              "price                        0\n",
              "unit_price                   0\n",
              "units                        0\n",
              "vat                          0\n",
              "vat_percentage               0\n",
              "parent_id              1780013\n",
              "discount_percentage          0\n",
              "discount_amount              0\n",
              "discount_user                0\n",
              "cancel_user                  0\n",
              "discount_type                0\n",
              "payment_type                 0\n",
              "payment_user           1360553\n",
              "odcreated_at                 0\n",
              "odupdated_at                 0\n",
              "uid_missing                  0\n",
              "dtype: int64"
            ]
          },
          "metadata": {},
          "execution_count": 61
        }
      ]
    },
    {
      "cell_type": "markdown",
      "source": [
        "# Removing Rows with Missing uid\n",
        "\n"
      ],
      "metadata": {
        "id": "cDnmmQ9C2eIs"
      }
    },
    {
      "cell_type": "code",
      "source": [
        "# df_order_details_02 = df_order_details_02.dropna(subset=['uid'])"
      ],
      "metadata": {
        "id": "bSsyL9S12lb1"
      },
      "execution_count": 346,
      "outputs": []
    },
    {
      "cell_type": "code",
      "source": [
        "df_order_details_02.shape"
      ],
      "metadata": {
        "colab": {
          "base_uri": "https://localhost:8080/"
        },
        "id": "7-oo60ej5BjX",
        "outputId": "e62de8ff-77b1-4c71-8911-e2e4cf15494d"
      },
      "execution_count": 26,
      "outputs": [
        {
          "output_type": "execute_result",
          "data": {
            "text/plain": [
              "(2003349, 24)"
            ]
          },
          "metadata": {},
          "execution_count": 26
        }
      ]
    },
    {
      "cell_type": "markdown",
      "source": [
        "**Removing Rows with Missing payment_user**"
      ],
      "metadata": {
        "id": "7OS9zkW77Rne"
      }
    },
    {
      "cell_type": "code",
      "source": [
        "# df_order_details_02 = df_order_details_02.dropna(subset=['payment_user'])"
      ],
      "metadata": {
        "id": "6r2rNe9J7PZK"
      },
      "execution_count": 348,
      "outputs": []
    },
    {
      "cell_type": "code",
      "source": [
        "df_order_details_02.isnull().sum()"
      ],
      "metadata": {
        "colab": {
          "base_uri": "https://localhost:8080/"
        },
        "id": "8uPfmSRR5PqW",
        "outputId": "953bd145-1165-4660-c28a-fdd4287cd03f"
      },
      "execution_count": 62,
      "outputs": [
        {
          "output_type": "execute_result",
          "data": {
            "text/plain": [
              "odid                         0\n",
              "ogid                         0\n",
              "oddate                       0\n",
              "uid                          0\n",
              "item_id                      0\n",
              "item_type                    0\n",
              "odstatus                     0\n",
              "net_price                    0\n",
              "price                        0\n",
              "unit_price                   0\n",
              "units                        0\n",
              "vat                          0\n",
              "vat_percentage               0\n",
              "parent_id              1780013\n",
              "discount_percentage          0\n",
              "discount_amount              0\n",
              "discount_user                0\n",
              "cancel_user                  0\n",
              "discount_type                0\n",
              "payment_type                 0\n",
              "payment_user           1360553\n",
              "odcreated_at                 0\n",
              "odupdated_at                 0\n",
              "uid_missing                  0\n",
              "dtype: int64"
            ]
          },
          "metadata": {},
          "execution_count": 62
        }
      ]
    },
    {
      "cell_type": "markdown",
      "source": [
        "**Drop parent_id column**"
      ],
      "metadata": {
        "id": "1dgnYfHA8FB9"
      }
    },
    {
      "cell_type": "code",
      "source": [
        "df_order_details_02.columns"
      ],
      "metadata": {
        "colab": {
          "base_uri": "https://localhost:8080/"
        },
        "id": "INfNdVB-QQ_9",
        "outputId": "09411250-5b80-43ff-97a9-6b5d4c34b9a2"
      },
      "execution_count": 117,
      "outputs": [
        {
          "output_type": "execute_result",
          "data": {
            "text/plain": [
              "Index(['odid', 'ogid', 'oddate', 'uid', 'item_id', 'item_type', 'odstatus',\n",
              "       'net_price', 'price', 'unit_price', 'units', 'vat', 'vat_percentage',\n",
              "       'parent_id', 'discount_percentage', 'discount_amount', 'discount_user',\n",
              "       'cancel_user', 'discount_type', 'payment_type', 'payment_user',\n",
              "       'odcreated_at', 'odupdated_at'],\n",
              "      dtype='object')"
            ]
          },
          "metadata": {},
          "execution_count": 117
        }
      ]
    },
    {
      "cell_type": "code",
      "source": [
        "df_order_details_02.drop(columns=['parent_id'], inplace=True)"
      ],
      "metadata": {
        "id": "Vm5FtZ9B7jmd"
      },
      "execution_count": 63,
      "outputs": []
    },
    {
      "cell_type": "code",
      "source": [
        "df_order_details_02.shape"
      ],
      "metadata": {
        "colab": {
          "base_uri": "https://localhost:8080/"
        },
        "id": "ILjfeu3n7mxg",
        "outputId": "ba0424bd-82f7-4f94-f8be-53bbe7c0e7f4"
      },
      "execution_count": 119,
      "outputs": [
        {
          "output_type": "execute_result",
          "data": {
            "text/plain": [
              "(2003349, 22)"
            ]
          },
          "metadata": {},
          "execution_count": 119
        }
      ]
    },
    {
      "cell_type": "markdown",
      "source": [
        "# memory usage before optimization"
      ],
      "metadata": {
        "id": "8HPBc58GO8tb"
      }
    },
    {
      "cell_type": "code",
      "source": [
        "# Check the memory usage before optimization\n",
        "df_order_details_02.info(memory_usage='deep')"
      ],
      "metadata": {
        "colab": {
          "base_uri": "https://localhost:8080/"
        },
        "id": "j2o1tR_U6Og6",
        "outputId": "56e8c3d4-49db-40ce-c5d5-99654863a331"
      },
      "execution_count": 68,
      "outputs": [
        {
          "output_type": "stream",
          "name": "stdout",
          "text": [
            "<class 'pandas.core.frame.DataFrame'>\n",
            "Int64Index: 2003349 entries, 0 to 2003348\n",
            "Data columns (total 24 columns):\n",
            " #   Column               Dtype         \n",
            "---  ------               -----         \n",
            " 0   id                   object        \n",
            " 1   ogid                 object        \n",
            " 2   oddate               object        \n",
            " 3   uid                  float64       \n",
            " 4   item_id              int64         \n",
            " 5   item_type            int64         \n",
            " 6   status               int64         \n",
            " 7   receipt_issued       int64         \n",
            " 8   net_price            float64       \n",
            " 9   price                float64       \n",
            " 10  unit_price           float64       \n",
            " 11  units                int64         \n",
            " 12  vat                  float64       \n",
            " 13  vat_percentage       float64       \n",
            " 14  parent_id            object        \n",
            " 15  discount_percentage  float64       \n",
            " 16  discount_amount      float64       \n",
            " 17  discount_user        int64         \n",
            " 18  cancel_user          int64         \n",
            " 19  discount_type        int64         \n",
            " 20  payment_type         int64         \n",
            " 21  payment_user         float64       \n",
            " 22  created_at           datetime64[ns]\n",
            " 23  updated_at           datetime64[ns]\n",
            "dtypes: datetime64[ns](2), float64(9), int64(9), object(4)\n",
            "memory usage: 882.1 MB\n"
          ]
        }
      ]
    },
    {
      "cell_type": "markdown",
      "source": [
        "# Merge OrderDetails with User table"
      ],
      "metadata": {
        "id": "1QDhJ6GlDPbz"
      }
    },
    {
      "cell_type": "markdown",
      "source": [
        "# Access User DataFrame"
      ],
      "metadata": {
        "id": "xu5ttqMFEFc6"
      }
    },
    {
      "cell_type": "code",
      "source": [
        "df_User = dataframes['df_User']\n",
        "\n",
        "df_User.shape"
      ],
      "metadata": {
        "colab": {
          "base_uri": "https://localhost:8080/"
        },
        "id": "tFDuN6rDEKE_",
        "outputId": "1b17a1fb-df91-48c2-b417-70b5690eb553"
      },
      "execution_count": 64,
      "outputs": [
        {
          "output_type": "execute_result",
          "data": {
            "text/plain": [
              "(51, 29)"
            ]
          },
          "metadata": {},
          "execution_count": 64
        }
      ]
    },
    {
      "cell_type": "code",
      "source": [
        "df_User.head()"
      ],
      "metadata": {
        "colab": {
          "base_uri": "https://localhost:8080/",
          "height": 0
        },
        "id": "ty_tK_igEdCM",
        "outputId": "861ee04c-65df-4fa5-ae01-d670eb4d46b3"
      },
      "execution_count": 44,
      "outputs": [
        {
          "output_type": "execute_result",
          "data": {
            "text/plain": [
              "    id                     name  \\\n",
              "0 -999           Hidden Service   \n",
              "1    1                  Andreas   \n",
              "2    3  Κωνσταντινος Μπαμπουλας   \n",
              "3    4                    Check   \n",
              "4    5       Αντωνης Πλατανιτης   \n",
              "\n",
              "                                              states      uname       pass  \\\n",
              "0                                               None  sp0tl1ght  sp0tl1ght   \n",
              "1  app.store.analytics,app.store.analytics.delive...    andreas       0102   \n",
              "2                                                        kostas     kostas   \n",
              "3                                                         check      check   \n",
              "4  app.store.live,app.store.live.tables,app.store...    antonis       1020   \n",
              "\n",
              "   store  role  user_tag  rcp_ser_pfx  CurrentShiftStarted  ...  \\\n",
              "0    549     3       NaN          NaN                 None  ...   \n",
              "1    549     1       NaN          NaN                 None  ...   \n",
              "2    549     3       NaN          NaN  0001-01-01 00:00:00  ...   \n",
              "3    549     4       NaN          NaN                 None  ...   \n",
              "4    549     5       NaN          NaN                 None  ...   \n",
              "\n",
              "   can_transfer_orders can_force_login  can_reprint_products  \\\n",
              "0                    0               0                     0   \n",
              "1                    1               1                     1   \n",
              "2                    0               0                     0   \n",
              "3                    0               0                     0   \n",
              "4                    0               0                     0   \n",
              "\n",
              "  can_print_total_order  can_bartender_orders  can_pay_orders  hide_totals  \\\n",
              "0                     0                     0               0          0.0   \n",
              "1                     1                     1               0          NaN   \n",
              "2                     0                     0               0          NaN   \n",
              "3                     0                     0               0          NaN   \n",
              "4                     0                     0               0          1.0   \n",
              "\n",
              "   max_shift_time          created_at          updated_at  \n",
              "0             NaT 2023-01-30 14:45:28 2023-01-30 14:45:28  \n",
              "1             NaT 2017-03-02 10:29:05 2017-03-08 08:41:24  \n",
              "2             NaT 2017-03-02 10:29:05 2017-03-22 13:29:23  \n",
              "3             NaT 2017-03-02 10:29:05 2017-03-08 08:41:54  \n",
              "4             NaT 2017-03-02 10:29:05 2019-11-26 08:46:43  \n",
              "\n",
              "[5 rows x 29 columns]"
            ],
            "text/html": [
              "\n",
              "  <div id=\"df-d5fcc33b-207e-4595-96f2-ee25e76d8b29\" class=\"colab-df-container\">\n",
              "    <div>\n",
              "<style scoped>\n",
              "    .dataframe tbody tr th:only-of-type {\n",
              "        vertical-align: middle;\n",
              "    }\n",
              "\n",
              "    .dataframe tbody tr th {\n",
              "        vertical-align: top;\n",
              "    }\n",
              "\n",
              "    .dataframe thead th {\n",
              "        text-align: right;\n",
              "    }\n",
              "</style>\n",
              "<table border=\"1\" class=\"dataframe\">\n",
              "  <thead>\n",
              "    <tr style=\"text-align: right;\">\n",
              "      <th></th>\n",
              "      <th>id</th>\n",
              "      <th>name</th>\n",
              "      <th>states</th>\n",
              "      <th>uname</th>\n",
              "      <th>pass</th>\n",
              "      <th>store</th>\n",
              "      <th>role</th>\n",
              "      <th>user_tag</th>\n",
              "      <th>rcp_ser_pfx</th>\n",
              "      <th>CurrentShiftStarted</th>\n",
              "      <th>...</th>\n",
              "      <th>can_transfer_orders</th>\n",
              "      <th>can_force_login</th>\n",
              "      <th>can_reprint_products</th>\n",
              "      <th>can_print_total_order</th>\n",
              "      <th>can_bartender_orders</th>\n",
              "      <th>can_pay_orders</th>\n",
              "      <th>hide_totals</th>\n",
              "      <th>max_shift_time</th>\n",
              "      <th>created_at</th>\n",
              "      <th>updated_at</th>\n",
              "    </tr>\n",
              "  </thead>\n",
              "  <tbody>\n",
              "    <tr>\n",
              "      <th>0</th>\n",
              "      <td>-999</td>\n",
              "      <td>Hidden Service</td>\n",
              "      <td>None</td>\n",
              "      <td>sp0tl1ght</td>\n",
              "      <td>sp0tl1ght</td>\n",
              "      <td>549</td>\n",
              "      <td>3</td>\n",
              "      <td>NaN</td>\n",
              "      <td>NaN</td>\n",
              "      <td>None</td>\n",
              "      <td>...</td>\n",
              "      <td>0</td>\n",
              "      <td>0</td>\n",
              "      <td>0</td>\n",
              "      <td>0</td>\n",
              "      <td>0</td>\n",
              "      <td>0</td>\n",
              "      <td>0.0</td>\n",
              "      <td>NaT</td>\n",
              "      <td>2023-01-30 14:45:28</td>\n",
              "      <td>2023-01-30 14:45:28</td>\n",
              "    </tr>\n",
              "    <tr>\n",
              "      <th>1</th>\n",
              "      <td>1</td>\n",
              "      <td>Andreas</td>\n",
              "      <td>app.store.analytics,app.store.analytics.delive...</td>\n",
              "      <td>andreas</td>\n",
              "      <td>0102</td>\n",
              "      <td>549</td>\n",
              "      <td>1</td>\n",
              "      <td>NaN</td>\n",
              "      <td>NaN</td>\n",
              "      <td>None</td>\n",
              "      <td>...</td>\n",
              "      <td>1</td>\n",
              "      <td>1</td>\n",
              "      <td>1</td>\n",
              "      <td>1</td>\n",
              "      <td>1</td>\n",
              "      <td>0</td>\n",
              "      <td>NaN</td>\n",
              "      <td>NaT</td>\n",
              "      <td>2017-03-02 10:29:05</td>\n",
              "      <td>2017-03-08 08:41:24</td>\n",
              "    </tr>\n",
              "    <tr>\n",
              "      <th>2</th>\n",
              "      <td>3</td>\n",
              "      <td>Κωνσταντινος Μπαμπουλας</td>\n",
              "      <td></td>\n",
              "      <td>kostas</td>\n",
              "      <td>kostas</td>\n",
              "      <td>549</td>\n",
              "      <td>3</td>\n",
              "      <td>NaN</td>\n",
              "      <td>NaN</td>\n",
              "      <td>0001-01-01 00:00:00</td>\n",
              "      <td>...</td>\n",
              "      <td>0</td>\n",
              "      <td>0</td>\n",
              "      <td>0</td>\n",
              "      <td>0</td>\n",
              "      <td>0</td>\n",
              "      <td>0</td>\n",
              "      <td>NaN</td>\n",
              "      <td>NaT</td>\n",
              "      <td>2017-03-02 10:29:05</td>\n",
              "      <td>2017-03-22 13:29:23</td>\n",
              "    </tr>\n",
              "    <tr>\n",
              "      <th>3</th>\n",
              "      <td>4</td>\n",
              "      <td>Check</td>\n",
              "      <td></td>\n",
              "      <td>check</td>\n",
              "      <td>check</td>\n",
              "      <td>549</td>\n",
              "      <td>4</td>\n",
              "      <td>NaN</td>\n",
              "      <td>NaN</td>\n",
              "      <td>None</td>\n",
              "      <td>...</td>\n",
              "      <td>0</td>\n",
              "      <td>0</td>\n",
              "      <td>0</td>\n",
              "      <td>0</td>\n",
              "      <td>0</td>\n",
              "      <td>0</td>\n",
              "      <td>NaN</td>\n",
              "      <td>NaT</td>\n",
              "      <td>2017-03-02 10:29:05</td>\n",
              "      <td>2017-03-08 08:41:54</td>\n",
              "    </tr>\n",
              "    <tr>\n",
              "      <th>4</th>\n",
              "      <td>5</td>\n",
              "      <td>Αντωνης Πλατανιτης</td>\n",
              "      <td>app.store.live,app.store.live.tables,app.store...</td>\n",
              "      <td>antonis</td>\n",
              "      <td>1020</td>\n",
              "      <td>549</td>\n",
              "      <td>5</td>\n",
              "      <td>NaN</td>\n",
              "      <td>NaN</td>\n",
              "      <td>None</td>\n",
              "      <td>...</td>\n",
              "      <td>0</td>\n",
              "      <td>0</td>\n",
              "      <td>0</td>\n",
              "      <td>0</td>\n",
              "      <td>0</td>\n",
              "      <td>0</td>\n",
              "      <td>1.0</td>\n",
              "      <td>NaT</td>\n",
              "      <td>2017-03-02 10:29:05</td>\n",
              "      <td>2019-11-26 08:46:43</td>\n",
              "    </tr>\n",
              "  </tbody>\n",
              "</table>\n",
              "<p>5 rows × 29 columns</p>\n",
              "</div>\n",
              "    <div class=\"colab-df-buttons\">\n",
              "\n",
              "  <div class=\"colab-df-container\">\n",
              "    <button class=\"colab-df-convert\" onclick=\"convertToInteractive('df-d5fcc33b-207e-4595-96f2-ee25e76d8b29')\"\n",
              "            title=\"Convert this dataframe to an interactive table.\"\n",
              "            style=\"display:none;\">\n",
              "\n",
              "  <svg xmlns=\"http://www.w3.org/2000/svg\" height=\"24px\" viewBox=\"0 -960 960 960\">\n",
              "    <path d=\"M120-120v-720h720v720H120Zm60-500h600v-160H180v160Zm220 220h160v-160H400v160Zm0 220h160v-160H400v160ZM180-400h160v-160H180v160Zm440 0h160v-160H620v160ZM180-180h160v-160H180v160Zm440 0h160v-160H620v160Z\"/>\n",
              "  </svg>\n",
              "    </button>\n",
              "\n",
              "  <style>\n",
              "    .colab-df-container {\n",
              "      display:flex;\n",
              "      gap: 12px;\n",
              "    }\n",
              "\n",
              "    .colab-df-convert {\n",
              "      background-color: #E8F0FE;\n",
              "      border: none;\n",
              "      border-radius: 50%;\n",
              "      cursor: pointer;\n",
              "      display: none;\n",
              "      fill: #1967D2;\n",
              "      height: 32px;\n",
              "      padding: 0 0 0 0;\n",
              "      width: 32px;\n",
              "    }\n",
              "\n",
              "    .colab-df-convert:hover {\n",
              "      background-color: #E2EBFA;\n",
              "      box-shadow: 0px 1px 2px rgba(60, 64, 67, 0.3), 0px 1px 3px 1px rgba(60, 64, 67, 0.15);\n",
              "      fill: #174EA6;\n",
              "    }\n",
              "\n",
              "    .colab-df-buttons div {\n",
              "      margin-bottom: 4px;\n",
              "    }\n",
              "\n",
              "    [theme=dark] .colab-df-convert {\n",
              "      background-color: #3B4455;\n",
              "      fill: #D2E3FC;\n",
              "    }\n",
              "\n",
              "    [theme=dark] .colab-df-convert:hover {\n",
              "      background-color: #434B5C;\n",
              "      box-shadow: 0px 1px 3px 1px rgba(0, 0, 0, 0.15);\n",
              "      filter: drop-shadow(0px 1px 2px rgba(0, 0, 0, 0.3));\n",
              "      fill: #FFFFFF;\n",
              "    }\n",
              "  </style>\n",
              "\n",
              "    <script>\n",
              "      const buttonEl =\n",
              "        document.querySelector('#df-d5fcc33b-207e-4595-96f2-ee25e76d8b29 button.colab-df-convert');\n",
              "      buttonEl.style.display =\n",
              "        google.colab.kernel.accessAllowed ? 'block' : 'none';\n",
              "\n",
              "      async function convertToInteractive(key) {\n",
              "        const element = document.querySelector('#df-d5fcc33b-207e-4595-96f2-ee25e76d8b29');\n",
              "        const dataTable =\n",
              "          await google.colab.kernel.invokeFunction('convertToInteractive',\n",
              "                                                    [key], {});\n",
              "        if (!dataTable) return;\n",
              "\n",
              "        const docLinkHtml = 'Like what you see? Visit the ' +\n",
              "          '<a target=\"_blank\" href=https://colab.research.google.com/notebooks/data_table.ipynb>data table notebook</a>'\n",
              "          + ' to learn more about interactive tables.';\n",
              "        element.innerHTML = '';\n",
              "        dataTable['output_type'] = 'display_data';\n",
              "        await google.colab.output.renderOutput(dataTable, element);\n",
              "        const docLink = document.createElement('div');\n",
              "        docLink.innerHTML = docLinkHtml;\n",
              "        element.appendChild(docLink);\n",
              "      }\n",
              "    </script>\n",
              "  </div>\n",
              "\n",
              "\n",
              "<div id=\"df-e73b2ed7-4af1-444c-a933-c58391f17552\">\n",
              "  <button class=\"colab-df-quickchart\" onclick=\"quickchart('df-e73b2ed7-4af1-444c-a933-c58391f17552')\"\n",
              "            title=\"Suggest charts\"\n",
              "            style=\"display:none;\">\n",
              "\n",
              "<svg xmlns=\"http://www.w3.org/2000/svg\" height=\"24px\"viewBox=\"0 0 24 24\"\n",
              "     width=\"24px\">\n",
              "    <g>\n",
              "        <path d=\"M19 3H5c-1.1 0-2 .9-2 2v14c0 1.1.9 2 2 2h14c1.1 0 2-.9 2-2V5c0-1.1-.9-2-2-2zM9 17H7v-7h2v7zm4 0h-2V7h2v10zm4 0h-2v-4h2v4z\"/>\n",
              "    </g>\n",
              "</svg>\n",
              "  </button>\n",
              "\n",
              "<style>\n",
              "  .colab-df-quickchart {\n",
              "      --bg-color: #E8F0FE;\n",
              "      --fill-color: #1967D2;\n",
              "      --hover-bg-color: #E2EBFA;\n",
              "      --hover-fill-color: #174EA6;\n",
              "      --disabled-fill-color: #AAA;\n",
              "      --disabled-bg-color: #DDD;\n",
              "  }\n",
              "\n",
              "  [theme=dark] .colab-df-quickchart {\n",
              "      --bg-color: #3B4455;\n",
              "      --fill-color: #D2E3FC;\n",
              "      --hover-bg-color: #434B5C;\n",
              "      --hover-fill-color: #FFFFFF;\n",
              "      --disabled-bg-color: #3B4455;\n",
              "      --disabled-fill-color: #666;\n",
              "  }\n",
              "\n",
              "  .colab-df-quickchart {\n",
              "    background-color: var(--bg-color);\n",
              "    border: none;\n",
              "    border-radius: 50%;\n",
              "    cursor: pointer;\n",
              "    display: none;\n",
              "    fill: var(--fill-color);\n",
              "    height: 32px;\n",
              "    padding: 0;\n",
              "    width: 32px;\n",
              "  }\n",
              "\n",
              "  .colab-df-quickchart:hover {\n",
              "    background-color: var(--hover-bg-color);\n",
              "    box-shadow: 0 1px 2px rgba(60, 64, 67, 0.3), 0 1px 3px 1px rgba(60, 64, 67, 0.15);\n",
              "    fill: var(--button-hover-fill-color);\n",
              "  }\n",
              "\n",
              "  .colab-df-quickchart-complete:disabled,\n",
              "  .colab-df-quickchart-complete:disabled:hover {\n",
              "    background-color: var(--disabled-bg-color);\n",
              "    fill: var(--disabled-fill-color);\n",
              "    box-shadow: none;\n",
              "  }\n",
              "\n",
              "  .colab-df-spinner {\n",
              "    border: 2px solid var(--fill-color);\n",
              "    border-color: transparent;\n",
              "    border-bottom-color: var(--fill-color);\n",
              "    animation:\n",
              "      spin 1s steps(1) infinite;\n",
              "  }\n",
              "\n",
              "  @keyframes spin {\n",
              "    0% {\n",
              "      border-color: transparent;\n",
              "      border-bottom-color: var(--fill-color);\n",
              "      border-left-color: var(--fill-color);\n",
              "    }\n",
              "    20% {\n",
              "      border-color: transparent;\n",
              "      border-left-color: var(--fill-color);\n",
              "      border-top-color: var(--fill-color);\n",
              "    }\n",
              "    30% {\n",
              "      border-color: transparent;\n",
              "      border-left-color: var(--fill-color);\n",
              "      border-top-color: var(--fill-color);\n",
              "      border-right-color: var(--fill-color);\n",
              "    }\n",
              "    40% {\n",
              "      border-color: transparent;\n",
              "      border-right-color: var(--fill-color);\n",
              "      border-top-color: var(--fill-color);\n",
              "    }\n",
              "    60% {\n",
              "      border-color: transparent;\n",
              "      border-right-color: var(--fill-color);\n",
              "    }\n",
              "    80% {\n",
              "      border-color: transparent;\n",
              "      border-right-color: var(--fill-color);\n",
              "      border-bottom-color: var(--fill-color);\n",
              "    }\n",
              "    90% {\n",
              "      border-color: transparent;\n",
              "      border-bottom-color: var(--fill-color);\n",
              "    }\n",
              "  }\n",
              "</style>\n",
              "\n",
              "  <script>\n",
              "    async function quickchart(key) {\n",
              "      const quickchartButtonEl =\n",
              "        document.querySelector('#' + key + ' button');\n",
              "      quickchartButtonEl.disabled = true;  // To prevent multiple clicks.\n",
              "      quickchartButtonEl.classList.add('colab-df-spinner');\n",
              "      try {\n",
              "        const charts = await google.colab.kernel.invokeFunction(\n",
              "            'suggestCharts', [key], {});\n",
              "      } catch (error) {\n",
              "        console.error('Error during call to suggestCharts:', error);\n",
              "      }\n",
              "      quickchartButtonEl.classList.remove('colab-df-spinner');\n",
              "      quickchartButtonEl.classList.add('colab-df-quickchart-complete');\n",
              "    }\n",
              "    (() => {\n",
              "      let quickchartButtonEl =\n",
              "        document.querySelector('#df-e73b2ed7-4af1-444c-a933-c58391f17552 button');\n",
              "      quickchartButtonEl.style.display =\n",
              "        google.colab.kernel.accessAllowed ? 'block' : 'none';\n",
              "    })();\n",
              "  </script>\n",
              "</div>\n",
              "    </div>\n",
              "  </div>\n"
            ]
          },
          "metadata": {},
          "execution_count": 44
        }
      ]
    },
    {
      "cell_type": "code",
      "source": [
        "df_User.isnull().sum()"
      ],
      "metadata": {
        "colab": {
          "base_uri": "https://localhost:8080/"
        },
        "id": "nBg5cmp-IW7M",
        "outputId": "321a299a-f1d9-471d-87d0-f466444c00f3"
      },
      "execution_count": 45,
      "outputs": [
        {
          "output_type": "execute_result",
          "data": {
            "text/plain": [
              "id                        0\n",
              "name                      0\n",
              "states                    1\n",
              "uname                     0\n",
              "pass                      0\n",
              "store                     0\n",
              "role                      0\n",
              "user_tag                 51\n",
              "rcp_ser_pfx              51\n",
              "CurrentShiftStarted      14\n",
              "isactive                  0\n",
              "admin_pass               39\n",
              "manager_access            0\n",
              "qrcode                    0\n",
              "color_id                 51\n",
              "can_order_reports         0\n",
              "can_discounts             0\n",
              "can_cancel_order          0\n",
              "can_delete_order          0\n",
              "can_transfer_orders       0\n",
              "can_force_login           0\n",
              "can_reprint_products      0\n",
              "can_print_total_order     0\n",
              "can_bartender_orders      0\n",
              "can_pay_orders            0\n",
              "hide_totals               9\n",
              "max_shift_time           51\n",
              "created_at                0\n",
              "updated_at                0\n",
              "dtype: int64"
            ]
          },
          "metadata": {},
          "execution_count": 45
        }
      ]
    },
    {
      "cell_type": "code",
      "source": [
        "df_User['admin_pass'].value_counts()"
      ],
      "metadata": {
        "colab": {
          "base_uri": "https://localhost:8080/"
        },
        "id": "MgGX3Lt0RyX5",
        "outputId": "5beee321-6bf3-43ab-8505-e0929e2c1da1"
      },
      "execution_count": 53,
      "outputs": [
        {
          "output_type": "execute_result",
          "data": {
            "text/plain": [
              "        6\n",
              "0102    1\n",
              "1270    1\n",
              "1       1\n",
              "1120    1\n",
              "1722    1\n",
              "1723    1\n",
              "Name: admin_pass, dtype: int64"
            ]
          },
          "metadata": {},
          "execution_count": 53
        }
      ]
    },
    {
      "cell_type": "markdown",
      "source": [
        "# Selecting Columns of 'User'"
      ],
      "metadata": {
        "id": "FuPgpvCJIs27"
      }
    },
    {
      "cell_type": "code",
      "source": [
        "df_User.columns, df_User.shape"
      ],
      "metadata": {
        "colab": {
          "base_uri": "https://localhost:8080/"
        },
        "id": "r3_Qq_gFI5NI",
        "outputId": "bccccf18-09b5-4dc5-f374-d78b9c1e021e"
      },
      "execution_count": 65,
      "outputs": [
        {
          "output_type": "execute_result",
          "data": {
            "text/plain": [
              "(Index(['id', 'name', 'states', 'uname', 'pass', 'store', 'role', 'user_tag',\n",
              "        'rcp_ser_pfx', 'CurrentShiftStarted', 'isactive', 'admin_pass',\n",
              "        'manager_access', 'qrcode', 'color_id', 'can_order_reports',\n",
              "        'can_discounts', 'can_cancel_order', 'can_delete_order',\n",
              "        'can_transfer_orders', 'can_force_login', 'can_reprint_products',\n",
              "        'can_print_total_order', 'can_bartender_orders', 'can_pay_orders',\n",
              "        'hide_totals', 'max_shift_time', 'created_at', 'updated_at'],\n",
              "       dtype='object'),\n",
              " (51, 29))"
            ]
          },
          "metadata": {},
          "execution_count": 65
        }
      ]
    },
    {
      "cell_type": "code",
      "source": [
        "user_columns = ['id', 'name']\n",
        "\n",
        "df_User_selected = df_User[user_columns]\n",
        "\n",
        "df_User_selected.shape"
      ],
      "metadata": {
        "colab": {
          "base_uri": "https://localhost:8080/"
        },
        "id": "Dj6hbfWwIxbO",
        "outputId": "7b7dcde5-66a4-47ff-d551-23905d43697a"
      },
      "execution_count": 66,
      "outputs": [
        {
          "output_type": "execute_result",
          "data": {
            "text/plain": [
              "(51, 2)"
            ]
          },
          "metadata": {},
          "execution_count": 66
        }
      ]
    },
    {
      "cell_type": "code",
      "source": [
        "df_User_selected"
      ],
      "metadata": {
        "id": "IuMlwDmgLLXf"
      },
      "execution_count": null,
      "outputs": []
    },
    {
      "cell_type": "code",
      "source": [
        "df_User_selected.columns, df_User_selected.shape"
      ],
      "metadata": {
        "colab": {
          "base_uri": "https://localhost:8080/"
        },
        "id": "OPLw7zy7dwVv",
        "outputId": "34befec9-7c22-4a19-95c7-616ba567e8c3"
      },
      "execution_count": 36,
      "outputs": [
        {
          "output_type": "execute_result",
          "data": {
            "text/plain": [
              "(Index(['id', 'name'], dtype='object'), (51, 2))"
            ]
          },
          "metadata": {},
          "execution_count": 36
        }
      ]
    },
    {
      "cell_type": "code",
      "source": [
        "df_User_01 = df_User_selected.copy()"
      ],
      "metadata": {
        "id": "zMJq_xNPe8C_"
      },
      "execution_count": 68,
      "outputs": []
    },
    {
      "cell_type": "code",
      "source": [
        "# Add a new row using the loc method\n",
        "df_User_01.loc[len(df_User_01)] = {'id': -1, 'name': 'Unknown'}\n",
        "\n",
        "# Check the last few rows to confirm the new row is added\n",
        "print(df_User_01.tail())"
      ],
      "metadata": {
        "colab": {
          "base_uri": "https://localhost:8080/"
        },
        "id": "THEea41JeuTF",
        "outputId": "ab044b84-bafc-411d-d1bd-8e7062063dc8"
      },
      "execution_count": 69,
      "outputs": [
        {
          "output_type": "stream",
          "name": "stdout",
          "text": [
            "    id                     name\n",
            "47  48         ΦΡΑΝΤΣΕΣΚΑ ΚΑΛΑΙ\n",
            "48  49    ΔΗΜΟΓΕΡΟΝΤΑΣ ΣΤΕΦΑΝΟΣ\n",
            "49  50         ΦΡΑΝΤΖΕΣΚΟ ΜΟΥΧΟ\n",
            "50  51  ΚΩΝΣΤΑΝΤΟΠΟΥΛΟΣ ΘΟΔΩΡΗΣ\n",
            "51  -1                  Unknown\n"
          ]
        }
      ]
    },
    {
      "cell_type": "code",
      "source": [
        "df_User_01.columns, df_User_01.shape"
      ],
      "metadata": {
        "colab": {
          "base_uri": "https://localhost:8080/"
        },
        "id": "VtOM4Ql8ewdz",
        "outputId": "441b50ed-921d-4bbf-9f6d-8e9eaa7ec96e"
      },
      "execution_count": 70,
      "outputs": [
        {
          "output_type": "execute_result",
          "data": {
            "text/plain": [
              "(Index(['id', 'name'], dtype='object'), (52, 2))"
            ]
          },
          "metadata": {},
          "execution_count": 70
        }
      ]
    },
    {
      "cell_type": "markdown",
      "source": [
        "# Merge DataFrames (df_order_details, df_User)"
      ],
      "metadata": {
        "id": "W5l_Ul3sMMmD"
      }
    },
    {
      "cell_type": "code",
      "source": [
        "df_User_02 = df_User_01.copy()"
      ],
      "metadata": {
        "id": "x06X4PxqX6j2"
      },
      "execution_count": 71,
      "outputs": []
    },
    {
      "cell_type": "code",
      "source": [
        "df_order_details_02.shape, df_User_02.shape"
      ],
      "metadata": {
        "colab": {
          "base_uri": "https://localhost:8080/"
        },
        "id": "dIfMcSoJDXON",
        "outputId": "066a30c3-929c-447d-83ef-a579e47eb76a"
      },
      "execution_count": 127,
      "outputs": [
        {
          "output_type": "execute_result",
          "data": {
            "text/plain": [
              "((2003349, 22), (52, 2))"
            ]
          },
          "metadata": {},
          "execution_count": 127
        }
      ]
    },
    {
      "cell_type": "code",
      "source": [
        "# Convert 'uid' in df_order_details and 'id' in df_user to the same data type\n",
        "df_order_details_02['uid'] = df_order_details_02['uid'].astype(int)\n",
        "df_User_01['id'] = df_User_01['id'].astype(int)"
      ],
      "metadata": {
        "id": "6uLLLtzbXine"
      },
      "execution_count": 72,
      "outputs": []
    },
    {
      "cell_type": "code",
      "source": [
        "# Merge the DataFrames\n",
        "df_merged = pd.merge(df_order_details_02, df_User_01, left_on='uid', right_on='id', how='inner')\n",
        "\n",
        "# Check the result\n",
        "print(df_merged.shape)"
      ],
      "metadata": {
        "colab": {
          "base_uri": "https://localhost:8080/"
        },
        "id": "tHmnfjw6MwHR",
        "outputId": "ba4dd76c-8a24-49ce-ff0d-804cafaa83b3"
      },
      "execution_count": 73,
      "outputs": [
        {
          "output_type": "stream",
          "name": "stdout",
          "text": [
            "(2000248, 25)\n"
          ]
        }
      ]
    },
    {
      "cell_type": "code",
      "source": [
        "df_order_details_03 = df_merged.copy()"
      ],
      "metadata": {
        "id": "WZ99hDihPYAH"
      },
      "execution_count": 74,
      "outputs": []
    },
    {
      "cell_type": "code",
      "source": [
        "df_order_details_03.head()"
      ],
      "metadata": {
        "colab": {
          "base_uri": "https://localhost:8080/",
          "height": 0
        },
        "id": "1Qjy9nNAPW6o",
        "outputId": "47a5a849-fd10-414c-bc4c-ec1ab319371e"
      },
      "execution_count": 75,
      "outputs": [
        {
          "output_type": "execute_result",
          "data": {
            "text/plain": [
              "                                   odid                                  ogid  \\\n",
              "0  ab394826-12b7-4332-bc51-9edbf3af1ec4  893b7f11-84d9-4b52-896b-4134baf664ba   \n",
              "1  1039e874-31d3-40b4-ab46-6170b007c33d  893b7f11-84d9-4b52-896b-4134baf664ba   \n",
              "2  581f9581-6ec1-4f8f-8dde-6338e4f5f998  ec3629f1-d1e8-4a07-bf4a-066a90f42b2e   \n",
              "3  ee88b30c-5531-4300-a099-401240037a82  ec3629f1-d1e8-4a07-bf4a-066a90f42b2e   \n",
              "4  554c52b3-1251-4371-8549-f9ef93c19fa9  ec3629f1-d1e8-4a07-bf4a-066a90f42b2e   \n",
              "\n",
              "                oddate  uid  item_id  item_type  odstatus  net_price  price  \\\n",
              "0  2017-08-01 08:12:36   -1       12          1         2       3.23    4.0   \n",
              "1  2017-08-01 08:12:36   -1       53          2         2       0.00    0.0   \n",
              "2  2017-08-01 08:19:50   -1       12          1         2       3.23    4.0   \n",
              "3  2017-08-01 08:19:50   -1       55          2         2       0.00    0.0   \n",
              "4  2017-08-01 08:19:50   -1       12          1         2       3.23    4.0   \n",
              "\n",
              "   unit_price  ...  discount_user  cancel_user  discount_type  payment_type  \\\n",
              "0         4.0  ...              0            0              0             1   \n",
              "1         0.0  ...              0            0              0             1   \n",
              "2         4.0  ...              0            0              0             1   \n",
              "3         0.0  ...              0            0              0             1   \n",
              "4         4.0  ...              0            0              0             1   \n",
              "\n",
              "   payment_user        odcreated_at        odupdated_at  uid_missing  id  \\\n",
              "0           NaN 2017-08-01 08:12:27 2017-08-01 09:12:24            1  -1   \n",
              "1           NaN 2017-08-01 08:12:32 2017-08-01 09:12:24            1  -1   \n",
              "2           NaN 2017-08-01 08:19:21 2017-08-01 08:28:03            1  -1   \n",
              "3           NaN 2017-08-01 08:19:29 2017-08-01 08:28:03            1  -1   \n",
              "4           NaN 2017-08-01 08:19:36 2017-08-01 08:28:03            1  -1   \n",
              "\n",
              "      name  \n",
              "0  Unknown  \n",
              "1  Unknown  \n",
              "2  Unknown  \n",
              "3  Unknown  \n",
              "4  Unknown  \n",
              "\n",
              "[5 rows x 25 columns]"
            ],
            "text/html": [
              "\n",
              "  <div id=\"df-4da16955-b86d-4781-bb4e-f76af80a5774\" class=\"colab-df-container\">\n",
              "    <div>\n",
              "<style scoped>\n",
              "    .dataframe tbody tr th:only-of-type {\n",
              "        vertical-align: middle;\n",
              "    }\n",
              "\n",
              "    .dataframe tbody tr th {\n",
              "        vertical-align: top;\n",
              "    }\n",
              "\n",
              "    .dataframe thead th {\n",
              "        text-align: right;\n",
              "    }\n",
              "</style>\n",
              "<table border=\"1\" class=\"dataframe\">\n",
              "  <thead>\n",
              "    <tr style=\"text-align: right;\">\n",
              "      <th></th>\n",
              "      <th>odid</th>\n",
              "      <th>ogid</th>\n",
              "      <th>oddate</th>\n",
              "      <th>uid</th>\n",
              "      <th>item_id</th>\n",
              "      <th>item_type</th>\n",
              "      <th>odstatus</th>\n",
              "      <th>net_price</th>\n",
              "      <th>price</th>\n",
              "      <th>unit_price</th>\n",
              "      <th>...</th>\n",
              "      <th>discount_user</th>\n",
              "      <th>cancel_user</th>\n",
              "      <th>discount_type</th>\n",
              "      <th>payment_type</th>\n",
              "      <th>payment_user</th>\n",
              "      <th>odcreated_at</th>\n",
              "      <th>odupdated_at</th>\n",
              "      <th>uid_missing</th>\n",
              "      <th>id</th>\n",
              "      <th>name</th>\n",
              "    </tr>\n",
              "  </thead>\n",
              "  <tbody>\n",
              "    <tr>\n",
              "      <th>0</th>\n",
              "      <td>ab394826-12b7-4332-bc51-9edbf3af1ec4</td>\n",
              "      <td>893b7f11-84d9-4b52-896b-4134baf664ba</td>\n",
              "      <td>2017-08-01 08:12:36</td>\n",
              "      <td>-1</td>\n",
              "      <td>12</td>\n",
              "      <td>1</td>\n",
              "      <td>2</td>\n",
              "      <td>3.23</td>\n",
              "      <td>4.0</td>\n",
              "      <td>4.0</td>\n",
              "      <td>...</td>\n",
              "      <td>0</td>\n",
              "      <td>0</td>\n",
              "      <td>0</td>\n",
              "      <td>1</td>\n",
              "      <td>NaN</td>\n",
              "      <td>2017-08-01 08:12:27</td>\n",
              "      <td>2017-08-01 09:12:24</td>\n",
              "      <td>1</td>\n",
              "      <td>-1</td>\n",
              "      <td>Unknown</td>\n",
              "    </tr>\n",
              "    <tr>\n",
              "      <th>1</th>\n",
              "      <td>1039e874-31d3-40b4-ab46-6170b007c33d</td>\n",
              "      <td>893b7f11-84d9-4b52-896b-4134baf664ba</td>\n",
              "      <td>2017-08-01 08:12:36</td>\n",
              "      <td>-1</td>\n",
              "      <td>53</td>\n",
              "      <td>2</td>\n",
              "      <td>2</td>\n",
              "      <td>0.00</td>\n",
              "      <td>0.0</td>\n",
              "      <td>0.0</td>\n",
              "      <td>...</td>\n",
              "      <td>0</td>\n",
              "      <td>0</td>\n",
              "      <td>0</td>\n",
              "      <td>1</td>\n",
              "      <td>NaN</td>\n",
              "      <td>2017-08-01 08:12:32</td>\n",
              "      <td>2017-08-01 09:12:24</td>\n",
              "      <td>1</td>\n",
              "      <td>-1</td>\n",
              "      <td>Unknown</td>\n",
              "    </tr>\n",
              "    <tr>\n",
              "      <th>2</th>\n",
              "      <td>581f9581-6ec1-4f8f-8dde-6338e4f5f998</td>\n",
              "      <td>ec3629f1-d1e8-4a07-bf4a-066a90f42b2e</td>\n",
              "      <td>2017-08-01 08:19:50</td>\n",
              "      <td>-1</td>\n",
              "      <td>12</td>\n",
              "      <td>1</td>\n",
              "      <td>2</td>\n",
              "      <td>3.23</td>\n",
              "      <td>4.0</td>\n",
              "      <td>4.0</td>\n",
              "      <td>...</td>\n",
              "      <td>0</td>\n",
              "      <td>0</td>\n",
              "      <td>0</td>\n",
              "      <td>1</td>\n",
              "      <td>NaN</td>\n",
              "      <td>2017-08-01 08:19:21</td>\n",
              "      <td>2017-08-01 08:28:03</td>\n",
              "      <td>1</td>\n",
              "      <td>-1</td>\n",
              "      <td>Unknown</td>\n",
              "    </tr>\n",
              "    <tr>\n",
              "      <th>3</th>\n",
              "      <td>ee88b30c-5531-4300-a099-401240037a82</td>\n",
              "      <td>ec3629f1-d1e8-4a07-bf4a-066a90f42b2e</td>\n",
              "      <td>2017-08-01 08:19:50</td>\n",
              "      <td>-1</td>\n",
              "      <td>55</td>\n",
              "      <td>2</td>\n",
              "      <td>2</td>\n",
              "      <td>0.00</td>\n",
              "      <td>0.0</td>\n",
              "      <td>0.0</td>\n",
              "      <td>...</td>\n",
              "      <td>0</td>\n",
              "      <td>0</td>\n",
              "      <td>0</td>\n",
              "      <td>1</td>\n",
              "      <td>NaN</td>\n",
              "      <td>2017-08-01 08:19:29</td>\n",
              "      <td>2017-08-01 08:28:03</td>\n",
              "      <td>1</td>\n",
              "      <td>-1</td>\n",
              "      <td>Unknown</td>\n",
              "    </tr>\n",
              "    <tr>\n",
              "      <th>4</th>\n",
              "      <td>554c52b3-1251-4371-8549-f9ef93c19fa9</td>\n",
              "      <td>ec3629f1-d1e8-4a07-bf4a-066a90f42b2e</td>\n",
              "      <td>2017-08-01 08:19:50</td>\n",
              "      <td>-1</td>\n",
              "      <td>12</td>\n",
              "      <td>1</td>\n",
              "      <td>2</td>\n",
              "      <td>3.23</td>\n",
              "      <td>4.0</td>\n",
              "      <td>4.0</td>\n",
              "      <td>...</td>\n",
              "      <td>0</td>\n",
              "      <td>0</td>\n",
              "      <td>0</td>\n",
              "      <td>1</td>\n",
              "      <td>NaN</td>\n",
              "      <td>2017-08-01 08:19:36</td>\n",
              "      <td>2017-08-01 08:28:03</td>\n",
              "      <td>1</td>\n",
              "      <td>-1</td>\n",
              "      <td>Unknown</td>\n",
              "    </tr>\n",
              "  </tbody>\n",
              "</table>\n",
              "<p>5 rows × 25 columns</p>\n",
              "</div>\n",
              "    <div class=\"colab-df-buttons\">\n",
              "\n",
              "  <div class=\"colab-df-container\">\n",
              "    <button class=\"colab-df-convert\" onclick=\"convertToInteractive('df-4da16955-b86d-4781-bb4e-f76af80a5774')\"\n",
              "            title=\"Convert this dataframe to an interactive table.\"\n",
              "            style=\"display:none;\">\n",
              "\n",
              "  <svg xmlns=\"http://www.w3.org/2000/svg\" height=\"24px\" viewBox=\"0 -960 960 960\">\n",
              "    <path d=\"M120-120v-720h720v720H120Zm60-500h600v-160H180v160Zm220 220h160v-160H400v160Zm0 220h160v-160H400v160ZM180-400h160v-160H180v160Zm440 0h160v-160H620v160ZM180-180h160v-160H180v160Zm440 0h160v-160H620v160Z\"/>\n",
              "  </svg>\n",
              "    </button>\n",
              "\n",
              "  <style>\n",
              "    .colab-df-container {\n",
              "      display:flex;\n",
              "      gap: 12px;\n",
              "    }\n",
              "\n",
              "    .colab-df-convert {\n",
              "      background-color: #E8F0FE;\n",
              "      border: none;\n",
              "      border-radius: 50%;\n",
              "      cursor: pointer;\n",
              "      display: none;\n",
              "      fill: #1967D2;\n",
              "      height: 32px;\n",
              "      padding: 0 0 0 0;\n",
              "      width: 32px;\n",
              "    }\n",
              "\n",
              "    .colab-df-convert:hover {\n",
              "      background-color: #E2EBFA;\n",
              "      box-shadow: 0px 1px 2px rgba(60, 64, 67, 0.3), 0px 1px 3px 1px rgba(60, 64, 67, 0.15);\n",
              "      fill: #174EA6;\n",
              "    }\n",
              "\n",
              "    .colab-df-buttons div {\n",
              "      margin-bottom: 4px;\n",
              "    }\n",
              "\n",
              "    [theme=dark] .colab-df-convert {\n",
              "      background-color: #3B4455;\n",
              "      fill: #D2E3FC;\n",
              "    }\n",
              "\n",
              "    [theme=dark] .colab-df-convert:hover {\n",
              "      background-color: #434B5C;\n",
              "      box-shadow: 0px 1px 3px 1px rgba(0, 0, 0, 0.15);\n",
              "      filter: drop-shadow(0px 1px 2px rgba(0, 0, 0, 0.3));\n",
              "      fill: #FFFFFF;\n",
              "    }\n",
              "  </style>\n",
              "\n",
              "    <script>\n",
              "      const buttonEl =\n",
              "        document.querySelector('#df-4da16955-b86d-4781-bb4e-f76af80a5774 button.colab-df-convert');\n",
              "      buttonEl.style.display =\n",
              "        google.colab.kernel.accessAllowed ? 'block' : 'none';\n",
              "\n",
              "      async function convertToInteractive(key) {\n",
              "        const element = document.querySelector('#df-4da16955-b86d-4781-bb4e-f76af80a5774');\n",
              "        const dataTable =\n",
              "          await google.colab.kernel.invokeFunction('convertToInteractive',\n",
              "                                                    [key], {});\n",
              "        if (!dataTable) return;\n",
              "\n",
              "        const docLinkHtml = 'Like what you see? Visit the ' +\n",
              "          '<a target=\"_blank\" href=https://colab.research.google.com/notebooks/data_table.ipynb>data table notebook</a>'\n",
              "          + ' to learn more about interactive tables.';\n",
              "        element.innerHTML = '';\n",
              "        dataTable['output_type'] = 'display_data';\n",
              "        await google.colab.output.renderOutput(dataTable, element);\n",
              "        const docLink = document.createElement('div');\n",
              "        docLink.innerHTML = docLinkHtml;\n",
              "        element.appendChild(docLink);\n",
              "      }\n",
              "    </script>\n",
              "  </div>\n",
              "\n",
              "\n",
              "<div id=\"df-8b738f18-f287-44f4-82c5-ad8c446f04f5\">\n",
              "  <button class=\"colab-df-quickchart\" onclick=\"quickchart('df-8b738f18-f287-44f4-82c5-ad8c446f04f5')\"\n",
              "            title=\"Suggest charts\"\n",
              "            style=\"display:none;\">\n",
              "\n",
              "<svg xmlns=\"http://www.w3.org/2000/svg\" height=\"24px\"viewBox=\"0 0 24 24\"\n",
              "     width=\"24px\">\n",
              "    <g>\n",
              "        <path d=\"M19 3H5c-1.1 0-2 .9-2 2v14c0 1.1.9 2 2 2h14c1.1 0 2-.9 2-2V5c0-1.1-.9-2-2-2zM9 17H7v-7h2v7zm4 0h-2V7h2v10zm4 0h-2v-4h2v4z\"/>\n",
              "    </g>\n",
              "</svg>\n",
              "  </button>\n",
              "\n",
              "<style>\n",
              "  .colab-df-quickchart {\n",
              "      --bg-color: #E8F0FE;\n",
              "      --fill-color: #1967D2;\n",
              "      --hover-bg-color: #E2EBFA;\n",
              "      --hover-fill-color: #174EA6;\n",
              "      --disabled-fill-color: #AAA;\n",
              "      --disabled-bg-color: #DDD;\n",
              "  }\n",
              "\n",
              "  [theme=dark] .colab-df-quickchart {\n",
              "      --bg-color: #3B4455;\n",
              "      --fill-color: #D2E3FC;\n",
              "      --hover-bg-color: #434B5C;\n",
              "      --hover-fill-color: #FFFFFF;\n",
              "      --disabled-bg-color: #3B4455;\n",
              "      --disabled-fill-color: #666;\n",
              "  }\n",
              "\n",
              "  .colab-df-quickchart {\n",
              "    background-color: var(--bg-color);\n",
              "    border: none;\n",
              "    border-radius: 50%;\n",
              "    cursor: pointer;\n",
              "    display: none;\n",
              "    fill: var(--fill-color);\n",
              "    height: 32px;\n",
              "    padding: 0;\n",
              "    width: 32px;\n",
              "  }\n",
              "\n",
              "  .colab-df-quickchart:hover {\n",
              "    background-color: var(--hover-bg-color);\n",
              "    box-shadow: 0 1px 2px rgba(60, 64, 67, 0.3), 0 1px 3px 1px rgba(60, 64, 67, 0.15);\n",
              "    fill: var(--button-hover-fill-color);\n",
              "  }\n",
              "\n",
              "  .colab-df-quickchart-complete:disabled,\n",
              "  .colab-df-quickchart-complete:disabled:hover {\n",
              "    background-color: var(--disabled-bg-color);\n",
              "    fill: var(--disabled-fill-color);\n",
              "    box-shadow: none;\n",
              "  }\n",
              "\n",
              "  .colab-df-spinner {\n",
              "    border: 2px solid var(--fill-color);\n",
              "    border-color: transparent;\n",
              "    border-bottom-color: var(--fill-color);\n",
              "    animation:\n",
              "      spin 1s steps(1) infinite;\n",
              "  }\n",
              "\n",
              "  @keyframes spin {\n",
              "    0% {\n",
              "      border-color: transparent;\n",
              "      border-bottom-color: var(--fill-color);\n",
              "      border-left-color: var(--fill-color);\n",
              "    }\n",
              "    20% {\n",
              "      border-color: transparent;\n",
              "      border-left-color: var(--fill-color);\n",
              "      border-top-color: var(--fill-color);\n",
              "    }\n",
              "    30% {\n",
              "      border-color: transparent;\n",
              "      border-left-color: var(--fill-color);\n",
              "      border-top-color: var(--fill-color);\n",
              "      border-right-color: var(--fill-color);\n",
              "    }\n",
              "    40% {\n",
              "      border-color: transparent;\n",
              "      border-right-color: var(--fill-color);\n",
              "      border-top-color: var(--fill-color);\n",
              "    }\n",
              "    60% {\n",
              "      border-color: transparent;\n",
              "      border-right-color: var(--fill-color);\n",
              "    }\n",
              "    80% {\n",
              "      border-color: transparent;\n",
              "      border-right-color: var(--fill-color);\n",
              "      border-bottom-color: var(--fill-color);\n",
              "    }\n",
              "    90% {\n",
              "      border-color: transparent;\n",
              "      border-bottom-color: var(--fill-color);\n",
              "    }\n",
              "  }\n",
              "</style>\n",
              "\n",
              "  <script>\n",
              "    async function quickchart(key) {\n",
              "      const quickchartButtonEl =\n",
              "        document.querySelector('#' + key + ' button');\n",
              "      quickchartButtonEl.disabled = true;  // To prevent multiple clicks.\n",
              "      quickchartButtonEl.classList.add('colab-df-spinner');\n",
              "      try {\n",
              "        const charts = await google.colab.kernel.invokeFunction(\n",
              "            'suggestCharts', [key], {});\n",
              "      } catch (error) {\n",
              "        console.error('Error during call to suggestCharts:', error);\n",
              "      }\n",
              "      quickchartButtonEl.classList.remove('colab-df-spinner');\n",
              "      quickchartButtonEl.classList.add('colab-df-quickchart-complete');\n",
              "    }\n",
              "    (() => {\n",
              "      let quickchartButtonEl =\n",
              "        document.querySelector('#df-8b738f18-f287-44f4-82c5-ad8c446f04f5 button');\n",
              "      quickchartButtonEl.style.display =\n",
              "        google.colab.kernel.accessAllowed ? 'block' : 'none';\n",
              "    })();\n",
              "  </script>\n",
              "</div>\n",
              "    </div>\n",
              "  </div>\n"
            ]
          },
          "metadata": {},
          "execution_count": 75
        }
      ]
    },
    {
      "cell_type": "code",
      "source": [
        "df_order_details_03.columns"
      ],
      "metadata": {
        "colab": {
          "base_uri": "https://localhost:8080/"
        },
        "id": "PqQJdM1oRHVr",
        "outputId": "5365435b-d535-4b9b-b6c5-947967341450"
      },
      "execution_count": 131,
      "outputs": [
        {
          "output_type": "execute_result",
          "data": {
            "text/plain": [
              "Index(['odid', 'ogid', 'oddate', 'uid', 'item_id', 'item_type', 'odstatus',\n",
              "       'net_price', 'price', 'unit_price', 'units', 'vat', 'vat_percentage',\n",
              "       'discount_percentage', 'discount_amount', 'discount_user',\n",
              "       'cancel_user', 'discount_type', 'payment_type', 'payment_user',\n",
              "       'odcreated_at', 'odupdated_at', 'id', 'name'],\n",
              "      dtype='object')"
            ]
          },
          "metadata": {},
          "execution_count": 131
        }
      ]
    },
    {
      "cell_type": "code",
      "source": [
        "# Drop 'id' and 'uid' columns\n",
        "df_order_details_03.drop(columns=['uid', 'id'], inplace=True)"
      ],
      "metadata": {
        "id": "ECQmFlG5ZfeI"
      },
      "execution_count": 76,
      "outputs": []
    },
    {
      "cell_type": "code",
      "source": [
        "df_order_details_03.columns"
      ],
      "metadata": {
        "colab": {
          "base_uri": "https://localhost:8080/"
        },
        "id": "J2AhuSgbg8km",
        "outputId": "6ad1957b-ba93-460a-840a-3bf33de85a1d"
      },
      "execution_count": 77,
      "outputs": [
        {
          "output_type": "execute_result",
          "data": {
            "text/plain": [
              "Index(['odid', 'ogid', 'oddate', 'item_id', 'item_type', 'odstatus',\n",
              "       'net_price', 'price', 'unit_price', 'units', 'vat', 'vat_percentage',\n",
              "       'discount_percentage', 'discount_amount', 'discount_user',\n",
              "       'cancel_user', 'discount_type', 'payment_type', 'payment_user',\n",
              "       'odcreated_at', 'odupdated_at', 'uid_missing', 'name'],\n",
              "      dtype='object')"
            ]
          },
          "metadata": {},
          "execution_count": 77
        }
      ]
    },
    {
      "cell_type": "code",
      "source": [
        "# Rename 'id_x' to 'id' and 'name' to 'pos_uname'\n",
        "df_order_details_03.rename(columns={'uid_missing': 'pos_uname_missing', 'name': 'pos_uname'}, inplace=True)"
      ],
      "metadata": {
        "id": "3ACzFo-EZzUX"
      },
      "execution_count": 78,
      "outputs": []
    },
    {
      "cell_type": "code",
      "source": [
        "df_order_details_03.columns"
      ],
      "metadata": {
        "colab": {
          "base_uri": "https://localhost:8080/"
        },
        "id": "dXRwrmvXdwTA",
        "outputId": "4c0477be-2b11-430b-82a8-bf354c901475"
      },
      "execution_count": 79,
      "outputs": [
        {
          "output_type": "execute_result",
          "data": {
            "text/plain": [
              "Index(['odid', 'ogid', 'oddate', 'item_id', 'item_type', 'odstatus',\n",
              "       'net_price', 'price', 'unit_price', 'units', 'vat', 'vat_percentage',\n",
              "       'discount_percentage', 'discount_amount', 'discount_user',\n",
              "       'cancel_user', 'discount_type', 'payment_type', 'payment_user',\n",
              "       'odcreated_at', 'odupdated_at', 'pos_uname_missing', 'pos_uname'],\n",
              "      dtype='object')"
            ]
          },
          "metadata": {},
          "execution_count": 79
        }
      ]
    },
    {
      "cell_type": "code",
      "source": [
        "df_order_details_03.shape"
      ],
      "metadata": {
        "colab": {
          "base_uri": "https://localhost:8080/"
        },
        "id": "I_tCY5yLalgg",
        "outputId": "45c28950-f16a-4e99-aa0d-996fa75cff05"
      },
      "execution_count": 80,
      "outputs": [
        {
          "output_type": "execute_result",
          "data": {
            "text/plain": [
              "(2000248, 23)"
            ]
          },
          "metadata": {},
          "execution_count": 80
        }
      ]
    },
    {
      "cell_type": "code",
      "source": [
        "# save df_order_details_03 as csv file:\n",
        "df_order_details_03.to_csv('/content/drive/MyDrive/df_order_details_03.csv', index=False)"
      ],
      "metadata": {
        "id": "eGSNfjBntecQ"
      },
      "execution_count": 81,
      "outputs": []
    },
    {
      "cell_type": "markdown",
      "source": [
        "# Merge DataFrames (df_order_details_03, df_User) on discount_user, cancel_user, payment_user:"
      ],
      "metadata": {
        "id": "9Ue8h807jSEZ"
      }
    },
    {
      "cell_type": "code",
      "source": [
        "# Merge for 'discount_user'\n",
        "df_merged_discount = pd.merge(df_order_details_03, df_User_02, left_on='discount_user', right_on='id', how='left')\n",
        "df_merged_discount.rename(columns={'name': 'discount_uname'}, inplace=True)"
      ],
      "metadata": {
        "id": "UDMGNwCslasz"
      },
      "execution_count": 82,
      "outputs": []
    },
    {
      "cell_type": "code",
      "source": [
        "df_merged_discount.columns, df_merged_discount.shape"
      ],
      "metadata": {
        "colab": {
          "base_uri": "https://localhost:8080/"
        },
        "id": "O4bXTJY7mKg7",
        "outputId": "20dbffa5-395e-44c1-c25e-93d2b58c48cb"
      },
      "execution_count": 137,
      "outputs": [
        {
          "output_type": "execute_result",
          "data": {
            "text/plain": [
              "(Index(['odid', 'ogid', 'oddate', 'item_id', 'item_type', 'odstatus',\n",
              "        'net_price', 'price', 'unit_price', 'units', 'vat', 'vat_percentage',\n",
              "        'discount_percentage', 'discount_amount', 'discount_user',\n",
              "        'cancel_user', 'discount_type', 'payment_type', 'payment_user',\n",
              "        'odcreated_at', 'odupdated_at', 'pos_uname', 'id', 'discount_uname'],\n",
              "       dtype='object'),\n",
              " (2000248, 24))"
            ]
          },
          "metadata": {},
          "execution_count": 137
        }
      ]
    },
    {
      "cell_type": "code",
      "source": [
        "df_merged_01 = df_merged_discount.copy()"
      ],
      "metadata": {
        "id": "Hbmi-6KBnHGc"
      },
      "execution_count": 83,
      "outputs": []
    },
    {
      "cell_type": "code",
      "source": [
        "# Merge for 'cancel_user'\n",
        "df_merged_cancel = pd.merge(df_merged_01, df_User_02, left_on='cancel_user', right_on='id', how='left', suffixes=('', '_cancel'))\n",
        "df_merged_cancel.rename(columns={'name': 'cancel_uname'}, inplace=True)"
      ],
      "metadata": {
        "id": "Ebd5dBDNlfS0"
      },
      "execution_count": 84,
      "outputs": []
    },
    {
      "cell_type": "code",
      "source": [
        "df_merged_cancel.columns, df_merged_cancel.shape"
      ],
      "metadata": {
        "colab": {
          "base_uri": "https://localhost:8080/"
        },
        "id": "vRoAlYKdoG8H",
        "outputId": "a5588561-dcc3-4d54-ffcf-19b1f58e0277"
      },
      "execution_count": 85,
      "outputs": [
        {
          "output_type": "execute_result",
          "data": {
            "text/plain": [
              "(Index(['odid', 'ogid', 'oddate', 'item_id', 'item_type', 'odstatus',\n",
              "        'net_price', 'price', 'unit_price', 'units', 'vat', 'vat_percentage',\n",
              "        'discount_percentage', 'discount_amount', 'discount_user',\n",
              "        'cancel_user', 'discount_type', 'payment_type', 'payment_user',\n",
              "        'odcreated_at', 'odupdated_at', 'pos_uname_missing', 'pos_uname', 'id',\n",
              "        'discount_uname', 'id_cancel', 'cancel_uname'],\n",
              "       dtype='object'),\n",
              " (2000248, 27))"
            ]
          },
          "metadata": {},
          "execution_count": 85
        }
      ]
    },
    {
      "cell_type": "code",
      "source": [
        "df_merged_02 = df_merged_cancel.copy()"
      ],
      "metadata": {
        "id": "lw3qcHP0oDUC"
      },
      "execution_count": 86,
      "outputs": []
    },
    {
      "cell_type": "code",
      "source": [
        "# Replace nulls in 'payment_user' with -1\n",
        "df_merged_02['payment_user'].fillna(-1, inplace=True)"
      ],
      "metadata": {
        "id": "Mzf13Ugho0ef"
      },
      "execution_count": 87,
      "outputs": []
    },
    {
      "cell_type": "code",
      "source": [
        "# Merge for 'payment_user'\n",
        "df_merged_final = pd.merge(df_merged_cancel, df_User_02, left_on='payment_user', right_on='id', how='left', suffixes=('', '_payment'))\n",
        "df_merged_final.rename(columns={'name': 'payment_uname'}, inplace=True)"
      ],
      "metadata": {
        "id": "tUcxq-Y3liJn"
      },
      "execution_count": 88,
      "outputs": []
    },
    {
      "cell_type": "code",
      "source": [
        "df_merged_final.columns, df_merged_final.shape"
      ],
      "metadata": {
        "colab": {
          "base_uri": "https://localhost:8080/"
        },
        "id": "HiKjdubppc_H",
        "outputId": "66d6756c-d095-4c9a-a194-c8b95bd8bd6c"
      },
      "execution_count": 146,
      "outputs": [
        {
          "output_type": "execute_result",
          "data": {
            "text/plain": [
              "(Index(['odid', 'ogid', 'oddate', 'item_id', 'item_type', 'odstatus',\n",
              "        'net_price', 'price', 'unit_price', 'units', 'vat', 'vat_percentage',\n",
              "        'discount_percentage', 'discount_amount', 'discount_user',\n",
              "        'cancel_user', 'discount_type', 'payment_type', 'payment_user',\n",
              "        'odcreated_at', 'odupdated_at', 'pos_uname', 'id', 'discount_uname',\n",
              "        'id_cancel', 'cancel_uname', 'id_payment', 'payment_uname'],\n",
              "       dtype='object'),\n",
              " (2000248, 28))"
            ]
          },
          "metadata": {},
          "execution_count": 146
        }
      ]
    },
    {
      "cell_type": "code",
      "source": [
        "# Drop the extra 'id' columns that were added during the merges\n",
        "df_merged_final.drop(['id','id_cancel', 'id_payment'], axis=1, inplace=True)"
      ],
      "metadata": {
        "id": "vCB2ikwHlkUz"
      },
      "execution_count": 89,
      "outputs": []
    },
    {
      "cell_type": "code",
      "source": [
        "df_merged_final.drop(['discount_user', 'cancel_user', 'payment_user'], axis=1, inplace=True)"
      ],
      "metadata": {
        "id": "g4sztKwIbDKL"
      },
      "execution_count": 90,
      "outputs": []
    },
    {
      "cell_type": "code",
      "source": [
        "df_order_details_04 = df_merged_final.copy()"
      ],
      "metadata": {
        "id": "rH44HGTJq0NY"
      },
      "execution_count": 91,
      "outputs": []
    },
    {
      "cell_type": "code",
      "source": [
        "df_order_details_04.columns, df_order_details_04.shape"
      ],
      "metadata": {
        "colab": {
          "base_uri": "https://localhost:8080/"
        },
        "id": "--D2lxCPqtyG",
        "outputId": "3453e764-244d-4e2d-9df4-660ddbdd1af3"
      },
      "execution_count": 150,
      "outputs": [
        {
          "output_type": "execute_result",
          "data": {
            "text/plain": [
              "(Index(['odid', 'ogid', 'oddate', 'item_id', 'item_type', 'odstatus',\n",
              "        'net_price', 'price', 'unit_price', 'units', 'vat', 'vat_percentage',\n",
              "        'discount_percentage', 'discount_amount', 'discount_type',\n",
              "        'payment_type', 'odcreated_at', 'odupdated_at', 'pos_uname',\n",
              "        'discount_uname', 'cancel_uname', 'payment_uname'],\n",
              "       dtype='object'),\n",
              " (2000248, 22))"
            ]
          },
          "metadata": {},
          "execution_count": 150
        }
      ]
    },
    {
      "cell_type": "code",
      "source": [
        "df_order_details_04.head()"
      ],
      "metadata": {
        "colab": {
          "base_uri": "https://localhost:8080/",
          "height": 0
        },
        "id": "TDJ2oImWUzQH",
        "outputId": "01bfb6a4-70e6-4376-81f6-483c0d27e97d"
      },
      "execution_count": 151,
      "outputs": [
        {
          "output_type": "execute_result",
          "data": {
            "text/plain": [
              "                                   odid                                  ogid  \\\n",
              "0  ab394826-12b7-4332-bc51-9edbf3af1ec4  893b7f11-84d9-4b52-896b-4134baf664ba   \n",
              "1  1039e874-31d3-40b4-ab46-6170b007c33d  893b7f11-84d9-4b52-896b-4134baf664ba   \n",
              "2  581f9581-6ec1-4f8f-8dde-6338e4f5f998  ec3629f1-d1e8-4a07-bf4a-066a90f42b2e   \n",
              "3  ee88b30c-5531-4300-a099-401240037a82  ec3629f1-d1e8-4a07-bf4a-066a90f42b2e   \n",
              "4  554c52b3-1251-4371-8549-f9ef93c19fa9  ec3629f1-d1e8-4a07-bf4a-066a90f42b2e   \n",
              "\n",
              "                oddate  item_id  item_type  odstatus  net_price  price  \\\n",
              "0  2017-08-01 08:12:36       12          1         2       3.23    4.0   \n",
              "1  2017-08-01 08:12:36       53          2         2       0.00    0.0   \n",
              "2  2017-08-01 08:19:50       12          1         2       3.23    4.0   \n",
              "3  2017-08-01 08:19:50       55          2         2       0.00    0.0   \n",
              "4  2017-08-01 08:19:50       12          1         2       3.23    4.0   \n",
              "\n",
              "   unit_price  units  ...  discount_percentage  discount_amount  \\\n",
              "0         4.0      1  ...                  0.0              0.0   \n",
              "1         0.0      1  ...                  0.0              0.0   \n",
              "2         4.0      1  ...                  0.0              0.0   \n",
              "3         0.0      1  ...                  0.0              0.0   \n",
              "4         4.0      1  ...                  0.0              0.0   \n",
              "\n",
              "   discount_type  payment_type        odcreated_at        odupdated_at  \\\n",
              "0              0             1 2017-08-01 08:12:27 2017-08-01 09:12:24   \n",
              "1              0             1 2017-08-01 08:12:32 2017-08-01 09:12:24   \n",
              "2              0             1 2017-08-01 08:19:21 2017-08-01 08:28:03   \n",
              "3              0             1 2017-08-01 08:19:29 2017-08-01 08:28:03   \n",
              "4              0             1 2017-08-01 08:19:36 2017-08-01 08:28:03   \n",
              "\n",
              "  pos_uname discount_uname cancel_uname payment_uname  \n",
              "0   Unknown            NaN          NaN           NaN  \n",
              "1   Unknown            NaN          NaN           NaN  \n",
              "2   Unknown            NaN          NaN           NaN  \n",
              "3   Unknown            NaN          NaN           NaN  \n",
              "4   Unknown            NaN          NaN           NaN  \n",
              "\n",
              "[5 rows x 22 columns]"
            ],
            "text/html": [
              "\n",
              "  <div id=\"df-2825f6cf-d0c8-4a46-8f40-2663f73014fc\" class=\"colab-df-container\">\n",
              "    <div>\n",
              "<style scoped>\n",
              "    .dataframe tbody tr th:only-of-type {\n",
              "        vertical-align: middle;\n",
              "    }\n",
              "\n",
              "    .dataframe tbody tr th {\n",
              "        vertical-align: top;\n",
              "    }\n",
              "\n",
              "    .dataframe thead th {\n",
              "        text-align: right;\n",
              "    }\n",
              "</style>\n",
              "<table border=\"1\" class=\"dataframe\">\n",
              "  <thead>\n",
              "    <tr style=\"text-align: right;\">\n",
              "      <th></th>\n",
              "      <th>odid</th>\n",
              "      <th>ogid</th>\n",
              "      <th>oddate</th>\n",
              "      <th>item_id</th>\n",
              "      <th>item_type</th>\n",
              "      <th>odstatus</th>\n",
              "      <th>net_price</th>\n",
              "      <th>price</th>\n",
              "      <th>unit_price</th>\n",
              "      <th>units</th>\n",
              "      <th>...</th>\n",
              "      <th>discount_percentage</th>\n",
              "      <th>discount_amount</th>\n",
              "      <th>discount_type</th>\n",
              "      <th>payment_type</th>\n",
              "      <th>odcreated_at</th>\n",
              "      <th>odupdated_at</th>\n",
              "      <th>pos_uname</th>\n",
              "      <th>discount_uname</th>\n",
              "      <th>cancel_uname</th>\n",
              "      <th>payment_uname</th>\n",
              "    </tr>\n",
              "  </thead>\n",
              "  <tbody>\n",
              "    <tr>\n",
              "      <th>0</th>\n",
              "      <td>ab394826-12b7-4332-bc51-9edbf3af1ec4</td>\n",
              "      <td>893b7f11-84d9-4b52-896b-4134baf664ba</td>\n",
              "      <td>2017-08-01 08:12:36</td>\n",
              "      <td>12</td>\n",
              "      <td>1</td>\n",
              "      <td>2</td>\n",
              "      <td>3.23</td>\n",
              "      <td>4.0</td>\n",
              "      <td>4.0</td>\n",
              "      <td>1</td>\n",
              "      <td>...</td>\n",
              "      <td>0.0</td>\n",
              "      <td>0.0</td>\n",
              "      <td>0</td>\n",
              "      <td>1</td>\n",
              "      <td>2017-08-01 08:12:27</td>\n",
              "      <td>2017-08-01 09:12:24</td>\n",
              "      <td>Unknown</td>\n",
              "      <td>NaN</td>\n",
              "      <td>NaN</td>\n",
              "      <td>NaN</td>\n",
              "    </tr>\n",
              "    <tr>\n",
              "      <th>1</th>\n",
              "      <td>1039e874-31d3-40b4-ab46-6170b007c33d</td>\n",
              "      <td>893b7f11-84d9-4b52-896b-4134baf664ba</td>\n",
              "      <td>2017-08-01 08:12:36</td>\n",
              "      <td>53</td>\n",
              "      <td>2</td>\n",
              "      <td>2</td>\n",
              "      <td>0.00</td>\n",
              "      <td>0.0</td>\n",
              "      <td>0.0</td>\n",
              "      <td>1</td>\n",
              "      <td>...</td>\n",
              "      <td>0.0</td>\n",
              "      <td>0.0</td>\n",
              "      <td>0</td>\n",
              "      <td>1</td>\n",
              "      <td>2017-08-01 08:12:32</td>\n",
              "      <td>2017-08-01 09:12:24</td>\n",
              "      <td>Unknown</td>\n",
              "      <td>NaN</td>\n",
              "      <td>NaN</td>\n",
              "      <td>NaN</td>\n",
              "    </tr>\n",
              "    <tr>\n",
              "      <th>2</th>\n",
              "      <td>581f9581-6ec1-4f8f-8dde-6338e4f5f998</td>\n",
              "      <td>ec3629f1-d1e8-4a07-bf4a-066a90f42b2e</td>\n",
              "      <td>2017-08-01 08:19:50</td>\n",
              "      <td>12</td>\n",
              "      <td>1</td>\n",
              "      <td>2</td>\n",
              "      <td>3.23</td>\n",
              "      <td>4.0</td>\n",
              "      <td>4.0</td>\n",
              "      <td>1</td>\n",
              "      <td>...</td>\n",
              "      <td>0.0</td>\n",
              "      <td>0.0</td>\n",
              "      <td>0</td>\n",
              "      <td>1</td>\n",
              "      <td>2017-08-01 08:19:21</td>\n",
              "      <td>2017-08-01 08:28:03</td>\n",
              "      <td>Unknown</td>\n",
              "      <td>NaN</td>\n",
              "      <td>NaN</td>\n",
              "      <td>NaN</td>\n",
              "    </tr>\n",
              "    <tr>\n",
              "      <th>3</th>\n",
              "      <td>ee88b30c-5531-4300-a099-401240037a82</td>\n",
              "      <td>ec3629f1-d1e8-4a07-bf4a-066a90f42b2e</td>\n",
              "      <td>2017-08-01 08:19:50</td>\n",
              "      <td>55</td>\n",
              "      <td>2</td>\n",
              "      <td>2</td>\n",
              "      <td>0.00</td>\n",
              "      <td>0.0</td>\n",
              "      <td>0.0</td>\n",
              "      <td>1</td>\n",
              "      <td>...</td>\n",
              "      <td>0.0</td>\n",
              "      <td>0.0</td>\n",
              "      <td>0</td>\n",
              "      <td>1</td>\n",
              "      <td>2017-08-01 08:19:29</td>\n",
              "      <td>2017-08-01 08:28:03</td>\n",
              "      <td>Unknown</td>\n",
              "      <td>NaN</td>\n",
              "      <td>NaN</td>\n",
              "      <td>NaN</td>\n",
              "    </tr>\n",
              "    <tr>\n",
              "      <th>4</th>\n",
              "      <td>554c52b3-1251-4371-8549-f9ef93c19fa9</td>\n",
              "      <td>ec3629f1-d1e8-4a07-bf4a-066a90f42b2e</td>\n",
              "      <td>2017-08-01 08:19:50</td>\n",
              "      <td>12</td>\n",
              "      <td>1</td>\n",
              "      <td>2</td>\n",
              "      <td>3.23</td>\n",
              "      <td>4.0</td>\n",
              "      <td>4.0</td>\n",
              "      <td>1</td>\n",
              "      <td>...</td>\n",
              "      <td>0.0</td>\n",
              "      <td>0.0</td>\n",
              "      <td>0</td>\n",
              "      <td>1</td>\n",
              "      <td>2017-08-01 08:19:36</td>\n",
              "      <td>2017-08-01 08:28:03</td>\n",
              "      <td>Unknown</td>\n",
              "      <td>NaN</td>\n",
              "      <td>NaN</td>\n",
              "      <td>NaN</td>\n",
              "    </tr>\n",
              "  </tbody>\n",
              "</table>\n",
              "<p>5 rows × 22 columns</p>\n",
              "</div>\n",
              "    <div class=\"colab-df-buttons\">\n",
              "\n",
              "  <div class=\"colab-df-container\">\n",
              "    <button class=\"colab-df-convert\" onclick=\"convertToInteractive('df-2825f6cf-d0c8-4a46-8f40-2663f73014fc')\"\n",
              "            title=\"Convert this dataframe to an interactive table.\"\n",
              "            style=\"display:none;\">\n",
              "\n",
              "  <svg xmlns=\"http://www.w3.org/2000/svg\" height=\"24px\" viewBox=\"0 -960 960 960\">\n",
              "    <path d=\"M120-120v-720h720v720H120Zm60-500h600v-160H180v160Zm220 220h160v-160H400v160Zm0 220h160v-160H400v160ZM180-400h160v-160H180v160Zm440 0h160v-160H620v160ZM180-180h160v-160H180v160Zm440 0h160v-160H620v160Z\"/>\n",
              "  </svg>\n",
              "    </button>\n",
              "\n",
              "  <style>\n",
              "    .colab-df-container {\n",
              "      display:flex;\n",
              "      gap: 12px;\n",
              "    }\n",
              "\n",
              "    .colab-df-convert {\n",
              "      background-color: #E8F0FE;\n",
              "      border: none;\n",
              "      border-radius: 50%;\n",
              "      cursor: pointer;\n",
              "      display: none;\n",
              "      fill: #1967D2;\n",
              "      height: 32px;\n",
              "      padding: 0 0 0 0;\n",
              "      width: 32px;\n",
              "    }\n",
              "\n",
              "    .colab-df-convert:hover {\n",
              "      background-color: #E2EBFA;\n",
              "      box-shadow: 0px 1px 2px rgba(60, 64, 67, 0.3), 0px 1px 3px 1px rgba(60, 64, 67, 0.15);\n",
              "      fill: #174EA6;\n",
              "    }\n",
              "\n",
              "    .colab-df-buttons div {\n",
              "      margin-bottom: 4px;\n",
              "    }\n",
              "\n",
              "    [theme=dark] .colab-df-convert {\n",
              "      background-color: #3B4455;\n",
              "      fill: #D2E3FC;\n",
              "    }\n",
              "\n",
              "    [theme=dark] .colab-df-convert:hover {\n",
              "      background-color: #434B5C;\n",
              "      box-shadow: 0px 1px 3px 1px rgba(0, 0, 0, 0.15);\n",
              "      filter: drop-shadow(0px 1px 2px rgba(0, 0, 0, 0.3));\n",
              "      fill: #FFFFFF;\n",
              "    }\n",
              "  </style>\n",
              "\n",
              "    <script>\n",
              "      const buttonEl =\n",
              "        document.querySelector('#df-2825f6cf-d0c8-4a46-8f40-2663f73014fc button.colab-df-convert');\n",
              "      buttonEl.style.display =\n",
              "        google.colab.kernel.accessAllowed ? 'block' : 'none';\n",
              "\n",
              "      async function convertToInteractive(key) {\n",
              "        const element = document.querySelector('#df-2825f6cf-d0c8-4a46-8f40-2663f73014fc');\n",
              "        const dataTable =\n",
              "          await google.colab.kernel.invokeFunction('convertToInteractive',\n",
              "                                                    [key], {});\n",
              "        if (!dataTable) return;\n",
              "\n",
              "        const docLinkHtml = 'Like what you see? Visit the ' +\n",
              "          '<a target=\"_blank\" href=https://colab.research.google.com/notebooks/data_table.ipynb>data table notebook</a>'\n",
              "          + ' to learn more about interactive tables.';\n",
              "        element.innerHTML = '';\n",
              "        dataTable['output_type'] = 'display_data';\n",
              "        await google.colab.output.renderOutput(dataTable, element);\n",
              "        const docLink = document.createElement('div');\n",
              "        docLink.innerHTML = docLinkHtml;\n",
              "        element.appendChild(docLink);\n",
              "      }\n",
              "    </script>\n",
              "  </div>\n",
              "\n",
              "\n",
              "<div id=\"df-35bf04f9-b941-470d-858a-c38d7ab890df\">\n",
              "  <button class=\"colab-df-quickchart\" onclick=\"quickchart('df-35bf04f9-b941-470d-858a-c38d7ab890df')\"\n",
              "            title=\"Suggest charts\"\n",
              "            style=\"display:none;\">\n",
              "\n",
              "<svg xmlns=\"http://www.w3.org/2000/svg\" height=\"24px\"viewBox=\"0 0 24 24\"\n",
              "     width=\"24px\">\n",
              "    <g>\n",
              "        <path d=\"M19 3H5c-1.1 0-2 .9-2 2v14c0 1.1.9 2 2 2h14c1.1 0 2-.9 2-2V5c0-1.1-.9-2-2-2zM9 17H7v-7h2v7zm4 0h-2V7h2v10zm4 0h-2v-4h2v4z\"/>\n",
              "    </g>\n",
              "</svg>\n",
              "  </button>\n",
              "\n",
              "<style>\n",
              "  .colab-df-quickchart {\n",
              "      --bg-color: #E8F0FE;\n",
              "      --fill-color: #1967D2;\n",
              "      --hover-bg-color: #E2EBFA;\n",
              "      --hover-fill-color: #174EA6;\n",
              "      --disabled-fill-color: #AAA;\n",
              "      --disabled-bg-color: #DDD;\n",
              "  }\n",
              "\n",
              "  [theme=dark] .colab-df-quickchart {\n",
              "      --bg-color: #3B4455;\n",
              "      --fill-color: #D2E3FC;\n",
              "      --hover-bg-color: #434B5C;\n",
              "      --hover-fill-color: #FFFFFF;\n",
              "      --disabled-bg-color: #3B4455;\n",
              "      --disabled-fill-color: #666;\n",
              "  }\n",
              "\n",
              "  .colab-df-quickchart {\n",
              "    background-color: var(--bg-color);\n",
              "    border: none;\n",
              "    border-radius: 50%;\n",
              "    cursor: pointer;\n",
              "    display: none;\n",
              "    fill: var(--fill-color);\n",
              "    height: 32px;\n",
              "    padding: 0;\n",
              "    width: 32px;\n",
              "  }\n",
              "\n",
              "  .colab-df-quickchart:hover {\n",
              "    background-color: var(--hover-bg-color);\n",
              "    box-shadow: 0 1px 2px rgba(60, 64, 67, 0.3), 0 1px 3px 1px rgba(60, 64, 67, 0.15);\n",
              "    fill: var(--button-hover-fill-color);\n",
              "  }\n",
              "\n",
              "  .colab-df-quickchart-complete:disabled,\n",
              "  .colab-df-quickchart-complete:disabled:hover {\n",
              "    background-color: var(--disabled-bg-color);\n",
              "    fill: var(--disabled-fill-color);\n",
              "    box-shadow: none;\n",
              "  }\n",
              "\n",
              "  .colab-df-spinner {\n",
              "    border: 2px solid var(--fill-color);\n",
              "    border-color: transparent;\n",
              "    border-bottom-color: var(--fill-color);\n",
              "    animation:\n",
              "      spin 1s steps(1) infinite;\n",
              "  }\n",
              "\n",
              "  @keyframes spin {\n",
              "    0% {\n",
              "      border-color: transparent;\n",
              "      border-bottom-color: var(--fill-color);\n",
              "      border-left-color: var(--fill-color);\n",
              "    }\n",
              "    20% {\n",
              "      border-color: transparent;\n",
              "      border-left-color: var(--fill-color);\n",
              "      border-top-color: var(--fill-color);\n",
              "    }\n",
              "    30% {\n",
              "      border-color: transparent;\n",
              "      border-left-color: var(--fill-color);\n",
              "      border-top-color: var(--fill-color);\n",
              "      border-right-color: var(--fill-color);\n",
              "    }\n",
              "    40% {\n",
              "      border-color: transparent;\n",
              "      border-right-color: var(--fill-color);\n",
              "      border-top-color: var(--fill-color);\n",
              "    }\n",
              "    60% {\n",
              "      border-color: transparent;\n",
              "      border-right-color: var(--fill-color);\n",
              "    }\n",
              "    80% {\n",
              "      border-color: transparent;\n",
              "      border-right-color: var(--fill-color);\n",
              "      border-bottom-color: var(--fill-color);\n",
              "    }\n",
              "    90% {\n",
              "      border-color: transparent;\n",
              "      border-bottom-color: var(--fill-color);\n",
              "    }\n",
              "  }\n",
              "</style>\n",
              "\n",
              "  <script>\n",
              "    async function quickchart(key) {\n",
              "      const quickchartButtonEl =\n",
              "        document.querySelector('#' + key + ' button');\n",
              "      quickchartButtonEl.disabled = true;  // To prevent multiple clicks.\n",
              "      quickchartButtonEl.classList.add('colab-df-spinner');\n",
              "      try {\n",
              "        const charts = await google.colab.kernel.invokeFunction(\n",
              "            'suggestCharts', [key], {});\n",
              "      } catch (error) {\n",
              "        console.error('Error during call to suggestCharts:', error);\n",
              "      }\n",
              "      quickchartButtonEl.classList.remove('colab-df-spinner');\n",
              "      quickchartButtonEl.classList.add('colab-df-quickchart-complete');\n",
              "    }\n",
              "    (() => {\n",
              "      let quickchartButtonEl =\n",
              "        document.querySelector('#df-35bf04f9-b941-470d-858a-c38d7ab890df button');\n",
              "      quickchartButtonEl.style.display =\n",
              "        google.colab.kernel.accessAllowed ? 'block' : 'none';\n",
              "    })();\n",
              "  </script>\n",
              "</div>\n",
              "    </div>\n",
              "  </div>\n"
            ]
          },
          "metadata": {},
          "execution_count": 151
        }
      ]
    },
    {
      "cell_type": "code",
      "source": [
        "df_order_details_04.isnull().sum()"
      ],
      "metadata": {
        "colab": {
          "base_uri": "https://localhost:8080/"
        },
        "id": "OhCCe54OpGUm",
        "outputId": "0c5183bc-3ee9-4e97-85b3-261c9290815c"
      },
      "execution_count": 153,
      "outputs": [
        {
          "output_type": "execute_result",
          "data": {
            "text/plain": [
              "odid                         0\n",
              "ogid                         0\n",
              "oddate                       0\n",
              "item_id                      0\n",
              "item_type                    0\n",
              "odstatus                     0\n",
              "net_price                    0\n",
              "price                        0\n",
              "unit_price                   0\n",
              "units                        0\n",
              "vat                          0\n",
              "vat_percentage               0\n",
              "discount_percentage          0\n",
              "discount_amount              0\n",
              "discount_type                0\n",
              "payment_type                 0\n",
              "odcreated_at                 0\n",
              "odupdated_at                 0\n",
              "pos_uname                    0\n",
              "discount_uname         1883375\n",
              "cancel_uname           1998084\n",
              "payment_uname          1366576\n",
              "dtype: int64"
            ]
          },
          "metadata": {},
          "execution_count": 153
        }
      ]
    },
    {
      "cell_type": "code",
      "source": [
        "# Create a binary indicator for missing\n",
        "df_order_details_04['discount_uname_missing'] = df_order_details_04['discount_uname'].isnull().astype(int)\n",
        "\n",
        "# Replace nulls in 'discount_uname' with Unknown\n",
        "df_order_details_04['discount_uname'].fillna('Unknown', inplace=True)"
      ],
      "metadata": {
        "id": "nlNsiMsjrt5U"
      },
      "execution_count": 92,
      "outputs": []
    },
    {
      "cell_type": "code",
      "source": [
        "# Create a binary indicator for missing\n",
        "df_order_details_04['cancel_uname_missing'] = df_order_details_04['cancel_uname'].isnull().astype(int)\n",
        "\n",
        "# Replace nulls in 'cancel_uname' with Unknown\n",
        "df_order_details_04['cancel_uname'].fillna('Unknown', inplace=True)"
      ],
      "metadata": {
        "id": "dT3MNlpwuWov"
      },
      "execution_count": 93,
      "outputs": []
    },
    {
      "cell_type": "code",
      "source": [
        "# Create a binary indicator for missing\n",
        "df_order_details_04['payment_uname_missing'] = df_order_details_04['payment_uname'].isnull().astype(int)\n",
        "\n",
        "# Replace nulls in 'payment_uname' with Unknown\n",
        "df_order_details_04['payment_uname'].fillna('Unknown', inplace=True)"
      ],
      "metadata": {
        "id": "oiHcVd1kuZRI"
      },
      "execution_count": 94,
      "outputs": []
    },
    {
      "cell_type": "code",
      "source": [
        "df_order_details_04.isnull().sum()"
      ],
      "metadata": {
        "colab": {
          "base_uri": "https://localhost:8080/"
        },
        "id": "wXd3pTadsHE-",
        "outputId": "59d0d4ab-360a-4c69-e696-6ccd2a84ee50"
      },
      "execution_count": 95,
      "outputs": [
        {
          "output_type": "execute_result",
          "data": {
            "text/plain": [
              "odid                      0\n",
              "ogid                      0\n",
              "oddate                    0\n",
              "item_id                   0\n",
              "item_type                 0\n",
              "odstatus                  0\n",
              "net_price                 0\n",
              "price                     0\n",
              "unit_price                0\n",
              "units                     0\n",
              "vat                       0\n",
              "vat_percentage            0\n",
              "discount_percentage       0\n",
              "discount_amount           0\n",
              "discount_type             0\n",
              "payment_type              0\n",
              "odcreated_at              0\n",
              "odupdated_at              0\n",
              "pos_uname_missing         0\n",
              "pos_uname                 0\n",
              "discount_uname            0\n",
              "cancel_uname              0\n",
              "payment_uname             0\n",
              "discount_uname_missing    0\n",
              "cancel_uname_missing      0\n",
              "payment_uname_missing     0\n",
              "dtype: int64"
            ]
          },
          "metadata": {},
          "execution_count": 95
        }
      ]
    },
    {
      "cell_type": "code",
      "source": [
        "# save df_order_details_04 as csv file:\n",
        "df_order_details_04.to_csv('/content/drive/MyDrive/df_order_details_04.csv', index=False)"
      ],
      "metadata": {
        "id": "5mOVno3kvMnu"
      },
      "execution_count": 96,
      "outputs": []
    },
    {
      "cell_type": "markdown",
      "source": [
        "# Merge DataFrames (df_order_details_04,  df_orders_status) on status:"
      ],
      "metadata": {
        "id": "hVXDW49JsjNh"
      }
    },
    {
      "cell_type": "code",
      "source": [
        "df_orders_status_01.shape, df_orders_status_01.columns"
      ],
      "metadata": {
        "colab": {
          "base_uri": "https://localhost:8080/"
        },
        "id": "0l9EBBTG3kTa",
        "outputId": "9a97b3c1-0c8b-441f-a80c-c12d6e029b1e"
      },
      "execution_count": 97,
      "outputs": [
        {
          "output_type": "execute_result",
          "data": {
            "text/plain": [
              "((10, 2), Index(['id', 'name'], dtype='object'))"
            ]
          },
          "metadata": {},
          "execution_count": 97
        }
      ]
    },
    {
      "cell_type": "code",
      "source": [
        "df_order_details_04.shape, df_order_details_04.columns"
      ],
      "metadata": {
        "colab": {
          "base_uri": "https://localhost:8080/"
        },
        "id": "Ec2o-eRv2zi7",
        "outputId": "3f3e991c-c6ab-462d-d452-1d04538fdc62"
      },
      "execution_count": 98,
      "outputs": [
        {
          "output_type": "execute_result",
          "data": {
            "text/plain": [
              "((2000248, 26),\n",
              " Index(['odid', 'ogid', 'oddate', 'item_id', 'item_type', 'odstatus',\n",
              "        'net_price', 'price', 'unit_price', 'units', 'vat', 'vat_percentage',\n",
              "        'discount_percentage', 'discount_amount', 'discount_type',\n",
              "        'payment_type', 'odcreated_at', 'odupdated_at', 'pos_uname_missing',\n",
              "        'pos_uname', 'discount_uname', 'cancel_uname', 'payment_uname',\n",
              "        'discount_uname_missing', 'cancel_uname_missing',\n",
              "        'payment_uname_missing'],\n",
              "       dtype='object'))"
            ]
          },
          "metadata": {},
          "execution_count": 98
        }
      ]
    },
    {
      "cell_type": "code",
      "source": [
        "# Merge df_orders_clean on 'status' column and df_orders_status on corresponding 'id' and 'status' columns\n",
        "df_order_details_05 = pd.merge(\n",
        "    df_order_details_04,\n",
        "    df_orders_status_01,\n",
        "    left_on='odstatus',\n",
        "    right_on='id',\n",
        "    how='left'\n",
        ")"
      ],
      "metadata": {
        "id": "KqqjYK6Zscel"
      },
      "execution_count": 99,
      "outputs": []
    },
    {
      "cell_type": "code",
      "source": [
        "df_order_details_05.columns, df_order_details_05.shape"
      ],
      "metadata": {
        "colab": {
          "base_uri": "https://localhost:8080/"
        },
        "id": "yZrun9Rj39bf",
        "outputId": "1705cf79-3693-4a78-c6ba-f2c72df754ff"
      },
      "execution_count": 159,
      "outputs": [
        {
          "output_type": "execute_result",
          "data": {
            "text/plain": [
              "(Index(['odid', 'ogid', 'oddate', 'item_id', 'item_type', 'odstatus',\n",
              "        'net_price', 'price', 'unit_price', 'units', 'vat', 'vat_percentage',\n",
              "        'discount_percentage', 'discount_amount', 'discount_type',\n",
              "        'payment_type', 'odcreated_at', 'odupdated_at', 'pos_uname',\n",
              "        'discount_uname', 'cancel_uname', 'payment_uname', 'id', 'name'],\n",
              "       dtype='object'),\n",
              " (2000248, 24))"
            ]
          },
          "metadata": {},
          "execution_count": 159
        }
      ]
    },
    {
      "cell_type": "code",
      "source": [
        "# Drop the extra 'id_y' columns that were added during the merges\n",
        "df_order_details_05.drop(['id','odstatus'], axis=1, inplace=True)"
      ],
      "metadata": {
        "id": "2iEbXRTq4kS_"
      },
      "execution_count": 100,
      "outputs": []
    },
    {
      "cell_type": "code",
      "source": [
        "df_order_details_05.rename(columns={'name': 'odstatus'}, inplace=True)"
      ],
      "metadata": {
        "id": "SK1EZobT4XvE"
      },
      "execution_count": 101,
      "outputs": []
    },
    {
      "cell_type": "code",
      "source": [
        "df_order_details_05.columns, df_order_details_05.shape"
      ],
      "metadata": {
        "colab": {
          "base_uri": "https://localhost:8080/"
        },
        "id": "a5f2urne5RfL",
        "outputId": "f401a8bd-8d7a-4683-9b26-8f98eb4a44c1"
      },
      "execution_count": 162,
      "outputs": [
        {
          "output_type": "execute_result",
          "data": {
            "text/plain": [
              "(Index(['odid', 'ogid', 'oddate', 'item_id', 'item_type', 'net_price', 'price',\n",
              "        'unit_price', 'units', 'vat', 'vat_percentage', 'discount_percentage',\n",
              "        'discount_amount', 'discount_type', 'payment_type', 'odcreated_at',\n",
              "        'odupdated_at', 'pos_uname', 'discount_uname', 'cancel_uname',\n",
              "        'payment_uname', 'odstatus'],\n",
              "       dtype='object'),\n",
              " (2000248, 22))"
            ]
          },
          "metadata": {},
          "execution_count": 162
        }
      ]
    },
    {
      "cell_type": "code",
      "source": [
        "df_order_details_05.head()"
      ],
      "metadata": {
        "colab": {
          "base_uri": "https://localhost:8080/",
          "height": 0
        },
        "id": "-LYnWDtE4LO0",
        "outputId": "990a8294-ee8c-44b0-919c-84339a96b20f"
      },
      "execution_count": 164,
      "outputs": [
        {
          "output_type": "execute_result",
          "data": {
            "text/plain": [
              "                                   odid                                  ogid  \\\n",
              "0  ab394826-12b7-4332-bc51-9edbf3af1ec4  893b7f11-84d9-4b52-896b-4134baf664ba   \n",
              "1  1039e874-31d3-40b4-ab46-6170b007c33d  893b7f11-84d9-4b52-896b-4134baf664ba   \n",
              "2  581f9581-6ec1-4f8f-8dde-6338e4f5f998  ec3629f1-d1e8-4a07-bf4a-066a90f42b2e   \n",
              "3  ee88b30c-5531-4300-a099-401240037a82  ec3629f1-d1e8-4a07-bf4a-066a90f42b2e   \n",
              "4  554c52b3-1251-4371-8549-f9ef93c19fa9  ec3629f1-d1e8-4a07-bf4a-066a90f42b2e   \n",
              "\n",
              "                oddate  item_id  item_type  net_price  price  unit_price  \\\n",
              "0  2017-08-01 08:12:36       12          1       3.23    4.0         4.0   \n",
              "1  2017-08-01 08:12:36       53          2       0.00    0.0         0.0   \n",
              "2  2017-08-01 08:19:50       12          1       3.23    4.0         4.0   \n",
              "3  2017-08-01 08:19:50       55          2       0.00    0.0         0.0   \n",
              "4  2017-08-01 08:19:50       12          1       3.23    4.0         4.0   \n",
              "\n",
              "   units   vat  ...  discount_amount  discount_type  payment_type  \\\n",
              "0      1  0.77  ...              0.0              0             1   \n",
              "1      1  0.00  ...              0.0              0             1   \n",
              "2      1  0.77  ...              0.0              0             1   \n",
              "3      1  0.00  ...              0.0              0             1   \n",
              "4      1  0.77  ...              0.0              0             1   \n",
              "\n",
              "         odcreated_at        odupdated_at pos_uname discount_uname  \\\n",
              "0 2017-08-01 08:12:27 2017-08-01 09:12:24   Unknown        Unknown   \n",
              "1 2017-08-01 08:12:32 2017-08-01 09:12:24   Unknown        Unknown   \n",
              "2 2017-08-01 08:19:21 2017-08-01 08:28:03   Unknown        Unknown   \n",
              "3 2017-08-01 08:19:29 2017-08-01 08:28:03   Unknown        Unknown   \n",
              "4 2017-08-01 08:19:36 2017-08-01 08:28:03   Unknown        Unknown   \n",
              "\n",
              "  cancel_uname payment_uname odstatus  \n",
              "0      Unknown       Unknown     Paid  \n",
              "1      Unknown       Unknown     Paid  \n",
              "2      Unknown       Unknown     Paid  \n",
              "3      Unknown       Unknown     Paid  \n",
              "4      Unknown       Unknown     Paid  \n",
              "\n",
              "[5 rows x 22 columns]"
            ],
            "text/html": [
              "\n",
              "  <div id=\"df-5b5f02f5-a212-4b75-a8a6-dff072acdbc5\" class=\"colab-df-container\">\n",
              "    <div>\n",
              "<style scoped>\n",
              "    .dataframe tbody tr th:only-of-type {\n",
              "        vertical-align: middle;\n",
              "    }\n",
              "\n",
              "    .dataframe tbody tr th {\n",
              "        vertical-align: top;\n",
              "    }\n",
              "\n",
              "    .dataframe thead th {\n",
              "        text-align: right;\n",
              "    }\n",
              "</style>\n",
              "<table border=\"1\" class=\"dataframe\">\n",
              "  <thead>\n",
              "    <tr style=\"text-align: right;\">\n",
              "      <th></th>\n",
              "      <th>odid</th>\n",
              "      <th>ogid</th>\n",
              "      <th>oddate</th>\n",
              "      <th>item_id</th>\n",
              "      <th>item_type</th>\n",
              "      <th>net_price</th>\n",
              "      <th>price</th>\n",
              "      <th>unit_price</th>\n",
              "      <th>units</th>\n",
              "      <th>vat</th>\n",
              "      <th>...</th>\n",
              "      <th>discount_amount</th>\n",
              "      <th>discount_type</th>\n",
              "      <th>payment_type</th>\n",
              "      <th>odcreated_at</th>\n",
              "      <th>odupdated_at</th>\n",
              "      <th>pos_uname</th>\n",
              "      <th>discount_uname</th>\n",
              "      <th>cancel_uname</th>\n",
              "      <th>payment_uname</th>\n",
              "      <th>odstatus</th>\n",
              "    </tr>\n",
              "  </thead>\n",
              "  <tbody>\n",
              "    <tr>\n",
              "      <th>0</th>\n",
              "      <td>ab394826-12b7-4332-bc51-9edbf3af1ec4</td>\n",
              "      <td>893b7f11-84d9-4b52-896b-4134baf664ba</td>\n",
              "      <td>2017-08-01 08:12:36</td>\n",
              "      <td>12</td>\n",
              "      <td>1</td>\n",
              "      <td>3.23</td>\n",
              "      <td>4.0</td>\n",
              "      <td>4.0</td>\n",
              "      <td>1</td>\n",
              "      <td>0.77</td>\n",
              "      <td>...</td>\n",
              "      <td>0.0</td>\n",
              "      <td>0</td>\n",
              "      <td>1</td>\n",
              "      <td>2017-08-01 08:12:27</td>\n",
              "      <td>2017-08-01 09:12:24</td>\n",
              "      <td>Unknown</td>\n",
              "      <td>Unknown</td>\n",
              "      <td>Unknown</td>\n",
              "      <td>Unknown</td>\n",
              "      <td>Paid</td>\n",
              "    </tr>\n",
              "    <tr>\n",
              "      <th>1</th>\n",
              "      <td>1039e874-31d3-40b4-ab46-6170b007c33d</td>\n",
              "      <td>893b7f11-84d9-4b52-896b-4134baf664ba</td>\n",
              "      <td>2017-08-01 08:12:36</td>\n",
              "      <td>53</td>\n",
              "      <td>2</td>\n",
              "      <td>0.00</td>\n",
              "      <td>0.0</td>\n",
              "      <td>0.0</td>\n",
              "      <td>1</td>\n",
              "      <td>0.00</td>\n",
              "      <td>...</td>\n",
              "      <td>0.0</td>\n",
              "      <td>0</td>\n",
              "      <td>1</td>\n",
              "      <td>2017-08-01 08:12:32</td>\n",
              "      <td>2017-08-01 09:12:24</td>\n",
              "      <td>Unknown</td>\n",
              "      <td>Unknown</td>\n",
              "      <td>Unknown</td>\n",
              "      <td>Unknown</td>\n",
              "      <td>Paid</td>\n",
              "    </tr>\n",
              "    <tr>\n",
              "      <th>2</th>\n",
              "      <td>581f9581-6ec1-4f8f-8dde-6338e4f5f998</td>\n",
              "      <td>ec3629f1-d1e8-4a07-bf4a-066a90f42b2e</td>\n",
              "      <td>2017-08-01 08:19:50</td>\n",
              "      <td>12</td>\n",
              "      <td>1</td>\n",
              "      <td>3.23</td>\n",
              "      <td>4.0</td>\n",
              "      <td>4.0</td>\n",
              "      <td>1</td>\n",
              "      <td>0.77</td>\n",
              "      <td>...</td>\n",
              "      <td>0.0</td>\n",
              "      <td>0</td>\n",
              "      <td>1</td>\n",
              "      <td>2017-08-01 08:19:21</td>\n",
              "      <td>2017-08-01 08:28:03</td>\n",
              "      <td>Unknown</td>\n",
              "      <td>Unknown</td>\n",
              "      <td>Unknown</td>\n",
              "      <td>Unknown</td>\n",
              "      <td>Paid</td>\n",
              "    </tr>\n",
              "    <tr>\n",
              "      <th>3</th>\n",
              "      <td>ee88b30c-5531-4300-a099-401240037a82</td>\n",
              "      <td>ec3629f1-d1e8-4a07-bf4a-066a90f42b2e</td>\n",
              "      <td>2017-08-01 08:19:50</td>\n",
              "      <td>55</td>\n",
              "      <td>2</td>\n",
              "      <td>0.00</td>\n",
              "      <td>0.0</td>\n",
              "      <td>0.0</td>\n",
              "      <td>1</td>\n",
              "      <td>0.00</td>\n",
              "      <td>...</td>\n",
              "      <td>0.0</td>\n",
              "      <td>0</td>\n",
              "      <td>1</td>\n",
              "      <td>2017-08-01 08:19:29</td>\n",
              "      <td>2017-08-01 08:28:03</td>\n",
              "      <td>Unknown</td>\n",
              "      <td>Unknown</td>\n",
              "      <td>Unknown</td>\n",
              "      <td>Unknown</td>\n",
              "      <td>Paid</td>\n",
              "    </tr>\n",
              "    <tr>\n",
              "      <th>4</th>\n",
              "      <td>554c52b3-1251-4371-8549-f9ef93c19fa9</td>\n",
              "      <td>ec3629f1-d1e8-4a07-bf4a-066a90f42b2e</td>\n",
              "      <td>2017-08-01 08:19:50</td>\n",
              "      <td>12</td>\n",
              "      <td>1</td>\n",
              "      <td>3.23</td>\n",
              "      <td>4.0</td>\n",
              "      <td>4.0</td>\n",
              "      <td>1</td>\n",
              "      <td>0.77</td>\n",
              "      <td>...</td>\n",
              "      <td>0.0</td>\n",
              "      <td>0</td>\n",
              "      <td>1</td>\n",
              "      <td>2017-08-01 08:19:36</td>\n",
              "      <td>2017-08-01 08:28:03</td>\n",
              "      <td>Unknown</td>\n",
              "      <td>Unknown</td>\n",
              "      <td>Unknown</td>\n",
              "      <td>Unknown</td>\n",
              "      <td>Paid</td>\n",
              "    </tr>\n",
              "  </tbody>\n",
              "</table>\n",
              "<p>5 rows × 22 columns</p>\n",
              "</div>\n",
              "    <div class=\"colab-df-buttons\">\n",
              "\n",
              "  <div class=\"colab-df-container\">\n",
              "    <button class=\"colab-df-convert\" onclick=\"convertToInteractive('df-5b5f02f5-a212-4b75-a8a6-dff072acdbc5')\"\n",
              "            title=\"Convert this dataframe to an interactive table.\"\n",
              "            style=\"display:none;\">\n",
              "\n",
              "  <svg xmlns=\"http://www.w3.org/2000/svg\" height=\"24px\" viewBox=\"0 -960 960 960\">\n",
              "    <path d=\"M120-120v-720h720v720H120Zm60-500h600v-160H180v160Zm220 220h160v-160H400v160Zm0 220h160v-160H400v160ZM180-400h160v-160H180v160Zm440 0h160v-160H620v160ZM180-180h160v-160H180v160Zm440 0h160v-160H620v160Z\"/>\n",
              "  </svg>\n",
              "    </button>\n",
              "\n",
              "  <style>\n",
              "    .colab-df-container {\n",
              "      display:flex;\n",
              "      gap: 12px;\n",
              "    }\n",
              "\n",
              "    .colab-df-convert {\n",
              "      background-color: #E8F0FE;\n",
              "      border: none;\n",
              "      border-radius: 50%;\n",
              "      cursor: pointer;\n",
              "      display: none;\n",
              "      fill: #1967D2;\n",
              "      height: 32px;\n",
              "      padding: 0 0 0 0;\n",
              "      width: 32px;\n",
              "    }\n",
              "\n",
              "    .colab-df-convert:hover {\n",
              "      background-color: #E2EBFA;\n",
              "      box-shadow: 0px 1px 2px rgba(60, 64, 67, 0.3), 0px 1px 3px 1px rgba(60, 64, 67, 0.15);\n",
              "      fill: #174EA6;\n",
              "    }\n",
              "\n",
              "    .colab-df-buttons div {\n",
              "      margin-bottom: 4px;\n",
              "    }\n",
              "\n",
              "    [theme=dark] .colab-df-convert {\n",
              "      background-color: #3B4455;\n",
              "      fill: #D2E3FC;\n",
              "    }\n",
              "\n",
              "    [theme=dark] .colab-df-convert:hover {\n",
              "      background-color: #434B5C;\n",
              "      box-shadow: 0px 1px 3px 1px rgba(0, 0, 0, 0.15);\n",
              "      filter: drop-shadow(0px 1px 2px rgba(0, 0, 0, 0.3));\n",
              "      fill: #FFFFFF;\n",
              "    }\n",
              "  </style>\n",
              "\n",
              "    <script>\n",
              "      const buttonEl =\n",
              "        document.querySelector('#df-5b5f02f5-a212-4b75-a8a6-dff072acdbc5 button.colab-df-convert');\n",
              "      buttonEl.style.display =\n",
              "        google.colab.kernel.accessAllowed ? 'block' : 'none';\n",
              "\n",
              "      async function convertToInteractive(key) {\n",
              "        const element = document.querySelector('#df-5b5f02f5-a212-4b75-a8a6-dff072acdbc5');\n",
              "        const dataTable =\n",
              "          await google.colab.kernel.invokeFunction('convertToInteractive',\n",
              "                                                    [key], {});\n",
              "        if (!dataTable) return;\n",
              "\n",
              "        const docLinkHtml = 'Like what you see? Visit the ' +\n",
              "          '<a target=\"_blank\" href=https://colab.research.google.com/notebooks/data_table.ipynb>data table notebook</a>'\n",
              "          + ' to learn more about interactive tables.';\n",
              "        element.innerHTML = '';\n",
              "        dataTable['output_type'] = 'display_data';\n",
              "        await google.colab.output.renderOutput(dataTable, element);\n",
              "        const docLink = document.createElement('div');\n",
              "        docLink.innerHTML = docLinkHtml;\n",
              "        element.appendChild(docLink);\n",
              "      }\n",
              "    </script>\n",
              "  </div>\n",
              "\n",
              "\n",
              "<div id=\"df-9bde6adb-cc3d-4c2b-822d-df734cc785f1\">\n",
              "  <button class=\"colab-df-quickchart\" onclick=\"quickchart('df-9bde6adb-cc3d-4c2b-822d-df734cc785f1')\"\n",
              "            title=\"Suggest charts\"\n",
              "            style=\"display:none;\">\n",
              "\n",
              "<svg xmlns=\"http://www.w3.org/2000/svg\" height=\"24px\"viewBox=\"0 0 24 24\"\n",
              "     width=\"24px\">\n",
              "    <g>\n",
              "        <path d=\"M19 3H5c-1.1 0-2 .9-2 2v14c0 1.1.9 2 2 2h14c1.1 0 2-.9 2-2V5c0-1.1-.9-2-2-2zM9 17H7v-7h2v7zm4 0h-2V7h2v10zm4 0h-2v-4h2v4z\"/>\n",
              "    </g>\n",
              "</svg>\n",
              "  </button>\n",
              "\n",
              "<style>\n",
              "  .colab-df-quickchart {\n",
              "      --bg-color: #E8F0FE;\n",
              "      --fill-color: #1967D2;\n",
              "      --hover-bg-color: #E2EBFA;\n",
              "      --hover-fill-color: #174EA6;\n",
              "      --disabled-fill-color: #AAA;\n",
              "      --disabled-bg-color: #DDD;\n",
              "  }\n",
              "\n",
              "  [theme=dark] .colab-df-quickchart {\n",
              "      --bg-color: #3B4455;\n",
              "      --fill-color: #D2E3FC;\n",
              "      --hover-bg-color: #434B5C;\n",
              "      --hover-fill-color: #FFFFFF;\n",
              "      --disabled-bg-color: #3B4455;\n",
              "      --disabled-fill-color: #666;\n",
              "  }\n",
              "\n",
              "  .colab-df-quickchart {\n",
              "    background-color: var(--bg-color);\n",
              "    border: none;\n",
              "    border-radius: 50%;\n",
              "    cursor: pointer;\n",
              "    display: none;\n",
              "    fill: var(--fill-color);\n",
              "    height: 32px;\n",
              "    padding: 0;\n",
              "    width: 32px;\n",
              "  }\n",
              "\n",
              "  .colab-df-quickchart:hover {\n",
              "    background-color: var(--hover-bg-color);\n",
              "    box-shadow: 0 1px 2px rgba(60, 64, 67, 0.3), 0 1px 3px 1px rgba(60, 64, 67, 0.15);\n",
              "    fill: var(--button-hover-fill-color);\n",
              "  }\n",
              "\n",
              "  .colab-df-quickchart-complete:disabled,\n",
              "  .colab-df-quickchart-complete:disabled:hover {\n",
              "    background-color: var(--disabled-bg-color);\n",
              "    fill: var(--disabled-fill-color);\n",
              "    box-shadow: none;\n",
              "  }\n",
              "\n",
              "  .colab-df-spinner {\n",
              "    border: 2px solid var(--fill-color);\n",
              "    border-color: transparent;\n",
              "    border-bottom-color: var(--fill-color);\n",
              "    animation:\n",
              "      spin 1s steps(1) infinite;\n",
              "  }\n",
              "\n",
              "  @keyframes spin {\n",
              "    0% {\n",
              "      border-color: transparent;\n",
              "      border-bottom-color: var(--fill-color);\n",
              "      border-left-color: var(--fill-color);\n",
              "    }\n",
              "    20% {\n",
              "      border-color: transparent;\n",
              "      border-left-color: var(--fill-color);\n",
              "      border-top-color: var(--fill-color);\n",
              "    }\n",
              "    30% {\n",
              "      border-color: transparent;\n",
              "      border-left-color: var(--fill-color);\n",
              "      border-top-color: var(--fill-color);\n",
              "      border-right-color: var(--fill-color);\n",
              "    }\n",
              "    40% {\n",
              "      border-color: transparent;\n",
              "      border-right-color: var(--fill-color);\n",
              "      border-top-color: var(--fill-color);\n",
              "    }\n",
              "    60% {\n",
              "      border-color: transparent;\n",
              "      border-right-color: var(--fill-color);\n",
              "    }\n",
              "    80% {\n",
              "      border-color: transparent;\n",
              "      border-right-color: var(--fill-color);\n",
              "      border-bottom-color: var(--fill-color);\n",
              "    }\n",
              "    90% {\n",
              "      border-color: transparent;\n",
              "      border-bottom-color: var(--fill-color);\n",
              "    }\n",
              "  }\n",
              "</style>\n",
              "\n",
              "  <script>\n",
              "    async function quickchart(key) {\n",
              "      const quickchartButtonEl =\n",
              "        document.querySelector('#' + key + ' button');\n",
              "      quickchartButtonEl.disabled = true;  // To prevent multiple clicks.\n",
              "      quickchartButtonEl.classList.add('colab-df-spinner');\n",
              "      try {\n",
              "        const charts = await google.colab.kernel.invokeFunction(\n",
              "            'suggestCharts', [key], {});\n",
              "      } catch (error) {\n",
              "        console.error('Error during call to suggestCharts:', error);\n",
              "      }\n",
              "      quickchartButtonEl.classList.remove('colab-df-spinner');\n",
              "      quickchartButtonEl.classList.add('colab-df-quickchart-complete');\n",
              "    }\n",
              "    (() => {\n",
              "      let quickchartButtonEl =\n",
              "        document.querySelector('#df-9bde6adb-cc3d-4c2b-822d-df734cc785f1 button');\n",
              "      quickchartButtonEl.style.display =\n",
              "        google.colab.kernel.accessAllowed ? 'block' : 'none';\n",
              "    })();\n",
              "  </script>\n",
              "</div>\n",
              "    </div>\n",
              "  </div>\n"
            ]
          },
          "metadata": {},
          "execution_count": 164
        }
      ]
    },
    {
      "cell_type": "code",
      "source": [
        "# save df_order_details_05 as csv file:\n",
        "df_order_details_05.to_csv('/content/drive/MyDrive/df_order_details_05.csv', index=False)"
      ],
      "metadata": {
        "id": "BcYRW0kaR1IW"
      },
      "execution_count": 102,
      "outputs": []
    },
    {
      "cell_type": "markdown",
      "source": [
        "# Merge DataFrames (df_order_details_05, df_DiscountType)"
      ],
      "metadata": {
        "id": "aEw4WN-R6ewZ"
      }
    },
    {
      "cell_type": "markdown",
      "source": [
        "# DiscountTypes Df"
      ],
      "metadata": {
        "id": "HRiBQNxZu-uT"
      }
    },
    {
      "cell_type": "code",
      "source": [
        "df_order_details_05.columns, df_order_details_05.shape"
      ],
      "metadata": {
        "colab": {
          "base_uri": "https://localhost:8080/"
        },
        "id": "9QCXeY3UBFWx",
        "outputId": "a2f1e827-a93d-47e1-d727-07da78e1cd14"
      },
      "execution_count": 165,
      "outputs": [
        {
          "output_type": "execute_result",
          "data": {
            "text/plain": [
              "(Index(['odid', 'ogid', 'oddate', 'item_id', 'item_type', 'net_price', 'price',\n",
              "        'unit_price', 'units', 'vat', 'vat_percentage', 'discount_percentage',\n",
              "        'discount_amount', 'discount_type', 'payment_type', 'odcreated_at',\n",
              "        'odupdated_at', 'pos_uname', 'discount_uname', 'cancel_uname',\n",
              "        'payment_uname', 'odstatus'],\n",
              "       dtype='object'),\n",
              " (2000248, 22))"
            ]
          },
          "metadata": {},
          "execution_count": 165
        }
      ]
    },
    {
      "cell_type": "code",
      "source": [
        "df_DiscountType = dataframes['df_DiscountType']\n",
        "\n",
        "df_DiscountType.shape"
      ],
      "metadata": {
        "colab": {
          "base_uri": "https://localhost:8080/"
        },
        "id": "puIAhxRUv-bZ",
        "outputId": "89738438-4dfa-4f91-a810-ecbe98cb92d3"
      },
      "execution_count": 103,
      "outputs": [
        {
          "output_type": "execute_result",
          "data": {
            "text/plain": [
              "(4, 10)"
            ]
          },
          "metadata": {},
          "execution_count": 103
        }
      ]
    },
    {
      "cell_type": "code",
      "source": [
        "df_DiscountType"
      ],
      "metadata": {
        "colab": {
          "base_uri": "https://localhost:8080/",
          "height": 0
        },
        "id": "RDLi7NwEwBdu",
        "outputId": "e4051e58-8d7f-4326-b852-d318bf7bbce2"
      },
      "execution_count": 83,
      "outputs": [
        {
          "output_type": "execute_result",
          "data": {
            "text/plain": [
              "   id               name  editable  visible        type  value  requires_otp  \\\n",
              "0  -1      Room Discount         1        0  percentage      0             0   \n",
              "1   1   Generic Discount         0        1  percentage      0             0   \n",
              "2   2   Self Consumption         0        1  percentage      0             0   \n",
              "3   3  Customer Discount         0        1  percentage      0             0   \n",
              "\n",
              "   view_order           created_at           updated_at  \n",
              "0          -1  2023-01-23 12:59:15  2023-01-23 12:59:15  \n",
              "1           1  0000-00-00 00:00:00  0000-00-00 00:00:00  \n",
              "2           2  0000-00-00 00:00:00  0000-00-00 00:00:00  \n",
              "3           3  0000-00-00 00:00:00  0000-00-00 00:00:00  "
            ],
            "text/html": [
              "\n",
              "  <div id=\"df-87b7db0f-27cb-4af9-839e-4a73bddfc04c\" class=\"colab-df-container\">\n",
              "    <div>\n",
              "<style scoped>\n",
              "    .dataframe tbody tr th:only-of-type {\n",
              "        vertical-align: middle;\n",
              "    }\n",
              "\n",
              "    .dataframe tbody tr th {\n",
              "        vertical-align: top;\n",
              "    }\n",
              "\n",
              "    .dataframe thead th {\n",
              "        text-align: right;\n",
              "    }\n",
              "</style>\n",
              "<table border=\"1\" class=\"dataframe\">\n",
              "  <thead>\n",
              "    <tr style=\"text-align: right;\">\n",
              "      <th></th>\n",
              "      <th>id</th>\n",
              "      <th>name</th>\n",
              "      <th>editable</th>\n",
              "      <th>visible</th>\n",
              "      <th>type</th>\n",
              "      <th>value</th>\n",
              "      <th>requires_otp</th>\n",
              "      <th>view_order</th>\n",
              "      <th>created_at</th>\n",
              "      <th>updated_at</th>\n",
              "    </tr>\n",
              "  </thead>\n",
              "  <tbody>\n",
              "    <tr>\n",
              "      <th>0</th>\n",
              "      <td>-1</td>\n",
              "      <td>Room Discount</td>\n",
              "      <td>1</td>\n",
              "      <td>0</td>\n",
              "      <td>percentage</td>\n",
              "      <td>0</td>\n",
              "      <td>0</td>\n",
              "      <td>-1</td>\n",
              "      <td>2023-01-23 12:59:15</td>\n",
              "      <td>2023-01-23 12:59:15</td>\n",
              "    </tr>\n",
              "    <tr>\n",
              "      <th>1</th>\n",
              "      <td>1</td>\n",
              "      <td>Generic Discount</td>\n",
              "      <td>0</td>\n",
              "      <td>1</td>\n",
              "      <td>percentage</td>\n",
              "      <td>0</td>\n",
              "      <td>0</td>\n",
              "      <td>1</td>\n",
              "      <td>0000-00-00 00:00:00</td>\n",
              "      <td>0000-00-00 00:00:00</td>\n",
              "    </tr>\n",
              "    <tr>\n",
              "      <th>2</th>\n",
              "      <td>2</td>\n",
              "      <td>Self Consumption</td>\n",
              "      <td>0</td>\n",
              "      <td>1</td>\n",
              "      <td>percentage</td>\n",
              "      <td>0</td>\n",
              "      <td>0</td>\n",
              "      <td>2</td>\n",
              "      <td>0000-00-00 00:00:00</td>\n",
              "      <td>0000-00-00 00:00:00</td>\n",
              "    </tr>\n",
              "    <tr>\n",
              "      <th>3</th>\n",
              "      <td>3</td>\n",
              "      <td>Customer Discount</td>\n",
              "      <td>0</td>\n",
              "      <td>1</td>\n",
              "      <td>percentage</td>\n",
              "      <td>0</td>\n",
              "      <td>0</td>\n",
              "      <td>3</td>\n",
              "      <td>0000-00-00 00:00:00</td>\n",
              "      <td>0000-00-00 00:00:00</td>\n",
              "    </tr>\n",
              "  </tbody>\n",
              "</table>\n",
              "</div>\n",
              "    <div class=\"colab-df-buttons\">\n",
              "\n",
              "  <div class=\"colab-df-container\">\n",
              "    <button class=\"colab-df-convert\" onclick=\"convertToInteractive('df-87b7db0f-27cb-4af9-839e-4a73bddfc04c')\"\n",
              "            title=\"Convert this dataframe to an interactive table.\"\n",
              "            style=\"display:none;\">\n",
              "\n",
              "  <svg xmlns=\"http://www.w3.org/2000/svg\" height=\"24px\" viewBox=\"0 -960 960 960\">\n",
              "    <path d=\"M120-120v-720h720v720H120Zm60-500h600v-160H180v160Zm220 220h160v-160H400v160Zm0 220h160v-160H400v160ZM180-400h160v-160H180v160Zm440 0h160v-160H620v160ZM180-180h160v-160H180v160Zm440 0h160v-160H620v160Z\"/>\n",
              "  </svg>\n",
              "    </button>\n",
              "\n",
              "  <style>\n",
              "    .colab-df-container {\n",
              "      display:flex;\n",
              "      gap: 12px;\n",
              "    }\n",
              "\n",
              "    .colab-df-convert {\n",
              "      background-color: #E8F0FE;\n",
              "      border: none;\n",
              "      border-radius: 50%;\n",
              "      cursor: pointer;\n",
              "      display: none;\n",
              "      fill: #1967D2;\n",
              "      height: 32px;\n",
              "      padding: 0 0 0 0;\n",
              "      width: 32px;\n",
              "    }\n",
              "\n",
              "    .colab-df-convert:hover {\n",
              "      background-color: #E2EBFA;\n",
              "      box-shadow: 0px 1px 2px rgba(60, 64, 67, 0.3), 0px 1px 3px 1px rgba(60, 64, 67, 0.15);\n",
              "      fill: #174EA6;\n",
              "    }\n",
              "\n",
              "    .colab-df-buttons div {\n",
              "      margin-bottom: 4px;\n",
              "    }\n",
              "\n",
              "    [theme=dark] .colab-df-convert {\n",
              "      background-color: #3B4455;\n",
              "      fill: #D2E3FC;\n",
              "    }\n",
              "\n",
              "    [theme=dark] .colab-df-convert:hover {\n",
              "      background-color: #434B5C;\n",
              "      box-shadow: 0px 1px 3px 1px rgba(0, 0, 0, 0.15);\n",
              "      filter: drop-shadow(0px 1px 2px rgba(0, 0, 0, 0.3));\n",
              "      fill: #FFFFFF;\n",
              "    }\n",
              "  </style>\n",
              "\n",
              "    <script>\n",
              "      const buttonEl =\n",
              "        document.querySelector('#df-87b7db0f-27cb-4af9-839e-4a73bddfc04c button.colab-df-convert');\n",
              "      buttonEl.style.display =\n",
              "        google.colab.kernel.accessAllowed ? 'block' : 'none';\n",
              "\n",
              "      async function convertToInteractive(key) {\n",
              "        const element = document.querySelector('#df-87b7db0f-27cb-4af9-839e-4a73bddfc04c');\n",
              "        const dataTable =\n",
              "          await google.colab.kernel.invokeFunction('convertToInteractive',\n",
              "                                                    [key], {});\n",
              "        if (!dataTable) return;\n",
              "\n",
              "        const docLinkHtml = 'Like what you see? Visit the ' +\n",
              "          '<a target=\"_blank\" href=https://colab.research.google.com/notebooks/data_table.ipynb>data table notebook</a>'\n",
              "          + ' to learn more about interactive tables.';\n",
              "        element.innerHTML = '';\n",
              "        dataTable['output_type'] = 'display_data';\n",
              "        await google.colab.output.renderOutput(dataTable, element);\n",
              "        const docLink = document.createElement('div');\n",
              "        docLink.innerHTML = docLinkHtml;\n",
              "        element.appendChild(docLink);\n",
              "      }\n",
              "    </script>\n",
              "  </div>\n",
              "\n",
              "\n",
              "<div id=\"df-6b2c3bd2-8395-423e-8a1f-0cf8d53810a4\">\n",
              "  <button class=\"colab-df-quickchart\" onclick=\"quickchart('df-6b2c3bd2-8395-423e-8a1f-0cf8d53810a4')\"\n",
              "            title=\"Suggest charts\"\n",
              "            style=\"display:none;\">\n",
              "\n",
              "<svg xmlns=\"http://www.w3.org/2000/svg\" height=\"24px\"viewBox=\"0 0 24 24\"\n",
              "     width=\"24px\">\n",
              "    <g>\n",
              "        <path d=\"M19 3H5c-1.1 0-2 .9-2 2v14c0 1.1.9 2 2 2h14c1.1 0 2-.9 2-2V5c0-1.1-.9-2-2-2zM9 17H7v-7h2v7zm4 0h-2V7h2v10zm4 0h-2v-4h2v4z\"/>\n",
              "    </g>\n",
              "</svg>\n",
              "  </button>\n",
              "\n",
              "<style>\n",
              "  .colab-df-quickchart {\n",
              "      --bg-color: #E8F0FE;\n",
              "      --fill-color: #1967D2;\n",
              "      --hover-bg-color: #E2EBFA;\n",
              "      --hover-fill-color: #174EA6;\n",
              "      --disabled-fill-color: #AAA;\n",
              "      --disabled-bg-color: #DDD;\n",
              "  }\n",
              "\n",
              "  [theme=dark] .colab-df-quickchart {\n",
              "      --bg-color: #3B4455;\n",
              "      --fill-color: #D2E3FC;\n",
              "      --hover-bg-color: #434B5C;\n",
              "      --hover-fill-color: #FFFFFF;\n",
              "      --disabled-bg-color: #3B4455;\n",
              "      --disabled-fill-color: #666;\n",
              "  }\n",
              "\n",
              "  .colab-df-quickchart {\n",
              "    background-color: var(--bg-color);\n",
              "    border: none;\n",
              "    border-radius: 50%;\n",
              "    cursor: pointer;\n",
              "    display: none;\n",
              "    fill: var(--fill-color);\n",
              "    height: 32px;\n",
              "    padding: 0;\n",
              "    width: 32px;\n",
              "  }\n",
              "\n",
              "  .colab-df-quickchart:hover {\n",
              "    background-color: var(--hover-bg-color);\n",
              "    box-shadow: 0 1px 2px rgba(60, 64, 67, 0.3), 0 1px 3px 1px rgba(60, 64, 67, 0.15);\n",
              "    fill: var(--button-hover-fill-color);\n",
              "  }\n",
              "\n",
              "  .colab-df-quickchart-complete:disabled,\n",
              "  .colab-df-quickchart-complete:disabled:hover {\n",
              "    background-color: var(--disabled-bg-color);\n",
              "    fill: var(--disabled-fill-color);\n",
              "    box-shadow: none;\n",
              "  }\n",
              "\n",
              "  .colab-df-spinner {\n",
              "    border: 2px solid var(--fill-color);\n",
              "    border-color: transparent;\n",
              "    border-bottom-color: var(--fill-color);\n",
              "    animation:\n",
              "      spin 1s steps(1) infinite;\n",
              "  }\n",
              "\n",
              "  @keyframes spin {\n",
              "    0% {\n",
              "      border-color: transparent;\n",
              "      border-bottom-color: var(--fill-color);\n",
              "      border-left-color: var(--fill-color);\n",
              "    }\n",
              "    20% {\n",
              "      border-color: transparent;\n",
              "      border-left-color: var(--fill-color);\n",
              "      border-top-color: var(--fill-color);\n",
              "    }\n",
              "    30% {\n",
              "      border-color: transparent;\n",
              "      border-left-color: var(--fill-color);\n",
              "      border-top-color: var(--fill-color);\n",
              "      border-right-color: var(--fill-color);\n",
              "    }\n",
              "    40% {\n",
              "      border-color: transparent;\n",
              "      border-right-color: var(--fill-color);\n",
              "      border-top-color: var(--fill-color);\n",
              "    }\n",
              "    60% {\n",
              "      border-color: transparent;\n",
              "      border-right-color: var(--fill-color);\n",
              "    }\n",
              "    80% {\n",
              "      border-color: transparent;\n",
              "      border-right-color: var(--fill-color);\n",
              "      border-bottom-color: var(--fill-color);\n",
              "    }\n",
              "    90% {\n",
              "      border-color: transparent;\n",
              "      border-bottom-color: var(--fill-color);\n",
              "    }\n",
              "  }\n",
              "</style>\n",
              "\n",
              "  <script>\n",
              "    async function quickchart(key) {\n",
              "      const quickchartButtonEl =\n",
              "        document.querySelector('#' + key + ' button');\n",
              "      quickchartButtonEl.disabled = true;  // To prevent multiple clicks.\n",
              "      quickchartButtonEl.classList.add('colab-df-spinner');\n",
              "      try {\n",
              "        const charts = await google.colab.kernel.invokeFunction(\n",
              "            'suggestCharts', [key], {});\n",
              "      } catch (error) {\n",
              "        console.error('Error during call to suggestCharts:', error);\n",
              "      }\n",
              "      quickchartButtonEl.classList.remove('colab-df-spinner');\n",
              "      quickchartButtonEl.classList.add('colab-df-quickchart-complete');\n",
              "    }\n",
              "    (() => {\n",
              "      let quickchartButtonEl =\n",
              "        document.querySelector('#df-6b2c3bd2-8395-423e-8a1f-0cf8d53810a4 button');\n",
              "      quickchartButtonEl.style.display =\n",
              "        google.colab.kernel.accessAllowed ? 'block' : 'none';\n",
              "    })();\n",
              "  </script>\n",
              "</div>\n",
              "    </div>\n",
              "  </div>\n"
            ]
          },
          "metadata": {},
          "execution_count": 83
        }
      ]
    },
    {
      "cell_type": "markdown",
      "source": [
        "**Selecting Columns of 'df_DiscountType'**"
      ],
      "metadata": {
        "id": "6Ywj1aC3BvIH"
      }
    },
    {
      "cell_type": "code",
      "source": [
        "DiscountType_columns = ['id', 'name']\n",
        "\n",
        "df_DiscountType_selected = df_DiscountType[DiscountType_columns]\n",
        "\n",
        "df_DiscountType_selected.shape"
      ],
      "metadata": {
        "colab": {
          "base_uri": "https://localhost:8080/"
        },
        "id": "ODVuQl_SBoce",
        "outputId": "34702536-74c5-4e29-88db-cfe7e9008d7c"
      },
      "execution_count": 104,
      "outputs": [
        {
          "output_type": "execute_result",
          "data": {
            "text/plain": [
              "(4, 2)"
            ]
          },
          "metadata": {},
          "execution_count": 104
        }
      ]
    },
    {
      "cell_type": "code",
      "source": [
        "# Merge df_DiscountType_selected on 'discount_type' column and df_DiscountType_selected on corresponding 'id'\n",
        "df_order_details_06 = pd.merge(\n",
        "    df_order_details_05,\n",
        "    df_DiscountType_selected,\n",
        "    left_on='discount_type',\n",
        "    right_on='id',\n",
        "    how='left'\n",
        ")"
      ],
      "metadata": {
        "id": "WU0LHAmbCUDZ"
      },
      "execution_count": 105,
      "outputs": []
    },
    {
      "cell_type": "code",
      "source": [
        "df_order_details_06.columns, df_order_details_06.shape"
      ],
      "metadata": {
        "colab": {
          "base_uri": "https://localhost:8080/"
        },
        "id": "NBOPwkfRC8Ha",
        "outputId": "457e4608-ba7b-4cdd-94c6-66bcde2f953f"
      },
      "execution_count": 185,
      "outputs": [
        {
          "output_type": "execute_result",
          "data": {
            "text/plain": [
              "(Index(['odid', 'ogid', 'oddate', 'item_id', 'item_type', 'net_price', 'price',\n",
              "        'unit_price', 'units', 'vat', 'vat_percentage', 'discount_percentage',\n",
              "        'discount_amount', 'discount_type', 'payment_type', 'odcreated_at',\n",
              "        'odupdated_at', 'pos_uname', 'discount_uname', 'cancel_uname',\n",
              "        'payment_uname', 'odstatus', 'id', 'name'],\n",
              "       dtype='object'),\n",
              " (2000248, 24))"
            ]
          },
          "metadata": {},
          "execution_count": 185
        }
      ]
    },
    {
      "cell_type": "code",
      "source": [
        "# Drop the extra columns that were added during the merges\n",
        "df_order_details_06.drop(['id', 'discount_type'], axis=1, inplace=True)"
      ],
      "metadata": {
        "id": "BuPfG4ILEdnO"
      },
      "execution_count": 106,
      "outputs": []
    },
    {
      "cell_type": "code",
      "source": [
        "df_order_details_06.rename(columns={'id_x': 'id', 'name': 'discount_type'}, inplace=True)"
      ],
      "metadata": {
        "id": "R1fup8SwEkFP"
      },
      "execution_count": 107,
      "outputs": []
    },
    {
      "cell_type": "code",
      "source": [
        "df_order_details_06.columns, df_order_details_06.shape"
      ],
      "metadata": {
        "colab": {
          "base_uri": "https://localhost:8080/"
        },
        "id": "ZJEYj0NFFK2m",
        "outputId": "b2af6141-9eb3-4b62-85a5-4a2fa39b4e6e"
      },
      "execution_count": 188,
      "outputs": [
        {
          "output_type": "execute_result",
          "data": {
            "text/plain": [
              "(Index(['odid', 'ogid', 'oddate', 'item_id', 'item_type', 'net_price', 'price',\n",
              "        'unit_price', 'units', 'vat', 'vat_percentage', 'discount_percentage',\n",
              "        'discount_amount', 'payment_type', 'odcreated_at', 'odupdated_at',\n",
              "        'pos_uname', 'discount_uname', 'cancel_uname', 'payment_uname',\n",
              "        'odstatus', 'discount_type'],\n",
              "       dtype='object'),\n",
              " (2000248, 22))"
            ]
          },
          "metadata": {},
          "execution_count": 188
        }
      ]
    },
    {
      "cell_type": "code",
      "source": [
        "df_order_details_06['discount_type'].value_counts(dropna=False, ascending=True)"
      ],
      "metadata": {
        "colab": {
          "base_uri": "https://localhost:8080/"
        },
        "id": "6uVT3MQeDP-f",
        "outputId": "f40f27b6-57fa-4e1d-88a3-6c646f7fa1bc"
      },
      "execution_count": 108,
      "outputs": [
        {
          "output_type": "execute_result",
          "data": {
            "text/plain": [
              "Self Consumption          1\n",
              "Generic Discount     116872\n",
              "NaN                 1883375\n",
              "Name: discount_type, dtype: int64"
            ]
          },
          "metadata": {},
          "execution_count": 108
        }
      ]
    },
    {
      "cell_type": "markdown",
      "source": [
        "**Apply One-Hot Encoding**"
      ],
      "metadata": {
        "id": "jG3UB1DlKb-r"
      }
    },
    {
      "cell_type": "code",
      "source": [
        "df_order_details_07 = pd.get_dummies(df_order_details_06, columns=['discount_type'], dummy_na=False, drop_first=False)"
      ],
      "metadata": {
        "id": "pCom79tOHeiP"
      },
      "execution_count": 109,
      "outputs": []
    },
    {
      "cell_type": "code",
      "source": [
        "df_order_details_08 = pd.get_dummies(df_order_details_07, columns=['odstatus'], dummy_na=False, drop_first=False)"
      ],
      "metadata": {
        "id": "cnJLgpzZS2HP"
      },
      "execution_count": 110,
      "outputs": []
    },
    {
      "cell_type": "code",
      "source": [
        "df_order_details_08.columns, df_order_details_08.shape"
      ],
      "metadata": {
        "colab": {
          "base_uri": "https://localhost:8080/"
        },
        "id": "RRxt_LzfKm0J",
        "outputId": "27472c8a-57ac-496c-93ca-8c6930fc7b5a"
      },
      "execution_count": 111,
      "outputs": [
        {
          "output_type": "execute_result",
          "data": {
            "text/plain": [
              "(Index(['odid', 'ogid', 'oddate', 'item_id', 'item_type', 'net_price', 'price',\n",
              "        'unit_price', 'units', 'vat', 'vat_percentage', 'discount_percentage',\n",
              "        'discount_amount', 'payment_type', 'odcreated_at', 'odupdated_at',\n",
              "        'pos_uname_missing', 'pos_uname', 'discount_uname', 'cancel_uname',\n",
              "        'payment_uname', 'discount_uname_missing', 'cancel_uname_missing',\n",
              "        'payment_uname_missing', 'discount_type_Generic Discount',\n",
              "        'discount_type_Self Consumption', 'odstatus_Open', 'odstatus_Paid',\n",
              "        'odstatus_Partially Printed', 'odstatus_Printed Cancelled',\n",
              "        'odstatus_Printed Open', 'odstatus_Unpaid'],\n",
              "       dtype='object'),\n",
              " (2000248, 32))"
            ]
          },
          "metadata": {},
          "execution_count": 111
        }
      ]
    },
    {
      "cell_type": "code",
      "source": [
        "df_order_details_08.rename(columns={'discount_type_Generic Discount': 'generic_discount',\n",
        "                                    'discount_type_Self Consumption': 'self_consumption_discount',\n",
        "                                    'odstatus_Open': 'odstatus_open',\n",
        "                                    'odstatus_Paid': 'odstatus_paid',\n",
        "                                    'odstatus_Partially Printed': 'odstatus_partially_printed',\n",
        "                                    'odstatus_Printed Cancelled': 'odstatus_printed_cancelled',\n",
        "                                    'odstatus_Printed Open': 'odstatus_printed_open'\n",
        "                                    }, inplace=True)"
      ],
      "metadata": {
        "id": "VZ-TMOQ6LW3K"
      },
      "execution_count": 112,
      "outputs": []
    },
    {
      "cell_type": "code",
      "source": [
        "df_order_details_08.columns, df_order_details_08.shape"
      ],
      "metadata": {
        "colab": {
          "base_uri": "https://localhost:8080/"
        },
        "id": "i3WktSMTMUih",
        "outputId": "78dccc98-55ab-4846-f5d5-dd1b2fe58da3"
      },
      "execution_count": 113,
      "outputs": [
        {
          "output_type": "execute_result",
          "data": {
            "text/plain": [
              "(Index(['odid', 'ogid', 'oddate', 'item_id', 'item_type', 'net_price', 'price',\n",
              "        'unit_price', 'units', 'vat', 'vat_percentage', 'discount_percentage',\n",
              "        'discount_amount', 'payment_type', 'odcreated_at', 'odupdated_at',\n",
              "        'pos_uname_missing', 'pos_uname', 'discount_uname', 'cancel_uname',\n",
              "        'payment_uname', 'discount_uname_missing', 'cancel_uname_missing',\n",
              "        'payment_uname_missing', 'generic_discount',\n",
              "        'self_consumption_discount', 'odstatus_open', 'odstatus_paid',\n",
              "        'odstatus_partially_printed', 'odstatus_printed_cancelled',\n",
              "        'odstatus_printed_open', 'odstatus_Unpaid'],\n",
              "       dtype='object'),\n",
              " (2000248, 32))"
            ]
          },
          "metadata": {},
          "execution_count": 113
        }
      ]
    },
    {
      "cell_type": "code",
      "source": [
        "df_order_details_08.isnull().sum()"
      ],
      "metadata": {
        "colab": {
          "base_uri": "https://localhost:8080/"
        },
        "id": "wCxMVmvhDZ8d",
        "outputId": "cf481fcc-cedc-40f9-debd-e05ad56d17de"
      },
      "execution_count": 195,
      "outputs": [
        {
          "output_type": "execute_result",
          "data": {
            "text/plain": [
              "odid                          0\n",
              "ogid                          0\n",
              "oddate                        0\n",
              "item_id                       0\n",
              "item_type                     0\n",
              "net_price                     0\n",
              "price                         0\n",
              "unit_price                    0\n",
              "units                         0\n",
              "vat                           0\n",
              "vat_percentage                0\n",
              "discount_percentage           0\n",
              "discount_amount               0\n",
              "payment_type                  0\n",
              "odcreated_at                  0\n",
              "odupdated_at                  0\n",
              "pos_uname                     0\n",
              "discount_uname                0\n",
              "cancel_uname                  0\n",
              "payment_uname                 0\n",
              "generic_discount              0\n",
              "self_consumption_discount     0\n",
              "odstatus_open                 0\n",
              "odstatus_paid                 0\n",
              "odstatus_partially_printed    0\n",
              "odstatus_printed_cancelled    0\n",
              "odstatus_printed_open         0\n",
              "odstatus_Unpaid               0\n",
              "dtype: int64"
            ]
          },
          "metadata": {},
          "execution_count": 195
        }
      ]
    },
    {
      "cell_type": "code",
      "source": [
        "df_order_details_08.head()"
      ],
      "metadata": {
        "colab": {
          "base_uri": "https://localhost:8080/",
          "height": 0
        },
        "id": "U7eAgWPHDAzp",
        "outputId": "75a9b7ca-bda7-4bce-8fae-f843020f65fc"
      },
      "execution_count": 196,
      "outputs": [
        {
          "output_type": "execute_result",
          "data": {
            "text/plain": [
              "                                   odid                                  ogid  \\\n",
              "0  ab394826-12b7-4332-bc51-9edbf3af1ec4  893b7f11-84d9-4b52-896b-4134baf664ba   \n",
              "1  1039e874-31d3-40b4-ab46-6170b007c33d  893b7f11-84d9-4b52-896b-4134baf664ba   \n",
              "2  581f9581-6ec1-4f8f-8dde-6338e4f5f998  ec3629f1-d1e8-4a07-bf4a-066a90f42b2e   \n",
              "3  ee88b30c-5531-4300-a099-401240037a82  ec3629f1-d1e8-4a07-bf4a-066a90f42b2e   \n",
              "4  554c52b3-1251-4371-8549-f9ef93c19fa9  ec3629f1-d1e8-4a07-bf4a-066a90f42b2e   \n",
              "\n",
              "                oddate  item_id  item_type  net_price  price  unit_price  \\\n",
              "0  2017-08-01 08:12:36       12          1       3.23    4.0         4.0   \n",
              "1  2017-08-01 08:12:36       53          2       0.00    0.0         0.0   \n",
              "2  2017-08-01 08:19:50       12          1       3.23    4.0         4.0   \n",
              "3  2017-08-01 08:19:50       55          2       0.00    0.0         0.0   \n",
              "4  2017-08-01 08:19:50       12          1       3.23    4.0         4.0   \n",
              "\n",
              "   units   vat  ...  cancel_uname  payment_uname  generic_discount  \\\n",
              "0      1  0.77  ...       Unknown        Unknown                 0   \n",
              "1      1  0.00  ...       Unknown        Unknown                 0   \n",
              "2      1  0.77  ...       Unknown        Unknown                 0   \n",
              "3      1  0.00  ...       Unknown        Unknown                 0   \n",
              "4      1  0.77  ...       Unknown        Unknown                 0   \n",
              "\n",
              "   self_consumption_discount odstatus_open odstatus_paid  \\\n",
              "0                          0             0             1   \n",
              "1                          0             0             1   \n",
              "2                          0             0             1   \n",
              "3                          0             0             1   \n",
              "4                          0             0             1   \n",
              "\n",
              "  odstatus_partially_printed odstatus_printed_cancelled odstatus_printed_open  \\\n",
              "0                          0                          0                     0   \n",
              "1                          0                          0                     0   \n",
              "2                          0                          0                     0   \n",
              "3                          0                          0                     0   \n",
              "4                          0                          0                     0   \n",
              "\n",
              "  odstatus_Unpaid  \n",
              "0               0  \n",
              "1               0  \n",
              "2               0  \n",
              "3               0  \n",
              "4               0  \n",
              "\n",
              "[5 rows x 28 columns]"
            ],
            "text/html": [
              "\n",
              "  <div id=\"df-747498c8-e5e4-41c4-9c4c-6f5345c321ab\" class=\"colab-df-container\">\n",
              "    <div>\n",
              "<style scoped>\n",
              "    .dataframe tbody tr th:only-of-type {\n",
              "        vertical-align: middle;\n",
              "    }\n",
              "\n",
              "    .dataframe tbody tr th {\n",
              "        vertical-align: top;\n",
              "    }\n",
              "\n",
              "    .dataframe thead th {\n",
              "        text-align: right;\n",
              "    }\n",
              "</style>\n",
              "<table border=\"1\" class=\"dataframe\">\n",
              "  <thead>\n",
              "    <tr style=\"text-align: right;\">\n",
              "      <th></th>\n",
              "      <th>odid</th>\n",
              "      <th>ogid</th>\n",
              "      <th>oddate</th>\n",
              "      <th>item_id</th>\n",
              "      <th>item_type</th>\n",
              "      <th>net_price</th>\n",
              "      <th>price</th>\n",
              "      <th>unit_price</th>\n",
              "      <th>units</th>\n",
              "      <th>vat</th>\n",
              "      <th>...</th>\n",
              "      <th>cancel_uname</th>\n",
              "      <th>payment_uname</th>\n",
              "      <th>generic_discount</th>\n",
              "      <th>self_consumption_discount</th>\n",
              "      <th>odstatus_open</th>\n",
              "      <th>odstatus_paid</th>\n",
              "      <th>odstatus_partially_printed</th>\n",
              "      <th>odstatus_printed_cancelled</th>\n",
              "      <th>odstatus_printed_open</th>\n",
              "      <th>odstatus_Unpaid</th>\n",
              "    </tr>\n",
              "  </thead>\n",
              "  <tbody>\n",
              "    <tr>\n",
              "      <th>0</th>\n",
              "      <td>ab394826-12b7-4332-bc51-9edbf3af1ec4</td>\n",
              "      <td>893b7f11-84d9-4b52-896b-4134baf664ba</td>\n",
              "      <td>2017-08-01 08:12:36</td>\n",
              "      <td>12</td>\n",
              "      <td>1</td>\n",
              "      <td>3.23</td>\n",
              "      <td>4.0</td>\n",
              "      <td>4.0</td>\n",
              "      <td>1</td>\n",
              "      <td>0.77</td>\n",
              "      <td>...</td>\n",
              "      <td>Unknown</td>\n",
              "      <td>Unknown</td>\n",
              "      <td>0</td>\n",
              "      <td>0</td>\n",
              "      <td>0</td>\n",
              "      <td>1</td>\n",
              "      <td>0</td>\n",
              "      <td>0</td>\n",
              "      <td>0</td>\n",
              "      <td>0</td>\n",
              "    </tr>\n",
              "    <tr>\n",
              "      <th>1</th>\n",
              "      <td>1039e874-31d3-40b4-ab46-6170b007c33d</td>\n",
              "      <td>893b7f11-84d9-4b52-896b-4134baf664ba</td>\n",
              "      <td>2017-08-01 08:12:36</td>\n",
              "      <td>53</td>\n",
              "      <td>2</td>\n",
              "      <td>0.00</td>\n",
              "      <td>0.0</td>\n",
              "      <td>0.0</td>\n",
              "      <td>1</td>\n",
              "      <td>0.00</td>\n",
              "      <td>...</td>\n",
              "      <td>Unknown</td>\n",
              "      <td>Unknown</td>\n",
              "      <td>0</td>\n",
              "      <td>0</td>\n",
              "      <td>0</td>\n",
              "      <td>1</td>\n",
              "      <td>0</td>\n",
              "      <td>0</td>\n",
              "      <td>0</td>\n",
              "      <td>0</td>\n",
              "    </tr>\n",
              "    <tr>\n",
              "      <th>2</th>\n",
              "      <td>581f9581-6ec1-4f8f-8dde-6338e4f5f998</td>\n",
              "      <td>ec3629f1-d1e8-4a07-bf4a-066a90f42b2e</td>\n",
              "      <td>2017-08-01 08:19:50</td>\n",
              "      <td>12</td>\n",
              "      <td>1</td>\n",
              "      <td>3.23</td>\n",
              "      <td>4.0</td>\n",
              "      <td>4.0</td>\n",
              "      <td>1</td>\n",
              "      <td>0.77</td>\n",
              "      <td>...</td>\n",
              "      <td>Unknown</td>\n",
              "      <td>Unknown</td>\n",
              "      <td>0</td>\n",
              "      <td>0</td>\n",
              "      <td>0</td>\n",
              "      <td>1</td>\n",
              "      <td>0</td>\n",
              "      <td>0</td>\n",
              "      <td>0</td>\n",
              "      <td>0</td>\n",
              "    </tr>\n",
              "    <tr>\n",
              "      <th>3</th>\n",
              "      <td>ee88b30c-5531-4300-a099-401240037a82</td>\n",
              "      <td>ec3629f1-d1e8-4a07-bf4a-066a90f42b2e</td>\n",
              "      <td>2017-08-01 08:19:50</td>\n",
              "      <td>55</td>\n",
              "      <td>2</td>\n",
              "      <td>0.00</td>\n",
              "      <td>0.0</td>\n",
              "      <td>0.0</td>\n",
              "      <td>1</td>\n",
              "      <td>0.00</td>\n",
              "      <td>...</td>\n",
              "      <td>Unknown</td>\n",
              "      <td>Unknown</td>\n",
              "      <td>0</td>\n",
              "      <td>0</td>\n",
              "      <td>0</td>\n",
              "      <td>1</td>\n",
              "      <td>0</td>\n",
              "      <td>0</td>\n",
              "      <td>0</td>\n",
              "      <td>0</td>\n",
              "    </tr>\n",
              "    <tr>\n",
              "      <th>4</th>\n",
              "      <td>554c52b3-1251-4371-8549-f9ef93c19fa9</td>\n",
              "      <td>ec3629f1-d1e8-4a07-bf4a-066a90f42b2e</td>\n",
              "      <td>2017-08-01 08:19:50</td>\n",
              "      <td>12</td>\n",
              "      <td>1</td>\n",
              "      <td>3.23</td>\n",
              "      <td>4.0</td>\n",
              "      <td>4.0</td>\n",
              "      <td>1</td>\n",
              "      <td>0.77</td>\n",
              "      <td>...</td>\n",
              "      <td>Unknown</td>\n",
              "      <td>Unknown</td>\n",
              "      <td>0</td>\n",
              "      <td>0</td>\n",
              "      <td>0</td>\n",
              "      <td>1</td>\n",
              "      <td>0</td>\n",
              "      <td>0</td>\n",
              "      <td>0</td>\n",
              "      <td>0</td>\n",
              "    </tr>\n",
              "  </tbody>\n",
              "</table>\n",
              "<p>5 rows × 28 columns</p>\n",
              "</div>\n",
              "    <div class=\"colab-df-buttons\">\n",
              "\n",
              "  <div class=\"colab-df-container\">\n",
              "    <button class=\"colab-df-convert\" onclick=\"convertToInteractive('df-747498c8-e5e4-41c4-9c4c-6f5345c321ab')\"\n",
              "            title=\"Convert this dataframe to an interactive table.\"\n",
              "            style=\"display:none;\">\n",
              "\n",
              "  <svg xmlns=\"http://www.w3.org/2000/svg\" height=\"24px\" viewBox=\"0 -960 960 960\">\n",
              "    <path d=\"M120-120v-720h720v720H120Zm60-500h600v-160H180v160Zm220 220h160v-160H400v160Zm0 220h160v-160H400v160ZM180-400h160v-160H180v160Zm440 0h160v-160H620v160ZM180-180h160v-160H180v160Zm440 0h160v-160H620v160Z\"/>\n",
              "  </svg>\n",
              "    </button>\n",
              "\n",
              "  <style>\n",
              "    .colab-df-container {\n",
              "      display:flex;\n",
              "      gap: 12px;\n",
              "    }\n",
              "\n",
              "    .colab-df-convert {\n",
              "      background-color: #E8F0FE;\n",
              "      border: none;\n",
              "      border-radius: 50%;\n",
              "      cursor: pointer;\n",
              "      display: none;\n",
              "      fill: #1967D2;\n",
              "      height: 32px;\n",
              "      padding: 0 0 0 0;\n",
              "      width: 32px;\n",
              "    }\n",
              "\n",
              "    .colab-df-convert:hover {\n",
              "      background-color: #E2EBFA;\n",
              "      box-shadow: 0px 1px 2px rgba(60, 64, 67, 0.3), 0px 1px 3px 1px rgba(60, 64, 67, 0.15);\n",
              "      fill: #174EA6;\n",
              "    }\n",
              "\n",
              "    .colab-df-buttons div {\n",
              "      margin-bottom: 4px;\n",
              "    }\n",
              "\n",
              "    [theme=dark] .colab-df-convert {\n",
              "      background-color: #3B4455;\n",
              "      fill: #D2E3FC;\n",
              "    }\n",
              "\n",
              "    [theme=dark] .colab-df-convert:hover {\n",
              "      background-color: #434B5C;\n",
              "      box-shadow: 0px 1px 3px 1px rgba(0, 0, 0, 0.15);\n",
              "      filter: drop-shadow(0px 1px 2px rgba(0, 0, 0, 0.3));\n",
              "      fill: #FFFFFF;\n",
              "    }\n",
              "  </style>\n",
              "\n",
              "    <script>\n",
              "      const buttonEl =\n",
              "        document.querySelector('#df-747498c8-e5e4-41c4-9c4c-6f5345c321ab button.colab-df-convert');\n",
              "      buttonEl.style.display =\n",
              "        google.colab.kernel.accessAllowed ? 'block' : 'none';\n",
              "\n",
              "      async function convertToInteractive(key) {\n",
              "        const element = document.querySelector('#df-747498c8-e5e4-41c4-9c4c-6f5345c321ab');\n",
              "        const dataTable =\n",
              "          await google.colab.kernel.invokeFunction('convertToInteractive',\n",
              "                                                    [key], {});\n",
              "        if (!dataTable) return;\n",
              "\n",
              "        const docLinkHtml = 'Like what you see? Visit the ' +\n",
              "          '<a target=\"_blank\" href=https://colab.research.google.com/notebooks/data_table.ipynb>data table notebook</a>'\n",
              "          + ' to learn more about interactive tables.';\n",
              "        element.innerHTML = '';\n",
              "        dataTable['output_type'] = 'display_data';\n",
              "        await google.colab.output.renderOutput(dataTable, element);\n",
              "        const docLink = document.createElement('div');\n",
              "        docLink.innerHTML = docLinkHtml;\n",
              "        element.appendChild(docLink);\n",
              "      }\n",
              "    </script>\n",
              "  </div>\n",
              "\n",
              "\n",
              "<div id=\"df-c089a914-ce70-43ec-9779-45d5e8e2fe8c\">\n",
              "  <button class=\"colab-df-quickchart\" onclick=\"quickchart('df-c089a914-ce70-43ec-9779-45d5e8e2fe8c')\"\n",
              "            title=\"Suggest charts\"\n",
              "            style=\"display:none;\">\n",
              "\n",
              "<svg xmlns=\"http://www.w3.org/2000/svg\" height=\"24px\"viewBox=\"0 0 24 24\"\n",
              "     width=\"24px\">\n",
              "    <g>\n",
              "        <path d=\"M19 3H5c-1.1 0-2 .9-2 2v14c0 1.1.9 2 2 2h14c1.1 0 2-.9 2-2V5c0-1.1-.9-2-2-2zM9 17H7v-7h2v7zm4 0h-2V7h2v10zm4 0h-2v-4h2v4z\"/>\n",
              "    </g>\n",
              "</svg>\n",
              "  </button>\n",
              "\n",
              "<style>\n",
              "  .colab-df-quickchart {\n",
              "      --bg-color: #E8F0FE;\n",
              "      --fill-color: #1967D2;\n",
              "      --hover-bg-color: #E2EBFA;\n",
              "      --hover-fill-color: #174EA6;\n",
              "      --disabled-fill-color: #AAA;\n",
              "      --disabled-bg-color: #DDD;\n",
              "  }\n",
              "\n",
              "  [theme=dark] .colab-df-quickchart {\n",
              "      --bg-color: #3B4455;\n",
              "      --fill-color: #D2E3FC;\n",
              "      --hover-bg-color: #434B5C;\n",
              "      --hover-fill-color: #FFFFFF;\n",
              "      --disabled-bg-color: #3B4455;\n",
              "      --disabled-fill-color: #666;\n",
              "  }\n",
              "\n",
              "  .colab-df-quickchart {\n",
              "    background-color: var(--bg-color);\n",
              "    border: none;\n",
              "    border-radius: 50%;\n",
              "    cursor: pointer;\n",
              "    display: none;\n",
              "    fill: var(--fill-color);\n",
              "    height: 32px;\n",
              "    padding: 0;\n",
              "    width: 32px;\n",
              "  }\n",
              "\n",
              "  .colab-df-quickchart:hover {\n",
              "    background-color: var(--hover-bg-color);\n",
              "    box-shadow: 0 1px 2px rgba(60, 64, 67, 0.3), 0 1px 3px 1px rgba(60, 64, 67, 0.15);\n",
              "    fill: var(--button-hover-fill-color);\n",
              "  }\n",
              "\n",
              "  .colab-df-quickchart-complete:disabled,\n",
              "  .colab-df-quickchart-complete:disabled:hover {\n",
              "    background-color: var(--disabled-bg-color);\n",
              "    fill: var(--disabled-fill-color);\n",
              "    box-shadow: none;\n",
              "  }\n",
              "\n",
              "  .colab-df-spinner {\n",
              "    border: 2px solid var(--fill-color);\n",
              "    border-color: transparent;\n",
              "    border-bottom-color: var(--fill-color);\n",
              "    animation:\n",
              "      spin 1s steps(1) infinite;\n",
              "  }\n",
              "\n",
              "  @keyframes spin {\n",
              "    0% {\n",
              "      border-color: transparent;\n",
              "      border-bottom-color: var(--fill-color);\n",
              "      border-left-color: var(--fill-color);\n",
              "    }\n",
              "    20% {\n",
              "      border-color: transparent;\n",
              "      border-left-color: var(--fill-color);\n",
              "      border-top-color: var(--fill-color);\n",
              "    }\n",
              "    30% {\n",
              "      border-color: transparent;\n",
              "      border-left-color: var(--fill-color);\n",
              "      border-top-color: var(--fill-color);\n",
              "      border-right-color: var(--fill-color);\n",
              "    }\n",
              "    40% {\n",
              "      border-color: transparent;\n",
              "      border-right-color: var(--fill-color);\n",
              "      border-top-color: var(--fill-color);\n",
              "    }\n",
              "    60% {\n",
              "      border-color: transparent;\n",
              "      border-right-color: var(--fill-color);\n",
              "    }\n",
              "    80% {\n",
              "      border-color: transparent;\n",
              "      border-right-color: var(--fill-color);\n",
              "      border-bottom-color: var(--fill-color);\n",
              "    }\n",
              "    90% {\n",
              "      border-color: transparent;\n",
              "      border-bottom-color: var(--fill-color);\n",
              "    }\n",
              "  }\n",
              "</style>\n",
              "\n",
              "  <script>\n",
              "    async function quickchart(key) {\n",
              "      const quickchartButtonEl =\n",
              "        document.querySelector('#' + key + ' button');\n",
              "      quickchartButtonEl.disabled = true;  // To prevent multiple clicks.\n",
              "      quickchartButtonEl.classList.add('colab-df-spinner');\n",
              "      try {\n",
              "        const charts = await google.colab.kernel.invokeFunction(\n",
              "            'suggestCharts', [key], {});\n",
              "      } catch (error) {\n",
              "        console.error('Error during call to suggestCharts:', error);\n",
              "      }\n",
              "      quickchartButtonEl.classList.remove('colab-df-spinner');\n",
              "      quickchartButtonEl.classList.add('colab-df-quickchart-complete');\n",
              "    }\n",
              "    (() => {\n",
              "      let quickchartButtonEl =\n",
              "        document.querySelector('#df-c089a914-ce70-43ec-9779-45d5e8e2fe8c button');\n",
              "      quickchartButtonEl.style.display =\n",
              "        google.colab.kernel.accessAllowed ? 'block' : 'none';\n",
              "    })();\n",
              "  </script>\n",
              "</div>\n",
              "    </div>\n",
              "  </div>\n"
            ]
          },
          "metadata": {},
          "execution_count": 196
        }
      ]
    },
    {
      "cell_type": "code",
      "source": [
        "# save df_order_details_08 as csv file:\n",
        "df_order_details_08.to_csv('/content/drive/MyDrive/df_order_details_08.csv', index=False)"
      ],
      "metadata": {
        "id": "BS3qSDqlVa0N"
      },
      "execution_count": 114,
      "outputs": []
    },
    {
      "cell_type": "markdown",
      "source": [
        "# Merge DataFrames (df_order_details_08, df_product)"
      ],
      "metadata": {
        "id": "vwmD7sb0xXCz"
      }
    },
    {
      "cell_type": "markdown",
      "source": [
        "# Access df Product"
      ],
      "metadata": {
        "id": "IhHRkPAChNPP"
      }
    },
    {
      "cell_type": "code",
      "source": [
        "import pandas as pd"
      ],
      "metadata": {
        "id": "ts7IuIExyHnC"
      },
      "execution_count": 115,
      "outputs": []
    },
    {
      "cell_type": "code",
      "source": [
        "df_order_details_08 = pd.read_csv('/content/drive/MyDrive/df_order_details_08.csv')"
      ],
      "metadata": {
        "id": "O4-g34qpxwgN"
      },
      "execution_count": 6,
      "outputs": []
    },
    {
      "cell_type": "code",
      "source": [
        "df_order_details_08.columns, df_order_details_08.shape"
      ],
      "metadata": {
        "id": "M9znlR0jW5KP"
      },
      "execution_count": null,
      "outputs": []
    },
    {
      "cell_type": "markdown",
      "source": [],
      "metadata": {
        "id": "b4rPCegSAx5M"
      }
    },
    {
      "cell_type": "code",
      "source": [
        "df_order_details_08.head()"
      ],
      "metadata": {
        "colab": {
          "base_uri": "https://localhost:8080/",
          "height": 0
        },
        "id": "G_h2sMhXlHXf",
        "outputId": "8fc3e671-fad1-4103-a7a9-26bf025e9ce1"
      },
      "execution_count": 147,
      "outputs": [
        {
          "output_type": "execute_result",
          "data": {
            "text/plain": [
              "                                     id                                  ogid  \\\n",
              "0  ab394826-12b7-4332-bc51-9edbf3af1ec4  893b7f11-84d9-4b52-896b-4134baf664ba   \n",
              "1  1039e874-31d3-40b4-ab46-6170b007c33d  893b7f11-84d9-4b52-896b-4134baf664ba   \n",
              "2  581f9581-6ec1-4f8f-8dde-6338e4f5f998  ec3629f1-d1e8-4a07-bf4a-066a90f42b2e   \n",
              "3  ee88b30c-5531-4300-a099-401240037a82  ec3629f1-d1e8-4a07-bf4a-066a90f42b2e   \n",
              "4  554c52b3-1251-4371-8549-f9ef93c19fa9  ec3629f1-d1e8-4a07-bf4a-066a90f42b2e   \n",
              "\n",
              "                oddate  item_id  item_type  net_price  price  unit_price  \\\n",
              "0  2017-08-01 08:12:36       12          1       3.23    4.0         4.0   \n",
              "1  2017-08-01 08:12:36       53          2       0.00    0.0         0.0   \n",
              "2  2017-08-01 08:19:50       12          1       3.23    4.0         4.0   \n",
              "3  2017-08-01 08:19:50       55          2       0.00    0.0         0.0   \n",
              "4  2017-08-01 08:19:50       12          1       3.23    4.0         4.0   \n",
              "\n",
              "   units   vat  ...  cancel_uname  payment_uname  generic_discount  \\\n",
              "0      1  0.77  ...       Unknown        Unknown                 0   \n",
              "1      1  0.00  ...       Unknown        Unknown                 0   \n",
              "2      1  0.77  ...       Unknown        Unknown                 0   \n",
              "3      1  0.00  ...       Unknown        Unknown                 0   \n",
              "4      1  0.77  ...       Unknown        Unknown                 0   \n",
              "\n",
              "   Self_consumption_discount odstatus_Open odstatus_Paid  \\\n",
              "0                          0             0             1   \n",
              "1                          0             0             1   \n",
              "2                          0             0             1   \n",
              "3                          0             0             1   \n",
              "4                          0             0             1   \n",
              "\n",
              "  odstatus_Partially_Printed odstatus_Printed_Cancelled odstatus_Printed_Open  \\\n",
              "0                          0                          0                     0   \n",
              "1                          0                          0                     0   \n",
              "2                          0                          0                     0   \n",
              "3                          0                          0                     0   \n",
              "4                          0                          0                     0   \n",
              "\n",
              "  odstatus_Unpaid  \n",
              "0               0  \n",
              "1               0  \n",
              "2               0  \n",
              "3               0  \n",
              "4               0  \n",
              "\n",
              "[5 rows x 28 columns]"
            ],
            "text/html": [
              "\n",
              "  <div id=\"df-1bfb4820-33c0-4aa6-a2fa-50c3840dcedd\" class=\"colab-df-container\">\n",
              "    <div>\n",
              "<style scoped>\n",
              "    .dataframe tbody tr th:only-of-type {\n",
              "        vertical-align: middle;\n",
              "    }\n",
              "\n",
              "    .dataframe tbody tr th {\n",
              "        vertical-align: top;\n",
              "    }\n",
              "\n",
              "    .dataframe thead th {\n",
              "        text-align: right;\n",
              "    }\n",
              "</style>\n",
              "<table border=\"1\" class=\"dataframe\">\n",
              "  <thead>\n",
              "    <tr style=\"text-align: right;\">\n",
              "      <th></th>\n",
              "      <th>id</th>\n",
              "      <th>ogid</th>\n",
              "      <th>oddate</th>\n",
              "      <th>item_id</th>\n",
              "      <th>item_type</th>\n",
              "      <th>net_price</th>\n",
              "      <th>price</th>\n",
              "      <th>unit_price</th>\n",
              "      <th>units</th>\n",
              "      <th>vat</th>\n",
              "      <th>...</th>\n",
              "      <th>cancel_uname</th>\n",
              "      <th>payment_uname</th>\n",
              "      <th>generic_discount</th>\n",
              "      <th>Self_consumption_discount</th>\n",
              "      <th>odstatus_Open</th>\n",
              "      <th>odstatus_Paid</th>\n",
              "      <th>odstatus_Partially_Printed</th>\n",
              "      <th>odstatus_Printed_Cancelled</th>\n",
              "      <th>odstatus_Printed_Open</th>\n",
              "      <th>odstatus_Unpaid</th>\n",
              "    </tr>\n",
              "  </thead>\n",
              "  <tbody>\n",
              "    <tr>\n",
              "      <th>0</th>\n",
              "      <td>ab394826-12b7-4332-bc51-9edbf3af1ec4</td>\n",
              "      <td>893b7f11-84d9-4b52-896b-4134baf664ba</td>\n",
              "      <td>2017-08-01 08:12:36</td>\n",
              "      <td>12</td>\n",
              "      <td>1</td>\n",
              "      <td>3.23</td>\n",
              "      <td>4.0</td>\n",
              "      <td>4.0</td>\n",
              "      <td>1</td>\n",
              "      <td>0.77</td>\n",
              "      <td>...</td>\n",
              "      <td>Unknown</td>\n",
              "      <td>Unknown</td>\n",
              "      <td>0</td>\n",
              "      <td>0</td>\n",
              "      <td>0</td>\n",
              "      <td>1</td>\n",
              "      <td>0</td>\n",
              "      <td>0</td>\n",
              "      <td>0</td>\n",
              "      <td>0</td>\n",
              "    </tr>\n",
              "    <tr>\n",
              "      <th>1</th>\n",
              "      <td>1039e874-31d3-40b4-ab46-6170b007c33d</td>\n",
              "      <td>893b7f11-84d9-4b52-896b-4134baf664ba</td>\n",
              "      <td>2017-08-01 08:12:36</td>\n",
              "      <td>53</td>\n",
              "      <td>2</td>\n",
              "      <td>0.00</td>\n",
              "      <td>0.0</td>\n",
              "      <td>0.0</td>\n",
              "      <td>1</td>\n",
              "      <td>0.00</td>\n",
              "      <td>...</td>\n",
              "      <td>Unknown</td>\n",
              "      <td>Unknown</td>\n",
              "      <td>0</td>\n",
              "      <td>0</td>\n",
              "      <td>0</td>\n",
              "      <td>1</td>\n",
              "      <td>0</td>\n",
              "      <td>0</td>\n",
              "      <td>0</td>\n",
              "      <td>0</td>\n",
              "    </tr>\n",
              "    <tr>\n",
              "      <th>2</th>\n",
              "      <td>581f9581-6ec1-4f8f-8dde-6338e4f5f998</td>\n",
              "      <td>ec3629f1-d1e8-4a07-bf4a-066a90f42b2e</td>\n",
              "      <td>2017-08-01 08:19:50</td>\n",
              "      <td>12</td>\n",
              "      <td>1</td>\n",
              "      <td>3.23</td>\n",
              "      <td>4.0</td>\n",
              "      <td>4.0</td>\n",
              "      <td>1</td>\n",
              "      <td>0.77</td>\n",
              "      <td>...</td>\n",
              "      <td>Unknown</td>\n",
              "      <td>Unknown</td>\n",
              "      <td>0</td>\n",
              "      <td>0</td>\n",
              "      <td>0</td>\n",
              "      <td>1</td>\n",
              "      <td>0</td>\n",
              "      <td>0</td>\n",
              "      <td>0</td>\n",
              "      <td>0</td>\n",
              "    </tr>\n",
              "    <tr>\n",
              "      <th>3</th>\n",
              "      <td>ee88b30c-5531-4300-a099-401240037a82</td>\n",
              "      <td>ec3629f1-d1e8-4a07-bf4a-066a90f42b2e</td>\n",
              "      <td>2017-08-01 08:19:50</td>\n",
              "      <td>55</td>\n",
              "      <td>2</td>\n",
              "      <td>0.00</td>\n",
              "      <td>0.0</td>\n",
              "      <td>0.0</td>\n",
              "      <td>1</td>\n",
              "      <td>0.00</td>\n",
              "      <td>...</td>\n",
              "      <td>Unknown</td>\n",
              "      <td>Unknown</td>\n",
              "      <td>0</td>\n",
              "      <td>0</td>\n",
              "      <td>0</td>\n",
              "      <td>1</td>\n",
              "      <td>0</td>\n",
              "      <td>0</td>\n",
              "      <td>0</td>\n",
              "      <td>0</td>\n",
              "    </tr>\n",
              "    <tr>\n",
              "      <th>4</th>\n",
              "      <td>554c52b3-1251-4371-8549-f9ef93c19fa9</td>\n",
              "      <td>ec3629f1-d1e8-4a07-bf4a-066a90f42b2e</td>\n",
              "      <td>2017-08-01 08:19:50</td>\n",
              "      <td>12</td>\n",
              "      <td>1</td>\n",
              "      <td>3.23</td>\n",
              "      <td>4.0</td>\n",
              "      <td>4.0</td>\n",
              "      <td>1</td>\n",
              "      <td>0.77</td>\n",
              "      <td>...</td>\n",
              "      <td>Unknown</td>\n",
              "      <td>Unknown</td>\n",
              "      <td>0</td>\n",
              "      <td>0</td>\n",
              "      <td>0</td>\n",
              "      <td>1</td>\n",
              "      <td>0</td>\n",
              "      <td>0</td>\n",
              "      <td>0</td>\n",
              "      <td>0</td>\n",
              "    </tr>\n",
              "  </tbody>\n",
              "</table>\n",
              "<p>5 rows × 28 columns</p>\n",
              "</div>\n",
              "    <div class=\"colab-df-buttons\">\n",
              "\n",
              "  <div class=\"colab-df-container\">\n",
              "    <button class=\"colab-df-convert\" onclick=\"convertToInteractive('df-1bfb4820-33c0-4aa6-a2fa-50c3840dcedd')\"\n",
              "            title=\"Convert this dataframe to an interactive table.\"\n",
              "            style=\"display:none;\">\n",
              "\n",
              "  <svg xmlns=\"http://www.w3.org/2000/svg\" height=\"24px\" viewBox=\"0 -960 960 960\">\n",
              "    <path d=\"M120-120v-720h720v720H120Zm60-500h600v-160H180v160Zm220 220h160v-160H400v160Zm0 220h160v-160H400v160ZM180-400h160v-160H180v160Zm440 0h160v-160H620v160ZM180-180h160v-160H180v160Zm440 0h160v-160H620v160Z\"/>\n",
              "  </svg>\n",
              "    </button>\n",
              "\n",
              "  <style>\n",
              "    .colab-df-container {\n",
              "      display:flex;\n",
              "      gap: 12px;\n",
              "    }\n",
              "\n",
              "    .colab-df-convert {\n",
              "      background-color: #E8F0FE;\n",
              "      border: none;\n",
              "      border-radius: 50%;\n",
              "      cursor: pointer;\n",
              "      display: none;\n",
              "      fill: #1967D2;\n",
              "      height: 32px;\n",
              "      padding: 0 0 0 0;\n",
              "      width: 32px;\n",
              "    }\n",
              "\n",
              "    .colab-df-convert:hover {\n",
              "      background-color: #E2EBFA;\n",
              "      box-shadow: 0px 1px 2px rgba(60, 64, 67, 0.3), 0px 1px 3px 1px rgba(60, 64, 67, 0.15);\n",
              "      fill: #174EA6;\n",
              "    }\n",
              "\n",
              "    .colab-df-buttons div {\n",
              "      margin-bottom: 4px;\n",
              "    }\n",
              "\n",
              "    [theme=dark] .colab-df-convert {\n",
              "      background-color: #3B4455;\n",
              "      fill: #D2E3FC;\n",
              "    }\n",
              "\n",
              "    [theme=dark] .colab-df-convert:hover {\n",
              "      background-color: #434B5C;\n",
              "      box-shadow: 0px 1px 3px 1px rgba(0, 0, 0, 0.15);\n",
              "      filter: drop-shadow(0px 1px 2px rgba(0, 0, 0, 0.3));\n",
              "      fill: #FFFFFF;\n",
              "    }\n",
              "  </style>\n",
              "\n",
              "    <script>\n",
              "      const buttonEl =\n",
              "        document.querySelector('#df-1bfb4820-33c0-4aa6-a2fa-50c3840dcedd button.colab-df-convert');\n",
              "      buttonEl.style.display =\n",
              "        google.colab.kernel.accessAllowed ? 'block' : 'none';\n",
              "\n",
              "      async function convertToInteractive(key) {\n",
              "        const element = document.querySelector('#df-1bfb4820-33c0-4aa6-a2fa-50c3840dcedd');\n",
              "        const dataTable =\n",
              "          await google.colab.kernel.invokeFunction('convertToInteractive',\n",
              "                                                    [key], {});\n",
              "        if (!dataTable) return;\n",
              "\n",
              "        const docLinkHtml = 'Like what you see? Visit the ' +\n",
              "          '<a target=\"_blank\" href=https://colab.research.google.com/notebooks/data_table.ipynb>data table notebook</a>'\n",
              "          + ' to learn more about interactive tables.';\n",
              "        element.innerHTML = '';\n",
              "        dataTable['output_type'] = 'display_data';\n",
              "        await google.colab.output.renderOutput(dataTable, element);\n",
              "        const docLink = document.createElement('div');\n",
              "        docLink.innerHTML = docLinkHtml;\n",
              "        element.appendChild(docLink);\n",
              "      }\n",
              "    </script>\n",
              "  </div>\n",
              "\n",
              "\n",
              "<div id=\"df-b6834790-4045-4ae2-8050-435ae057433d\">\n",
              "  <button class=\"colab-df-quickchart\" onclick=\"quickchart('df-b6834790-4045-4ae2-8050-435ae057433d')\"\n",
              "            title=\"Suggest charts\"\n",
              "            style=\"display:none;\">\n",
              "\n",
              "<svg xmlns=\"http://www.w3.org/2000/svg\" height=\"24px\"viewBox=\"0 0 24 24\"\n",
              "     width=\"24px\">\n",
              "    <g>\n",
              "        <path d=\"M19 3H5c-1.1 0-2 .9-2 2v14c0 1.1.9 2 2 2h14c1.1 0 2-.9 2-2V5c0-1.1-.9-2-2-2zM9 17H7v-7h2v7zm4 0h-2V7h2v10zm4 0h-2v-4h2v4z\"/>\n",
              "    </g>\n",
              "</svg>\n",
              "  </button>\n",
              "\n",
              "<style>\n",
              "  .colab-df-quickchart {\n",
              "      --bg-color: #E8F0FE;\n",
              "      --fill-color: #1967D2;\n",
              "      --hover-bg-color: #E2EBFA;\n",
              "      --hover-fill-color: #174EA6;\n",
              "      --disabled-fill-color: #AAA;\n",
              "      --disabled-bg-color: #DDD;\n",
              "  }\n",
              "\n",
              "  [theme=dark] .colab-df-quickchart {\n",
              "      --bg-color: #3B4455;\n",
              "      --fill-color: #D2E3FC;\n",
              "      --hover-bg-color: #434B5C;\n",
              "      --hover-fill-color: #FFFFFF;\n",
              "      --disabled-bg-color: #3B4455;\n",
              "      --disabled-fill-color: #666;\n",
              "  }\n",
              "\n",
              "  .colab-df-quickchart {\n",
              "    background-color: var(--bg-color);\n",
              "    border: none;\n",
              "    border-radius: 50%;\n",
              "    cursor: pointer;\n",
              "    display: none;\n",
              "    fill: var(--fill-color);\n",
              "    height: 32px;\n",
              "    padding: 0;\n",
              "    width: 32px;\n",
              "  }\n",
              "\n",
              "  .colab-df-quickchart:hover {\n",
              "    background-color: var(--hover-bg-color);\n",
              "    box-shadow: 0 1px 2px rgba(60, 64, 67, 0.3), 0 1px 3px 1px rgba(60, 64, 67, 0.15);\n",
              "    fill: var(--button-hover-fill-color);\n",
              "  }\n",
              "\n",
              "  .colab-df-quickchart-complete:disabled,\n",
              "  .colab-df-quickchart-complete:disabled:hover {\n",
              "    background-color: var(--disabled-bg-color);\n",
              "    fill: var(--disabled-fill-color);\n",
              "    box-shadow: none;\n",
              "  }\n",
              "\n",
              "  .colab-df-spinner {\n",
              "    border: 2px solid var(--fill-color);\n",
              "    border-color: transparent;\n",
              "    border-bottom-color: var(--fill-color);\n",
              "    animation:\n",
              "      spin 1s steps(1) infinite;\n",
              "  }\n",
              "\n",
              "  @keyframes spin {\n",
              "    0% {\n",
              "      border-color: transparent;\n",
              "      border-bottom-color: var(--fill-color);\n",
              "      border-left-color: var(--fill-color);\n",
              "    }\n",
              "    20% {\n",
              "      border-color: transparent;\n",
              "      border-left-color: var(--fill-color);\n",
              "      border-top-color: var(--fill-color);\n",
              "    }\n",
              "    30% {\n",
              "      border-color: transparent;\n",
              "      border-left-color: var(--fill-color);\n",
              "      border-top-color: var(--fill-color);\n",
              "      border-right-color: var(--fill-color);\n",
              "    }\n",
              "    40% {\n",
              "      border-color: transparent;\n",
              "      border-right-color: var(--fill-color);\n",
              "      border-top-color: var(--fill-color);\n",
              "    }\n",
              "    60% {\n",
              "      border-color: transparent;\n",
              "      border-right-color: var(--fill-color);\n",
              "    }\n",
              "    80% {\n",
              "      border-color: transparent;\n",
              "      border-right-color: var(--fill-color);\n",
              "      border-bottom-color: var(--fill-color);\n",
              "    }\n",
              "    90% {\n",
              "      border-color: transparent;\n",
              "      border-bottom-color: var(--fill-color);\n",
              "    }\n",
              "  }\n",
              "</style>\n",
              "\n",
              "  <script>\n",
              "    async function quickchart(key) {\n",
              "      const quickchartButtonEl =\n",
              "        document.querySelector('#' + key + ' button');\n",
              "      quickchartButtonEl.disabled = true;  // To prevent multiple clicks.\n",
              "      quickchartButtonEl.classList.add('colab-df-spinner');\n",
              "      try {\n",
              "        const charts = await google.colab.kernel.invokeFunction(\n",
              "            'suggestCharts', [key], {});\n",
              "      } catch (error) {\n",
              "        console.error('Error during call to suggestCharts:', error);\n",
              "      }\n",
              "      quickchartButtonEl.classList.remove('colab-df-spinner');\n",
              "      quickchartButtonEl.classList.add('colab-df-quickchart-complete');\n",
              "    }\n",
              "    (() => {\n",
              "      let quickchartButtonEl =\n",
              "        document.querySelector('#df-b6834790-4045-4ae2-8050-435ae057433d button');\n",
              "      quickchartButtonEl.style.display =\n",
              "        google.colab.kernel.accessAllowed ? 'block' : 'none';\n",
              "    })();\n",
              "  </script>\n",
              "</div>\n",
              "    </div>\n",
              "  </div>\n"
            ]
          },
          "metadata": {},
          "execution_count": 147
        }
      ]
    },
    {
      "cell_type": "code",
      "source": [
        "json_dir = '/content/drive/MyDrive/Products.json'\n",
        "df_Products = pd.read_json(json_dir)"
      ],
      "metadata": {
        "id": "_D9opjQhhS2C"
      },
      "execution_count": 117,
      "outputs": []
    },
    {
      "cell_type": "code",
      "source": [
        "df_Products.shape"
      ],
      "metadata": {
        "colab": {
          "base_uri": "https://localhost:8080/"
        },
        "id": "wYgfnEPLhXWT",
        "outputId": "911178d5-2dce-46f1-8e91-6a3ba06500cb"
      },
      "execution_count": 118,
      "outputs": [
        {
          "output_type": "execute_result",
          "data": {
            "text/plain": [
              "(1356, 56)"
            ]
          },
          "metadata": {},
          "execution_count": 118
        }
      ]
    },
    {
      "cell_type": "code",
      "source": [
        "df_Products.to_csv('/content/drive/MyDrive/df_Products.csv', index=False)"
      ],
      "metadata": {
        "id": "Xz3taqy7hanq"
      },
      "execution_count": 119,
      "outputs": []
    },
    {
      "cell_type": "code",
      "source": [
        "# read by Spark\n",
        "\n",
        "csv_dir = '/content/drive/MyDrive/df_Products.csv'\n",
        "df_Products_spark = spark.read.format(\"csv\").load(csv_dir, header=True, inferSchema=True)"
      ],
      "metadata": {
        "id": "OwuzyjImhy1T"
      },
      "execution_count": 127,
      "outputs": []
    },
    {
      "cell_type": "code",
      "source": [
        "df_Products.columns"
      ],
      "metadata": {
        "colab": {
          "base_uri": "https://localhost:8080/"
        },
        "id": "XYtfeIARaafh",
        "outputId": "fbd39261-99fa-48a1-c7a4-6f54b5a0d9d5"
      },
      "execution_count": 201,
      "outputs": [
        {
          "output_type": "execute_result",
          "data": {
            "text/plain": [
              "Index(['id', 'name', 'local_name', 'spotfolio_name', 'category', 'isactive',\n",
              "       'vat_type', 'price_tag', 'net_price', 'price', 'discovery_token_price',\n",
              "       'product_cost', 'info', 'extra_info', 'unit_type', 'qty', 'mgid',\n",
              "       'roundid', 'barcode', 'tax_name', 'refcode', 'refid', 'softone_code',\n",
              "       'softone_long_code', 'delivery_price', 'sale_limit', 'salesperson_uid',\n",
              "       'color', 'short_code', 'photo', 'quick_order', 'self_cons_disc_perc',\n",
              "       'self_cons_disc_type', 'preparation_time', 'in_spotfolio',\n",
              "       'spotfolio_active', 'in_online_catalog', 'view_order', 'stock_enabled',\n",
              "       'stock_amount', 'wolt_id', 'efood_id', 'preparation_point_id',\n",
              "       'meal_type', 'food_type', 'has_modifier_filter', 'has_nutritions',\n",
              "       'consumption_weekday', 'incomeClassification', 'packaging_type',\n",
              "       'pms_ref_no', 'is_alcohol', 'is_open_item', 'spotit_view_order',\n",
              "       'created_at', 'updated_at'],\n",
              "      dtype='object')"
            ]
          },
          "metadata": {},
          "execution_count": 201
        }
      ]
    },
    {
      "cell_type": "code",
      "source": [
        "Products_columns = ['id', 'name', 'created_at', 'updated_at']\n",
        "\n",
        "df_Products_01 = df_Products[Products_columns]\n",
        "\n",
        "df_Products_01.columns, df_Products_01.shape"
      ],
      "metadata": {
        "colab": {
          "base_uri": "https://localhost:8080/"
        },
        "id": "siXfjxMwZwQn",
        "outputId": "e946b1de-da31-44f4-d920-43689bf6950e"
      },
      "execution_count": 120,
      "outputs": [
        {
          "output_type": "execute_result",
          "data": {
            "text/plain": [
              "(Index(['id', 'name', 'created_at', 'updated_at'], dtype='object'), (1356, 4))"
            ]
          },
          "metadata": {},
          "execution_count": 120
        }
      ]
    },
    {
      "cell_type": "code",
      "source": [
        "df_Products_02 = df_Products_01.copy()"
      ],
      "metadata": {
        "id": "FfYrTCwaefJS"
      },
      "execution_count": 121,
      "outputs": []
    },
    {
      "cell_type": "code",
      "source": [
        "df_Products_02.rename(columns={'name': 'product_name', 'created_at': 'product_created_at', 'updated_at': 'product_updated_at'\n",
        "                                    }, inplace=True)"
      ],
      "metadata": {
        "id": "CzUUUvhzd2bz"
      },
      "execution_count": 122,
      "outputs": []
    },
    {
      "cell_type": "code",
      "source": [
        "df_Products_02.columns, df_Products_02.shape"
      ],
      "metadata": {
        "colab": {
          "base_uri": "https://localhost:8080/"
        },
        "id": "iGj9uCIleS9G",
        "outputId": "e0248998-a818-4391-8ea7-ca503c18d8a0"
      },
      "execution_count": 226,
      "outputs": [
        {
          "output_type": "execute_result",
          "data": {
            "text/plain": [
              "(Index(['id', 'product_name', 'product_created_at', 'product_updated_at'], dtype='object'),\n",
              " (1356, 4))"
            ]
          },
          "metadata": {},
          "execution_count": 226
        }
      ]
    },
    {
      "cell_type": "code",
      "source": [
        "df_Products_02.isnull().sum()"
      ],
      "metadata": {
        "colab": {
          "base_uri": "https://localhost:8080/"
        },
        "id": "ULGQzNWiimOf",
        "outputId": "72be6166-02d5-4fa5-8efe-63cbbbc7c60a"
      },
      "execution_count": 227,
      "outputs": [
        {
          "output_type": "execute_result",
          "data": {
            "text/plain": [
              "id                    0\n",
              "product_name          0\n",
              "product_created_at    0\n",
              "product_updated_at    0\n",
              "dtype: int64"
            ]
          },
          "metadata": {},
          "execution_count": 227
        }
      ]
    },
    {
      "cell_type": "code",
      "source": [
        "df_Products_02.head()"
      ],
      "metadata": {
        "colab": {
          "base_uri": "https://localhost:8080/",
          "height": 0
        },
        "id": "hOKseF3SiXs2",
        "outputId": "caec8b69-646c-48b7-d716-25387c6b541e"
      },
      "execution_count": 209,
      "outputs": [
        {
          "output_type": "execute_result",
          "data": {
            "text/plain": [
              "    id     product_name   product_created_at  product_updated_at\n",
              "0 -999  Unknown Product  0000-00-00 00:00:00 2022-04-07 14:50:34\n",
              "1 -105    Other Charges  2023-11-09 12:23:50 2023-11-09 12:23:50\n",
              "2 -104        Surcharge  2023-11-09 12:23:50 2023-11-09 12:23:50\n",
              "3 -103      Service Fee  2022-07-26 15:02:39 2022-07-26 15:02:39\n",
              "4 -100     Delivery Fee  2022-07-26 15:02:39 2022-07-26 15:02:39"
            ],
            "text/html": [
              "\n",
              "  <div id=\"df-f47c8cf3-f89e-4919-bd78-3fd74efee409\" class=\"colab-df-container\">\n",
              "    <div>\n",
              "<style scoped>\n",
              "    .dataframe tbody tr th:only-of-type {\n",
              "        vertical-align: middle;\n",
              "    }\n",
              "\n",
              "    .dataframe tbody tr th {\n",
              "        vertical-align: top;\n",
              "    }\n",
              "\n",
              "    .dataframe thead th {\n",
              "        text-align: right;\n",
              "    }\n",
              "</style>\n",
              "<table border=\"1\" class=\"dataframe\">\n",
              "  <thead>\n",
              "    <tr style=\"text-align: right;\">\n",
              "      <th></th>\n",
              "      <th>id</th>\n",
              "      <th>product_name</th>\n",
              "      <th>product_created_at</th>\n",
              "      <th>product_updated_at</th>\n",
              "    </tr>\n",
              "  </thead>\n",
              "  <tbody>\n",
              "    <tr>\n",
              "      <th>0</th>\n",
              "      <td>-999</td>\n",
              "      <td>Unknown Product</td>\n",
              "      <td>0000-00-00 00:00:00</td>\n",
              "      <td>2022-04-07 14:50:34</td>\n",
              "    </tr>\n",
              "    <tr>\n",
              "      <th>1</th>\n",
              "      <td>-105</td>\n",
              "      <td>Other Charges</td>\n",
              "      <td>2023-11-09 12:23:50</td>\n",
              "      <td>2023-11-09 12:23:50</td>\n",
              "    </tr>\n",
              "    <tr>\n",
              "      <th>2</th>\n",
              "      <td>-104</td>\n",
              "      <td>Surcharge</td>\n",
              "      <td>2023-11-09 12:23:50</td>\n",
              "      <td>2023-11-09 12:23:50</td>\n",
              "    </tr>\n",
              "    <tr>\n",
              "      <th>3</th>\n",
              "      <td>-103</td>\n",
              "      <td>Service Fee</td>\n",
              "      <td>2022-07-26 15:02:39</td>\n",
              "      <td>2022-07-26 15:02:39</td>\n",
              "    </tr>\n",
              "    <tr>\n",
              "      <th>4</th>\n",
              "      <td>-100</td>\n",
              "      <td>Delivery Fee</td>\n",
              "      <td>2022-07-26 15:02:39</td>\n",
              "      <td>2022-07-26 15:02:39</td>\n",
              "    </tr>\n",
              "  </tbody>\n",
              "</table>\n",
              "</div>\n",
              "    <div class=\"colab-df-buttons\">\n",
              "\n",
              "  <div class=\"colab-df-container\">\n",
              "    <button class=\"colab-df-convert\" onclick=\"convertToInteractive('df-f47c8cf3-f89e-4919-bd78-3fd74efee409')\"\n",
              "            title=\"Convert this dataframe to an interactive table.\"\n",
              "            style=\"display:none;\">\n",
              "\n",
              "  <svg xmlns=\"http://www.w3.org/2000/svg\" height=\"24px\" viewBox=\"0 -960 960 960\">\n",
              "    <path d=\"M120-120v-720h720v720H120Zm60-500h600v-160H180v160Zm220 220h160v-160H400v160Zm0 220h160v-160H400v160ZM180-400h160v-160H180v160Zm440 0h160v-160H620v160ZM180-180h160v-160H180v160Zm440 0h160v-160H620v160Z\"/>\n",
              "  </svg>\n",
              "    </button>\n",
              "\n",
              "  <style>\n",
              "    .colab-df-container {\n",
              "      display:flex;\n",
              "      gap: 12px;\n",
              "    }\n",
              "\n",
              "    .colab-df-convert {\n",
              "      background-color: #E8F0FE;\n",
              "      border: none;\n",
              "      border-radius: 50%;\n",
              "      cursor: pointer;\n",
              "      display: none;\n",
              "      fill: #1967D2;\n",
              "      height: 32px;\n",
              "      padding: 0 0 0 0;\n",
              "      width: 32px;\n",
              "    }\n",
              "\n",
              "    .colab-df-convert:hover {\n",
              "      background-color: #E2EBFA;\n",
              "      box-shadow: 0px 1px 2px rgba(60, 64, 67, 0.3), 0px 1px 3px 1px rgba(60, 64, 67, 0.15);\n",
              "      fill: #174EA6;\n",
              "    }\n",
              "\n",
              "    .colab-df-buttons div {\n",
              "      margin-bottom: 4px;\n",
              "    }\n",
              "\n",
              "    [theme=dark] .colab-df-convert {\n",
              "      background-color: #3B4455;\n",
              "      fill: #D2E3FC;\n",
              "    }\n",
              "\n",
              "    [theme=dark] .colab-df-convert:hover {\n",
              "      background-color: #434B5C;\n",
              "      box-shadow: 0px 1px 3px 1px rgba(0, 0, 0, 0.15);\n",
              "      filter: drop-shadow(0px 1px 2px rgba(0, 0, 0, 0.3));\n",
              "      fill: #FFFFFF;\n",
              "    }\n",
              "  </style>\n",
              "\n",
              "    <script>\n",
              "      const buttonEl =\n",
              "        document.querySelector('#df-f47c8cf3-f89e-4919-bd78-3fd74efee409 button.colab-df-convert');\n",
              "      buttonEl.style.display =\n",
              "        google.colab.kernel.accessAllowed ? 'block' : 'none';\n",
              "\n",
              "      async function convertToInteractive(key) {\n",
              "        const element = document.querySelector('#df-f47c8cf3-f89e-4919-bd78-3fd74efee409');\n",
              "        const dataTable =\n",
              "          await google.colab.kernel.invokeFunction('convertToInteractive',\n",
              "                                                    [key], {});\n",
              "        if (!dataTable) return;\n",
              "\n",
              "        const docLinkHtml = 'Like what you see? Visit the ' +\n",
              "          '<a target=\"_blank\" href=https://colab.research.google.com/notebooks/data_table.ipynb>data table notebook</a>'\n",
              "          + ' to learn more about interactive tables.';\n",
              "        element.innerHTML = '';\n",
              "        dataTable['output_type'] = 'display_data';\n",
              "        await google.colab.output.renderOutput(dataTable, element);\n",
              "        const docLink = document.createElement('div');\n",
              "        docLink.innerHTML = docLinkHtml;\n",
              "        element.appendChild(docLink);\n",
              "      }\n",
              "    </script>\n",
              "  </div>\n",
              "\n",
              "\n",
              "<div id=\"df-982486b5-6f6b-45fd-a3bb-96d925bd5a78\">\n",
              "  <button class=\"colab-df-quickchart\" onclick=\"quickchart('df-982486b5-6f6b-45fd-a3bb-96d925bd5a78')\"\n",
              "            title=\"Suggest charts\"\n",
              "            style=\"display:none;\">\n",
              "\n",
              "<svg xmlns=\"http://www.w3.org/2000/svg\" height=\"24px\"viewBox=\"0 0 24 24\"\n",
              "     width=\"24px\">\n",
              "    <g>\n",
              "        <path d=\"M19 3H5c-1.1 0-2 .9-2 2v14c0 1.1.9 2 2 2h14c1.1 0 2-.9 2-2V5c0-1.1-.9-2-2-2zM9 17H7v-7h2v7zm4 0h-2V7h2v10zm4 0h-2v-4h2v4z\"/>\n",
              "    </g>\n",
              "</svg>\n",
              "  </button>\n",
              "\n",
              "<style>\n",
              "  .colab-df-quickchart {\n",
              "      --bg-color: #E8F0FE;\n",
              "      --fill-color: #1967D2;\n",
              "      --hover-bg-color: #E2EBFA;\n",
              "      --hover-fill-color: #174EA6;\n",
              "      --disabled-fill-color: #AAA;\n",
              "      --disabled-bg-color: #DDD;\n",
              "  }\n",
              "\n",
              "  [theme=dark] .colab-df-quickchart {\n",
              "      --bg-color: #3B4455;\n",
              "      --fill-color: #D2E3FC;\n",
              "      --hover-bg-color: #434B5C;\n",
              "      --hover-fill-color: #FFFFFF;\n",
              "      --disabled-bg-color: #3B4455;\n",
              "      --disabled-fill-color: #666;\n",
              "  }\n",
              "\n",
              "  .colab-df-quickchart {\n",
              "    background-color: var(--bg-color);\n",
              "    border: none;\n",
              "    border-radius: 50%;\n",
              "    cursor: pointer;\n",
              "    display: none;\n",
              "    fill: var(--fill-color);\n",
              "    height: 32px;\n",
              "    padding: 0;\n",
              "    width: 32px;\n",
              "  }\n",
              "\n",
              "  .colab-df-quickchart:hover {\n",
              "    background-color: var(--hover-bg-color);\n",
              "    box-shadow: 0 1px 2px rgba(60, 64, 67, 0.3), 0 1px 3px 1px rgba(60, 64, 67, 0.15);\n",
              "    fill: var(--button-hover-fill-color);\n",
              "  }\n",
              "\n",
              "  .colab-df-quickchart-complete:disabled,\n",
              "  .colab-df-quickchart-complete:disabled:hover {\n",
              "    background-color: var(--disabled-bg-color);\n",
              "    fill: var(--disabled-fill-color);\n",
              "    box-shadow: none;\n",
              "  }\n",
              "\n",
              "  .colab-df-spinner {\n",
              "    border: 2px solid var(--fill-color);\n",
              "    border-color: transparent;\n",
              "    border-bottom-color: var(--fill-color);\n",
              "    animation:\n",
              "      spin 1s steps(1) infinite;\n",
              "  }\n",
              "\n",
              "  @keyframes spin {\n",
              "    0% {\n",
              "      border-color: transparent;\n",
              "      border-bottom-color: var(--fill-color);\n",
              "      border-left-color: var(--fill-color);\n",
              "    }\n",
              "    20% {\n",
              "      border-color: transparent;\n",
              "      border-left-color: var(--fill-color);\n",
              "      border-top-color: var(--fill-color);\n",
              "    }\n",
              "    30% {\n",
              "      border-color: transparent;\n",
              "      border-left-color: var(--fill-color);\n",
              "      border-top-color: var(--fill-color);\n",
              "      border-right-color: var(--fill-color);\n",
              "    }\n",
              "    40% {\n",
              "      border-color: transparent;\n",
              "      border-right-color: var(--fill-color);\n",
              "      border-top-color: var(--fill-color);\n",
              "    }\n",
              "    60% {\n",
              "      border-color: transparent;\n",
              "      border-right-color: var(--fill-color);\n",
              "    }\n",
              "    80% {\n",
              "      border-color: transparent;\n",
              "      border-right-color: var(--fill-color);\n",
              "      border-bottom-color: var(--fill-color);\n",
              "    }\n",
              "    90% {\n",
              "      border-color: transparent;\n",
              "      border-bottom-color: var(--fill-color);\n",
              "    }\n",
              "  }\n",
              "</style>\n",
              "\n",
              "  <script>\n",
              "    async function quickchart(key) {\n",
              "      const quickchartButtonEl =\n",
              "        document.querySelector('#' + key + ' button');\n",
              "      quickchartButtonEl.disabled = true;  // To prevent multiple clicks.\n",
              "      quickchartButtonEl.classList.add('colab-df-spinner');\n",
              "      try {\n",
              "        const charts = await google.colab.kernel.invokeFunction(\n",
              "            'suggestCharts', [key], {});\n",
              "      } catch (error) {\n",
              "        console.error('Error during call to suggestCharts:', error);\n",
              "      }\n",
              "      quickchartButtonEl.classList.remove('colab-df-spinner');\n",
              "      quickchartButtonEl.classList.add('colab-df-quickchart-complete');\n",
              "    }\n",
              "    (() => {\n",
              "      let quickchartButtonEl =\n",
              "        document.querySelector('#df-982486b5-6f6b-45fd-a3bb-96d925bd5a78 button');\n",
              "      quickchartButtonEl.style.display =\n",
              "        google.colab.kernel.accessAllowed ? 'block' : 'none';\n",
              "    })();\n",
              "  </script>\n",
              "</div>\n",
              "    </div>\n",
              "  </div>\n"
            ]
          },
          "metadata": {},
          "execution_count": 209
        }
      ]
    },
    {
      "cell_type": "code",
      "source": [
        "# Merge df_order_details_08 on 'discount_type' column and df_Products_02 on corresponding 'pid'\n",
        "df_order_details_09 = pd.merge(\n",
        "    df_order_details_08,\n",
        "    df_Products_02,\n",
        "    left_on='item_id',\n",
        "    right_on='id',\n",
        "    how='left'\n",
        ")"
      ],
      "metadata": {
        "id": "Vf8PTZPKlWsJ"
      },
      "execution_count": 123,
      "outputs": []
    },
    {
      "cell_type": "code",
      "source": [
        "df_order_details_09.columns, df_order_details_09.shape"
      ],
      "metadata": {
        "colab": {
          "base_uri": "https://localhost:8080/"
        },
        "id": "dkj8WP_vl9ze",
        "outputId": "3cc7d34f-10bd-4416-fdaf-0bf55cd53c6b"
      },
      "execution_count": 124,
      "outputs": [
        {
          "output_type": "execute_result",
          "data": {
            "text/plain": [
              "(Index(['odid', 'ogid', 'oddate', 'item_id', 'item_type', 'net_price', 'price',\n",
              "        'unit_price', 'units', 'vat', 'vat_percentage', 'discount_percentage',\n",
              "        'discount_amount', 'payment_type', 'odcreated_at', 'odupdated_at',\n",
              "        'pos_uname_missing', 'pos_uname', 'discount_uname', 'cancel_uname',\n",
              "        'payment_uname', 'discount_uname_missing', 'cancel_uname_missing',\n",
              "        'payment_uname_missing', 'generic_discount',\n",
              "        'self_consumption_discount', 'odstatus_open', 'odstatus_paid',\n",
              "        'odstatus_partially_printed', 'odstatus_printed_cancelled',\n",
              "        'odstatus_printed_open', 'odstatus_Unpaid', 'id', 'product_name',\n",
              "        'product_created_at', 'product_updated_at'],\n",
              "       dtype='object'),\n",
              " (2000248, 36))"
            ]
          },
          "metadata": {},
          "execution_count": 124
        }
      ]
    },
    {
      "cell_type": "code",
      "source": [
        "df_order_details_09.drop(['id', 'item_id', 'item_type'], axis=1, inplace=True)"
      ],
      "metadata": {
        "id": "wSV4r1lfmDJw"
      },
      "execution_count": 125,
      "outputs": []
    },
    {
      "cell_type": "code",
      "source": [
        "df_order_details_09.columns, df_order_details_09.shape"
      ],
      "metadata": {
        "colab": {
          "base_uri": "https://localhost:8080/"
        },
        "id": "FFU-cV-UmiqS",
        "outputId": "356a8cbb-a1f3-4a01-a842-70aca1549186"
      },
      "execution_count": 126,
      "outputs": [
        {
          "output_type": "execute_result",
          "data": {
            "text/plain": [
              "(Index(['odid', 'ogid', 'oddate', 'net_price', 'price', 'unit_price', 'units',\n",
              "        'vat', 'vat_percentage', 'discount_percentage', 'discount_amount',\n",
              "        'payment_type', 'odcreated_at', 'odupdated_at', 'pos_uname_missing',\n",
              "        'pos_uname', 'discount_uname', 'cancel_uname', 'payment_uname',\n",
              "        'discount_uname_missing', 'cancel_uname_missing',\n",
              "        'payment_uname_missing', 'generic_discount',\n",
              "        'self_consumption_discount', 'odstatus_open', 'odstatus_paid',\n",
              "        'odstatus_partially_printed', 'odstatus_printed_cancelled',\n",
              "        'odstatus_printed_open', 'odstatus_Unpaid', 'product_name',\n",
              "        'product_created_at', 'product_updated_at'],\n",
              "       dtype='object'),\n",
              " (2000248, 33))"
            ]
          },
          "metadata": {},
          "execution_count": 126
        }
      ]
    },
    {
      "cell_type": "code",
      "source": [
        "df_order_details_09.isnull().sum()"
      ],
      "metadata": {
        "colab": {
          "base_uri": "https://localhost:8080/"
        },
        "id": "GZ7D0M9JoNJi",
        "outputId": "4f3060ca-a4b6-4dae-e9f1-6cce38e857c5"
      },
      "execution_count": 127,
      "outputs": [
        {
          "output_type": "execute_result",
          "data": {
            "text/plain": [
              "odid                              0\n",
              "ogid                              0\n",
              "oddate                            0\n",
              "net_price                         0\n",
              "price                             0\n",
              "unit_price                        0\n",
              "units                             0\n",
              "vat                               0\n",
              "vat_percentage                    0\n",
              "discount_percentage               0\n",
              "discount_amount                   0\n",
              "payment_type                      0\n",
              "odcreated_at                      0\n",
              "odupdated_at                      0\n",
              "pos_uname_missing                 0\n",
              "pos_uname                         0\n",
              "discount_uname                    0\n",
              "cancel_uname                      0\n",
              "payment_uname                     0\n",
              "discount_uname_missing            0\n",
              "cancel_uname_missing              0\n",
              "payment_uname_missing             0\n",
              "generic_discount                  0\n",
              "self_consumption_discount         0\n",
              "odstatus_open                     0\n",
              "odstatus_paid                     0\n",
              "odstatus_partially_printed        0\n",
              "odstatus_printed_cancelled        0\n",
              "odstatus_printed_open             0\n",
              "odstatus_Unpaid                   0\n",
              "product_name                  87568\n",
              "product_created_at            87568\n",
              "product_updated_at            87568\n",
              "dtype: int64"
            ]
          },
          "metadata": {},
          "execution_count": 127
        }
      ]
    },
    {
      "cell_type": "code",
      "source": [
        "df_order_details_09['product_name'].value_counts(dropna=False, ascending=True)\n"
      ],
      "metadata": {
        "colab": {
          "base_uri": "https://localhost:8080/"
        },
        "id": "nWQBD2r6pNLC",
        "outputId": "4ff68ebb-b39c-4f55-b458-d257604ddecc"
      },
      "execution_count": 215,
      "outputs": [
        {
          "output_type": "execute_result",
          "data": {
            "text/plain": [
              "Flat White Κρύο               1\n",
              "MENU 30€                      1\n",
              "Tuareg vert a la mint         1\n",
              "Τακος                         1\n",
              "Μπρουσκετα                    1\n",
              "                          ...  \n",
              "Freddo Espresso           48718\n",
              "ΨΩΜΙ                      64524\n",
              "NaN                       87568\n",
              "ΠΑΣΟ                     127221\n",
              "Νερο Ζαγορι 1λιτ.        142311\n",
              "Name: product_name, Length: 1191, dtype: int64"
            ]
          },
          "metadata": {},
          "execution_count": 215
        }
      ]
    },
    {
      "cell_type": "markdown",
      "source": [
        "**Handle the missing values (NaN) in the product_name column**"
      ],
      "metadata": {
        "id": "chXHZja6gR7Z"
      }
    },
    {
      "cell_type": "code",
      "source": [
        "# Create a binary indicator for missing product names\n",
        "df_order_details_09['product_name_missing'] = df_order_details_09['product_name'].isnull().astype(int)\n",
        "\n",
        "# fill NaN values with a placeholder after creating the indicator\n",
        "df_order_details_09['product_name'].fillna('Unknown', inplace=True)"
      ],
      "metadata": {
        "id": "b1uwzEb0ooxl"
      },
      "execution_count": 128,
      "outputs": []
    },
    {
      "cell_type": "code",
      "source": [
        "df_order_details_09.columns"
      ],
      "metadata": {
        "colab": {
          "base_uri": "https://localhost:8080/"
        },
        "id": "x0-AWsbOgmly",
        "outputId": "8bbeed51-f255-44ff-a7d2-ff516003fdaa"
      },
      "execution_count": 217,
      "outputs": [
        {
          "output_type": "execute_result",
          "data": {
            "text/plain": [
              "Index(['odid', 'ogid', 'oddate', 'net_price', 'price', 'unit_price', 'units',\n",
              "       'vat', 'vat_percentage', 'discount_percentage', 'discount_amount',\n",
              "       'payment_type', 'odcreated_at', 'odupdated_at', 'pos_uname',\n",
              "       'discount_uname', 'cancel_uname', 'payment_uname', 'generic_discount',\n",
              "       'self_consumption_discount', 'odstatus_open', 'odstatus_paid',\n",
              "       'odstatus_partially_printed', 'odstatus_printed_cancelled',\n",
              "       'odstatus_printed_open', 'odstatus_Unpaid', 'product_name',\n",
              "       'product_created_at', 'product_updated_at', 'product_name_missing'],\n",
              "      dtype='object')"
            ]
          },
          "metadata": {},
          "execution_count": 217
        }
      ]
    },
    {
      "cell_type": "code",
      "source": [
        "df_order_details_09.isnull().sum()"
      ],
      "metadata": {
        "colab": {
          "base_uri": "https://localhost:8080/"
        },
        "id": "NpM8hxdXgzP4",
        "outputId": "f8fa0703-1f67-4690-c60f-ea0518a7fbd8"
      },
      "execution_count": 129,
      "outputs": [
        {
          "output_type": "execute_result",
          "data": {
            "text/plain": [
              "odid                              0\n",
              "ogid                              0\n",
              "oddate                            0\n",
              "net_price                         0\n",
              "price                             0\n",
              "unit_price                        0\n",
              "units                             0\n",
              "vat                               0\n",
              "vat_percentage                    0\n",
              "discount_percentage               0\n",
              "discount_amount                   0\n",
              "payment_type                      0\n",
              "odcreated_at                      0\n",
              "odupdated_at                      0\n",
              "pos_uname_missing                 0\n",
              "pos_uname                         0\n",
              "discount_uname                    0\n",
              "cancel_uname                      0\n",
              "payment_uname                     0\n",
              "discount_uname_missing            0\n",
              "cancel_uname_missing              0\n",
              "payment_uname_missing             0\n",
              "generic_discount                  0\n",
              "self_consumption_discount         0\n",
              "odstatus_open                     0\n",
              "odstatus_paid                     0\n",
              "odstatus_partially_printed        0\n",
              "odstatus_printed_cancelled        0\n",
              "odstatus_printed_open             0\n",
              "odstatus_Unpaid                   0\n",
              "product_name                      0\n",
              "product_created_at            87568\n",
              "product_updated_at            87568\n",
              "product_name_missing              0\n",
              "dtype: int64"
            ]
          },
          "metadata": {},
          "execution_count": 129
        }
      ]
    },
    {
      "cell_type": "code",
      "source": [
        "df_order_details_09['product_name'].value_counts(dropna=False, ascending=True)"
      ],
      "metadata": {
        "colab": {
          "base_uri": "https://localhost:8080/"
        },
        "id": "xN1rV277g5Xw",
        "outputId": "07b2acfa-7099-4280-8cae-a57d6a8aca65"
      },
      "execution_count": 219,
      "outputs": [
        {
          "output_type": "execute_result",
          "data": {
            "text/plain": [
              "Flat White Κρύο               1\n",
              "MENU 30€                      1\n",
              "Tuareg vert a la mint         1\n",
              "Τακος                         1\n",
              "Μπρουσκετα                    1\n",
              "                          ...  \n",
              "Freddo Espresso           48718\n",
              "ΨΩΜΙ                      64524\n",
              "Unknown                   87568\n",
              "ΠΑΣΟ                     127221\n",
              "Νερο Ζαγορι 1λιτ.        142311\n",
              "Name: product_name, Length: 1191, dtype: int64"
            ]
          },
          "metadata": {},
          "execution_count": 219
        }
      ]
    },
    {
      "cell_type": "code",
      "source": [
        "df_order_details_09.head()"
      ],
      "metadata": {
        "id": "n2xITNY1hHbf"
      },
      "execution_count": null,
      "outputs": []
    },
    {
      "cell_type": "markdown",
      "source": [
        "**Binary Missing Value Indicator for 'product_created_at' & 'product_updated_at'**"
      ],
      "metadata": {
        "id": "lBtzLSKIwI4C"
      }
    },
    {
      "cell_type": "code",
      "source": [
        "# Create binary missing value indicator columns\n",
        "df_order_details_09['product_created_at_missing'] = df_order_details_09['product_created_at'].isnull().astype(int)\n",
        "df_order_details_09['product_updated_at_missing'] = df_order_details_09['product_updated_at'].isnull().astype(int)"
      ],
      "metadata": {
        "id": "fpUdNz6AwK2P"
      },
      "execution_count": 130,
      "outputs": []
    },
    {
      "cell_type": "markdown",
      "source": [
        "**Impute and Indicate:**"
      ],
      "metadata": {
        "id": "3__Mc_LwwRws"
      }
    },
    {
      "cell_type": "code",
      "source": [
        "# Impute missing values with a chosen strategy, e.g., forward fill\n",
        "df_order_details_09['product_created_at'].fillna(method='ffill', inplace=True)\n",
        "df_order_details_09['product_updated_at'].fillna(method='ffill', inplace=True)"
      ],
      "metadata": {
        "id": "kNxbL17jwV4N"
      },
      "execution_count": 131,
      "outputs": []
    },
    {
      "cell_type": "code",
      "source": [
        "df_order_details_09.columns, df_order_details_09.shape"
      ],
      "metadata": {
        "colab": {
          "base_uri": "https://localhost:8080/"
        },
        "id": "b6BCpZErzA_m",
        "outputId": "6859218a-6654-4e14-f345-ab0f5ee5de22"
      },
      "execution_count": 16,
      "outputs": [
        {
          "output_type": "execute_result",
          "data": {
            "text/plain": [
              "(Index(['odid', 'ogid', 'oddate', 'net_price', 'price', 'unit_price', 'units',\n",
              "        'vat', 'vat_percentage', 'discount_percentage', 'discount_amount',\n",
              "        'payment_type', 'odcreated_at', 'odupdated_at', 'pos_uname_missing',\n",
              "        'pos_uname', 'discount_uname', 'cancel_uname', 'payment_uname',\n",
              "        'discount_uname_missing', 'cancel_uname_missing',\n",
              "        'payment_uname_missing', 'generic_discount',\n",
              "        'self_consumption_discount', 'odstatus_open', 'odstatus_paid',\n",
              "        'odstatus_partially_printed', 'odstatus_printed_cancelled',\n",
              "        'odstatus_printed_open', 'odstatus_Unpaid', 'product_name',\n",
              "        'product_created_at', 'product_updated_at', 'product_name_missing',\n",
              "        'product_created_at_missing', 'product_updated_at_missing'],\n",
              "       dtype='object'),\n",
              " (2000248, 36))"
            ]
          },
          "metadata": {},
          "execution_count": 16
        }
      ]
    },
    {
      "cell_type": "code",
      "source": [
        "df_order_details_09.isnull().sum()"
      ],
      "metadata": {
        "colab": {
          "base_uri": "https://localhost:8080/"
        },
        "id": "D-HE6crQx3qw",
        "outputId": "09a737cd-5835-4b9a-e45b-aa79d408da55"
      },
      "execution_count": 15,
      "outputs": [
        {
          "output_type": "execute_result",
          "data": {
            "text/plain": [
              "odid                          0\n",
              "ogid                          0\n",
              "oddate                        0\n",
              "net_price                     0\n",
              "price                         0\n",
              "unit_price                    0\n",
              "units                         0\n",
              "vat                           0\n",
              "vat_percentage                0\n",
              "discount_percentage           0\n",
              "discount_amount               0\n",
              "payment_type                  0\n",
              "odcreated_at                  0\n",
              "odupdated_at                  0\n",
              "pos_uname_missing             0\n",
              "pos_uname                     0\n",
              "discount_uname                0\n",
              "cancel_uname                  0\n",
              "payment_uname                 0\n",
              "discount_uname_missing        0\n",
              "cancel_uname_missing          0\n",
              "payment_uname_missing         0\n",
              "generic_discount              0\n",
              "self_consumption_discount     0\n",
              "odstatus_open                 0\n",
              "odstatus_paid                 0\n",
              "odstatus_partially_printed    0\n",
              "odstatus_printed_cancelled    0\n",
              "odstatus_printed_open         0\n",
              "odstatus_Unpaid               0\n",
              "product_name                  0\n",
              "product_created_at            0\n",
              "product_updated_at            0\n",
              "product_name_missing          0\n",
              "product_created_at_missing    0\n",
              "product_updated_at_missing    0\n",
              "dtype: int64"
            ]
          },
          "metadata": {},
          "execution_count": 15
        }
      ]
    },
    {
      "cell_type": "code",
      "source": [
        "df_order_details_09.to_csv('/content/drive/MyDrive/df_order_details_09.csv', index=False)"
      ],
      "metadata": {
        "id": "xt9ke1AJmtC3"
      },
      "execution_count": 133,
      "outputs": []
    },
    {
      "cell_type": "code",
      "source": [
        "# read by Spark\n",
        "\n",
        "csv_dir = '/content/drive/MyDrive/df_order_details_09.csv'\n",
        "df_order_details_09_spark = spark.read.format(\"csv\").load(csv_dir, header=True, inferSchema=True)"
      ],
      "metadata": {
        "id": "emksgYm5myaZ"
      },
      "execution_count": 10,
      "outputs": []
    },
    {
      "cell_type": "code",
      "source": [
        "df_order_details_09_spark.show(10)"
      ],
      "metadata": {
        "colab": {
          "base_uri": "https://localhost:8080/"
        },
        "id": "9-UMJMC5nR7B",
        "outputId": "b9317ee5-c755-4254-fd20-b3e9a4827d33"
      },
      "execution_count": 13,
      "outputs": [
        {
          "output_type": "stream",
          "name": "stdout",
          "text": [
            "+--------------------+--------------------+-------------------+---------+-----+----------+-----+----+--------------+-------------------+---------------+------------+-------------------+-------------------+-----------------+---------+--------------+------------+-------------+----------------------+--------------------+---------------------+----------------+-------------------------+-------------+-------------+--------------------------+--------------------------+---------------------+---------------+-----------------+-------------------+-------------------+--------------------+--------------------------+--------------------------+\n",
            "|                odid|                ogid|             oddate|net_price|price|unit_price|units| vat|vat_percentage|discount_percentage|discount_amount|payment_type|       odcreated_at|       odupdated_at|pos_uname_missing|pos_uname|discount_uname|cancel_uname|payment_uname|discount_uname_missing|cancel_uname_missing|payment_uname_missing|generic_discount|self_consumption_discount|odstatus_open|odstatus_paid|odstatus_partially_printed|odstatus_printed_cancelled|odstatus_printed_open|odstatus_Unpaid|     product_name| product_created_at| product_updated_at|product_name_missing|product_created_at_missing|product_updated_at_missing|\n",
            "+--------------------+--------------------+-------------------+---------+-----+----------+-----+----+--------------+-------------------+---------------+------------+-------------------+-------------------+-----------------+---------+--------------+------------+-------------+----------------------+--------------------+---------------------+----------------+-------------------------+-------------+-------------+--------------------------+--------------------------+---------------------+---------------+-----------------+-------------------+-------------------+--------------------+--------------------------+--------------------------+\n",
            "|ab394826-12b7-433...|893b7f11-84d9-4b5...|2017-08-01 08:12:36|     3.23|  4.0|       4.0|    1|0.77|           0.0|                0.0|            0.0|           1|2017-08-01 08:12:27|2017-08-01 09:12:24|                1|  Unknown|       Unknown|     Unknown|      Unknown|                     1|                   1|                    1|               0|                        0|            0|            1|                         0|                         0|                    0|              0|  Freddo Espresso|2017-03-02 13:20:23|2023-02-13 06:01:34|                   0|                         0|                         0|\n",
            "|1039e874-31d3-40b...|893b7f11-84d9-4b5...|2017-08-01 08:12:36|      0.0|  0.0|       0.0|    1| 0.0|           0.0|                0.0|            0.0|           1|2017-08-01 08:12:32|2017-08-01 09:12:24|                1|  Unknown|       Unknown|     Unknown|      Unknown|                     1|                   1|                    1|               0|                        0|            0|            1|                         0|                         0|                    0|              0|          Unknown|2017-03-02 13:20:23|2023-02-13 06:01:34|                   1|                         1|                         1|\n",
            "|581f9581-6ec1-4f8...|ec3629f1-d1e8-4a0...|2017-08-01 08:19:50|     3.23|  4.0|       4.0|    1|0.77|           0.0|                0.0|            0.0|           1|2017-08-01 08:19:21|2017-08-01 08:28:03|                1|  Unknown|       Unknown|     Unknown|      Unknown|                     1|                   1|                    1|               0|                        0|            0|            1|                         0|                         0|                    0|              0|  Freddo Espresso|2017-03-02 13:20:23|2023-02-13 06:01:34|                   0|                         0|                         0|\n",
            "|ee88b30c-5531-430...|ec3629f1-d1e8-4a0...|2017-08-01 08:19:50|      0.0|  0.0|       0.0|    1| 0.0|           0.0|                0.0|            0.0|           1|2017-08-01 08:19:29|2017-08-01 08:28:03|                1|  Unknown|       Unknown|     Unknown|      Unknown|                     1|                   1|                    1|               0|                        0|            0|            1|                         0|                         0|                    0|              0|          Unknown|2017-03-02 13:20:23|2023-02-13 06:01:34|                   1|                         1|                         1|\n",
            "|554c52b3-1251-437...|ec3629f1-d1e8-4a0...|2017-08-01 08:19:50|     3.23|  4.0|       4.0|    1|0.77|           0.0|                0.0|            0.0|           1|2017-08-01 08:19:36|2017-08-01 08:28:03|                1|  Unknown|       Unknown|     Unknown|      Unknown|                     1|                   1|                    1|               0|                        0|            0|            1|                         0|                         0|                    0|              0|  Freddo Espresso|2017-03-02 13:20:23|2023-02-13 06:01:34|                   0|                         0|                         0|\n",
            "|49715d8a-9aaf-48b...|ec3629f1-d1e8-4a0...|2017-08-01 08:19:50|      0.0|  0.0|       0.0|    1| 0.0|           0.0|                0.0|            0.0|           1|2017-08-01 08:19:45|2017-08-01 08:28:03|                1|  Unknown|       Unknown|     Unknown|      Unknown|                     1|                   1|                    1|               0|                        0|            0|            1|                         0|                         0|                    0|              0|          Unknown|2017-03-02 13:20:23|2023-02-13 06:01:34|                   1|                         1|                         1|\n",
            "|483cedf7-5373-4d7...|446fa4af-ceb8-46b...|2017-08-01 08:50:34|     3.23|  4.0|       4.0|    1|0.77|           0.0|                0.0|            0.0|           1|2017-08-01 08:50:13|2017-08-01 09:37:17|                1|  Unknown|       Unknown|     Unknown|      Unknown|                     1|                   1|                    1|               0|                        0|            0|            1|                         0|                         0|                    0|              0|      fruit rouge|2017-03-07 18:12:48|2023-02-13 06:01:51|                   0|                         0|                         0|\n",
            "|47b8856d-04d8-43a...|446fa4af-ceb8-46b...|2017-08-01 08:50:34|     3.23|  4.0|       4.0|    1|0.77|           0.0|                0.0|            0.0|           1|2017-08-01 08:50:28|2017-08-01 09:37:17|                1|  Unknown|       Unknown|     Unknown|      Unknown|                     1|                   1|                    1|               0|                        0|            0|            1|                         0|                         0|                    0|              0|Freddo Cappuccino|2017-03-02 13:19:59|2023-02-13 06:01:34|                   0|                         0|                         0|\n",
            "|35a775da-da6b-43f...|446fa4af-ceb8-46b...|2017-08-01 08:50:34|      0.0|  0.0|       0.0|    1| 0.0|           0.0|                0.0|            0.0|           1|2017-08-01 08:50:33|2017-08-01 09:37:18|                1|  Unknown|       Unknown|     Unknown|      Unknown|                     1|                   1|                    1|               0|                        0|            0|            1|                         0|                         0|                    0|              0|          Unknown|2017-03-02 13:19:59|2023-02-13 06:01:34|                   1|                         1|                         1|\n",
            "|d8a55031-8548-42b...|0eb0b96e-ef2f-443...|2017-08-01 09:06:04|     6.45|  8.0|       4.0|    2|1.55|           0.0|                0.0|            0.0|           1|2017-08-01 09:05:20|2017-08-01 10:12:24|                1|  Unknown|       Unknown|     Unknown|      Unknown|                     1|                   1|                    1|               0|                        0|            0|            1|                         0|                         0|                    0|              0|Freddo Cappuccino|2017-03-02 13:19:59|2023-02-13 06:01:34|                   0|                         0|                         0|\n",
            "+--------------------+--------------------+-------------------+---------+-----+----------+-----+----+--------------+-------------------+---------------+------------+-------------------+-------------------+-----------------+---------+--------------+------------+-------------+----------------------+--------------------+---------------------+----------------+-------------------------+-------------+-------------+--------------------------+--------------------------+---------------------+---------------+-----------------+-------------------+-------------------+--------------------+--------------------------+--------------------------+\n",
            "only showing top 10 rows\n",
            "\n"
          ]
        }
      ]
    },
    {
      "cell_type": "markdown",
      "source": [
        "# Optimize Data Types"
      ],
      "metadata": {
        "id": "DR1wZT-fwosq"
      }
    },
    {
      "cell_type": "code",
      "source": [
        "import pandas as pd\n",
        "\n",
        "df_order_details_09 = pd.read_csv('/content/drive/MyDrive/df_order_details_09.csv')\n",
        "\n",
        "df_order_details_09.columns, df_order_details_09.shape"
      ],
      "metadata": {
        "colab": {
          "base_uri": "https://localhost:8080/"
        },
        "id": "3vUFPAcwAO7_",
        "outputId": "9bfba1dc-bcce-43ea-d4c3-30e6dd3a908e"
      },
      "execution_count": 39,
      "outputs": [
        {
          "output_type": "execute_result",
          "data": {
            "text/plain": [
              "(Index(['odid', 'ogid', 'oddate', 'net_price', 'price', 'unit_price', 'units',\n",
              "        'vat', 'vat_percentage', 'discount_percentage', 'discount_amount',\n",
              "        'payment_type', 'odcreated_at', 'odupdated_at', 'pos_uname_missing',\n",
              "        'pos_uname', 'discount_uname', 'cancel_uname', 'payment_uname',\n",
              "        'discount_uname_missing', 'cancel_uname_missing',\n",
              "        'payment_uname_missing', 'generic_discount',\n",
              "        'self_consumption_discount', 'odstatus_open', 'odstatus_paid',\n",
              "        'odstatus_partially_printed', 'odstatus_printed_cancelled',\n",
              "        'odstatus_printed_open', 'odstatus_Unpaid', 'product_name',\n",
              "        'product_created_at', 'product_updated_at', 'product_name_missing',\n",
              "        'product_created_at_missing', 'product_updated_at_missing'],\n",
              "       dtype='object'),\n",
              " (2000248, 36))"
            ]
          },
          "metadata": {},
          "execution_count": 39
        }
      ]
    },
    {
      "cell_type": "code",
      "source": [
        "# Check the memory usage after optimization\n",
        "df_order_details_09.info(memory_usage='deep')"
      ],
      "metadata": {
        "id": "W6PYb-zVSLOl"
      },
      "execution_count": null,
      "outputs": []
    },
    {
      "cell_type": "code",
      "source": [
        "# Convert object columns to 'category' where appropriate\n",
        "categorical_columns = ['odid', 'ogid', 'pos_uname', 'discount_uname', 'cancel_uname', 'payment_uname', 'product_name']\n",
        "for column in categorical_columns:\n",
        "    df_order_details_09[column] = df_order_details_09[column].astype('category')"
      ],
      "metadata": {
        "id": "MnOvxUrdPFqT"
      },
      "execution_count": 42,
      "outputs": []
    },
    {
      "cell_type": "code",
      "source": [
        "# Check the memory usage after optimization\n",
        "df_order_details_09.info(memory_usage='deep')"
      ],
      "metadata": {
        "colab": {
          "base_uri": "https://localhost:8080/"
        },
        "id": "2jMMDXFIR-b0",
        "outputId": "2afc8ee3-ec2d-4d42-fa49-8ab54771f3ed"
      },
      "execution_count": 43,
      "outputs": [
        {
          "output_type": "stream",
          "name": "stdout",
          "text": [
            "<class 'pandas.core.frame.DataFrame'>\n",
            "RangeIndex: 2000248 entries, 0 to 2000247\n",
            "Data columns (total 36 columns):\n",
            " #   Column                      Dtype   \n",
            "---  ------                      -----   \n",
            " 0   odid                        category\n",
            " 1   ogid                        category\n",
            " 2   oddate                      object  \n",
            " 3   net_price                   float64 \n",
            " 4   price                       float64 \n",
            " 5   unit_price                  float64 \n",
            " 6   units                       int64   \n",
            " 7   vat                         float64 \n",
            " 8   vat_percentage              float64 \n",
            " 9   discount_percentage         float64 \n",
            " 10  discount_amount             float64 \n",
            " 11  payment_type                int64   \n",
            " 12  odcreated_at                object  \n",
            " 13  odupdated_at                object  \n",
            " 14  pos_uname_missing           int64   \n",
            " 15  pos_uname                   category\n",
            " 16  discount_uname              category\n",
            " 17  cancel_uname                category\n",
            " 18  payment_uname               category\n",
            " 19  discount_uname_missing      int64   \n",
            " 20  cancel_uname_missing        int64   \n",
            " 21  payment_uname_missing       int64   \n",
            " 22  generic_discount            int64   \n",
            " 23  self_consumption_discount   int64   \n",
            " 24  odstatus_open               int64   \n",
            " 25  odstatus_paid               int64   \n",
            " 26  odstatus_partially_printed  int64   \n",
            " 27  odstatus_printed_cancelled  int64   \n",
            " 28  odstatus_printed_open       int64   \n",
            " 29  odstatus_Unpaid             int64   \n",
            " 30  product_name                category\n",
            " 31  product_created_at          object  \n",
            " 32  product_updated_at          object  \n",
            " 33  product_name_missing        int64   \n",
            " 34  product_created_at_missing  int64   \n",
            " 35  product_updated_at_missing  int64   \n",
            "dtypes: category(7), float64(7), int64(17), object(5)\n",
            "memory usage: 1.4 GB\n"
          ]
        }
      ]
    },
    {
      "cell_type": "code",
      "source": [
        "# Convert date columns to 'datetime' (if not already done and if appropriate)\n",
        "date_columns = ['oddate', 'odcreated_at', 'odupdated_at', 'product_created_at', 'product_updated_at']\n",
        "for column in date_columns:\n",
        "    df_order_details_09[column] = pd.to_datetime(df_order_details_09[column], errors='coerce').dt.normalize()\n",
        "\n",
        "# Check the memory usage after optimization\n",
        "df_order_details_09.info(memory_usage='deep')"
      ],
      "metadata": {
        "colab": {
          "base_uri": "https://localhost:8080/"
        },
        "id": "_7VlUiDKPR3C",
        "outputId": "f524feea-b882-4e20-e600-d36e76909780"
      },
      "execution_count": 44,
      "outputs": [
        {
          "output_type": "stream",
          "name": "stdout",
          "text": [
            "<class 'pandas.core.frame.DataFrame'>\n",
            "RangeIndex: 2000248 entries, 0 to 2000247\n",
            "Data columns (total 36 columns):\n",
            " #   Column                      Dtype         \n",
            "---  ------                      -----         \n",
            " 0   odid                        category      \n",
            " 1   ogid                        category      \n",
            " 2   oddate                      datetime64[ns]\n",
            " 3   net_price                   float64       \n",
            " 4   price                       float64       \n",
            " 5   unit_price                  float64       \n",
            " 6   units                       int64         \n",
            " 7   vat                         float64       \n",
            " 8   vat_percentage              float64       \n",
            " 9   discount_percentage         float64       \n",
            " 10  discount_amount             float64       \n",
            " 11  payment_type                int64         \n",
            " 12  odcreated_at                datetime64[ns]\n",
            " 13  odupdated_at                datetime64[ns]\n",
            " 14  pos_uname_missing           int64         \n",
            " 15  pos_uname                   category      \n",
            " 16  discount_uname              category      \n",
            " 17  cancel_uname                category      \n",
            " 18  payment_uname               category      \n",
            " 19  discount_uname_missing      int64         \n",
            " 20  cancel_uname_missing        int64         \n",
            " 21  payment_uname_missing       int64         \n",
            " 22  generic_discount            int64         \n",
            " 23  self_consumption_discount   int64         \n",
            " 24  odstatus_open               int64         \n",
            " 25  odstatus_paid               int64         \n",
            " 26  odstatus_partially_printed  int64         \n",
            " 27  odstatus_printed_cancelled  int64         \n",
            " 28  odstatus_printed_open       int64         \n",
            " 29  odstatus_Unpaid             int64         \n",
            " 30  product_name                category      \n",
            " 31  product_created_at          datetime64[ns]\n",
            " 32  product_updated_at          datetime64[ns]\n",
            " 33  product_name_missing        int64         \n",
            " 34  product_created_at_missing  int64         \n",
            " 35  product_updated_at_missing  int64         \n",
            "dtypes: category(7), datetime64[ns](5), float64(7), int64(17)\n",
            "memory usage: 744.2 MB\n"
          ]
        }
      ]
    },
    {
      "cell_type": "code",
      "source": [
        "# Downcast integer columns to the smallest possible integer type\n",
        "integer_columns = ['units', 'payment_type', 'pos_uname_missing', 'discount_uname_missing', 'cancel_uname_missing', 'payment_uname_missing',\n",
        "            'generic_discount', 'self_consumption_discount', 'odstatus_open', 'odstatus_paid', 'odstatus_partially_printed', 'odstatus_printed_cancelled',\n",
        "            'odstatus_printed_open', 'odstatus_Unpaid', 'product_name_missing', 'product_created_at_missing', 'product_updated_at_missing']\n",
        "\n",
        "for column in integer_columns:\n",
        "    df_order_details_09[column] = pd.to_numeric(df_order_details_09[column], downcast='integer')\n",
        "\n",
        "# Check the memory usage after optimization\n",
        "df_order_details_09.info(memory_usage='deep')"
      ],
      "metadata": {
        "id": "MBQsKMuenun5",
        "colab": {
          "base_uri": "https://localhost:8080/"
        },
        "outputId": "a152900b-295d-4d43-e0f3-d962062f9790"
      },
      "execution_count": 45,
      "outputs": [
        {
          "output_type": "stream",
          "name": "stdout",
          "text": [
            "<class 'pandas.core.frame.DataFrame'>\n",
            "RangeIndex: 2000248 entries, 0 to 2000247\n",
            "Data columns (total 36 columns):\n",
            " #   Column                      Dtype         \n",
            "---  ------                      -----         \n",
            " 0   odid                        category      \n",
            " 1   ogid                        category      \n",
            " 2   oddate                      datetime64[ns]\n",
            " 3   net_price                   float64       \n",
            " 4   price                       float64       \n",
            " 5   unit_price                  float64       \n",
            " 6   units                       int16         \n",
            " 7   vat                         float64       \n",
            " 8   vat_percentage              float64       \n",
            " 9   discount_percentage         float64       \n",
            " 10  discount_amount             float64       \n",
            " 11  payment_type                int8          \n",
            " 12  odcreated_at                datetime64[ns]\n",
            " 13  odupdated_at                datetime64[ns]\n",
            " 14  pos_uname_missing           int8          \n",
            " 15  pos_uname                   category      \n",
            " 16  discount_uname              category      \n",
            " 17  cancel_uname                category      \n",
            " 18  payment_uname               category      \n",
            " 19  discount_uname_missing      int8          \n",
            " 20  cancel_uname_missing        int8          \n",
            " 21  payment_uname_missing       int8          \n",
            " 22  generic_discount            int8          \n",
            " 23  self_consumption_discount   int8          \n",
            " 24  odstatus_open               int8          \n",
            " 25  odstatus_paid               int8          \n",
            " 26  odstatus_partially_printed  int8          \n",
            " 27  odstatus_printed_cancelled  int8          \n",
            " 28  odstatus_printed_open       int8          \n",
            " 29  odstatus_Unpaid             int8          \n",
            " 30  product_name                category      \n",
            " 31  product_created_at          datetime64[ns]\n",
            " 32  product_updated_at          datetime64[ns]\n",
            " 33  product_name_missing        int8          \n",
            " 34  product_created_at_missing  int8          \n",
            " 35  product_updated_at_missing  int8          \n",
            "dtypes: category(7), datetime64[ns](5), float64(7), int16(1), int8(16)\n",
            "memory usage: 519.1 MB\n"
          ]
        }
      ]
    },
    {
      "cell_type": "code",
      "source": [
        "# Downcast float columns to the smallest possible float type\n",
        "float_columns = ['net_price', 'price', 'unit_price', 'vat', 'vat_percentage', 'discount_percentage', 'discount_amount']\n",
        "for column in float_columns:\n",
        "    df_order_details_09[column] = pd.to_numeric(df_order_details_09[column], downcast='float')\n",
        "\n",
        "# Check the memory usage after optimization\n",
        "df_order_details_09.info(memory_usage='deep')"
      ],
      "metadata": {
        "colab": {
          "base_uri": "https://localhost:8080/"
        },
        "id": "XOco5J5tRCJl",
        "outputId": "9f7cd198-45a7-4b9f-e9f8-ff66c6d56778"
      },
      "execution_count": 46,
      "outputs": [
        {
          "output_type": "stream",
          "name": "stdout",
          "text": [
            "<class 'pandas.core.frame.DataFrame'>\n",
            "RangeIndex: 2000248 entries, 0 to 2000247\n",
            "Data columns (total 36 columns):\n",
            " #   Column                      Dtype         \n",
            "---  ------                      -----         \n",
            " 0   odid                        category      \n",
            " 1   ogid                        category      \n",
            " 2   oddate                      datetime64[ns]\n",
            " 3   net_price                   float32       \n",
            " 4   price                       float32       \n",
            " 5   unit_price                  float32       \n",
            " 6   units                       int16         \n",
            " 7   vat                         float32       \n",
            " 8   vat_percentage              float32       \n",
            " 9   discount_percentage         float32       \n",
            " 10  discount_amount             float32       \n",
            " 11  payment_type                int8          \n",
            " 12  odcreated_at                datetime64[ns]\n",
            " 13  odupdated_at                datetime64[ns]\n",
            " 14  pos_uname_missing           int8          \n",
            " 15  pos_uname                   category      \n",
            " 16  discount_uname              category      \n",
            " 17  cancel_uname                category      \n",
            " 18  payment_uname               category      \n",
            " 19  discount_uname_missing      int8          \n",
            " 20  cancel_uname_missing        int8          \n",
            " 21  payment_uname_missing       int8          \n",
            " 22  generic_discount            int8          \n",
            " 23  self_consumption_discount   int8          \n",
            " 24  odstatus_open               int8          \n",
            " 25  odstatus_paid               int8          \n",
            " 26  odstatus_partially_printed  int8          \n",
            " 27  odstatus_printed_cancelled  int8          \n",
            " 28  odstatus_printed_open       int8          \n",
            " 29  odstatus_Unpaid             int8          \n",
            " 30  product_name                category      \n",
            " 31  product_created_at          datetime64[ns]\n",
            " 32  product_updated_at          datetime64[ns]\n",
            " 33  product_name_missing        int8          \n",
            " 34  product_created_at_missing  int8          \n",
            " 35  product_updated_at_missing  int8          \n",
            "dtypes: category(7), datetime64[ns](5), float32(7), int16(1), int8(16)\n",
            "memory usage: 465.7 MB\n"
          ]
        }
      ]
    },
    {
      "cell_type": "code",
      "source": [
        "# Verify the data integrity to ensure that the downcasting did not cause any unexpected issues (like overflow or underflow)\n",
        "for col in integer_columns:\n",
        "    print(f\"{col} unique values:\", df_order_details_09[col].unique())\n"
      ],
      "metadata": {
        "colab": {
          "base_uri": "https://localhost:8080/"
        },
        "id": "vJCVuubNrHZI",
        "outputId": "e61930d6-7486-4905-cd1a-03095b0ba873"
      },
      "execution_count": 53,
      "outputs": [
        {
          "output_type": "stream",
          "name": "stdout",
          "text": [
            "units unique values: [  1   2   5   3   6   4   7   8  11  10  12   9  17  16  14  15  20  37\n",
            "  24  13  67  18  30  33  25  27  26  35  22  31  60  51  19  23 250 120\n",
            "  32  58  21 150  42  29  47  28  65  52  55 164  41  43  50  34 115 300\n",
            "  80  40  36  39  45  70]\n",
            "payment_type unique values: [ 1  0  2  6 -1]\n",
            "pos_uname_missing unique values: [1 0]\n",
            "discount_uname_missing unique values: [1 0]\n",
            "cancel_uname_missing unique values: [1 0]\n",
            "payment_uname_missing unique values: [1 0]\n",
            "generic_discount unique values: [0 1]\n",
            "self_consumption_discount unique values: [0 1]\n",
            "odstatus_open unique values: [0 1]\n",
            "odstatus_paid unique values: [1 0]\n",
            "odstatus_partially_printed unique values: [0 1]\n",
            "odstatus_printed_cancelled unique values: [0 1]\n",
            "odstatus_printed_open unique values: [0 1]\n",
            "odstatus_Unpaid unique values: [0 1]\n",
            "product_name_missing unique values: [0 1]\n",
            "product_created_at_missing unique values: [0 1]\n",
            "product_updated_at_missing unique values: [0 1]\n"
          ]
        }
      ]
    },
    {
      "cell_type": "code",
      "source": [
        "df_order_details_09.shape"
      ],
      "metadata": {
        "colab": {
          "base_uri": "https://localhost:8080/"
        },
        "id": "cgSJaATmt5aY",
        "outputId": "a1ed9655-f9f2-4def-9984-fc8ce842a1c1"
      },
      "execution_count": 54,
      "outputs": [
        {
          "output_type": "execute_result",
          "data": {
            "text/plain": [
              "(2000248, 36)"
            ]
          },
          "metadata": {},
          "execution_count": 54
        }
      ]
    },
    {
      "cell_type": "code",
      "source": [
        "df_order_details_09.to_csv('/content/drive/MyDrive/order_details_clean.csv', index=False)"
      ],
      "metadata": {
        "id": "iWyXJiCZTN9D"
      },
      "execution_count": 55,
      "outputs": []
    },
    {
      "cell_type": "markdown",
      "source": [
        "# Spark"
      ],
      "metadata": {
        "id": "QEgIvJCaph1F"
      }
    },
    {
      "cell_type": "code",
      "source": [
        "df_order_details_spark = spark.read.format(\"csv\").load('/content/drive/MyDrive/order_details_clean.csv', header=True, inferSchema=True)"
      ],
      "metadata": {
        "id": "yclyQRe3zudR"
      },
      "execution_count": 69,
      "outputs": []
    },
    {
      "cell_type": "code",
      "source": [
        "type(df_order_details_spark)"
      ],
      "metadata": {
        "colab": {
          "base_uri": "https://localhost:8080/"
        },
        "id": "57RjnIJ20Opx",
        "outputId": "fe3d3e6e-a2ed-4ee2-c41e-c623e28435d9"
      },
      "execution_count": 57,
      "outputs": [
        {
          "output_type": "execute_result",
          "data": {
            "text/plain": [
              "pyspark.sql.dataframe.DataFrame"
            ]
          },
          "metadata": {},
          "execution_count": 57
        }
      ]
    },
    {
      "cell_type": "code",
      "source": [
        "df_order_details_spark.show(25)"
      ],
      "metadata": {
        "colab": {
          "base_uri": "https://localhost:8080/"
        },
        "id": "Ci9GeGA-0RJz",
        "outputId": "2c048597-07ba-4c2c-9363-55570d876ec7"
      },
      "execution_count": 70,
      "outputs": [
        {
          "output_type": "stream",
          "name": "stdout",
          "text": [
            "+--------------------+--------------------+----------+---------+-----+----------+-----+----+--------------+-------------------+---------------+------------+------------+------------+-----------------+---------+--------------+------------+-------------+----------------------+--------------------+---------------------+----------------+-------------------------+-------------+-------------+--------------------------+--------------------------+---------------------+---------------+--------------------+------------------+------------------+--------------------+--------------------------+--------------------------+\n",
            "|                odid|                ogid|    oddate|net_price|price|unit_price|units| vat|vat_percentage|discount_percentage|discount_amount|payment_type|odcreated_at|odupdated_at|pos_uname_missing|pos_uname|discount_uname|cancel_uname|payment_uname|discount_uname_missing|cancel_uname_missing|payment_uname_missing|generic_discount|self_consumption_discount|odstatus_open|odstatus_paid|odstatus_partially_printed|odstatus_printed_cancelled|odstatus_printed_open|odstatus_Unpaid|        product_name|product_created_at|product_updated_at|product_name_missing|product_created_at_missing|product_updated_at_missing|\n",
            "+--------------------+--------------------+----------+---------+-----+----------+-----+----+--------------+-------------------+---------------+------------+------------+------------+-----------------+---------+--------------+------------+-------------+----------------------+--------------------+---------------------+----------------+-------------------------+-------------+-------------+--------------------------+--------------------------+---------------------+---------------+--------------------+------------------+------------------+--------------------+--------------------------+--------------------------+\n",
            "|ab394826-12b7-433...|893b7f11-84d9-4b5...|2017-08-01|     3.23|  4.0|       4.0|    1|0.77|           0.0|                0.0|            0.0|           1|  2017-08-01|  2017-08-01|                1|  Unknown|       Unknown|     Unknown|      Unknown|                     1|                   1|                    1|               0|                        0|            0|            1|                         0|                         0|                    0|              0|     Freddo Espresso|        2017-03-02|        2023-02-13|                   0|                         0|                         0|\n",
            "|1039e874-31d3-40b...|893b7f11-84d9-4b5...|2017-08-01|      0.0|  0.0|       0.0|    1| 0.0|           0.0|                0.0|            0.0|           1|  2017-08-01|  2017-08-01|                1|  Unknown|       Unknown|     Unknown|      Unknown|                     1|                   1|                    1|               0|                        0|            0|            1|                         0|                         0|                    0|              0|             Unknown|        2017-03-02|        2023-02-13|                   1|                         1|                         1|\n",
            "|581f9581-6ec1-4f8...|ec3629f1-d1e8-4a0...|2017-08-01|     3.23|  4.0|       4.0|    1|0.77|           0.0|                0.0|            0.0|           1|  2017-08-01|  2017-08-01|                1|  Unknown|       Unknown|     Unknown|      Unknown|                     1|                   1|                    1|               0|                        0|            0|            1|                         0|                         0|                    0|              0|     Freddo Espresso|        2017-03-02|        2023-02-13|                   0|                         0|                         0|\n",
            "|ee88b30c-5531-430...|ec3629f1-d1e8-4a0...|2017-08-01|      0.0|  0.0|       0.0|    1| 0.0|           0.0|                0.0|            0.0|           1|  2017-08-01|  2017-08-01|                1|  Unknown|       Unknown|     Unknown|      Unknown|                     1|                   1|                    1|               0|                        0|            0|            1|                         0|                         0|                    0|              0|             Unknown|        2017-03-02|        2023-02-13|                   1|                         1|                         1|\n",
            "|554c52b3-1251-437...|ec3629f1-d1e8-4a0...|2017-08-01|     3.23|  4.0|       4.0|    1|0.77|           0.0|                0.0|            0.0|           1|  2017-08-01|  2017-08-01|                1|  Unknown|       Unknown|     Unknown|      Unknown|                     1|                   1|                    1|               0|                        0|            0|            1|                         0|                         0|                    0|              0|     Freddo Espresso|        2017-03-02|        2023-02-13|                   0|                         0|                         0|\n",
            "|49715d8a-9aaf-48b...|ec3629f1-d1e8-4a0...|2017-08-01|      0.0|  0.0|       0.0|    1| 0.0|           0.0|                0.0|            0.0|           1|  2017-08-01|  2017-08-01|                1|  Unknown|       Unknown|     Unknown|      Unknown|                     1|                   1|                    1|               0|                        0|            0|            1|                         0|                         0|                    0|              0|             Unknown|        2017-03-02|        2023-02-13|                   1|                         1|                         1|\n",
            "|483cedf7-5373-4d7...|446fa4af-ceb8-46b...|2017-08-01|     3.23|  4.0|       4.0|    1|0.77|           0.0|                0.0|            0.0|           1|  2017-08-01|  2017-08-01|                1|  Unknown|       Unknown|     Unknown|      Unknown|                     1|                   1|                    1|               0|                        0|            0|            1|                         0|                         0|                    0|              0|         fruit rouge|        2017-03-07|        2023-02-13|                   0|                         0|                         0|\n",
            "|47b8856d-04d8-43a...|446fa4af-ceb8-46b...|2017-08-01|     3.23|  4.0|       4.0|    1|0.77|           0.0|                0.0|            0.0|           1|  2017-08-01|  2017-08-01|                1|  Unknown|       Unknown|     Unknown|      Unknown|                     1|                   1|                    1|               0|                        0|            0|            1|                         0|                         0|                    0|              0|   Freddo Cappuccino|        2017-03-02|        2023-02-13|                   0|                         0|                         0|\n",
            "|35a775da-da6b-43f...|446fa4af-ceb8-46b...|2017-08-01|      0.0|  0.0|       0.0|    1| 0.0|           0.0|                0.0|            0.0|           1|  2017-08-01|  2017-08-01|                1|  Unknown|       Unknown|     Unknown|      Unknown|                     1|                   1|                    1|               0|                        0|            0|            1|                         0|                         0|                    0|              0|             Unknown|        2017-03-02|        2023-02-13|                   1|                         1|                         1|\n",
            "|d8a55031-8548-42b...|0eb0b96e-ef2f-443...|2017-08-01|     6.45|  8.0|       4.0|    2|1.55|           0.0|                0.0|            0.0|           1|  2017-08-01|  2017-08-01|                1|  Unknown|       Unknown|     Unknown|      Unknown|                     1|                   1|                    1|               0|                        0|            0|            1|                         0|                         0|                    0|              0|   Freddo Cappuccino|        2017-03-02|        2023-02-13|                   0|                         0|                         0|\n",
            "|d7f54757-e6e1-4a6...|0eb0b96e-ef2f-443...|2017-08-01|      0.0|  0.0|       0.0|    2| 0.0|           0.0|                0.0|            0.0|           1|  2017-08-01|  2017-08-01|                1|  Unknown|       Unknown|     Unknown|      Unknown|                     1|                   1|                    1|               0|                        0|            0|            1|                         0|                         0|                    0|              0|             Unknown|        2017-03-02|        2023-02-13|                   1|                         1|                         1|\n",
            "|d53b42d8-30ea-49b...|0eb0b96e-ef2f-443...|2017-08-01|     6.45|  8.0|       8.0|    1|1.55|           0.0|                0.0|            0.0|           1|  2017-08-01|  2017-08-01|                1|  Unknown|       Unknown|     Unknown|      Unknown|                     1|                   1|                    1|               0|                        0|            0|            1|                         0|                         0|                    0|              0|Sandwich με Παστράμι|        2017-06-29|        2023-11-22|                   0|                         0|                         0|\n",
            "|c891dcdb-7fca-432...|3e30a569-a3b2-48e...|2017-08-01|     3.23|  4.0|       4.0|    1|0.77|           0.0|                0.0|            0.0|           1|  2017-08-01|  2017-08-01|                1|  Unknown|       Unknown|     Unknown|      Unknown|                     1|                   1|                    1|               0|                        0|            0|            1|                         0|                         0|                    0|              0|       ΚΑΦΕΣ ΦΙΛΤΡΟΥ|        2017-03-02|        2023-02-13|                   0|                         0|                         0|\n",
            "|7dfda4f7-af0a-4b2...|3e30a569-a3b2-48e...|2017-08-01|     2.82|  3.5|       3.5|    1|0.68|           0.0|                0.0|            0.0|           1|  2017-08-01|  2017-08-01|                1|  Unknown|       Unknown|     Unknown|      Unknown|                     1|                   1|                    1|               0|                        0|            0|            1|                         0|                         0|                    0|              0|          Cappuccino|        2017-03-02|        2023-02-13|                   0|                         0|                         0|\n",
            "|1a485b49-37dd-4fa...|3e30a569-a3b2-48e...|2017-08-01|     3.23|  4.0|       4.0|    1|0.77|           0.0|                0.0|            0.0|           1|  2017-08-01|  2017-08-01|                1|  Unknown|       Unknown|     Unknown|      Unknown|                     1|                   1|                    1|               0|                        0|            0|            1|                         0|                         0|                    0|              0|               Latte|        2017-03-02|        2023-02-13|                   0|                         0|                         0|\n",
            "|536fb66c-f03c-40a...|329a2abc-e1c8-421...|2017-08-01|     6.45|  8.0|       4.0|    2|1.55|           0.0|                0.0|            0.0|           1|  2017-08-01|  2017-08-01|                1|  Unknown|       Unknown|     Unknown|      Unknown|                     1|                   1|                    1|               0|                        0|            0|            1|                         0|                         0|                    0|              0|     Freddo Espresso|        2017-03-02|        2023-02-13|                   0|                         0|                         0|\n",
            "|7e351ca1-e808-4b6...|329a2abc-e1c8-421...|2017-08-01|      0.0|  0.0|       0.0|    2| 0.0|           0.0|                0.0|            0.0|           1|  2017-08-01|  2017-08-01|                1|  Unknown|       Unknown|     Unknown|      Unknown|                     1|                   1|                    1|               0|                        0|            0|            1|                         0|                         0|                    0|              0|             Unknown|        2017-03-02|        2023-02-13|                   1|                         1|                         1|\n",
            "|544d55df-c6bd-492...|0eb0b96e-ef2f-443...|2017-08-01|    10.48| 13.0|      13.0|    1|2.52|           0.0|                0.0|            0.0|           1|  2017-08-01|  2017-08-01|                1|  Unknown|       Unknown|     Unknown|      Unknown|                     1|                   1|                    1|               0|                        0|            0|            1|                         0|                         0|                    0|              0|Bruschetta με Por...|        2017-03-06|        2023-02-13|                   0|                         0|                         0|\n",
            "|df66e474-3c08-488...|3e30a569-a3b2-48e...|2017-08-01|    14.52| 18.0|       9.0|    2|3.48|           0.0|                0.0|            0.0|           1|  2017-08-01|  2017-08-01|                1|  Unknown|       Unknown|     Unknown|      Unknown|                     1|                   1|                    1|               0|                        0|            0|            1|                         0|                         0|                    0|              0|Mini Tacos κοτόπουλο|        2017-03-06|        2022-07-18|                   0|                         0|                         0|\n",
            "|8d9c70f0-6cbe-4db...|3e30a569-a3b2-48e...|2017-08-01|     1.61|  2.0|       2.0|    1|0.39|           0.0|                0.0|            0.0|           1|  2017-08-01|  2017-08-01|                1|  Unknown|       Unknown|     Unknown|      Unknown|                     1|                   1|                    1|               0|                        0|            0|            1|                         0|                         0|                    0|              0|                ΨΩΜΙ|        2017-03-07|        2023-02-15|                   0|                         0|                         0|\n",
            "|f4c0513e-2596-48d...|329a2abc-e1c8-421...|2017-08-01|     6.45|  8.0|       8.0|    1|1.55|           0.0|                0.0|            0.0|           1|  2017-08-01|  2017-08-01|                1|  Unknown|       Unknown|     Unknown|      Unknown|                     1|                   1|                    1|               0|                        0|            0|            1|                         0|                         0|                    0|              0|Mini brioche Σολομου|        2017-06-29|        2023-02-13|                   0|                         0|                         0|\n",
            "|ea4f3e76-dc71-4ee...|329a2abc-e1c8-421...|2017-08-01|     7.26|  9.0|       9.0|    1|1.74|           0.0|                0.0|            0.0|           1|  2017-08-01|  2017-08-01|                1|  Unknown|       Unknown|     Unknown|      Unknown|                     1|                   1|                    1|               0|                        0|            0|            1|                         0|                         0|                    0|              0|Πλατο Φρουτον Εποχης|        2017-06-29|        2023-02-13|                   0|                         0|                         0|\n",
            "|052eab85-4ed1-4f4...|3e30a569-a3b2-48e...|2017-08-01|     2.82|  3.5|       3.5|    1|0.68|           0.0|                0.0|            0.0|           1|  2017-08-01|  2017-08-01|                1|  Unknown|       Unknown|     Unknown|      Unknown|                     1|                   1|                    1|               0|                        0|            0|            1|                         0|                         0|                    0|              0|          Cappuccino|        2017-03-02|        2023-02-13|                   0|                         0|                         0|\n",
            "|e5d5f495-2071-42f...|446fa4af-ceb8-46b...|2017-08-01|     2.02|  2.5|       2.5|    1|0.48|           0.0|                0.0|            0.0|           1|  2017-08-01|  2017-08-01|                1|  Unknown|       Unknown|     Unknown|      Unknown|                     1|                   1|                    1|               0|                        0|            0|            1|                         0|                         0|                    0|              0|      Espresso Decaf|        2017-03-02|        2023-02-13|                   0|                         0|                         0|\n",
            "|4aa2ad1d-bc85-41d...|3e30a569-a3b2-48e...|2017-08-01|     9.68| 12.0|      12.0|    1|2.32|           0.0|                0.0|            0.0|           1|  2017-08-01|  2017-08-01|                1|  Unknown|       Unknown|     Unknown|      Unknown|                     1|                   1|                    1|               0|                        0|            0|            1|                         0|                         0|                    0|              0|   Mini beef burgers|        2017-03-06|        2022-07-18|                   0|                         0|                         0|\n",
            "+--------------------+--------------------+----------+---------+-----+----------+-----+----+--------------+-------------------+---------------+------------+------------+------------+-----------------+---------+--------------+------------+-------------+----------------------+--------------------+---------------------+----------------+-------------------------+-------------+-------------+--------------------------+--------------------------+---------------------+---------------+--------------------+------------------+------------------+--------------------+--------------------------+--------------------------+\n",
            "only showing top 25 rows\n",
            "\n"
          ]
        }
      ]
    },
    {
      "cell_type": "code",
      "source": [
        "import pyspark.pandas as ps\n",
        "\n",
        "# Converting a pandas DataFrame to a PySpark DataFrame\n",
        "ps_df_order_details = ps.from_pandas(df_order_details)\n",
        "spark_df = ps_df_order_details.to_spark()"
      ],
      "metadata": {
        "id": "Nv_O7HZgxGuN"
      },
      "execution_count": null,
      "outputs": []
    },
    {
      "cell_type": "code",
      "source": [
        "spark_df.show(25)"
      ],
      "metadata": {
        "id": "sZpY54sazAXb"
      },
      "execution_count": null,
      "outputs": []
    },
    {
      "cell_type": "markdown",
      "source": [
        "# Merging DataFrames"
      ],
      "metadata": {
        "id": "MW9uDYtcpxd1"
      }
    },
    {
      "cell_type": "markdown",
      "source": [
        "# Load CSV dfs"
      ],
      "metadata": {
        "id": "57-wWlKrWI5d"
      }
    },
    {
      "cell_type": "code",
      "source": [
        "import pandas as pd\n",
        "\n",
        "df_orders_final = pd.read_csv('/content/drive/MyDrive/orders_final_clean.csv')\n",
        "\n",
        "df_orders_final.shape"
      ],
      "metadata": {
        "colab": {
          "base_uri": "https://localhost:8080/"
        },
        "id": "WJlUKjKMVtHa",
        "outputId": "a41c344b-068c-4110-e291-26decc0ead95"
      },
      "execution_count": 65,
      "outputs": [
        {
          "output_type": "execute_result",
          "data": {
            "text/plain": [
              "(278696, 13)"
            ]
          },
          "metadata": {},
          "execution_count": 65
        }
      ]
    },
    {
      "cell_type": "code",
      "source": [
        "df_orders = df_orders_final.copy()"
      ],
      "metadata": {
        "id": "bepqO5AmXhSP"
      },
      "execution_count": 66,
      "outputs": []
    },
    {
      "cell_type": "code",
      "source": [
        "df_orders.columns ,df_orders.shape"
      ],
      "metadata": {
        "colab": {
          "base_uri": "https://localhost:8080/"
        },
        "id": "d6Iu095bXnCB",
        "outputId": "9dfa4b62-ac8a-445b-8410-b89fc51e2fcd"
      },
      "execution_count": 67,
      "outputs": [
        {
          "output_type": "execute_result",
          "data": {
            "text/plain": [
              "(Index(['oid', 'odate', 'pos', 'paid_date', 'ocreated_at', 'oupdated_at',\n",
              "        'ostatus_Merged', 'ostatus_Paid', 'ostatus_Printed Cancelled',\n",
              "        'ostatus_Printed Open', 'ostatus_Unpaid', 'ostatus_Wasted',\n",
              "        'order_uname'],\n",
              "       dtype='object'),\n",
              " (278696, 13))"
            ]
          },
          "metadata": {},
          "execution_count": 67
        }
      ]
    },
    {
      "cell_type": "code",
      "source": [
        "df_order_details_clean = pd.read_csv('/content/drive/MyDrive/order_details_clean.csv')\n",
        "\n",
        "df_order_details_clean.shape"
      ],
      "metadata": {
        "colab": {
          "base_uri": "https://localhost:8080/"
        },
        "id": "AeHmjImlV-a8",
        "outputId": "05908366-4e40-4d1d-eb9b-7fab49e0172e"
      },
      "execution_count": 68,
      "outputs": [
        {
          "output_type": "execute_result",
          "data": {
            "text/plain": [
              "(2000248, 36)"
            ]
          },
          "metadata": {},
          "execution_count": 68
        }
      ]
    },
    {
      "cell_type": "code",
      "source": [
        "df_order_details = df_order_details_clean.copy()"
      ],
      "metadata": {
        "id": "et_Bo6gOXwIF"
      },
      "execution_count": 69,
      "outputs": []
    },
    {
      "cell_type": "code",
      "source": [
        "df_order_details_clean.columns, df_order_details_clean.shape"
      ],
      "metadata": {
        "colab": {
          "base_uri": "https://localhost:8080/"
        },
        "id": "CLich5MCX4Ko",
        "outputId": "ec4001bb-79c6-406f-a46f-60bbe3dd29ec"
      },
      "execution_count": 77,
      "outputs": [
        {
          "output_type": "execute_result",
          "data": {
            "text/plain": [
              "(Index(['odid', 'ogid', 'oddate', 'net_price', 'price', 'unit_price', 'units',\n",
              "        'vat', 'vat_percentage', 'discount_percentage', 'discount_amount',\n",
              "        'payment_type', 'odcreated_at', 'odupdated_at', 'pos_uname_missing',\n",
              "        'pos_uname', 'discount_uname', 'cancel_uname', 'payment_uname',\n",
              "        'discount_uname_missing', 'cancel_uname_missing',\n",
              "        'payment_uname_missing', 'generic_discount',\n",
              "        'self_consumption_discount', 'odstatus_open', 'odstatus_paid',\n",
              "        'odstatus_partially_printed', 'odstatus_printed_cancelled',\n",
              "        'odstatus_printed_open', 'odstatus_Unpaid', 'product_name',\n",
              "        'product_created_at', 'product_updated_at', 'product_name_missing',\n",
              "        'product_created_at_missing', 'product_updated_at_missing'],\n",
              "       dtype='object'),\n",
              " (2000248, 36))"
            ]
          },
          "metadata": {},
          "execution_count": 77
        }
      ]
    },
    {
      "cell_type": "markdown",
      "source": [
        "# Merging DataFrames: Merging df_orders with df_order_details on the ogid and oid"
      ],
      "metadata": {
        "id": "eOnr_S4M-6BE"
      }
    },
    {
      "cell_type": "code",
      "source": [
        "df_orders.shape, df_order_details.shape"
      ],
      "metadata": {
        "colab": {
          "base_uri": "https://localhost:8080/"
        },
        "id": "X-9Iqnxkv8d-",
        "outputId": "88f648ee-375b-4213-95ec-298ebd17b4f3"
      },
      "execution_count": 79,
      "outputs": [
        {
          "output_type": "execute_result",
          "data": {
            "text/plain": [
              "((278696, 13), (2000248, 36))"
            ]
          },
          "metadata": {},
          "execution_count": 79
        }
      ]
    },
    {
      "cell_type": "code",
      "source": [
        "import gc\n",
        "\n",
        "# Merging df_orders with df_order_details\n",
        "merged_df = df_orders.merge(df_order_details, left_on='oid', right_on='ogid', how='left')\n",
        "\n",
        "# Displaying the shape of the merged DataFrame\n",
        "print(\"Shape of merged DataFrame:\", merged_df.shape)\n",
        "\n",
        "\n",
        "gc.collect()"
      ],
      "metadata": {
        "colab": {
          "base_uri": "https://localhost:8080/"
        },
        "id": "Ikwj3FKVqO4w",
        "outputId": "62965497-a695-40ef-a994-c7c8f36698ab"
      },
      "execution_count": 70,
      "outputs": [
        {
          "output_type": "stream",
          "name": "stdout",
          "text": [
            "Shape of merged DataFrame: (1992840, 49)\n"
          ]
        },
        {
          "output_type": "execute_result",
          "data": {
            "text/plain": [
              "65"
            ]
          },
          "metadata": {},
          "execution_count": 70
        }
      ]
    },
    {
      "cell_type": "code",
      "source": [
        "df = merged_df.copy()"
      ],
      "metadata": {
        "id": "4KnRvQN1wRbU"
      },
      "execution_count": 71,
      "outputs": []
    },
    {
      "cell_type": "code",
      "source": [
        "df.columns, df.shape"
      ],
      "metadata": {
        "colab": {
          "base_uri": "https://localhost:8080/"
        },
        "id": "v9j_kRz7yt3J",
        "outputId": "ae79e4e1-7040-42d3-c1c0-b77718b62701"
      },
      "execution_count": 73,
      "outputs": [
        {
          "output_type": "execute_result",
          "data": {
            "text/plain": [
              "(Index(['oid', 'odate', 'pos', 'paid_date', 'ocreated_at', 'oupdated_at',\n",
              "        'ostatus_Merged', 'ostatus_Paid', 'ostatus_Printed Cancelled',\n",
              "        'ostatus_Printed Open', 'ostatus_Unpaid', 'ostatus_Wasted',\n",
              "        'order_uname', 'odid', 'ogid', 'oddate', 'net_price', 'price',\n",
              "        'unit_price', 'units', 'vat', 'vat_percentage', 'discount_percentage',\n",
              "        'discount_amount', 'payment_type', 'odcreated_at', 'odupdated_at',\n",
              "        'pos_uname_missing', 'pos_uname', 'discount_uname', 'cancel_uname',\n",
              "        'payment_uname', 'discount_uname_missing', 'cancel_uname_missing',\n",
              "        'payment_uname_missing', 'generic_discount',\n",
              "        'self_consumption_discount', 'odstatus_open', 'odstatus_paid',\n",
              "        'odstatus_partially_printed', 'odstatus_printed_cancelled',\n",
              "        'odstatus_printed_open', 'odstatus_Unpaid', 'product_name',\n",
              "        'product_created_at', 'product_updated_at', 'product_name_missing',\n",
              "        'product_created_at_missing', 'product_updated_at_missing'],\n",
              "       dtype='object'),\n",
              " (1992840, 49))"
            ]
          },
          "metadata": {},
          "execution_count": 73
        }
      ]
    },
    {
      "cell_type": "code",
      "source": [
        "df.head()"
      ],
      "metadata": {
        "colab": {
          "base_uri": "https://localhost:8080/",
          "height": 533
        },
        "id": "AlR0RMEywmrf",
        "outputId": "83fd4360-d085-4696-a478-41b60b5b37af"
      },
      "execution_count": 74,
      "outputs": [
        {
          "output_type": "execute_result",
          "data": {
            "text/plain": [
              "                                    oid       odate  pos   paid_date  \\\n",
              "0  374c214d-52f8-4bdd-8d30-d225b3127cc3  2017-03-08    6  2017-03-08   \n",
              "1  374c214d-52f8-4bdd-8d30-d225b3127cc3  2017-03-08    6  2017-03-08   \n",
              "2  374c214d-52f8-4bdd-8d30-d225b3127cc3  2017-03-08    6  2017-03-08   \n",
              "3  374c214d-52f8-4bdd-8d30-d225b3127cc3  2017-03-08    6  2017-03-08   \n",
              "4  374c214d-52f8-4bdd-8d30-d225b3127cc3  2017-03-08    6  2017-03-08   \n",
              "\n",
              "  ocreated_at oupdated_at  ostatus_Merged  ostatus_Paid  \\\n",
              "0  2017-03-08  2017-03-08               0             1   \n",
              "1  2017-03-08  2017-03-08               0             1   \n",
              "2  2017-03-08  2017-03-08               0             1   \n",
              "3  2017-03-08  2017-03-08               0             1   \n",
              "4  2017-03-08  2017-03-08               0             1   \n",
              "\n",
              "   ostatus_Printed Cancelled  ostatus_Printed Open  ...  \\\n",
              "0                          0                     0  ...   \n",
              "1                          0                     0  ...   \n",
              "2                          0                     0  ...   \n",
              "3                          0                     0  ...   \n",
              "4                          0                     0  ...   \n",
              "\n",
              "   odstatus_partially_printed  odstatus_printed_cancelled  \\\n",
              "0                         0.0                         0.0   \n",
              "1                         0.0                         0.0   \n",
              "2                         0.0                         0.0   \n",
              "3                         0.0                         0.0   \n",
              "4                         0.0                         0.0   \n",
              "\n",
              "  odstatus_printed_open odstatus_Unpaid                  product_name  \\\n",
              "0                   0.0             0.0                          ΨΩΜΙ   \n",
              "1                   0.0             0.0               Gravlax Σωλομός   \n",
              "2                   0.0             0.0                      Vitamina   \n",
              "3                   0.0             0.0       Πατζάρι στον ξυλόφουρνο   \n",
              "4                   0.0             0.0  Chateaubriand 2 ατόμων 500gr   \n",
              "\n",
              "  product_created_at  product_updated_at  product_name_missing  \\\n",
              "0         2017-03-07          2023-02-15                   0.0   \n",
              "1         2017-03-06          2023-02-13                   0.0   \n",
              "2         2017-03-06          2023-12-09                   0.0   \n",
              "3         2017-03-06          2023-02-13                   0.0   \n",
              "4         2017-03-06          2023-02-13                   0.0   \n",
              "\n",
              "   product_created_at_missing  product_updated_at_missing  \n",
              "0                         0.0                         0.0  \n",
              "1                         0.0                         0.0  \n",
              "2                         0.0                         0.0  \n",
              "3                         0.0                         0.0  \n",
              "4                         0.0                         0.0  \n",
              "\n",
              "[5 rows x 49 columns]"
            ],
            "text/html": [
              "\n",
              "  <div id=\"df-97da8d49-72d1-4b66-b5a9-83e15ced5049\" class=\"colab-df-container\">\n",
              "    <div>\n",
              "<style scoped>\n",
              "    .dataframe tbody tr th:only-of-type {\n",
              "        vertical-align: middle;\n",
              "    }\n",
              "\n",
              "    .dataframe tbody tr th {\n",
              "        vertical-align: top;\n",
              "    }\n",
              "\n",
              "    .dataframe thead th {\n",
              "        text-align: right;\n",
              "    }\n",
              "</style>\n",
              "<table border=\"1\" class=\"dataframe\">\n",
              "  <thead>\n",
              "    <tr style=\"text-align: right;\">\n",
              "      <th></th>\n",
              "      <th>oid</th>\n",
              "      <th>odate</th>\n",
              "      <th>pos</th>\n",
              "      <th>paid_date</th>\n",
              "      <th>ocreated_at</th>\n",
              "      <th>oupdated_at</th>\n",
              "      <th>ostatus_Merged</th>\n",
              "      <th>ostatus_Paid</th>\n",
              "      <th>ostatus_Printed Cancelled</th>\n",
              "      <th>ostatus_Printed Open</th>\n",
              "      <th>...</th>\n",
              "      <th>odstatus_partially_printed</th>\n",
              "      <th>odstatus_printed_cancelled</th>\n",
              "      <th>odstatus_printed_open</th>\n",
              "      <th>odstatus_Unpaid</th>\n",
              "      <th>product_name</th>\n",
              "      <th>product_created_at</th>\n",
              "      <th>product_updated_at</th>\n",
              "      <th>product_name_missing</th>\n",
              "      <th>product_created_at_missing</th>\n",
              "      <th>product_updated_at_missing</th>\n",
              "    </tr>\n",
              "  </thead>\n",
              "  <tbody>\n",
              "    <tr>\n",
              "      <th>0</th>\n",
              "      <td>374c214d-52f8-4bdd-8d30-d225b3127cc3</td>\n",
              "      <td>2017-03-08</td>\n",
              "      <td>6</td>\n",
              "      <td>2017-03-08</td>\n",
              "      <td>2017-03-08</td>\n",
              "      <td>2017-03-08</td>\n",
              "      <td>0</td>\n",
              "      <td>1</td>\n",
              "      <td>0</td>\n",
              "      <td>0</td>\n",
              "      <td>...</td>\n",
              "      <td>0.0</td>\n",
              "      <td>0.0</td>\n",
              "      <td>0.0</td>\n",
              "      <td>0.0</td>\n",
              "      <td>ΨΩΜΙ</td>\n",
              "      <td>2017-03-07</td>\n",
              "      <td>2023-02-15</td>\n",
              "      <td>0.0</td>\n",
              "      <td>0.0</td>\n",
              "      <td>0.0</td>\n",
              "    </tr>\n",
              "    <tr>\n",
              "      <th>1</th>\n",
              "      <td>374c214d-52f8-4bdd-8d30-d225b3127cc3</td>\n",
              "      <td>2017-03-08</td>\n",
              "      <td>6</td>\n",
              "      <td>2017-03-08</td>\n",
              "      <td>2017-03-08</td>\n",
              "      <td>2017-03-08</td>\n",
              "      <td>0</td>\n",
              "      <td>1</td>\n",
              "      <td>0</td>\n",
              "      <td>0</td>\n",
              "      <td>...</td>\n",
              "      <td>0.0</td>\n",
              "      <td>0.0</td>\n",
              "      <td>0.0</td>\n",
              "      <td>0.0</td>\n",
              "      <td>Gravlax Σωλομός</td>\n",
              "      <td>2017-03-06</td>\n",
              "      <td>2023-02-13</td>\n",
              "      <td>0.0</td>\n",
              "      <td>0.0</td>\n",
              "      <td>0.0</td>\n",
              "    </tr>\n",
              "    <tr>\n",
              "      <th>2</th>\n",
              "      <td>374c214d-52f8-4bdd-8d30-d225b3127cc3</td>\n",
              "      <td>2017-03-08</td>\n",
              "      <td>6</td>\n",
              "      <td>2017-03-08</td>\n",
              "      <td>2017-03-08</td>\n",
              "      <td>2017-03-08</td>\n",
              "      <td>0</td>\n",
              "      <td>1</td>\n",
              "      <td>0</td>\n",
              "      <td>0</td>\n",
              "      <td>...</td>\n",
              "      <td>0.0</td>\n",
              "      <td>0.0</td>\n",
              "      <td>0.0</td>\n",
              "      <td>0.0</td>\n",
              "      <td>Vitamina</td>\n",
              "      <td>2017-03-06</td>\n",
              "      <td>2023-12-09</td>\n",
              "      <td>0.0</td>\n",
              "      <td>0.0</td>\n",
              "      <td>0.0</td>\n",
              "    </tr>\n",
              "    <tr>\n",
              "      <th>3</th>\n",
              "      <td>374c214d-52f8-4bdd-8d30-d225b3127cc3</td>\n",
              "      <td>2017-03-08</td>\n",
              "      <td>6</td>\n",
              "      <td>2017-03-08</td>\n",
              "      <td>2017-03-08</td>\n",
              "      <td>2017-03-08</td>\n",
              "      <td>0</td>\n",
              "      <td>1</td>\n",
              "      <td>0</td>\n",
              "      <td>0</td>\n",
              "      <td>...</td>\n",
              "      <td>0.0</td>\n",
              "      <td>0.0</td>\n",
              "      <td>0.0</td>\n",
              "      <td>0.0</td>\n",
              "      <td>Πατζάρι στον ξυλόφουρνο</td>\n",
              "      <td>2017-03-06</td>\n",
              "      <td>2023-02-13</td>\n",
              "      <td>0.0</td>\n",
              "      <td>0.0</td>\n",
              "      <td>0.0</td>\n",
              "    </tr>\n",
              "    <tr>\n",
              "      <th>4</th>\n",
              "      <td>374c214d-52f8-4bdd-8d30-d225b3127cc3</td>\n",
              "      <td>2017-03-08</td>\n",
              "      <td>6</td>\n",
              "      <td>2017-03-08</td>\n",
              "      <td>2017-03-08</td>\n",
              "      <td>2017-03-08</td>\n",
              "      <td>0</td>\n",
              "      <td>1</td>\n",
              "      <td>0</td>\n",
              "      <td>0</td>\n",
              "      <td>...</td>\n",
              "      <td>0.0</td>\n",
              "      <td>0.0</td>\n",
              "      <td>0.0</td>\n",
              "      <td>0.0</td>\n",
              "      <td>Chateaubriand 2 ατόμων 500gr</td>\n",
              "      <td>2017-03-06</td>\n",
              "      <td>2023-02-13</td>\n",
              "      <td>0.0</td>\n",
              "      <td>0.0</td>\n",
              "      <td>0.0</td>\n",
              "    </tr>\n",
              "  </tbody>\n",
              "</table>\n",
              "<p>5 rows × 49 columns</p>\n",
              "</div>\n",
              "    <div class=\"colab-df-buttons\">\n",
              "\n",
              "  <div class=\"colab-df-container\">\n",
              "    <button class=\"colab-df-convert\" onclick=\"convertToInteractive('df-97da8d49-72d1-4b66-b5a9-83e15ced5049')\"\n",
              "            title=\"Convert this dataframe to an interactive table.\"\n",
              "            style=\"display:none;\">\n",
              "\n",
              "  <svg xmlns=\"http://www.w3.org/2000/svg\" height=\"24px\" viewBox=\"0 -960 960 960\">\n",
              "    <path d=\"M120-120v-720h720v720H120Zm60-500h600v-160H180v160Zm220 220h160v-160H400v160Zm0 220h160v-160H400v160ZM180-400h160v-160H180v160Zm440 0h160v-160H620v160ZM180-180h160v-160H180v160Zm440 0h160v-160H620v160Z\"/>\n",
              "  </svg>\n",
              "    </button>\n",
              "\n",
              "  <style>\n",
              "    .colab-df-container {\n",
              "      display:flex;\n",
              "      gap: 12px;\n",
              "    }\n",
              "\n",
              "    .colab-df-convert {\n",
              "      background-color: #E8F0FE;\n",
              "      border: none;\n",
              "      border-radius: 50%;\n",
              "      cursor: pointer;\n",
              "      display: none;\n",
              "      fill: #1967D2;\n",
              "      height: 32px;\n",
              "      padding: 0 0 0 0;\n",
              "      width: 32px;\n",
              "    }\n",
              "\n",
              "    .colab-df-convert:hover {\n",
              "      background-color: #E2EBFA;\n",
              "      box-shadow: 0px 1px 2px rgba(60, 64, 67, 0.3), 0px 1px 3px 1px rgba(60, 64, 67, 0.15);\n",
              "      fill: #174EA6;\n",
              "    }\n",
              "\n",
              "    .colab-df-buttons div {\n",
              "      margin-bottom: 4px;\n",
              "    }\n",
              "\n",
              "    [theme=dark] .colab-df-convert {\n",
              "      background-color: #3B4455;\n",
              "      fill: #D2E3FC;\n",
              "    }\n",
              "\n",
              "    [theme=dark] .colab-df-convert:hover {\n",
              "      background-color: #434B5C;\n",
              "      box-shadow: 0px 1px 3px 1px rgba(0, 0, 0, 0.15);\n",
              "      filter: drop-shadow(0px 1px 2px rgba(0, 0, 0, 0.3));\n",
              "      fill: #FFFFFF;\n",
              "    }\n",
              "  </style>\n",
              "\n",
              "    <script>\n",
              "      const buttonEl =\n",
              "        document.querySelector('#df-97da8d49-72d1-4b66-b5a9-83e15ced5049 button.colab-df-convert');\n",
              "      buttonEl.style.display =\n",
              "        google.colab.kernel.accessAllowed ? 'block' : 'none';\n",
              "\n",
              "      async function convertToInteractive(key) {\n",
              "        const element = document.querySelector('#df-97da8d49-72d1-4b66-b5a9-83e15ced5049');\n",
              "        const dataTable =\n",
              "          await google.colab.kernel.invokeFunction('convertToInteractive',\n",
              "                                                    [key], {});\n",
              "        if (!dataTable) return;\n",
              "\n",
              "        const docLinkHtml = 'Like what you see? Visit the ' +\n",
              "          '<a target=\"_blank\" href=https://colab.research.google.com/notebooks/data_table.ipynb>data table notebook</a>'\n",
              "          + ' to learn more about interactive tables.';\n",
              "        element.innerHTML = '';\n",
              "        dataTable['output_type'] = 'display_data';\n",
              "        await google.colab.output.renderOutput(dataTable, element);\n",
              "        const docLink = document.createElement('div');\n",
              "        docLink.innerHTML = docLinkHtml;\n",
              "        element.appendChild(docLink);\n",
              "      }\n",
              "    </script>\n",
              "  </div>\n",
              "\n",
              "\n",
              "<div id=\"df-b1245dd8-4600-4ae4-b57b-e368781b5255\">\n",
              "  <button class=\"colab-df-quickchart\" onclick=\"quickchart('df-b1245dd8-4600-4ae4-b57b-e368781b5255')\"\n",
              "            title=\"Suggest charts\"\n",
              "            style=\"display:none;\">\n",
              "\n",
              "<svg xmlns=\"http://www.w3.org/2000/svg\" height=\"24px\"viewBox=\"0 0 24 24\"\n",
              "     width=\"24px\">\n",
              "    <g>\n",
              "        <path d=\"M19 3H5c-1.1 0-2 .9-2 2v14c0 1.1.9 2 2 2h14c1.1 0 2-.9 2-2V5c0-1.1-.9-2-2-2zM9 17H7v-7h2v7zm4 0h-2V7h2v10zm4 0h-2v-4h2v4z\"/>\n",
              "    </g>\n",
              "</svg>\n",
              "  </button>\n",
              "\n",
              "<style>\n",
              "  .colab-df-quickchart {\n",
              "      --bg-color: #E8F0FE;\n",
              "      --fill-color: #1967D2;\n",
              "      --hover-bg-color: #E2EBFA;\n",
              "      --hover-fill-color: #174EA6;\n",
              "      --disabled-fill-color: #AAA;\n",
              "      --disabled-bg-color: #DDD;\n",
              "  }\n",
              "\n",
              "  [theme=dark] .colab-df-quickchart {\n",
              "      --bg-color: #3B4455;\n",
              "      --fill-color: #D2E3FC;\n",
              "      --hover-bg-color: #434B5C;\n",
              "      --hover-fill-color: #FFFFFF;\n",
              "      --disabled-bg-color: #3B4455;\n",
              "      --disabled-fill-color: #666;\n",
              "  }\n",
              "\n",
              "  .colab-df-quickchart {\n",
              "    background-color: var(--bg-color);\n",
              "    border: none;\n",
              "    border-radius: 50%;\n",
              "    cursor: pointer;\n",
              "    display: none;\n",
              "    fill: var(--fill-color);\n",
              "    height: 32px;\n",
              "    padding: 0;\n",
              "    width: 32px;\n",
              "  }\n",
              "\n",
              "  .colab-df-quickchart:hover {\n",
              "    background-color: var(--hover-bg-color);\n",
              "    box-shadow: 0 1px 2px rgba(60, 64, 67, 0.3), 0 1px 3px 1px rgba(60, 64, 67, 0.15);\n",
              "    fill: var(--button-hover-fill-color);\n",
              "  }\n",
              "\n",
              "  .colab-df-quickchart-complete:disabled,\n",
              "  .colab-df-quickchart-complete:disabled:hover {\n",
              "    background-color: var(--disabled-bg-color);\n",
              "    fill: var(--disabled-fill-color);\n",
              "    box-shadow: none;\n",
              "  }\n",
              "\n",
              "  .colab-df-spinner {\n",
              "    border: 2px solid var(--fill-color);\n",
              "    border-color: transparent;\n",
              "    border-bottom-color: var(--fill-color);\n",
              "    animation:\n",
              "      spin 1s steps(1) infinite;\n",
              "  }\n",
              "\n",
              "  @keyframes spin {\n",
              "    0% {\n",
              "      border-color: transparent;\n",
              "      border-bottom-color: var(--fill-color);\n",
              "      border-left-color: var(--fill-color);\n",
              "    }\n",
              "    20% {\n",
              "      border-color: transparent;\n",
              "      border-left-color: var(--fill-color);\n",
              "      border-top-color: var(--fill-color);\n",
              "    }\n",
              "    30% {\n",
              "      border-color: transparent;\n",
              "      border-left-color: var(--fill-color);\n",
              "      border-top-color: var(--fill-color);\n",
              "      border-right-color: var(--fill-color);\n",
              "    }\n",
              "    40% {\n",
              "      border-color: transparent;\n",
              "      border-right-color: var(--fill-color);\n",
              "      border-top-color: var(--fill-color);\n",
              "    }\n",
              "    60% {\n",
              "      border-color: transparent;\n",
              "      border-right-color: var(--fill-color);\n",
              "    }\n",
              "    80% {\n",
              "      border-color: transparent;\n",
              "      border-right-color: var(--fill-color);\n",
              "      border-bottom-color: var(--fill-color);\n",
              "    }\n",
              "    90% {\n",
              "      border-color: transparent;\n",
              "      border-bottom-color: var(--fill-color);\n",
              "    }\n",
              "  }\n",
              "</style>\n",
              "\n",
              "  <script>\n",
              "    async function quickchart(key) {\n",
              "      const quickchartButtonEl =\n",
              "        document.querySelector('#' + key + ' button');\n",
              "      quickchartButtonEl.disabled = true;  // To prevent multiple clicks.\n",
              "      quickchartButtonEl.classList.add('colab-df-spinner');\n",
              "      try {\n",
              "        const charts = await google.colab.kernel.invokeFunction(\n",
              "            'suggestCharts', [key], {});\n",
              "      } catch (error) {\n",
              "        console.error('Error during call to suggestCharts:', error);\n",
              "      }\n",
              "      quickchartButtonEl.classList.remove('colab-df-spinner');\n",
              "      quickchartButtonEl.classList.add('colab-df-quickchart-complete');\n",
              "    }\n",
              "    (() => {\n",
              "      let quickchartButtonEl =\n",
              "        document.querySelector('#df-b1245dd8-4600-4ae4-b57b-e368781b5255 button');\n",
              "      quickchartButtonEl.style.display =\n",
              "        google.colab.kernel.accessAllowed ? 'block' : 'none';\n",
              "    })();\n",
              "  </script>\n",
              "</div>\n",
              "    </div>\n",
              "  </div>\n"
            ]
          },
          "metadata": {},
          "execution_count": 74
        }
      ]
    },
    {
      "cell_type": "code",
      "source": [
        "df.isnull().sum()"
      ],
      "metadata": {
        "id": "xx_I57c3Ln3G",
        "colab": {
          "base_uri": "https://localhost:8080/"
        },
        "outputId": "95004aa6-3473-4324-a48e-91ba8a5dd06d"
      },
      "execution_count": 75,
      "outputs": [
        {
          "output_type": "execute_result",
          "data": {
            "text/plain": [
              "oid                              0\n",
              "odate                            0\n",
              "pos                              0\n",
              "paid_date                        0\n",
              "ocreated_at                      0\n",
              "oupdated_at                      0\n",
              "ostatus_Merged                   0\n",
              "ostatus_Paid                     0\n",
              "ostatus_Printed Cancelled        0\n",
              "ostatus_Printed Open             0\n",
              "ostatus_Unpaid                   0\n",
              "ostatus_Wasted                   0\n",
              "order_uname                      0\n",
              "odid                          1069\n",
              "ogid                          1069\n",
              "oddate                        1069\n",
              "net_price                     1069\n",
              "price                         1069\n",
              "unit_price                    1069\n",
              "units                         1069\n",
              "vat                           1069\n",
              "vat_percentage                1069\n",
              "discount_percentage           1069\n",
              "discount_amount               1069\n",
              "payment_type                  1069\n",
              "odcreated_at                  1069\n",
              "odupdated_at                  1069\n",
              "pos_uname_missing             1069\n",
              "pos_uname                     1069\n",
              "discount_uname                1069\n",
              "cancel_uname                  1069\n",
              "payment_uname                 1069\n",
              "discount_uname_missing        1069\n",
              "cancel_uname_missing          1069\n",
              "payment_uname_missing         1069\n",
              "generic_discount              1069\n",
              "self_consumption_discount     1069\n",
              "odstatus_open                 1069\n",
              "odstatus_paid                 1069\n",
              "odstatus_partially_printed    1069\n",
              "odstatus_printed_cancelled    1069\n",
              "odstatus_printed_open         1069\n",
              "odstatus_Unpaid               1069\n",
              "product_name                  1069\n",
              "product_created_at            1069\n",
              "product_updated_at            1069\n",
              "product_name_missing          1069\n",
              "product_created_at_missing    1069\n",
              "product_updated_at_missing    1069\n",
              "dtype: int64"
            ]
          },
          "metadata": {},
          "execution_count": 75
        }
      ]
    },
    {
      "cell_type": "code",
      "source": [
        "df.to_csv('/content/drive/MyDrive/order_meraged_order_details.csv', index=False)"
      ],
      "metadata": {
        "id": "BWJl_IYRpVh6"
      },
      "execution_count": 76,
      "outputs": []
    },
    {
      "cell_type": "markdown",
      "source": [
        "# Transform"
      ],
      "metadata": {
        "id": "JMlsx2pfkqFd"
      }
    },
    {
      "cell_type": "markdown",
      "source": [
        "# Optimization and Data cleaning"
      ],
      "metadata": {
        "id": "INt5bxRuk1OE"
      }
    },
    {
      "cell_type": "code",
      "source": [
        "import pandas as pd\n",
        "\n",
        "df_order_meraged_order_details = pd.read_csv('/content/drive/MyDrive/order_meraged_order_details.csv')\n",
        "\n",
        "df_order_meraged_order_details.columns, df_order_meraged_order_details.shape"
      ],
      "metadata": {
        "colab": {
          "base_uri": "https://localhost:8080/"
        },
        "id": "H2lBw0lfdHXg",
        "outputId": "ab6972a5-f332-4b8d-aaa3-f18e8813df20"
      },
      "execution_count": 2,
      "outputs": [
        {
          "output_type": "execute_result",
          "data": {
            "text/plain": [
              "(Index(['oid', 'odate', 'pos', 'paid_date', 'ocreated_at', 'oupdated_at',\n",
              "        'ostatus_Merged', 'ostatus_Paid', 'ostatus_Printed Cancelled',\n",
              "        'ostatus_Printed Open', 'ostatus_Unpaid', 'ostatus_Wasted',\n",
              "        'order_uname', 'odid', 'ogid', 'oddate', 'net_price', 'price',\n",
              "        'unit_price', 'units', 'vat', 'vat_percentage', 'discount_percentage',\n",
              "        'discount_amount', 'payment_type', 'odcreated_at', 'odupdated_at',\n",
              "        'pos_uname_missing', 'pos_uname', 'discount_uname', 'cancel_uname',\n",
              "        'payment_uname', 'discount_uname_missing', 'cancel_uname_missing',\n",
              "        'payment_uname_missing', 'generic_discount',\n",
              "        'self_consumption_discount', 'odstatus_open', 'odstatus_paid',\n",
              "        'odstatus_partially_printed', 'odstatus_printed_cancelled',\n",
              "        'odstatus_printed_open', 'odstatus_Unpaid', 'product_name',\n",
              "        'product_created_at', 'product_updated_at', 'product_name_missing',\n",
              "        'product_created_at_missing', 'product_updated_at_missing'],\n",
              "       dtype='object'),\n",
              " (1992840, 49))"
            ]
          },
          "metadata": {},
          "execution_count": 2
        }
      ]
    },
    {
      "cell_type": "code",
      "source": [
        "df = df_order_meraged_order_details.copy()\n",
        "\n",
        "df.columns, df.shape"
      ],
      "metadata": {
        "colab": {
          "base_uri": "https://localhost:8080/"
        },
        "id": "11vILGkBdToc",
        "outputId": "b8a68995-3c29-4b5b-b474-9ce8d5b47964"
      },
      "execution_count": 3,
      "outputs": [
        {
          "output_type": "execute_result",
          "data": {
            "text/plain": [
              "(Index(['oid', 'odate', 'pos', 'paid_date', 'ocreated_at', 'oupdated_at',\n",
              "        'ostatus_Merged', 'ostatus_Paid', 'ostatus_Printed Cancelled',\n",
              "        'ostatus_Printed Open', 'ostatus_Unpaid', 'ostatus_Wasted',\n",
              "        'order_uname', 'odid', 'ogid', 'oddate', 'net_price', 'price',\n",
              "        'unit_price', 'units', 'vat', 'vat_percentage', 'discount_percentage',\n",
              "        'discount_amount', 'payment_type', 'odcreated_at', 'odupdated_at',\n",
              "        'pos_uname_missing', 'pos_uname', 'discount_uname', 'cancel_uname',\n",
              "        'payment_uname', 'discount_uname_missing', 'cancel_uname_missing',\n",
              "        'payment_uname_missing', 'generic_discount',\n",
              "        'self_consumption_discount', 'odstatus_open', 'odstatus_paid',\n",
              "        'odstatus_partially_printed', 'odstatus_printed_cancelled',\n",
              "        'odstatus_printed_open', 'odstatus_Unpaid', 'product_name',\n",
              "        'product_created_at', 'product_updated_at', 'product_name_missing',\n",
              "        'product_created_at_missing', 'product_updated_at_missing'],\n",
              "       dtype='object'),\n",
              " (1992840, 49))"
            ]
          },
          "metadata": {},
          "execution_count": 3
        }
      ]
    },
    {
      "cell_type": "code",
      "source": [
        "df.isnull().sum()"
      ],
      "metadata": {
        "colab": {
          "base_uri": "https://localhost:8080/"
        },
        "id": "344RvR0ElBZ_",
        "outputId": "5dc334b4-ce32-4a2d-c679-1eb3c39a913d"
      },
      "execution_count": 4,
      "outputs": [
        {
          "output_type": "execute_result",
          "data": {
            "text/plain": [
              "oid                              0\n",
              "odate                            0\n",
              "pos                              0\n",
              "paid_date                        0\n",
              "ocreated_at                      0\n",
              "oupdated_at                      0\n",
              "ostatus_Merged                   0\n",
              "ostatus_Paid                     0\n",
              "ostatus_Printed Cancelled        0\n",
              "ostatus_Printed Open             0\n",
              "ostatus_Unpaid                   0\n",
              "ostatus_Wasted                   0\n",
              "order_uname                      0\n",
              "odid                          1069\n",
              "ogid                          1069\n",
              "oddate                        1069\n",
              "net_price                     1069\n",
              "price                         1069\n",
              "unit_price                    1069\n",
              "units                         1069\n",
              "vat                           1069\n",
              "vat_percentage                1069\n",
              "discount_percentage           1069\n",
              "discount_amount               1069\n",
              "payment_type                  1069\n",
              "odcreated_at                  1069\n",
              "odupdated_at                  1069\n",
              "pos_uname_missing             1069\n",
              "pos_uname                     1069\n",
              "discount_uname                1069\n",
              "cancel_uname                  1069\n",
              "payment_uname                 1069\n",
              "discount_uname_missing        1069\n",
              "cancel_uname_missing          1069\n",
              "payment_uname_missing         1069\n",
              "generic_discount              1069\n",
              "self_consumption_discount     1069\n",
              "odstatus_open                 1069\n",
              "odstatus_paid                 1069\n",
              "odstatus_partially_printed    1069\n",
              "odstatus_printed_cancelled    1069\n",
              "odstatus_printed_open         1069\n",
              "odstatus_Unpaid               1069\n",
              "product_name                  1069\n",
              "product_created_at            1069\n",
              "product_updated_at            1069\n",
              "product_name_missing          1069\n",
              "product_created_at_missing    1069\n",
              "product_updated_at_missing    1069\n",
              "dtype: int64"
            ]
          },
          "metadata": {},
          "execution_count": 4
        }
      ]
    },
    {
      "cell_type": "code",
      "source": [
        "df['odid'].value_counts(dropna=False, ascending=True)"
      ],
      "metadata": {
        "colab": {
          "base_uri": "https://localhost:8080/"
        },
        "id": "Vy-I5s41eF8t",
        "outputId": "443ccd95-3df2-4c6c-bb4f-16c1f5b0de7f"
      },
      "execution_count": 5,
      "outputs": [
        {
          "output_type": "execute_result",
          "data": {
            "text/plain": [
              "b68730e3-99db-4b36-8184-d200c4b9ba5a       1\n",
              "86ea7531-e97a-4e47-a5e5-e1c662a663e5       1\n",
              "69293cbf-2156-4e4f-b7d2-b4cce5d874bc       1\n",
              "3ad2e33f-0ed9-45da-a7a3-9b0bc022e48d       1\n",
              "8bf43b6a-62fc-46ab-994b-8a3b4e299ad7       1\n",
              "                                        ... \n",
              "18866b26-5904-4cfd-924c-0cdfe7a6ecec       1\n",
              "ed993bb3-8bc4-49e5-b573-bbfe55037f9c       1\n",
              "21bcf7f1-2be2-4ab6-815f-4928e13bd9d3       1\n",
              "3bddd04c-2275-4e89-b5ba-3dcd831bc610       1\n",
              "NaN                                     1069\n",
              "Name: odid, Length: 1991772, dtype: int64"
            ]
          },
          "metadata": {},
          "execution_count": 5
        }
      ]
    },
    {
      "cell_type": "code",
      "source": [
        "# Remove rows where 'odid' is NaN\n",
        "df = df.dropna(subset=['odid'])\n",
        "\n",
        "# Check the new shape of the DataFrame to confirm rows have been removed\n",
        "print(df.shape)"
      ],
      "metadata": {
        "colab": {
          "base_uri": "https://localhost:8080/"
        },
        "id": "peNPmEhsfKsW",
        "outputId": "6205649b-0512-481d-ba3f-4646064cbd57"
      },
      "execution_count": 6,
      "outputs": [
        {
          "output_type": "stream",
          "name": "stdout",
          "text": [
            "(1991771, 49)\n"
          ]
        }
      ]
    },
    {
      "cell_type": "code",
      "source": [
        "df.isnull().sum()"
      ],
      "metadata": {
        "colab": {
          "base_uri": "https://localhost:8080/"
        },
        "id": "8AntgA7FfQIb",
        "outputId": "d6dd5cbd-e4a8-4716-8cf2-14b39864fce7"
      },
      "execution_count": 7,
      "outputs": [
        {
          "output_type": "execute_result",
          "data": {
            "text/plain": [
              "oid                           0\n",
              "odate                         0\n",
              "pos                           0\n",
              "paid_date                     0\n",
              "ocreated_at                   0\n",
              "oupdated_at                   0\n",
              "ostatus_Merged                0\n",
              "ostatus_Paid                  0\n",
              "ostatus_Printed Cancelled     0\n",
              "ostatus_Printed Open          0\n",
              "ostatus_Unpaid                0\n",
              "ostatus_Wasted                0\n",
              "order_uname                   0\n",
              "odid                          0\n",
              "ogid                          0\n",
              "oddate                        0\n",
              "net_price                     0\n",
              "price                         0\n",
              "unit_price                    0\n",
              "units                         0\n",
              "vat                           0\n",
              "vat_percentage                0\n",
              "discount_percentage           0\n",
              "discount_amount               0\n",
              "payment_type                  0\n",
              "odcreated_at                  0\n",
              "odupdated_at                  0\n",
              "pos_uname_missing             0\n",
              "pos_uname                     0\n",
              "discount_uname                0\n",
              "cancel_uname                  0\n",
              "payment_uname                 0\n",
              "discount_uname_missing        0\n",
              "cancel_uname_missing          0\n",
              "payment_uname_missing         0\n",
              "generic_discount              0\n",
              "self_consumption_discount     0\n",
              "odstatus_open                 0\n",
              "odstatus_paid                 0\n",
              "odstatus_partially_printed    0\n",
              "odstatus_printed_cancelled    0\n",
              "odstatus_printed_open         0\n",
              "odstatus_Unpaid               0\n",
              "product_name                  0\n",
              "product_created_at            0\n",
              "product_updated_at            0\n",
              "product_name_missing          0\n",
              "product_created_at_missing    0\n",
              "product_updated_at_missing    0\n",
              "dtype: int64"
            ]
          },
          "metadata": {},
          "execution_count": 7
        }
      ]
    },
    {
      "cell_type": "code",
      "source": [
        "df.to_csv('/content/drive/MyDrive/final_data.csv', index=False)"
      ],
      "metadata": {
        "id": "x7y850yPj1CB"
      },
      "execution_count": 8,
      "outputs": []
    },
    {
      "cell_type": "code",
      "source": [
        "from zipfile import ZipFile\n",
        "\n",
        "# Specify the path to your CSV file\n",
        "csv_file_path = '/content/drive/MyDrive/final_data.csv'\n",
        "\n",
        "# Specify the path and name for the new ZIP file you want to create\n",
        "zip_file_path = '/content/drive/MyDrive/final_data.zip'\n",
        "\n",
        "# Create a ZIP file containing the CSV file\n",
        "with ZipFile(zip_file_path, 'w') as zipf:\n",
        "    zipf.write(csv_file_path, arcname='final_data.csv')"
      ],
      "metadata": {
        "id": "8rfaZ2adlVmc"
      },
      "execution_count": 2,
      "outputs": []
    },
    {
      "cell_type": "markdown",
      "source": [
        "**Download**"
      ],
      "metadata": {
        "id": "x9kaZAXbqRmo"
      }
    },
    {
      "cell_type": "code",
      "source": [
        "from google.colab import drive\n",
        "drive.mount('/content/drive')"
      ],
      "metadata": {
        "id": "f5SEzztJqVe-"
      },
      "execution_count": null,
      "outputs": []
    },
    {
      "cell_type": "code",
      "source": [
        "!ls \"/content/drive/MyDrive/final_data.zip\""
      ],
      "metadata": {
        "colab": {
          "base_uri": "https://localhost:8080/"
        },
        "id": "YNjFpduGqYN4",
        "outputId": "d42ddd95-e0db-467d-f428-4f16f5c1e868"
      },
      "execution_count": 3,
      "outputs": [
        {
          "output_type": "stream",
          "name": "stdout",
          "text": [
            "/content/drive/MyDrive/final_data.zip\n"
          ]
        }
      ]
    },
    {
      "cell_type": "code",
      "source": [
        "from google.colab import files\n",
        "files.download('/content/drive/MyDrive/final_data.zip')"
      ],
      "metadata": {
        "colab": {
          "base_uri": "https://localhost:8080/",
          "height": 34
        },
        "id": "VYXaftGhxvKn",
        "outputId": "35788243-bfb1-4df5-d283-1eefc61ad9a4"
      },
      "execution_count": 4,
      "outputs": [
        {
          "output_type": "display_data",
          "data": {
            "text/plain": [
              "<IPython.core.display.Javascript object>"
            ],
            "application/javascript": [
              "\n",
              "    async function download(id, filename, size) {\n",
              "      if (!google.colab.kernel.accessAllowed) {\n",
              "        return;\n",
              "      }\n",
              "      const div = document.createElement('div');\n",
              "      const label = document.createElement('label');\n",
              "      label.textContent = `Downloading \"${filename}\": `;\n",
              "      div.appendChild(label);\n",
              "      const progress = document.createElement('progress');\n",
              "      progress.max = size;\n",
              "      div.appendChild(progress);\n",
              "      document.body.appendChild(div);\n",
              "\n",
              "      const buffers = [];\n",
              "      let downloaded = 0;\n",
              "\n",
              "      const channel = await google.colab.kernel.comms.open(id);\n",
              "      // Send a message to notify the kernel that we're ready.\n",
              "      channel.send({})\n",
              "\n",
              "      for await (const message of channel.messages) {\n",
              "        // Send a message to notify the kernel that we're ready.\n",
              "        channel.send({})\n",
              "        if (message.buffers) {\n",
              "          for (const buffer of message.buffers) {\n",
              "            buffers.push(buffer);\n",
              "            downloaded += buffer.byteLength;\n",
              "            progress.value = downloaded;\n",
              "          }\n",
              "        }\n",
              "      }\n",
              "      const blob = new Blob(buffers, {type: 'application/binary'});\n",
              "      const a = document.createElement('a');\n",
              "      a.href = window.URL.createObjectURL(blob);\n",
              "      a.download = filename;\n",
              "      div.appendChild(a);\n",
              "      a.click();\n",
              "      div.remove();\n",
              "    }\n",
              "  "
            ]
          },
          "metadata": {}
        },
        {
          "output_type": "display_data",
          "data": {
            "text/plain": [
              "<IPython.core.display.Javascript object>"
            ],
            "application/javascript": [
              "download(\"download_d2bee206-4ee8-44e6-a462-9b5f570dd104\", \"final_data.zip\", 838748233)"
            ]
          },
          "metadata": {}
        },
        {
          "output_type": "stream",
          "name": "stdout",
          "text": [
            "Download Done!\n"
          ]
        }
      ]
    },
    {
      "cell_type": "markdown",
      "source": [
        "**divide a df into two parts:**"
      ],
      "metadata": {
        "id": "h_S2seTI3CTd"
      }
    },
    {
      "cell_type": "code",
      "source": [
        "# import pandas as pd\n",
        "\n",
        "# # Load the CSV file\n",
        "# df = pd.read_csv('/content/drive/MyDrive/final_data.csv')\n",
        "\n",
        "# # Calculate the index to split the DataFrame in half\n",
        "# split_index = len(df) // 2\n",
        "\n",
        "# # Split the DataFrame into two parts\n",
        "# df_part1 = df.iloc[:split_index]\n",
        "# df_part2 = df.iloc[split_index:]\n",
        "\n",
        "# # Save each part to a new CSV file\n",
        "# df_part1.to_csv('/content/drive/MyDrive/final_data_part1.csv', index=False)\n",
        "# df_part2.to_csv('/content/drive/MyDrive/final_data_part2.csv', index=False)"
      ],
      "metadata": {
        "id": "xdgGZfwt3Sh2"
      },
      "execution_count": 5,
      "outputs": []
    },
    {
      "cell_type": "code",
      "source": [
        "import pandas as pd\n",
        "\n",
        "# Define the path to your large CSV file\n",
        "file_path = '/content/drive/MyDrive/final_data.csv'\n",
        "\n",
        "# Determine the total number of rows in the file (excluding the header)\n",
        "total_rows = sum(1 for _ in open(file_path, 'r', encoding='utf-8')) - 1\n",
        "\n",
        "\n",
        "# Calculate the number of rows for each chunk\n",
        "chunk_size = total_rows // 4\n",
        "\n",
        "# Initialize an empty list to hold the DataFrames\n",
        "dfs = []\n",
        "\n",
        "# Read the CSV file in chunks and save each chunk to a new CSV file\n",
        "for i, chunk in enumerate(pd.read_csv(file_path, chunksize=chunk_size)):\n",
        "    dfs.append(chunk)\n",
        "    chunk_file_name = f'df_part_{i+1}.csv'\n",
        "    chunk.to_csv(chunk_file_name, index=False)"
      ],
      "metadata": {
        "id": "ogKyz8p84eXj"
      },
      "execution_count": 7,
      "outputs": []
    },
    {
      "cell_type": "code",
      "source": [
        "from google.colab import files\n",
        "\n",
        "files.download('df_part_1.csv')"
      ],
      "metadata": {
        "id": "GMiLSHBA7knC"
      },
      "execution_count": null,
      "outputs": []
    },
    {
      "cell_type": "markdown",
      "source": [
        "**Normalize Data:** Normalize the features if necessary since neural networks often benefit from feature scaling"
      ],
      "metadata": {
        "id": "AOIPOfUd_c8m"
      }
    },
    {
      "cell_type": "code",
      "source": [
        "# Converting 'Issue Date' from string to datetime\n",
        "invoice_df['invoice_date'] = pd.to_datetime(invoice_df['invoice_date'])\n",
        "\n",
        "# Extracting year, month, and day as separate columns\n",
        "invoice_df['Issue Year'] = invoice_df['invoice_date'].dt.year\n",
        "invoice_df['Issue Month'] = invoice_df['invoice_date'].dt.month\n",
        "invoice_df['Issue Day'] = invoice_df['invoice_date'].dt.day\n",
        "\n",
        "# Drop the original 'invoice_date' column\n",
        "invoice_df = invoice_df.drop(columns=['invoice_date'])\n",
        "\n",
        "# Ensure all data is numeric\n",
        "print(invoice_df.dtypes)"
      ],
      "metadata": {
        "id": "FPaA6OJVJQRD"
      },
      "execution_count": null,
      "outputs": []
    },
    {
      "cell_type": "markdown",
      "source": [
        "**Prepare Data for Training:** Split your data into training and validation sets."
      ],
      "metadata": {
        "id": "C50oni4MJWNj"
      }
    },
    {
      "cell_type": "code",
      "source": [
        "from sklearn.model_selection import train_test_split\n",
        "\n",
        "# Selecting the specified features from invoice_df\n",
        "selected_features = invoice_df[['qty', 'amount', 'Issue Day', 'Issue Month', 'Issue Year']]\n",
        "\n",
        "# Splitting the data into training and test sets\n",
        "X_train, X_test = train_test_split(selected_features, test_size=0.2, random_state=42)\n",
        "\n",
        "# Check the shape of the resulting sets\n",
        "print(\"X_train shape:\", X_train.shape)\n",
        "print(\"X_test shape:\", X_test.shape)"
      ],
      "metadata": {
        "id": "2oLrLJLqJZx5"
      },
      "execution_count": null,
      "outputs": []
    },
    {
      "cell_type": "markdown",
      "source": [
        "# Visualization"
      ],
      "metadata": {
        "id": "v1Bvm9Ud9mhW"
      }
    },
    {
      "cell_type": "markdown",
      "source": [
        "## scaling the data"
      ],
      "metadata": {
        "id": "hFU4XDdRJeR6"
      }
    },
    {
      "cell_type": "code",
      "source": [
        "from sklearn.preprocessing import MinMaxScaler\n",
        "\n",
        "# Initialize the MinMaxScaler\n",
        "scaler = MinMaxScaler()\n",
        "\n",
        "# Fit the scaler to the training data and transform it\n",
        "X_train_scaled = scaler.fit_transform(X_train)\n",
        "\n",
        "# Transform the test data with the same scaler\n",
        "X_test_scaled = scaler.transform(X_test)"
      ],
      "metadata": {
        "id": "-V5Y5NbZJjOl"
      },
      "execution_count": null,
      "outputs": []
    },
    {
      "cell_type": "markdown",
      "source": [
        "**Convert the scaled data to a TensorFlow tensor**"
      ],
      "metadata": {
        "id": "T0zA634FKWyD"
      }
    },
    {
      "cell_type": "markdown",
      "source": [
        "tf.cast(image, tf.float32)"
      ],
      "metadata": {
        "id": "gzaWkax7PLvB"
      }
    },
    {
      "cell_type": "markdown",
      "source": [
        "Batch & prepare datasets\n",
        "Before we can model our data, we have to turn it into batches.\n",
        "\n",
        "Why?\n",
        "\n",
        "Because computing on batches is memory efficient.\n",
        "\n",
        "We turn our data from 101,000 image tensors and labels (train and test combined) into batches of 32 image and label pairs, thus enabling it to fit into the memory of our GPU.\n",
        "\n",
        "To do this in effective way, we're going to be leveraging a number of methods from the tf.data API."
      ],
      "metadata": {
        "id": "USKQNAVpPbNI"
      }
    },
    {
      "cell_type": "markdown",
      "source": [
        "batch() - turns elements of a target dataset into batches (size defined by parameter batch_size)\n",
        "prefetch() - prepares subsequent batches of data whilst other batches of data are being computed on (improves data loading speed but costs memory)\n"
      ],
      "metadata": {
        "id": "5a8aw8GVPutT"
      }
    },
    {
      "cell_type": "markdown",
      "source": [
        "**Create modelling callbacks**\n",
        "Since we're going to be training on a large amount of data and training could take a long time, it's a good idea to set up some modelling callbacks so we be sure of things like our model's training logs being tracked and our model being checkpointed (saved) after various training milestones.\n",
        "\n",
        "To do each of these we'll use the following callbacks:\n",
        "\n",
        "tf.keras.callbacks.TensorBoard() - allows us to keep track of our model's training history so we can inspect it later (note: we've created this callback before have imported it from helper_functions.py as create_tensorboard_callback())\n",
        "tf.keras.callbacks.ModelCheckpoint() - saves our model's progress at various intervals so we can load it and reuse it later without having to retrain it\n",
        "Checkpointing is also helpful so we can start fine-tuning our model at a particular epoch and revert back to a previous state if fine-tuning offers no benefits"
      ],
      "metadata": {
        "id": "UEB29BnpQww6"
      }
    },
    {
      "cell_type": "markdown",
      "source": [
        "# Setup EarlyStopping callback to stop training if model's val_loss doesn't improve for 3 epochs\n",
        "early_stopping = tf.keras.callbacks.EarlyStopping(monitor=\"val_loss\", # watch the val loss metric\n",
        "                                                  patience=3) # if val loss decreases for 3 epochs in a row, stop training\n",
        "\n",
        "# Create ModelCheckpoint callback to save best model during fine-tuning\n",
        "checkpoint_path = \"fine_tune_checkpoints/\"\n",
        "model_checkpoint = tf.keras.callbacks.ModelCheckpoint(checkpoint_path,\n",
        "                                                      save_best_only=True,\n",
        "                                                      monitor=\"val_loss\")"
      ],
      "metadata": {
        "id": "k4O08tHb2MwT"
      }
    },
    {
      "cell_type": "markdown",
      "source": [
        "# Creating learning rate reduction callback\n",
        "reduce_lr = tf.keras.callbacks.ReduceLROnPlateau(monitor=\"val_loss\",  \n",
        "                                                 factor=0.2, # multiply the learning rate by 0.2 (reduce by 5x)\n",
        "                                                 patience=2,\n",
        "                                                 verbose=1, # print out when learning rate goes down\n",
        "                                                 min_lr=1e-7)\n",
        "     "
      ],
      "metadata": {
        "id": "y2I71ckQ2-PV"
      }
    },
    {
      "cell_type": "markdown",
      "source": [
        "As mentioned before, when using mixed precision training, your model will make use of float32 and float16 data types to use less memory where possible and in turn run faster (using less memory per tensor means more tensors can be computed on simultaneously)."
      ],
      "metadata": {
        "id": "xoYMK-AVSJVZ"
      }
    },
    {
      "cell_type": "markdown",
      "source": [
        " **how we can turn on mixed precision training in TensorFlow.**\n",
        "The beautiful thing is, the tensorflow.keras.mixed_precision API has made it very easy for us to get started.\n",
        "\n",
        "First, we'll import the API and then use the set_global_policy() method to set the dtype policy to \"mixed_float16\".\n",
        "\n",
        "\n",
        "#Turn on mixed precision training\n",
        "from tensorflow.keras import mixed_precision\n",
        "mixed_precision.set_global_policy(policy=\"mixed_float16\") # set global policy to mixed precision"
      ],
      "metadata": {
        "id": "_BoJd7axSk87"
      }
    },
    {
      "cell_type": "markdown",
      "source": [
        "mixed_precision.global_policy() # should output \"mixed_float16\"\n"
      ],
      "metadata": {
        "id": "3cXBHHMhyGjR"
      }
    },
    {
      "cell_type": "markdown",
      "source": [
        "# Check the layers in the base model and see what dtype policy they're using\n",
        "for layer in loaded_saved_model.layers[1].layers[:20]: # check only the first 20 layers to save output space\n",
        "  print(layer.name, layer.trainable, layer.dtype, layer.dtype_policy)"
      ],
      "metadata": {
        "id": "QMC8bShtzSh6"
      }
    },
    {
      "cell_type": "code",
      "source": [
        "# Check TensorFlow version (should be 2.4.0+)\n",
        "import tensorflow as tf\n",
        "print(tf.__version__)"
      ],
      "metadata": {
        "colab": {
          "base_uri": "https://localhost:8080/"
        },
        "id": "aeUbNhFQ-jDR",
        "outputId": "55609d68-2702-423f-a5b7-713f0413e5c1"
      },
      "execution_count": 2,
      "outputs": [
        {
          "output_type": "stream",
          "name": "stdout",
          "text": [
            "2.15.0\n"
          ]
        }
      ]
    },
    {
      "cell_type": "code",
      "source": [
        "# Convert the scaled training data to a TensorFlow tensor\n",
        "X_train_scaled_tensor = tf.convert_to_tensor(X_train_scaled, dtype=tf.float32)"
      ],
      "metadata": {
        "id": "zMnJsZtgKTPl"
      },
      "execution_count": null,
      "outputs": []
    },
    {
      "cell_type": "code",
      "source": [
        "# Convert the scaled training data to a TensorFlow tensor\n",
        "X_test_scaled_tensor = tf.convert_to_tensor(X_test_scaled, dtype=tf.float32)\n",
        "\n",
        "X_test_scaled_tensor.shape"
      ],
      "metadata": {
        "id": "JRGKb5n2Kl4u"
      },
      "execution_count": null,
      "outputs": []
    },
    {
      "cell_type": "markdown",
      "source": [
        "**Load:**\n",
        "Load the transformed data into a structure that can be used to train autoencoder model in TensorFlow."
      ],
      "metadata": {
        "id": "lYDhZpi6_o19"
      }
    },
    {
      "cell_type": "markdown",
      "source": [
        "# Model Training:\n"
      ],
      "metadata": {
        "id": "erRpvVabADeN"
      }
    },
    {
      "cell_type": "markdown",
      "source": [
        "**Model Building:**\n",
        "\n",
        "Define the Model: Create the autoencoder architecture using TensorFlow/Keras."
      ],
      "metadata": {
        "id": "XwKfPeHAKtML"
      }
    },
    {
      "cell_type": "code",
      "source": [
        "from tensorflow.keras.models import Sequential\n",
        "from tensorflow.keras.layers import Dense\n",
        "\n",
        "# Define the autoencoder model with the correct input shape\n",
        "autoencoder = Sequential([\n",
        "    Dense(14, activation='relu', input_shape=(5,)),  # Adjusted input shape to 5\n",
        "    Dense(7, activation='relu'),  # Bottleneck (smallest layer)\n",
        "    Dense(14, activation='relu'),  # Decoder part\n",
        "    Dense(5, activation='sigmoid')  # Adjusted output layer to match the input shape\n",
        "])\n",
        "\n",
        "# Compile the autoencoder\n",
        "autoencoder.compile(optimizer='adam', loss='mse')\n",
        "\n",
        "# Train the autoencoder\n",
        "history = autoencoder.fit(X_train_scaled_tensor, X_train_scaled_tensor,\n",
        "                          epochs=5,\n",
        "                          batch_size=256,\n",
        "                          validation_data=(X_test_scaled_tensor, X_test_scaled_tensor),\n",
        "                          shuffle=True)"
      ],
      "metadata": {
        "id": "OcLGOk8IKyoI"
      },
      "execution_count": null,
      "outputs": []
    },
    {
      "cell_type": "code",
      "source": [
        "# Evaluate the model\n",
        "evaluation = autoencoder.evaluate(X_test_scaled_tensor, X_test_scaled_tensor)\n",
        "print(\"Test Loss:\", evaluation)"
      ],
      "metadata": {
        "id": "kHJbEt27_hJr"
      },
      "execution_count": null,
      "outputs": []
    },
    {
      "cell_type": "code",
      "source": [
        "# Fit the scaler to the training data and transform it\n",
        "features_scaled = scaler.fit_transform(selected_features)\n",
        "\n",
        "features_scaled.shape"
      ],
      "metadata": {
        "id": "m6j-ODYELQLg"
      },
      "execution_count": null,
      "outputs": []
    },
    {
      "cell_type": "code",
      "source": [
        "# Define the autoencoder model with the correct input shape\n",
        "model = Sequential([\n",
        "    Dense(14, activation='relu', input_shape=(5,)),  # Adjusted input shape to 5\n",
        "    Dense(7, activation='relu'),  # Bottleneck (smallest layer)\n",
        "    Dense(14, activation='relu'),  # Decoder part\n",
        "    Dense(5, activation='sigmoid')  # Adjusted output layer to match the input shape\n",
        "])\n",
        "\n",
        "# Compile the autoencoder\n",
        "model.compile(optimizer='adam', loss='mse')\n",
        "\n",
        "# Train the autoencoder\n",
        "history_01 = model.fit(features_scaled, features_scaled,\n",
        "                          epochs=5,\n",
        "                          batch_size=256,\n",
        "                          validation_data=(X_test_scaled_tensor, X_test_scaled_tensor),\n",
        "                          shuffle=True)"
      ],
      "metadata": {
        "id": "ND0ValhILV6u"
      },
      "execution_count": null,
      "outputs": []
    },
    {
      "cell_type": "code",
      "source": [
        "model.save(\"anomaly_detector_model.h5\")"
      ],
      "metadata": {
        "id": "UvAjcJkmLZCY"
      },
      "execution_count": null,
      "outputs": []
    },
    {
      "cell_type": "code",
      "source": [
        "import joblib\n",
        "\n",
        "joblib.dump(scaler, 'scaler.pkl')"
      ],
      "metadata": {
        "id": "vwRu0zP1LZyT"
      },
      "execution_count": null,
      "outputs": []
    },
    {
      "cell_type": "markdown",
      "source": [
        "**Save model locally (if you're using Google Colab, your saved model will Colab instance terminates)**"
      ],
      "metadata": {
        "id": "sTl1fxZDDmn3"
      }
    },
    {
      "cell_type": "markdown",
      "source": [
        "save_dir = \"07_efficientnetb0_feature_extract_model_mixed_precision\"\n",
        "model.save(save_dir)"
      ],
      "metadata": {
        "id": "YM_IKhIS0RDu"
      }
    },
    {
      "cell_type": "code",
      "source": [
        "from tensorflow.keras.models import load_model"
      ],
      "metadata": {
        "id": "akk8hJ-cB6z2"
      },
      "execution_count": null,
      "outputs": []
    },
    {
      "cell_type": "markdown",
      "source": [
        "**Load model previously saved**\n"
      ],
      "metadata": {
        "id": "rjIP9kRn0TcC"
      }
    },
    {
      "cell_type": "code",
      "source": [
        "loaded_saved_model = load_model('anomaly_detector_model.h5')"
      ],
      "metadata": {
        "id": "rdyiYozsCUn7"
      },
      "execution_count": null,
      "outputs": []
    },
    {
      "cell_type": "code",
      "source": [
        "model_scaler = joblib.load(\"scaler.pkl\")"
      ],
      "metadata": {
        "id": "jyIDoguWCdhN"
      },
      "execution_count": null,
      "outputs": []
    },
    {
      "cell_type": "markdown",
      "source": [
        "https://playground.tensorflow.org/#activation=linear&batchSize=1&dataset=circle&regDataset=reg-plane&learningRate=NaN&regularizationRate=0&noise=0&networkShape=1&seed=0.09561&showTestData=false&discretize=false&percTrainData=70&x=true&y=true&xTimesY=false&xSquared=false&ySquared=false&cosX=false&sinX=false&cosY=false&sinY=false&collectStats=false&problem=classification&initZero=false&hideText=true&discretize_hide=false&dataset_hide=true&noise_hide=true&batchSize_hide=true"
      ],
      "metadata": {
        "id": "zSP48eXveI9P"
      }
    }
  ]
}